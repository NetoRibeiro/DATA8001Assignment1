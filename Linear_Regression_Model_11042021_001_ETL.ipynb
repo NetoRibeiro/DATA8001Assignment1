{
  "nbformat": 4,
  "nbformat_minor": 0,
  "metadata": {
    "colab": {
      "name": "Linear_Regression_Model_11042021_001_ETL.ipynb",
      "provenance": [],
      "collapsed_sections": [],
      "toc_visible": true,
      "mount_file_id": "1F5KG__6TJhTbStNYNHQ0m06t9GONSY_j",
      "authorship_tag": "ABX9TyNCo7OHFHszXcRdSrGDsDKR",
      "include_colab_link": true
    },
    "kernelspec": {
      "name": "python3",
      "display_name": "Python 3"
    },
    "language_info": {
      "name": "python"
    }
  },
  "cells": [
    {
      "cell_type": "markdown",
      "metadata": {
        "id": "view-in-github",
        "colab_type": "text"
      },
      "source": [
        "<a href=\"https://colab.research.google.com/github/NetoRibeiro/DATA8001Assignment1/blob/main/Linear_Regression_Model_11042021_001_ETL.ipynb\" target=\"_parent\"><img src=\"https://colab.research.google.com/assets/colab-badge.svg\" alt=\"Open In Colab\"/></a>"
      ]
    },
    {
      "cell_type": "markdown",
      "metadata": {
        "id": "YtQzKAZf5RUb"
      },
      "source": [
        "###Import and Load File"
      ]
    },
    {
      "cell_type": "code",
      "metadata": {
        "id": "WuiTBbx6pwYV"
      },
      "source": [
        "%matplotlib inline\n",
        "\n",
        "import matplotlib.pyplot as plt\n",
        "from matplotlib import colors\n",
        "import numpy as np\n",
        "import pandas as pd\n",
        "from datetime import datetime as dt\n",
        "\n",
        "import calendar\n",
        "import re\n",
        "import string\n",
        "\n",
        "import math\n",
        "import pickle\n",
        "from sklearn.model_selection import train_test_split\n",
        "from sklearn.preprocessing import LabelEncoder, StandardScaler, MinMaxScaler\n",
        "from sklearn.linear_model import LinearRegression\n",
        "from sklearn.metrics import mean_squared_error, r2_score, accuracy_score\n",
        "\n",
        "from scipy import stats"
      ],
      "execution_count": 1,
      "outputs": []
    },
    {
      "cell_type": "code",
      "metadata": {
        "id": "yMApn6Hop5nh"
      },
      "source": [
        "df_processed = pd.read_csv('/content/drive/MyDrive/Data Science and Analytics/R00206995/data/R00206995_processed.csv')"
      ],
      "execution_count": 2,
      "outputs": []
    },
    {
      "cell_type": "code",
      "metadata": {
        "colab": {
          "base_uri": "https://localhost:8080/",
          "height": 204
        },
        "id": "jxwz7t4xp61t",
        "outputId": "51bd7fc2-3fcd-402b-b06c-5ece6d5ba3b5"
      },
      "source": [
        "df_processed.head()"
      ],
      "execution_count": 3,
      "outputs": [
        {
          "output_type": "execute_result",
          "data": {
            "text/html": [
              "<div>\n",
              "<style scoped>\n",
              "    .dataframe tbody tr th:only-of-type {\n",
              "        vertical-align: middle;\n",
              "    }\n",
              "\n",
              "    .dataframe tbody tr th {\n",
              "        vertical-align: top;\n",
              "    }\n",
              "\n",
              "    .dataframe thead th {\n",
              "        text-align: right;\n",
              "    }\n",
              "</style>\n",
              "<table border=\"1\" class=\"dataframe\">\n",
              "  <thead>\n",
              "    <tr style=\"text-align: right;\">\n",
              "      <th></th>\n",
              "      <th>car_reg</th>\n",
              "      <th>purchase_date</th>\n",
              "      <th>year</th>\n",
              "      <th>month</th>\n",
              "      <th>county</th>\n",
              "      <th>make</th>\n",
              "      <th>model</th>\n",
              "      <th>type</th>\n",
              "      <th>colour</th>\n",
              "      <th>tax_band</th>\n",
              "      <th>price</th>\n",
              "    </tr>\n",
              "  </thead>\n",
              "  <tbody>\n",
              "    <tr>\n",
              "      <th>0</th>\n",
              "      <td>202-C-2315</td>\n",
              "      <td>2020-07-01</td>\n",
              "      <td>2020</td>\n",
              "      <td>7</td>\n",
              "      <td>CORK</td>\n",
              "      <td>AUDI</td>\n",
              "      <td>A4</td>\n",
              "      <td>SALOON</td>\n",
              "      <td>RED</td>\n",
              "      <td>B</td>\n",
              "      <td>55287.0</td>\n",
              "    </tr>\n",
              "    <tr>\n",
              "      <th>1</th>\n",
              "      <td>191-C-3750</td>\n",
              "      <td>2019-01-20</td>\n",
              "      <td>2019</td>\n",
              "      <td>1</td>\n",
              "      <td>CORK</td>\n",
              "      <td>MAZDA</td>\n",
              "      <td>CX-30</td>\n",
              "      <td>SUV</td>\n",
              "      <td>SILVER</td>\n",
              "      <td>B</td>\n",
              "      <td>41690.0</td>\n",
              "    </tr>\n",
              "    <tr>\n",
              "      <th>2</th>\n",
              "      <td>191-L-3155</td>\n",
              "      <td>2019-03-21</td>\n",
              "      <td>2019</td>\n",
              "      <td>3</td>\n",
              "      <td>LIMERICK</td>\n",
              "      <td>BMW</td>\n",
              "      <td>3 SERIES</td>\n",
              "      <td>SALOON</td>\n",
              "      <td>WHITE</td>\n",
              "      <td>C</td>\n",
              "      <td>40381.0</td>\n",
              "    </tr>\n",
              "    <tr>\n",
              "      <th>3</th>\n",
              "      <td>191-D-2645</td>\n",
              "      <td>2019-01-26</td>\n",
              "      <td>2019</td>\n",
              "      <td>1</td>\n",
              "      <td>DUBLIN</td>\n",
              "      <td>AUDI</td>\n",
              "      <td>Q3</td>\n",
              "      <td>SUV</td>\n",
              "      <td>ORANGE</td>\n",
              "      <td>C</td>\n",
              "      <td>44836.0</td>\n",
              "    </tr>\n",
              "    <tr>\n",
              "      <th>4</th>\n",
              "      <td>181-W-341</td>\n",
              "      <td>2018-01-27</td>\n",
              "      <td>2018</td>\n",
              "      <td>1</td>\n",
              "      <td>WATERFORD</td>\n",
              "      <td>OPEL</td>\n",
              "      <td>ASTRA</td>\n",
              "      <td>HATCHBACK</td>\n",
              "      <td>RED</td>\n",
              "      <td>A</td>\n",
              "      <td>32188.0</td>\n",
              "    </tr>\n",
              "  </tbody>\n",
              "</table>\n",
              "</div>"
            ],
            "text/plain": [
              "      car_reg purchase_date  year  month  ...       type  colour tax_band    price\n",
              "0  202-C-2315    2020-07-01  2020      7  ...     SALOON     RED        B  55287.0\n",
              "1  191-C-3750    2019-01-20  2019      1  ...        SUV  SILVER        B  41690.0\n",
              "2  191-L-3155    2019-03-21  2019      3  ...     SALOON   WHITE        C  40381.0\n",
              "3  191-D-2645    2019-01-26  2019      1  ...        SUV  ORANGE        C  44836.0\n",
              "4   181-W-341    2018-01-27  2018      1  ...  HATCHBACK     RED        A  32188.0\n",
              "\n",
              "[5 rows x 11 columns]"
            ]
          },
          "metadata": {
            "tags": []
          },
          "execution_count": 3
        }
      ]
    },
    {
      "cell_type": "markdown",
      "metadata": {
        "id": "sSs9S_Ck5Wc3"
      },
      "source": [
        "###Transformation and Split"
      ]
    },
    {
      "cell_type": "code",
      "metadata": {
        "id": "cg0d1O6hp-H8"
      },
      "source": [
        "def get_feature_stats(df, list_columns):\n",
        "    lis_of_string_features = []\n",
        "    for feature in list_columns:\n",
        "      if df[feature].dtype not in ['uint8', 'int16','int32','int64','float16','float32','float64']:\n",
        "        lis_of_string_features.append(feature)\n",
        "    return lis_of_string_features\n",
        "\n",
        "\n",
        "def concat_columns(col1, col2, delimited):\n",
        "  try:\n",
        "    cols = f'{col1}{delimited}{col2}'\n",
        "    return cols\n",
        "  except Exception as ex:\n",
        "    raise Exception(f'Error when concatenate:: {ex}')\n",
        "\n",
        "\n",
        "def apply_calc_columns(col1, col2, calc):\n",
        "  try:\n",
        "    col1 = float(col1)\n",
        "    col2 = float(col2)\n",
        " \n",
        "    if calc == 'times':\n",
        "      cols = col1 * col2\n",
        " \n",
        "    elif calc == 'div':\n",
        "      try:\n",
        "        cols == col1 / col2\n",
        "      except Exception as ex:\n",
        "        raise Exception(f'Error when try to divide:: {ex}')\n",
        "        return 0.0\n",
        " \n",
        "    elif calc == 'plus':\n",
        "      cols = col1 + col2\n",
        " \n",
        "    elif calc == 'minus':\n",
        "      cols = col1 - col2\n",
        " \n",
        "    else:\n",
        "      cols = 0\n",
        "\n",
        "    return cols\n",
        "  except Exception as ex:\n",
        "    raise Exception(f'Error when convert to a float:: {ex}')\n"
      ],
      "execution_count": 4,
      "outputs": []
    },
    {
      "cell_type": "code",
      "metadata": {
        "id": "WDOZVdWETJUz"
      },
      "source": [
        "df_concats = df_processed.copy()"
      ],
      "execution_count": 5,
      "outputs": []
    },
    {
      "cell_type": "code",
      "metadata": {
        "id": "fKd0ACHgTQ4C"
      },
      "source": [
        "#df_concats['makemodel'] = df_concats.apply(lambda row: concat_columns(row['make'], row['model'],\"_\"), axis=1)\n",
        "#df_concats.head(3)"
      ],
      "execution_count": 6,
      "outputs": []
    },
    {
      "cell_type": "code",
      "metadata": {
        "id": "CL46C0GkxqGU"
      },
      "source": [
        "# Create a list of columns to apply Dummies\n",
        "\n",
        "list_of_dum_features = ['tax_band', 'type']\n",
        "\n",
        "# Apply Lower case before dummies\n",
        "df_concats['type'] = df_concats['type'].str.lower()\n",
        "df_concats['tax_band'] = df_concats['tax_band'].str.lower()\n",
        "df_concats['make'] = df_concats['make'].str.lower()\n",
        "df_concats['model'] = df_concats['model'].str.lower()\n",
        "\n",
        "# Apply Dammies\n",
        "df_tofit = pd.get_dummies(df_concats, columns=list_of_dum_features)\n",
        "df_tofit.drop(['car_reg', 'purchase_date', 'month'], axis=1, inplace=True)"
      ],
      "execution_count": 7,
      "outputs": []
    },
    {
      "cell_type": "code",
      "metadata": {
        "colab": {
          "base_uri": "https://localhost:8080/",
          "height": 142
        },
        "id": "5MBunytGw1mf",
        "outputId": "f40ca9e8-f437-4c56-f59a-e93964da1e51"
      },
      "source": [
        "df_tofit.head(3)"
      ],
      "execution_count": 8,
      "outputs": [
        {
          "output_type": "execute_result",
          "data": {
            "text/html": [
              "<div>\n",
              "<style scoped>\n",
              "    .dataframe tbody tr th:only-of-type {\n",
              "        vertical-align: middle;\n",
              "    }\n",
              "\n",
              "    .dataframe tbody tr th {\n",
              "        vertical-align: top;\n",
              "    }\n",
              "\n",
              "    .dataframe thead th {\n",
              "        text-align: right;\n",
              "    }\n",
              "</style>\n",
              "<table border=\"1\" class=\"dataframe\">\n",
              "  <thead>\n",
              "    <tr style=\"text-align: right;\">\n",
              "      <th></th>\n",
              "      <th>year</th>\n",
              "      <th>county</th>\n",
              "      <th>make</th>\n",
              "      <th>model</th>\n",
              "      <th>colour</th>\n",
              "      <th>price</th>\n",
              "      <th>tax_band_a</th>\n",
              "      <th>tax_band_b</th>\n",
              "      <th>tax_band_c</th>\n",
              "      <th>tax_band_d</th>\n",
              "      <th>tax_band_e</th>\n",
              "      <th>type_coupe</th>\n",
              "      <th>type_estate</th>\n",
              "      <th>type_hatchback</th>\n",
              "      <th>type_saloon</th>\n",
              "      <th>type_suv</th>\n",
              "    </tr>\n",
              "  </thead>\n",
              "  <tbody>\n",
              "    <tr>\n",
              "      <th>0</th>\n",
              "      <td>2020</td>\n",
              "      <td>CORK</td>\n",
              "      <td>audi</td>\n",
              "      <td>a4</td>\n",
              "      <td>RED</td>\n",
              "      <td>55287.0</td>\n",
              "      <td>0</td>\n",
              "      <td>1</td>\n",
              "      <td>0</td>\n",
              "      <td>0</td>\n",
              "      <td>0</td>\n",
              "      <td>0</td>\n",
              "      <td>0</td>\n",
              "      <td>0</td>\n",
              "      <td>1</td>\n",
              "      <td>0</td>\n",
              "    </tr>\n",
              "    <tr>\n",
              "      <th>1</th>\n",
              "      <td>2019</td>\n",
              "      <td>CORK</td>\n",
              "      <td>mazda</td>\n",
              "      <td>cx-30</td>\n",
              "      <td>SILVER</td>\n",
              "      <td>41690.0</td>\n",
              "      <td>0</td>\n",
              "      <td>1</td>\n",
              "      <td>0</td>\n",
              "      <td>0</td>\n",
              "      <td>0</td>\n",
              "      <td>0</td>\n",
              "      <td>0</td>\n",
              "      <td>0</td>\n",
              "      <td>0</td>\n",
              "      <td>1</td>\n",
              "    </tr>\n",
              "    <tr>\n",
              "      <th>2</th>\n",
              "      <td>2019</td>\n",
              "      <td>LIMERICK</td>\n",
              "      <td>bmw</td>\n",
              "      <td>3 series</td>\n",
              "      <td>WHITE</td>\n",
              "      <td>40381.0</td>\n",
              "      <td>0</td>\n",
              "      <td>0</td>\n",
              "      <td>1</td>\n",
              "      <td>0</td>\n",
              "      <td>0</td>\n",
              "      <td>0</td>\n",
              "      <td>0</td>\n",
              "      <td>0</td>\n",
              "      <td>1</td>\n",
              "      <td>0</td>\n",
              "    </tr>\n",
              "  </tbody>\n",
              "</table>\n",
              "</div>"
            ],
            "text/plain": [
              "   year    county   make  ... type_hatchback type_saloon  type_suv\n",
              "0  2020      CORK   audi  ...              0           1         0\n",
              "1  2019      CORK  mazda  ...              0           0         1\n",
              "2  2019  LIMERICK    bmw  ...              0           1         0\n",
              "\n",
              "[3 rows x 16 columns]"
            ]
          },
          "metadata": {
            "tags": []
          },
          "execution_count": 8
        }
      ]
    },
    {
      "cell_type": "code",
      "metadata": {
        "colab": {
          "base_uri": "https://localhost:8080/"
        },
        "id": "srurZ44SoL-8",
        "outputId": "4b90ad24-21d1-48dd-b9a6-899eb180406d"
      },
      "source": [
        "list_of_col_not_use = []\n",
        "for feature in list_of_dum_features:\n",
        "  for col in df_tofit.columns:\n",
        "    if (re.search(feature, col)):\n",
        "      list_of_col_not_use.append(col)\n",
        "list_of_col_not_use"
      ],
      "execution_count": 9,
      "outputs": [
        {
          "output_type": "execute_result",
          "data": {
            "text/plain": [
              "['tax_band_a',\n",
              " 'tax_band_b',\n",
              " 'tax_band_c',\n",
              " 'tax_band_d',\n",
              " 'tax_band_e',\n",
              " 'type_coupe',\n",
              " 'type_estate',\n",
              " 'type_hatchback',\n",
              " 'type_saloon',\n",
              " 'type_suv']"
            ]
          },
          "metadata": {
            "tags": []
          },
          "execution_count": 9
        }
      ]
    },
    {
      "cell_type": "code",
      "metadata": {
        "id": "MFkdT7GDu7bh"
      },
      "source": [
        "#list_columns = df_dummies.columns\n",
        "list_columns = df_tofit.columns\n",
        "list_new_columns = df_tofit.columns\n",
        "#list_feature = get_feature_stats(df_dummies, list_columns)\n",
        "list_feature = get_feature_stats(df_tofit, list_columns)\n",
        "list_new_features = get_feature_stats(df_tofit, list_new_columns)"
      ],
      "execution_count": 10,
      "outputs": []
    },
    {
      "cell_type": "code",
      "metadata": {
        "id": "yxH3EeaYvZw_"
      },
      "source": [
        "# df_train, df_test = train_test_split(df_dummies.copy() ,test_size=0.2, random_state=8001)\n",
        "df_train, df_test = train_test_split(df_tofit.copy() ,test_size=0.2, random_state=8001)"
      ],
      "execution_count": 11,
      "outputs": []
    },
    {
      "cell_type": "code",
      "metadata": {
        "colab": {
          "base_uri": "https://localhost:8080/",
          "height": 142
        },
        "id": "tc_8jAKrHPbM",
        "outputId": "2698d71c-39bc-4eb7-b409-4ee179f2b073"
      },
      "source": [
        "df_tofit.head(3)"
      ],
      "execution_count": 12,
      "outputs": [
        {
          "output_type": "execute_result",
          "data": {
            "text/html": [
              "<div>\n",
              "<style scoped>\n",
              "    .dataframe tbody tr th:only-of-type {\n",
              "        vertical-align: middle;\n",
              "    }\n",
              "\n",
              "    .dataframe tbody tr th {\n",
              "        vertical-align: top;\n",
              "    }\n",
              "\n",
              "    .dataframe thead th {\n",
              "        text-align: right;\n",
              "    }\n",
              "</style>\n",
              "<table border=\"1\" class=\"dataframe\">\n",
              "  <thead>\n",
              "    <tr style=\"text-align: right;\">\n",
              "      <th></th>\n",
              "      <th>year</th>\n",
              "      <th>county</th>\n",
              "      <th>make</th>\n",
              "      <th>model</th>\n",
              "      <th>colour</th>\n",
              "      <th>price</th>\n",
              "      <th>tax_band_a</th>\n",
              "      <th>tax_band_b</th>\n",
              "      <th>tax_band_c</th>\n",
              "      <th>tax_band_d</th>\n",
              "      <th>tax_band_e</th>\n",
              "      <th>type_coupe</th>\n",
              "      <th>type_estate</th>\n",
              "      <th>type_hatchback</th>\n",
              "      <th>type_saloon</th>\n",
              "      <th>type_suv</th>\n",
              "    </tr>\n",
              "  </thead>\n",
              "  <tbody>\n",
              "    <tr>\n",
              "      <th>0</th>\n",
              "      <td>2020</td>\n",
              "      <td>CORK</td>\n",
              "      <td>audi</td>\n",
              "      <td>a4</td>\n",
              "      <td>RED</td>\n",
              "      <td>55287.0</td>\n",
              "      <td>0</td>\n",
              "      <td>1</td>\n",
              "      <td>0</td>\n",
              "      <td>0</td>\n",
              "      <td>0</td>\n",
              "      <td>0</td>\n",
              "      <td>0</td>\n",
              "      <td>0</td>\n",
              "      <td>1</td>\n",
              "      <td>0</td>\n",
              "    </tr>\n",
              "    <tr>\n",
              "      <th>1</th>\n",
              "      <td>2019</td>\n",
              "      <td>CORK</td>\n",
              "      <td>mazda</td>\n",
              "      <td>cx-30</td>\n",
              "      <td>SILVER</td>\n",
              "      <td>41690.0</td>\n",
              "      <td>0</td>\n",
              "      <td>1</td>\n",
              "      <td>0</td>\n",
              "      <td>0</td>\n",
              "      <td>0</td>\n",
              "      <td>0</td>\n",
              "      <td>0</td>\n",
              "      <td>0</td>\n",
              "      <td>0</td>\n",
              "      <td>1</td>\n",
              "    </tr>\n",
              "    <tr>\n",
              "      <th>2</th>\n",
              "      <td>2019</td>\n",
              "      <td>LIMERICK</td>\n",
              "      <td>bmw</td>\n",
              "      <td>3 series</td>\n",
              "      <td>WHITE</td>\n",
              "      <td>40381.0</td>\n",
              "      <td>0</td>\n",
              "      <td>0</td>\n",
              "      <td>1</td>\n",
              "      <td>0</td>\n",
              "      <td>0</td>\n",
              "      <td>0</td>\n",
              "      <td>0</td>\n",
              "      <td>0</td>\n",
              "      <td>1</td>\n",
              "      <td>0</td>\n",
              "    </tr>\n",
              "  </tbody>\n",
              "</table>\n",
              "</div>"
            ],
            "text/plain": [
              "   year    county   make  ... type_hatchback type_saloon  type_suv\n",
              "0  2020      CORK   audi  ...              0           1         0\n",
              "1  2019      CORK  mazda  ...              0           0         1\n",
              "2  2019  LIMERICK    bmw  ...              0           1         0\n",
              "\n",
              "[3 rows x 16 columns]"
            ]
          },
          "metadata": {
            "tags": []
          },
          "execution_count": 12
        }
      ]
    },
    {
      "cell_type": "code",
      "metadata": {
        "colab": {
          "base_uri": "https://localhost:8080/",
          "height": 142
        },
        "id": "DeyKl3VG4OJg",
        "outputId": "bb86449c-c6e8-4b21-9b64-5138a286bbee"
      },
      "source": [
        "df_train.head(3)"
      ],
      "execution_count": 13,
      "outputs": [
        {
          "output_type": "execute_result",
          "data": {
            "text/html": [
              "<div>\n",
              "<style scoped>\n",
              "    .dataframe tbody tr th:only-of-type {\n",
              "        vertical-align: middle;\n",
              "    }\n",
              "\n",
              "    .dataframe tbody tr th {\n",
              "        vertical-align: top;\n",
              "    }\n",
              "\n",
              "    .dataframe thead th {\n",
              "        text-align: right;\n",
              "    }\n",
              "</style>\n",
              "<table border=\"1\" class=\"dataframe\">\n",
              "  <thead>\n",
              "    <tr style=\"text-align: right;\">\n",
              "      <th></th>\n",
              "      <th>year</th>\n",
              "      <th>county</th>\n",
              "      <th>make</th>\n",
              "      <th>model</th>\n",
              "      <th>colour</th>\n",
              "      <th>price</th>\n",
              "      <th>tax_band_a</th>\n",
              "      <th>tax_band_b</th>\n",
              "      <th>tax_band_c</th>\n",
              "      <th>tax_band_d</th>\n",
              "      <th>tax_band_e</th>\n",
              "      <th>type_coupe</th>\n",
              "      <th>type_estate</th>\n",
              "      <th>type_hatchback</th>\n",
              "      <th>type_saloon</th>\n",
              "      <th>type_suv</th>\n",
              "    </tr>\n",
              "  </thead>\n",
              "  <tbody>\n",
              "    <tr>\n",
              "      <th>654</th>\n",
              "      <td>2018</td>\n",
              "      <td>DUBLIN</td>\n",
              "      <td>mazda</td>\n",
              "      <td>cx-30</td>\n",
              "      <td>WHITE</td>\n",
              "      <td>41920.0</td>\n",
              "      <td>0</td>\n",
              "      <td>0</td>\n",
              "      <td>1</td>\n",
              "      <td>0</td>\n",
              "      <td>0</td>\n",
              "      <td>0</td>\n",
              "      <td>0</td>\n",
              "      <td>0</td>\n",
              "      <td>0</td>\n",
              "      <td>1</td>\n",
              "    </tr>\n",
              "    <tr>\n",
              "      <th>1947</th>\n",
              "      <td>2018</td>\n",
              "      <td>WATERFORD</td>\n",
              "      <td>ford</td>\n",
              "      <td>kuga</td>\n",
              "      <td>WHITE</td>\n",
              "      <td>34961.0</td>\n",
              "      <td>0</td>\n",
              "      <td>1</td>\n",
              "      <td>0</td>\n",
              "      <td>0</td>\n",
              "      <td>0</td>\n",
              "      <td>0</td>\n",
              "      <td>0</td>\n",
              "      <td>0</td>\n",
              "      <td>0</td>\n",
              "      <td>1</td>\n",
              "    </tr>\n",
              "    <tr>\n",
              "      <th>3698</th>\n",
              "      <td>2020</td>\n",
              "      <td>DUBLIN</td>\n",
              "      <td>bmw</td>\n",
              "      <td>3 series</td>\n",
              "      <td>BLUE</td>\n",
              "      <td>69784.0</td>\n",
              "      <td>0</td>\n",
              "      <td>1</td>\n",
              "      <td>0</td>\n",
              "      <td>0</td>\n",
              "      <td>0</td>\n",
              "      <td>0</td>\n",
              "      <td>0</td>\n",
              "      <td>0</td>\n",
              "      <td>1</td>\n",
              "      <td>0</td>\n",
              "    </tr>\n",
              "  </tbody>\n",
              "</table>\n",
              "</div>"
            ],
            "text/plain": [
              "      year     county   make  ... type_hatchback type_saloon  type_suv\n",
              "654   2018     DUBLIN  mazda  ...              0           0         1\n",
              "1947  2018  WATERFORD   ford  ...              0           0         1\n",
              "3698  2020     DUBLIN    bmw  ...              0           1         0\n",
              "\n",
              "[3 rows x 16 columns]"
            ]
          },
          "metadata": {
            "tags": []
          },
          "execution_count": 13
        }
      ]
    },
    {
      "cell_type": "code",
      "metadata": {
        "colab": {
          "base_uri": "https://localhost:8080/"
        },
        "id": "G7In0zB35y2X",
        "outputId": "02fc5225-1bd0-4a27-cc1e-c4d2d1b772d5"
      },
      "source": [
        "list_feature"
      ],
      "execution_count": 14,
      "outputs": [
        {
          "output_type": "execute_result",
          "data": {
            "text/plain": [
              "['county', 'make', 'model', 'colour']"
            ]
          },
          "metadata": {
            "tags": []
          },
          "execution_count": 14
        }
      ]
    },
    {
      "cell_type": "code",
      "metadata": {
        "id": "ETkN5fm4qG8_"
      },
      "source": [
        "#Convert all string features to a int features\n",
        "for feature in list_feature:\n",
        "  label_condition = LabelEncoder()\n",
        "  df_train[feature] = 1 + label_condition.fit_transform(df_train[feature])\n",
        "  df_test[feature] = 1 + label_condition.fit_transform(df_test[feature])\n",
        "  df_tofit[feature] = 1 + label_condition.fit_transform(df_tofit[feature])"
      ],
      "execution_count": 15,
      "outputs": []
    },
    {
      "cell_type": "code",
      "metadata": {
        "colab": {
          "base_uri": "https://localhost:8080/",
          "height": 142
        },
        "id": "PVZl5uTOxAy8",
        "outputId": "37a80939-5e99-482c-97bc-e23cc540e7ff"
      },
      "source": [
        "#df_train.head(3)\n",
        "df_tofit.head(3)"
      ],
      "execution_count": 18,
      "outputs": [
        {
          "output_type": "execute_result",
          "data": {
            "text/html": [
              "<div>\n",
              "<style scoped>\n",
              "    .dataframe tbody tr th:only-of-type {\n",
              "        vertical-align: middle;\n",
              "    }\n",
              "\n",
              "    .dataframe tbody tr th {\n",
              "        vertical-align: top;\n",
              "    }\n",
              "\n",
              "    .dataframe thead th {\n",
              "        text-align: right;\n",
              "    }\n",
              "</style>\n",
              "<table border=\"1\" class=\"dataframe\">\n",
              "  <thead>\n",
              "    <tr style=\"text-align: right;\">\n",
              "      <th></th>\n",
              "      <th>year</th>\n",
              "      <th>county</th>\n",
              "      <th>make</th>\n",
              "      <th>model</th>\n",
              "      <th>colour</th>\n",
              "      <th>price</th>\n",
              "      <th>tax_band_a</th>\n",
              "      <th>tax_band_b</th>\n",
              "      <th>tax_band_c</th>\n",
              "      <th>tax_band_d</th>\n",
              "      <th>tax_band_e</th>\n",
              "      <th>type_coupe</th>\n",
              "      <th>type_estate</th>\n",
              "      <th>type_hatchback</th>\n",
              "      <th>type_saloon</th>\n",
              "      <th>type_suv</th>\n",
              "    </tr>\n",
              "  </thead>\n",
              "  <tbody>\n",
              "    <tr>\n",
              "      <th>0</th>\n",
              "      <td>2020</td>\n",
              "      <td>1</td>\n",
              "      <td>1</td>\n",
              "      <td>6</td>\n",
              "      <td>3</td>\n",
              "      <td>55287.0</td>\n",
              "      <td>0</td>\n",
              "      <td>1</td>\n",
              "      <td>0</td>\n",
              "      <td>0</td>\n",
              "      <td>0</td>\n",
              "      <td>0</td>\n",
              "      <td>0</td>\n",
              "      <td>0</td>\n",
              "      <td>1</td>\n",
              "      <td>0</td>\n",
              "    </tr>\n",
              "    <tr>\n",
              "      <th>1</th>\n",
              "      <td>2019</td>\n",
              "      <td>1</td>\n",
              "      <td>4</td>\n",
              "      <td>15</td>\n",
              "      <td>4</td>\n",
              "      <td>41690.0</td>\n",
              "      <td>0</td>\n",
              "      <td>1</td>\n",
              "      <td>0</td>\n",
              "      <td>0</td>\n",
              "      <td>0</td>\n",
              "      <td>0</td>\n",
              "      <td>0</td>\n",
              "      <td>0</td>\n",
              "      <td>0</td>\n",
              "      <td>1</td>\n",
              "    </tr>\n",
              "    <tr>\n",
              "      <th>2</th>\n",
              "      <td>2019</td>\n",
              "      <td>4</td>\n",
              "      <td>2</td>\n",
              "      <td>2</td>\n",
              "      <td>5</td>\n",
              "      <td>40381.0</td>\n",
              "      <td>0</td>\n",
              "      <td>0</td>\n",
              "      <td>1</td>\n",
              "      <td>0</td>\n",
              "      <td>0</td>\n",
              "      <td>0</td>\n",
              "      <td>0</td>\n",
              "      <td>0</td>\n",
              "      <td>1</td>\n",
              "      <td>0</td>\n",
              "    </tr>\n",
              "  </tbody>\n",
              "</table>\n",
              "</div>"
            ],
            "text/plain": [
              "   year  county  make  ...  type_hatchback  type_saloon  type_suv\n",
              "0  2020       1     1  ...               0            1         0\n",
              "1  2019       1     4  ...               0            0         1\n",
              "2  2019       4     2  ...               0            1         0\n",
              "\n",
              "[3 rows x 16 columns]"
            ]
          },
          "metadata": {
            "tags": []
          },
          "execution_count": 18
        }
      ]
    },
    {
      "cell_type": "code",
      "metadata": {
        "colab": {
          "base_uri": "https://localhost:8080/"
        },
        "id": "0JycCSKn473P",
        "outputId": "63230925-6269-45cb-fb29-fad671143caa"
      },
      "source": [
        "label_condition.classes_ "
      ],
      "execution_count": 20,
      "outputs": [
        {
          "output_type": "execute_result",
          "data": {
            "text/plain": [
              "array(['BLUE', 'ORANGE', 'RED', 'SILVER', 'WHITE'], dtype=object)"
            ]
          },
          "metadata": {
            "tags": []
          },
          "execution_count": 20
        }
      ]
    },
    {
      "cell_type": "code",
      "metadata": {
        "id": "NXt9zW1w7teO"
      },
      "source": [
        "# df_tofit['county_cat'] = df_tofit['county_lbl'].astype('category')"
      ],
      "execution_count": 21,
      "outputs": []
    },
    {
      "cell_type": "code",
      "metadata": {
        "id": "7Cy51fQs7uwm"
      },
      "source": [
        "# df_tofit['county_lbl_cat'] = df_tofit['county_cat'].cat.codes + 1"
      ],
      "execution_count": 22,
      "outputs": []
    },
    {
      "cell_type": "code",
      "metadata": {
        "colab": {
          "base_uri": "https://localhost:8080/",
          "height": 142
        },
        "id": "Typ_jTQt7uug",
        "outputId": "7483fecf-51aa-4d97-edc8-f0b9f44ca90f"
      },
      "source": [
        "df_tofit.head(3)"
      ],
      "execution_count": 23,
      "outputs": [
        {
          "output_type": "execute_result",
          "data": {
            "text/html": [
              "<div>\n",
              "<style scoped>\n",
              "    .dataframe tbody tr th:only-of-type {\n",
              "        vertical-align: middle;\n",
              "    }\n",
              "\n",
              "    .dataframe tbody tr th {\n",
              "        vertical-align: top;\n",
              "    }\n",
              "\n",
              "    .dataframe thead th {\n",
              "        text-align: right;\n",
              "    }\n",
              "</style>\n",
              "<table border=\"1\" class=\"dataframe\">\n",
              "  <thead>\n",
              "    <tr style=\"text-align: right;\">\n",
              "      <th></th>\n",
              "      <th>year</th>\n",
              "      <th>county</th>\n",
              "      <th>make</th>\n",
              "      <th>model</th>\n",
              "      <th>colour</th>\n",
              "      <th>price</th>\n",
              "      <th>tax_band_a</th>\n",
              "      <th>tax_band_b</th>\n",
              "      <th>tax_band_c</th>\n",
              "      <th>tax_band_d</th>\n",
              "      <th>tax_band_e</th>\n",
              "      <th>type_coupe</th>\n",
              "      <th>type_estate</th>\n",
              "      <th>type_hatchback</th>\n",
              "      <th>type_saloon</th>\n",
              "      <th>type_suv</th>\n",
              "    </tr>\n",
              "  </thead>\n",
              "  <tbody>\n",
              "    <tr>\n",
              "      <th>0</th>\n",
              "      <td>2020</td>\n",
              "      <td>1</td>\n",
              "      <td>1</td>\n",
              "      <td>6</td>\n",
              "      <td>3</td>\n",
              "      <td>55287.0</td>\n",
              "      <td>0</td>\n",
              "      <td>1</td>\n",
              "      <td>0</td>\n",
              "      <td>0</td>\n",
              "      <td>0</td>\n",
              "      <td>0</td>\n",
              "      <td>0</td>\n",
              "      <td>0</td>\n",
              "      <td>1</td>\n",
              "      <td>0</td>\n",
              "    </tr>\n",
              "    <tr>\n",
              "      <th>1</th>\n",
              "      <td>2019</td>\n",
              "      <td>1</td>\n",
              "      <td>4</td>\n",
              "      <td>15</td>\n",
              "      <td>4</td>\n",
              "      <td>41690.0</td>\n",
              "      <td>0</td>\n",
              "      <td>1</td>\n",
              "      <td>0</td>\n",
              "      <td>0</td>\n",
              "      <td>0</td>\n",
              "      <td>0</td>\n",
              "      <td>0</td>\n",
              "      <td>0</td>\n",
              "      <td>0</td>\n",
              "      <td>1</td>\n",
              "    </tr>\n",
              "    <tr>\n",
              "      <th>2</th>\n",
              "      <td>2019</td>\n",
              "      <td>4</td>\n",
              "      <td>2</td>\n",
              "      <td>2</td>\n",
              "      <td>5</td>\n",
              "      <td>40381.0</td>\n",
              "      <td>0</td>\n",
              "      <td>0</td>\n",
              "      <td>1</td>\n",
              "      <td>0</td>\n",
              "      <td>0</td>\n",
              "      <td>0</td>\n",
              "      <td>0</td>\n",
              "      <td>0</td>\n",
              "      <td>1</td>\n",
              "      <td>0</td>\n",
              "    </tr>\n",
              "  </tbody>\n",
              "</table>\n",
              "</div>"
            ],
            "text/plain": [
              "   year  county  make  ...  type_hatchback  type_saloon  type_suv\n",
              "0  2020       1     1  ...               0            1         0\n",
              "1  2019       1     4  ...               0            0         1\n",
              "2  2019       4     2  ...               0            1         0\n",
              "\n",
              "[3 rows x 16 columns]"
            ]
          },
          "metadata": {
            "tags": []
          },
          "execution_count": 23
        }
      ]
    },
    {
      "cell_type": "code",
      "metadata": {
        "id": "yPZqEKLRMjQ2"
      },
      "source": [
        "df_tofit.to_csv('/content/drive/MyDrive/Data Science and Analytics/R00206995/data/R00206995_test_tofit.csv', index=False)"
      ],
      "execution_count": 24,
      "outputs": []
    },
    {
      "cell_type": "code",
      "metadata": {
        "colab": {
          "base_uri": "https://localhost:8080/"
        },
        "id": "DqRwImdvqLh0",
        "outputId": "c1830238-ebf7-4874-ab5f-f4502ed8f328"
      },
      "source": [
        "# X variables (independent)\n",
        "output_feature_dummies = 'price'\n",
        "input_features_new_fit = [item for item in df_tofit.columns if item not in [output_feature_dummies] + list_of_col_not_use]\n",
        "print(input_features_new_fit)"
      ],
      "execution_count": 25,
      "outputs": [
        {
          "output_type": "stream",
          "text": [
            "['year', 'county', 'make', 'model', 'colour']\n"
          ],
          "name": "stdout"
        }
      ]
    },
    {
      "cell_type": "code",
      "metadata": {
        "colab": {
          "base_uri": "https://localhost:8080/"
        },
        "id": "kfpSt8_6H3W1",
        "outputId": "760c7aef-d695-423c-e0a4-c2b76f427905"
      },
      "source": [
        "# X variables (independent)\n",
        "output_feature_dummies = 'price'\n",
        "input_features_dummies = [item for item in df_train.columns if item not in [output_feature_dummies] + list_of_col_not_use]\n",
        "print(input_features_dummies)"
      ],
      "execution_count": 26,
      "outputs": [
        {
          "output_type": "stream",
          "text": [
            "['year', 'county', 'make', 'model', 'colour']\n"
          ],
          "name": "stdout"
        }
      ]
    },
    {
      "cell_type": "code",
      "metadata": {
        "colab": {
          "base_uri": "https://localhost:8080/"
        },
        "id": "awnuNqWZIJOE",
        "outputId": "979cf865-3817-4100-b3fd-3aac726313a1"
      },
      "source": [
        "# Apply Standar Scaler for a list of features\n",
        "for column in df_tofit.columns:\n",
        "\n",
        "  if column in input_features_new_fit:\n",
        "    scaler_column = StandardScaler()\n",
        "    scaler_column.fit(df_tofit[column].values.reshape(-1, 1))\n",
        "    df_tofit[column] = scaler_column.transform(df_tofit[column].values.reshape(-1, 1))\n",
        "      \n",
        "  else:\n",
        "    print(f'skip:\\t{column}')\n",
        "df_tofit.to_csv('/content/drive/MyDrive/Data Science and Analytics/R00206995/data/R00206995_tofit.csv', index=False)"
      ],
      "execution_count": 27,
      "outputs": [
        {
          "output_type": "stream",
          "text": [
            "skip:\tprice\n",
            "skip:\ttax_band_a\n",
            "skip:\ttax_band_b\n",
            "skip:\ttax_band_c\n",
            "skip:\ttax_band_d\n",
            "skip:\ttax_band_e\n",
            "skip:\ttype_coupe\n",
            "skip:\ttype_estate\n",
            "skip:\ttype_hatchback\n",
            "skip:\ttype_saloon\n",
            "skip:\ttype_suv\n"
          ],
          "name": "stdout"
        }
      ]
    },
    {
      "cell_type": "code",
      "metadata": {
        "id": "jxzlXwd1Rrrm"
      },
      "source": [
        "#df_dummies.head(3)"
      ],
      "execution_count": 28,
      "outputs": []
    },
    {
      "cell_type": "code",
      "metadata": {
        "colab": {
          "base_uri": "https://localhost:8080/"
        },
        "id": "Cupfnjvz07Uu",
        "outputId": "64049c10-26c3-4d51-e6ec-b146a3b8d80e"
      },
      "source": [
        "# Apply Standar Scaler for a list of features\n",
        "for column in df_train.columns:\n",
        "\n",
        "  if column in input_features_dummies:\n",
        "    scaler_column = StandardScaler()\n",
        "    scaler_column.fit(df_train[column].values.reshape(-1, 1))\n",
        "    df_train[column] = scaler_column.transform(df_train[column].values.reshape(-1, 1))\n",
        "    df_test[column] = scaler_column.transform(df_test[column].values.reshape(-1, 1))\n",
        "    \n",
        "  \n",
        "  else:\n",
        "    print(f'skip:\\t{column}')\n",
        "# df_dummies.to_csv('/content/drive/MyDrive/Data Science and Analytics/R00206995/data/R00206995_tofit_dum.csv', index=False)"
      ],
      "execution_count": 29,
      "outputs": [
        {
          "output_type": "stream",
          "text": [
            "skip:\tprice\n",
            "skip:\ttax_band_a\n",
            "skip:\ttax_band_b\n",
            "skip:\ttax_band_c\n",
            "skip:\ttax_band_d\n",
            "skip:\ttax_band_e\n",
            "skip:\ttype_coupe\n",
            "skip:\ttype_estate\n",
            "skip:\ttype_hatchback\n",
            "skip:\ttype_saloon\n",
            "skip:\ttype_suv\n"
          ],
          "name": "stdout"
        }
      ]
    },
    {
      "cell_type": "markdown",
      "metadata": {
        "id": "TJMb_5f7xrGj"
      },
      "source": [
        "###Linear Regressor Model\n",
        "####Standard Scaler plus Best Features Dummies"
      ]
    },
    {
      "cell_type": "code",
      "metadata": {
        "id": "Fe0_K5GwyAQ4"
      },
      "source": [
        "X_train = df_train[input_features_dummies].values\n",
        "X_test = df_test[input_features_dummies].values\n",
        "\n",
        "y_train = df_train[[output_feature_dummies]].values\n",
        "y_test = df_test[[output_feature_dummies]].values"
      ],
      "execution_count": 30,
      "outputs": []
    },
    {
      "cell_type": "code",
      "metadata": {
        "colab": {
          "base_uri": "https://localhost:8080/",
          "height": 142
        },
        "id": "CmDqWim4LOC0",
        "outputId": "f453ce6f-c19d-4e90-c63c-448c3160d4f3"
      },
      "source": [
        "df_train.head(3)"
      ],
      "execution_count": 31,
      "outputs": [
        {
          "output_type": "execute_result",
          "data": {
            "text/html": [
              "<div>\n",
              "<style scoped>\n",
              "    .dataframe tbody tr th:only-of-type {\n",
              "        vertical-align: middle;\n",
              "    }\n",
              "\n",
              "    .dataframe tbody tr th {\n",
              "        vertical-align: top;\n",
              "    }\n",
              "\n",
              "    .dataframe thead th {\n",
              "        text-align: right;\n",
              "    }\n",
              "</style>\n",
              "<table border=\"1\" class=\"dataframe\">\n",
              "  <thead>\n",
              "    <tr style=\"text-align: right;\">\n",
              "      <th></th>\n",
              "      <th>year</th>\n",
              "      <th>county</th>\n",
              "      <th>make</th>\n",
              "      <th>model</th>\n",
              "      <th>colour</th>\n",
              "      <th>price</th>\n",
              "      <th>tax_band_a</th>\n",
              "      <th>tax_band_b</th>\n",
              "      <th>tax_band_c</th>\n",
              "      <th>tax_band_d</th>\n",
              "      <th>tax_band_e</th>\n",
              "      <th>type_coupe</th>\n",
              "      <th>type_estate</th>\n",
              "      <th>type_hatchback</th>\n",
              "      <th>type_saloon</th>\n",
              "      <th>type_suv</th>\n",
              "    </tr>\n",
              "  </thead>\n",
              "  <tbody>\n",
              "    <tr>\n",
              "      <th>654</th>\n",
              "      <td>-1.254703</td>\n",
              "      <td>-0.411111</td>\n",
              "      <td>-0.126048</td>\n",
              "      <td>-0.071977</td>\n",
              "      <td>0.968045</td>\n",
              "      <td>41920.0</td>\n",
              "      <td>0</td>\n",
              "      <td>0</td>\n",
              "      <td>1</td>\n",
              "      <td>0</td>\n",
              "      <td>0</td>\n",
              "      <td>0</td>\n",
              "      <td>0</td>\n",
              "      <td>0</td>\n",
              "      <td>0</td>\n",
              "      <td>1</td>\n",
              "    </tr>\n",
              "    <tr>\n",
              "      <th>1947</th>\n",
              "      <td>-1.254703</td>\n",
              "      <td>2.018788</td>\n",
              "      <td>-0.638329</td>\n",
              "      <td>0.728682</td>\n",
              "      <td>0.968045</td>\n",
              "      <td>34961.0</td>\n",
              "      <td>0</td>\n",
              "      <td>1</td>\n",
              "      <td>0</td>\n",
              "      <td>0</td>\n",
              "      <td>0</td>\n",
              "      <td>0</td>\n",
              "      <td>0</td>\n",
              "      <td>0</td>\n",
              "      <td>0</td>\n",
              "      <td>1</td>\n",
              "    </tr>\n",
              "    <tr>\n",
              "      <th>3698</th>\n",
              "      <td>1.195070</td>\n",
              "      <td>-0.411111</td>\n",
              "      <td>-1.150611</td>\n",
              "      <td>-1.558914</td>\n",
              "      <td>-1.661267</td>\n",
              "      <td>69784.0</td>\n",
              "      <td>0</td>\n",
              "      <td>1</td>\n",
              "      <td>0</td>\n",
              "      <td>0</td>\n",
              "      <td>0</td>\n",
              "      <td>0</td>\n",
              "      <td>0</td>\n",
              "      <td>0</td>\n",
              "      <td>1</td>\n",
              "      <td>0</td>\n",
              "    </tr>\n",
              "  </tbody>\n",
              "</table>\n",
              "</div>"
            ],
            "text/plain": [
              "          year    county      make  ...  type_hatchback  type_saloon  type_suv\n",
              "654  -1.254703 -0.411111 -0.126048  ...               0            0         1\n",
              "1947 -1.254703  2.018788 -0.638329  ...               0            0         1\n",
              "3698  1.195070 -0.411111 -1.150611  ...               0            1         0\n",
              "\n",
              "[3 rows x 16 columns]"
            ]
          },
          "metadata": {
            "tags": []
          },
          "execution_count": 31
        }
      ]
    },
    {
      "cell_type": "code",
      "metadata": {
        "id": "2dzEArDRzvRz"
      },
      "source": [
        "lr_scaler_model = LinearRegression()\n",
        "lr_scaler_model.fit(X=X_train, y=y_train)\n",
        "lr_scaler_model_prodict = lr_scaler_model.predict(X=X_test)\n",
        "lr_scaler_model_mse = mean_squared_error(y_pred=lr_scaler_model_prodict, y_true=y_test)\n",
        "lr_scaler_model_r_sq = r2_score(y_pred=lr_scaler_model_prodict, y_true=y_test)"
      ],
      "execution_count": 32,
      "outputs": []
    },
    {
      "cell_type": "markdown",
      "metadata": {
        "id": "Zvxl0etZ39Nj"
      },
      "source": [
        "###Valitation Test:: Linear Regressor Model Standard Scaler and Best Features Dummies"
      ]
    },
    {
      "cell_type": "code",
      "metadata": {
        "id": "wVdnfuEt36ux",
        "colab": {
          "base_uri": "https://localhost:8080/"
        },
        "outputId": "1a22b4e3-5c83-48c6-9bc3-3f24e6aa116e"
      },
      "source": [
        "print(f'Linear Model StandardScaler Features Accuracy:\\nRMSE={math.sqrt(lr_scaler_model_mse):,.0f}\\nRSq={lr_scaler_model_r_sq:.2f} or {lr_scaler_model_r_sq*100:.0f}% of the variability in Y can be explained using X')"
      ],
      "execution_count": 33,
      "outputs": [
        {
          "output_type": "stream",
          "text": [
            "Linear Model StandardScaler Features Accuracy:\n",
            "RMSE=27,704\n",
            "RSq=0.14 or 14% of the variability in Y can be explained using X\n"
          ],
          "name": "stdout"
        }
      ]
    },
    {
      "cell_type": "code",
      "metadata": {
        "id": "HfkzkHon4eyB",
        "colab": {
          "base_uri": "https://localhost:8080/"
        },
        "outputId": "a543a5e2-05d2-4d3d-db5a-2cc317763eb9"
      },
      "source": [
        "lr_scaler_model.coef_"
      ],
      "execution_count": 34,
      "outputs": [
        {
          "output_type": "execute_result",
          "data": {
            "text/plain": [
              "array([[ 1152.04847186,   206.15703227, -7889.61395501, -5739.4173745 ,\n",
              "         -997.7187492 ]])"
            ]
          },
          "metadata": {
            "tags": []
          },
          "execution_count": 34
        }
      ]
    },
    {
      "cell_type": "code",
      "metadata": {
        "colab": {
          "base_uri": "https://localhost:8080/"
        },
        "id": "7khPBqiD03Do",
        "outputId": "36ffd03a-f472-4713-9c83-c60ba204f6b7"
      },
      "source": [
        "lr_scaler_model.score"
      ],
      "execution_count": null,
      "outputs": [
        {
          "output_type": "execute_result",
          "data": {
            "text/plain": [
              "<bound method RegressorMixin.score of LinearRegression(copy_X=True, fit_intercept=True, n_jobs=None, normalize=False)>"
            ]
          },
          "metadata": {
            "tags": []
          },
          "execution_count": 55
        }
      ]
    },
    {
      "cell_type": "code",
      "metadata": {
        "colab": {
          "base_uri": "https://localhost:8080/"
        },
        "id": "NRXi82csiMcA",
        "outputId": "6e5bd13f-6324-4b90-aeed-0be96adab41f"
      },
      "source": [
        "lr_scaler_model.intercept_, lr_scaler_model.rank_"
      ],
      "execution_count": null,
      "outputs": [
        {
          "output_type": "execute_result",
          "data": {
            "text/plain": [
              "(array([46814.18519737]), 9)"
            ]
          },
          "metadata": {
            "tags": []
          },
          "execution_count": 56
        }
      ]
    },
    {
      "cell_type": "code",
      "metadata": {
        "id": "MyX5Ee1m06nI"
      },
      "source": [
        "#pickle.dump(lr_scaler_model, open('/content/drive/MyDrive/Data Science and Analytics/R00206995/model/model.pkl', 'wb') )"
      ],
      "execution_count": null,
      "outputs": []
    },
    {
      "cell_type": "code",
      "metadata": {
        "colab": {
          "base_uri": "https://localhost:8080/"
        },
        "id": "S-jIK5B1FGOk",
        "outputId": "447f7b64-baa0-461e-8560-29940f7892d6"
      },
      "source": [
        "shapiro_test = stats.shapiro(X_train)\n",
        "shapiro_test"
      ],
      "execution_count": null,
      "outputs": [
        {
          "output_type": "stream",
          "text": [
            "/usr/local/lib/python3.7/dist-packages/scipy/stats/morestats.py:1676: UserWarning: p-value may not be accurate for N > 5000.\n",
            "  warnings.warn(\"p-value may not be accurate for N > 5000.\")\n"
          ],
          "name": "stderr"
        },
        {
          "output_type": "execute_result",
          "data": {
            "text/plain": [
              "(0.873183012008667, 0.0)"
            ]
          },
          "metadata": {
            "tags": []
          },
          "execution_count": 36
        }
      ]
    },
    {
      "cell_type": "code",
      "metadata": {
        "id": "oYAgAUHAFv3W"
      },
      "source": [
        ""
      ],
      "execution_count": null,
      "outputs": []
    },
    {
      "cell_type": "code",
      "metadata": {
        "id": "rbXBDasnGYxM"
      },
      "source": [
        ""
      ],
      "execution_count": null,
      "outputs": []
    }
  ]
}