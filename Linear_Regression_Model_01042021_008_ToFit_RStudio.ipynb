{
  "nbformat": 4,
  "nbformat_minor": 0,
  "metadata": {
    "colab": {
      "name": "Linear_Regression_Model_01042021_008_ToFit_RStudio.ipynb",
      "provenance": [],
      "collapsed_sections": [],
      "toc_visible": true,
      "mount_file_id": "1Q_mEMjS_Stu1-w2MMa7jgWnd_UI-1Xoj",
      "authorship_tag": "ABX9TyOHc2ZSG8f+M9zTd6VSxCfn",
      "include_colab_link": true
    },
    "kernelspec": {
      "name": "python3",
      "display_name": "Python 3"
    },
    "language_info": {
      "name": "python"
    }
  },
  "cells": [
    {
      "cell_type": "markdown",
      "metadata": {
        "id": "view-in-github",
        "colab_type": "text"
      },
      "source": [
        "<a href=\"https://colab.research.google.com/github/NetoRibeiro/DATA8001Assignment1/blob/main/Linear_Regression_Model_01042021_008_ToFit_RStudio.ipynb\" target=\"_parent\"><img src=\"https://colab.research.google.com/assets/colab-badge.svg\" alt=\"Open In Colab\"/></a>"
      ]
    },
    {
      "cell_type": "markdown",
      "metadata": {
        "id": "YtQzKAZf5RUb"
      },
      "source": [
        "###Import and Load File"
      ]
    },
    {
      "cell_type": "code",
      "metadata": {
        "id": "WuiTBbx6pwYV"
      },
      "source": [
        "%matplotlib inline\n",
        "\n",
        "import matplotlib.pyplot as plt\n",
        "from matplotlib import colors\n",
        "import numpy as np\n",
        "import pandas as pd\n",
        "from datetime import datetime as dt\n",
        "\n",
        "import calendar\n",
        "import re\n",
        "import string\n",
        "\n",
        "import math\n",
        "import pickle\n",
        "from sklearn.model_selection import train_test_split\n",
        "from sklearn.preprocessing import LabelEncoder, StandardScaler, MinMaxScaler\n",
        "from sklearn.linear_model import LinearRegression\n",
        "from sklearn.metrics import mean_squared_error, r2_score, accuracy_score\n",
        "\n",
        "from scipy import stats"
      ],
      "execution_count": 1,
      "outputs": []
    },
    {
      "cell_type": "code",
      "metadata": {
        "id": "yMApn6Hop5nh"
      },
      "source": [
        "df_processed = pd.read_csv('/content/drive/MyDrive/Data Science and Analytics/R00206995/data/R00206995_processed.csv')"
      ],
      "execution_count": 17,
      "outputs": []
    },
    {
      "cell_type": "code",
      "metadata": {
        "colab": {
          "base_uri": "https://localhost:8080/",
          "height": 204
        },
        "id": "jxwz7t4xp61t",
        "outputId": "4e5ecb2e-928b-457a-9f7f-b5490b7144a3"
      },
      "source": [
        "df_processed.head()"
      ],
      "execution_count": 18,
      "outputs": [
        {
          "output_type": "execute_result",
          "data": {
            "text/html": [
              "<div>\n",
              "<style scoped>\n",
              "    .dataframe tbody tr th:only-of-type {\n",
              "        vertical-align: middle;\n",
              "    }\n",
              "\n",
              "    .dataframe tbody tr th {\n",
              "        vertical-align: top;\n",
              "    }\n",
              "\n",
              "    .dataframe thead th {\n",
              "        text-align: right;\n",
              "    }\n",
              "</style>\n",
              "<table border=\"1\" class=\"dataframe\">\n",
              "  <thead>\n",
              "    <tr style=\"text-align: right;\">\n",
              "      <th></th>\n",
              "      <th>car_reg</th>\n",
              "      <th>purchase_date</th>\n",
              "      <th>year</th>\n",
              "      <th>month</th>\n",
              "      <th>county</th>\n",
              "      <th>make</th>\n",
              "      <th>model</th>\n",
              "      <th>type</th>\n",
              "      <th>colour</th>\n",
              "      <th>tax_band</th>\n",
              "      <th>price</th>\n",
              "    </tr>\n",
              "  </thead>\n",
              "  <tbody>\n",
              "    <tr>\n",
              "      <th>0</th>\n",
              "      <td>202-C-2315</td>\n",
              "      <td>2020-07-01</td>\n",
              "      <td>2020</td>\n",
              "      <td>7</td>\n",
              "      <td>CORK</td>\n",
              "      <td>AUDI</td>\n",
              "      <td>A4</td>\n",
              "      <td>SALOON</td>\n",
              "      <td>RED</td>\n",
              "      <td>B</td>\n",
              "      <td>55287.0</td>\n",
              "    </tr>\n",
              "    <tr>\n",
              "      <th>1</th>\n",
              "      <td>191-C-3750</td>\n",
              "      <td>2019-01-20</td>\n",
              "      <td>2019</td>\n",
              "      <td>1</td>\n",
              "      <td>CORK</td>\n",
              "      <td>MAZDA</td>\n",
              "      <td>CX-30</td>\n",
              "      <td>SUV</td>\n",
              "      <td>SILVER</td>\n",
              "      <td>B</td>\n",
              "      <td>41690.0</td>\n",
              "    </tr>\n",
              "    <tr>\n",
              "      <th>2</th>\n",
              "      <td>191-L-3155</td>\n",
              "      <td>2019-03-21</td>\n",
              "      <td>2019</td>\n",
              "      <td>3</td>\n",
              "      <td>LIMERICK</td>\n",
              "      <td>BMW</td>\n",
              "      <td>3 SERIES</td>\n",
              "      <td>SALOON</td>\n",
              "      <td>WHITE</td>\n",
              "      <td>C</td>\n",
              "      <td>40381.0</td>\n",
              "    </tr>\n",
              "    <tr>\n",
              "      <th>3</th>\n",
              "      <td>191-D-2645</td>\n",
              "      <td>2019-01-26</td>\n",
              "      <td>2019</td>\n",
              "      <td>1</td>\n",
              "      <td>DUBLIN</td>\n",
              "      <td>AUDI</td>\n",
              "      <td>Q3</td>\n",
              "      <td>SUV</td>\n",
              "      <td>ORANGE</td>\n",
              "      <td>C</td>\n",
              "      <td>44836.0</td>\n",
              "    </tr>\n",
              "    <tr>\n",
              "      <th>4</th>\n",
              "      <td>181-W-341</td>\n",
              "      <td>2018-01-27</td>\n",
              "      <td>2018</td>\n",
              "      <td>1</td>\n",
              "      <td>WATERFORD</td>\n",
              "      <td>OPEL</td>\n",
              "      <td>ASTRA</td>\n",
              "      <td>HATCHBACK</td>\n",
              "      <td>RED</td>\n",
              "      <td>A</td>\n",
              "      <td>32188.0</td>\n",
              "    </tr>\n",
              "  </tbody>\n",
              "</table>\n",
              "</div>"
            ],
            "text/plain": [
              "      car_reg purchase_date  year  month  ...       type  colour tax_band    price\n",
              "0  202-C-2315    2020-07-01  2020      7  ...     SALOON     RED        B  55287.0\n",
              "1  191-C-3750    2019-01-20  2019      1  ...        SUV  SILVER        B  41690.0\n",
              "2  191-L-3155    2019-03-21  2019      3  ...     SALOON   WHITE        C  40381.0\n",
              "3  191-D-2645    2019-01-26  2019      1  ...        SUV  ORANGE        C  44836.0\n",
              "4   181-W-341    2018-01-27  2018      1  ...  HATCHBACK     RED        A  32188.0\n",
              "\n",
              "[5 rows x 11 columns]"
            ]
          },
          "metadata": {
            "tags": []
          },
          "execution_count": 18
        }
      ]
    },
    {
      "cell_type": "markdown",
      "metadata": {
        "id": "sSs9S_Ck5Wc3"
      },
      "source": [
        "###Transformation and Split"
      ]
    },
    {
      "cell_type": "code",
      "metadata": {
        "id": "cg0d1O6hp-H8"
      },
      "source": [
        "def get_feature_stats(df, list_columns):\n",
        "    lis_of_string_features = []\n",
        "    for feature in list_columns:\n",
        "      if df[feature].dtype not in ['uint8', 'int16','int32','int64','float16','float32','float64']:\n",
        "        lis_of_string_features.append(feature)\n",
        "    return lis_of_string_features\n",
        "\n",
        "\n",
        "def concat_columns(col1, col2, delimited):\n",
        "  try:\n",
        "    cols = f'{col1}{delimited}{col2}'\n",
        "    return cols\n",
        "  except Exception as ex:\n",
        "    raise Exception(f'Error when concatenate:: {ex}')\n",
        "\n",
        "\n",
        "def apply_calc_columns(col1, col2, calc):\n",
        "  try:\n",
        "    col1 = float(col1)\n",
        "    col2 = float(col2)\n",
        " \n",
        "    if calc == 'times':\n",
        "      cols = col1 * col2\n",
        " \n",
        "    elif calc == 'div':\n",
        "      try:\n",
        "        cols == col1 / col2\n",
        "      except Exception as ex:\n",
        "        raise Exception(f'Error when try to divide:: {ex}')\n",
        "        return 0.0\n",
        " \n",
        "    elif calc == 'plus':\n",
        "      cols = col1 + col2\n",
        " \n",
        "    elif calc == 'minus':\n",
        "      cols = col1 - col2\n",
        " \n",
        "    else:\n",
        "      cols = 0\n",
        "\n",
        "    return cols\n",
        "  except Exception as ex:\n",
        "    raise Exception(f'Error when convert to a float:: {ex}')\n"
      ],
      "execution_count": 19,
      "outputs": []
    },
    {
      "cell_type": "code",
      "metadata": {
        "id": "WDOZVdWETJUz"
      },
      "source": [
        "df_concats = df_processed.copy()"
      ],
      "execution_count": 20,
      "outputs": []
    },
    {
      "cell_type": "code",
      "metadata": {
        "id": "fKd0ACHgTQ4C"
      },
      "source": [
        "#df_concats['makemodel'] = df_concats.apply(lambda row: concat_columns(row['make'], row['model'],\"_\"), axis=1)\n",
        "#df_concats.head(3)"
      ],
      "execution_count": 21,
      "outputs": []
    },
    {
      "cell_type": "code",
      "metadata": {
        "id": "CL46C0GkxqGU"
      },
      "source": [
        "# Create a list of columns to apply Dummies\n",
        "\n",
        "#list_of_best_features = ['tax_band', 'type', 'make', 'model']\n",
        "\n",
        "# Apply Lower case before dummies\n",
        "df_concats['type'] = df_concats['type'].str.lower()\n",
        "df_concats['tax_band'] = df_concats['tax_band'].str.lower()\n",
        "df_concats['make'] = df_concats['make'].str.lower()\n",
        "df_concats['model'] = df_concats['model'].str.lower()\n",
        "df_tofit = df_concats.copy()\n",
        "\n",
        "# Apply Dammies\n",
        "# df_dummies = pd.get_dummies(df_concats, columns=list_of_best_features)\n",
        "# df_dummies.drop(['car_reg', 'purchase_date', 'month'], axis=1, inplace=True)\n",
        "df_tofit.drop(['car_reg', 'purchase_date', 'month'], axis=1, inplace=True)\n",
        "# df_dummies.head(3)"
      ],
      "execution_count": 23,
      "outputs": []
    },
    {
      "cell_type": "code",
      "metadata": {
        "id": "MFkdT7GDu7bh"
      },
      "source": [
        "#list_columns = df_dummies.columns\n",
        "list_columns = df_tofit.columns\n",
        "list_new_columns = df_tofit.columns\n",
        "#list_feature = get_feature_stats(df_dummies, list_columns)\n",
        "list_feature = get_feature_stats(df_tofit, list_columns)\n",
        "list_new_features = get_feature_stats(df_tofit, list_new_columns)"
      ],
      "execution_count": 31,
      "outputs": []
    },
    {
      "cell_type": "code",
      "metadata": {
        "id": "yxH3EeaYvZw_"
      },
      "source": [
        "# df_train, df_test = train_test_split(df_dummies.copy() ,test_size=0.2, random_state=8001)\n",
        "df_train, df_test = train_test_split(df_tofit.copy() ,test_size=0.2, random_state=8001)"
      ],
      "execution_count": 32,
      "outputs": []
    },
    {
      "cell_type": "code",
      "metadata": {
        "colab": {
          "base_uri": "https://localhost:8080/",
          "height": 142
        },
        "id": "tc_8jAKrHPbM",
        "outputId": "15d467e2-ef8c-407b-c03f-dd68fe626cf9"
      },
      "source": [
        "df_tofit.head(3)"
      ],
      "execution_count": 33,
      "outputs": [
        {
          "output_type": "execute_result",
          "data": {
            "text/html": [
              "<div>\n",
              "<style scoped>\n",
              "    .dataframe tbody tr th:only-of-type {\n",
              "        vertical-align: middle;\n",
              "    }\n",
              "\n",
              "    .dataframe tbody tr th {\n",
              "        vertical-align: top;\n",
              "    }\n",
              "\n",
              "    .dataframe thead th {\n",
              "        text-align: right;\n",
              "    }\n",
              "</style>\n",
              "<table border=\"1\" class=\"dataframe\">\n",
              "  <thead>\n",
              "    <tr style=\"text-align: right;\">\n",
              "      <th></th>\n",
              "      <th>year</th>\n",
              "      <th>county</th>\n",
              "      <th>make</th>\n",
              "      <th>model</th>\n",
              "      <th>type</th>\n",
              "      <th>colour</th>\n",
              "      <th>tax_band</th>\n",
              "      <th>price</th>\n",
              "    </tr>\n",
              "  </thead>\n",
              "  <tbody>\n",
              "    <tr>\n",
              "      <th>0</th>\n",
              "      <td>2020</td>\n",
              "      <td>0</td>\n",
              "      <td>0</td>\n",
              "      <td>5</td>\n",
              "      <td>3</td>\n",
              "      <td>2</td>\n",
              "      <td>1</td>\n",
              "      <td>55287.0</td>\n",
              "    </tr>\n",
              "    <tr>\n",
              "      <th>1</th>\n",
              "      <td>2019</td>\n",
              "      <td>0</td>\n",
              "      <td>3</td>\n",
              "      <td>14</td>\n",
              "      <td>4</td>\n",
              "      <td>3</td>\n",
              "      <td>1</td>\n",
              "      <td>41690.0</td>\n",
              "    </tr>\n",
              "    <tr>\n",
              "      <th>2</th>\n",
              "      <td>2019</td>\n",
              "      <td>3</td>\n",
              "      <td>1</td>\n",
              "      <td>1</td>\n",
              "      <td>3</td>\n",
              "      <td>4</td>\n",
              "      <td>2</td>\n",
              "      <td>40381.0</td>\n",
              "    </tr>\n",
              "  </tbody>\n",
              "</table>\n",
              "</div>"
            ],
            "text/plain": [
              "   year  county  make  model  type  colour  tax_band    price\n",
              "0  2020       0     0      5     3       2         1  55287.0\n",
              "1  2019       0     3     14     4       3         1  41690.0\n",
              "2  2019       3     1      1     3       4         2  40381.0"
            ]
          },
          "metadata": {
            "tags": []
          },
          "execution_count": 33
        }
      ]
    },
    {
      "cell_type": "code",
      "metadata": {
        "id": "ETkN5fm4qG8_"
      },
      "source": [
        "#Convert all string features to a int features\n",
        "for feature in list_feature:\n",
        "  label_condition = LabelEncoder()\n",
        "  df_train[feature] = label_condition.fit_transform(df_train[feature])\n",
        "  df_test[feature] = label_condition.fit_transform(df_test[feature])\n",
        "  \n",
        "  "
      ],
      "execution_count": 34,
      "outputs": []
    },
    {
      "cell_type": "code",
      "metadata": {
        "id": "QUAjQoeQHrlA"
      },
      "source": [
        "#Convert all string features to a int features\n",
        "for feature in list_new_features:\n",
        "  label_condition = LabelEncoder()\n",
        "  df_tofit[feature] = label_condition.fit_transform(df_tofit[feature])"
      ],
      "execution_count": 35,
      "outputs": []
    },
    {
      "cell_type": "code",
      "metadata": {
        "colab": {
          "base_uri": "https://localhost:8080/"
        },
        "id": "4jeqanPb1bXe",
        "outputId": "2909af26-e443-4a42-93f7-7e85c86a725d"
      },
      "source": [
        "df_train.shape, df_test.shape"
      ],
      "execution_count": 36,
      "outputs": [
        {
          "output_type": "execute_result",
          "data": {
            "text/plain": [
              "((3040, 8), (760, 8))"
            ]
          },
          "metadata": {
            "tags": []
          },
          "execution_count": 36
        }
      ]
    },
    {
      "cell_type": "code",
      "metadata": {
        "id": "EEe6eCLUcDcJ"
      },
      "source": [
        "df_train['new_car'] = df_train.apply(lambda row: apply_calc_columns(row['make'], row['model'],\"plus\"), axis=1)\n",
        "df_test['new_car'] = df_test.apply(lambda row: apply_calc_columns(row['make'], row['model'],\"plus\"), axis=1)\n",
        "df_tofit['new_car'] = df_tofit.apply(lambda row: apply_calc_columns(row['make'], row['model'],\"plus\"), axis=1)"
      ],
      "execution_count": 37,
      "outputs": []
    },
    {
      "cell_type": "code",
      "metadata": {
        "id": "SrTlsRlGdvQC"
      },
      "source": [
        "df_train['new_car'] = df_train.apply(lambda row: apply_calc_columns(row['new_car'], row['type'],\"times\"), axis=1)\n",
        "df_test['new_car'] = df_test.apply(lambda row: apply_calc_columns(row['new_car'], row['type'],\"times\"), axis=1)\n",
        "df_tofit['new_car'] = df_tofit.apply(lambda row: apply_calc_columns(row['new_car'], row['type'],\"times\"), axis=1)"
      ],
      "execution_count": 38,
      "outputs": []
    },
    {
      "cell_type": "code",
      "metadata": {
        "id": "EKUdbFO8eiyc"
      },
      "source": [
        "df_train.drop(['make', 'model', 'type'], axis=1, inplace=True)\n",
        "df_test.drop(['make', 'model', 'type'], axis=1, inplace=True)\n",
        "df_tofit.drop(['make', 'model', 'type'], axis=1, inplace=True)"
      ],
      "execution_count": 54,
      "outputs": []
    },
    {
      "cell_type": "code",
      "metadata": {
        "colab": {
          "base_uri": "https://localhost:8080/"
        },
        "id": "DqRwImdvqLh0",
        "outputId": "27bb9f35-2fb0-4bb0-e3cc-fa014cb7fe45"
      },
      "source": [
        "# X variables (independent)\n",
        "output_feature_dummies = 'price'\n",
        "input_features_new_fit = [item for item in df_tofit.columns if item not in output_feature_dummies]\n",
        "print(input_features_new_fit)"
      ],
      "execution_count": 55,
      "outputs": [
        {
          "output_type": "stream",
          "text": [
            "['year', 'county', 'colour', 'tax_band', 'new_car']\n"
          ],
          "name": "stdout"
        }
      ]
    },
    {
      "cell_type": "code",
      "metadata": {
        "colab": {
          "base_uri": "https://localhost:8080/"
        },
        "id": "kfpSt8_6H3W1",
        "outputId": "9d05e1b6-b5e8-4fe8-9e93-93c6130ccf24"
      },
      "source": [
        "# X variables (independent)\n",
        "output_feature_dummies = 'price'\n",
        "input_features_dummies = [item for item in df_train.columns if item not in output_feature_dummies]\n",
        "print(input_features_dummies)"
      ],
      "execution_count": 56,
      "outputs": [
        {
          "output_type": "stream",
          "text": [
            "['year', 'county', 'colour', 'tax_band', 'new_car']\n"
          ],
          "name": "stdout"
        }
      ]
    },
    {
      "cell_type": "code",
      "metadata": {
        "colab": {
          "base_uri": "https://localhost:8080/"
        },
        "id": "awnuNqWZIJOE",
        "outputId": "d9862644-06c4-4a9a-f6ee-70176bbdf744"
      },
      "source": [
        "# Apply Standar Scaler for a list of features\n",
        "for column in df_tofit.columns:\n",
        "\n",
        "  if column in input_features_new_fit:\n",
        "    scaler_column = StandardScaler()\n",
        "    scaler_column.fit(df_tofit[column].values.reshape(-1, 1))\n",
        "    df_tofit[column] = scaler_column.transform(df_tofit[column].values.reshape(-1, 1))\n",
        "      \n",
        "  else:\n",
        "    print(f'skip:\\t{column}')\n",
        "df_tofit.to_csv('/content/drive/MyDrive/Data Science and Analytics/R00206995/data/R00206995_tofit.csv', index=False)"
      ],
      "execution_count": 57,
      "outputs": [
        {
          "output_type": "stream",
          "text": [
            "skip:\tprice\n"
          ],
          "name": "stdout"
        }
      ]
    },
    {
      "cell_type": "code",
      "metadata": {
        "id": "jxzlXwd1Rrrm"
      },
      "source": [
        "#df_dummies.head(3)"
      ],
      "execution_count": 58,
      "outputs": []
    },
    {
      "cell_type": "code",
      "metadata": {
        "colab": {
          "base_uri": "https://localhost:8080/"
        },
        "id": "Cupfnjvz07Uu",
        "outputId": "986c347e-34d3-433b-c2cf-b5e5e7dd9aed"
      },
      "source": [
        "# Apply Standar Scaler for a list of features\n",
        "list_of_features_standard = ['year', 'colour', 'county', 'make-model']\n",
        "for column in df_train.columns:\n",
        "\n",
        "  if column in input_features_dummies:\n",
        "    scaler_column = StandardScaler()\n",
        "    scaler_column.fit(df_train[column].values.reshape(-1, 1))\n",
        "    df_train[column] = scaler_column.transform(df_train[column].values.reshape(-1, 1))\n",
        "    df_test[column] = scaler_column.transform(df_test[column].values.reshape(-1, 1))\n",
        "    \n",
        "  \n",
        "  else:\n",
        "    print(f'skip:\\t{column}')\n",
        "df_dummies.to_csv('/content/drive/MyDrive/Data Science and Analytics/R00206995/data/R00206995_tofit_dum.csv', index=False)"
      ],
      "execution_count": 59,
      "outputs": [
        {
          "output_type": "stream",
          "text": [
            "skip:\tprice\n"
          ],
          "name": "stdout"
        }
      ]
    },
    {
      "cell_type": "markdown",
      "metadata": {
        "id": "TJMb_5f7xrGj"
      },
      "source": [
        "###Linear Regressor Model\n",
        "####Standard Scaler plus Best Features Dummies"
      ]
    },
    {
      "cell_type": "code",
      "metadata": {
        "id": "Fe0_K5GwyAQ4"
      },
      "source": [
        "X_train = df_train[input_features_dummies].values\n",
        "X_test = df_test[input_features_dummies].values\n",
        "\n",
        "y_train = df_train[[output_feature_dummies]].values\n",
        "y_test = df_test[[output_feature_dummies]].values"
      ],
      "execution_count": 60,
      "outputs": []
    },
    {
      "cell_type": "code",
      "metadata": {
        "id": "2dzEArDRzvRz"
      },
      "source": [
        "lr_scaler_model = LinearRegression()\n",
        "lr_scaler_model.fit(X=X_train, y=y_train)\n",
        "lr_scaler_model_prodict = lr_scaler_model.predict(X=X_test)\n",
        "lr_scaler_model_mse = mean_squared_error(y_pred=lr_scaler_model_prodict, y_true=y_test)\n",
        "lr_scaler_model_r_sq = r2_score(y_pred=lr_scaler_model_prodict, y_true=y_test)"
      ],
      "execution_count": 61,
      "outputs": []
    },
    {
      "cell_type": "markdown",
      "metadata": {
        "id": "Zvxl0etZ39Nj"
      },
      "source": [
        "###Valitation Test:: Linear Regressor Model Standard Scaler and Best Features Dummies"
      ]
    },
    {
      "cell_type": "code",
      "metadata": {
        "id": "wVdnfuEt36ux",
        "colab": {
          "base_uri": "https://localhost:8080/"
        },
        "outputId": "66989498-375c-48b1-a3aa-b25abd9fa761"
      },
      "source": [
        "print(f'Linear Model StandardScaler Features Accuracy:\\nRMSE={math.sqrt(lr_scaler_model_mse):,.0f}\\nRSq={lr_scaler_model_r_sq:.2f} or {lr_scaler_model_r_sq*100:.0f}% of the variability in Y can be explained using X')"
      ],
      "execution_count": 62,
      "outputs": [
        {
          "output_type": "stream",
          "text": [
            "Linear Model StandardScaler Features Accuracy:\n",
            "RMSE=22,804\n",
            "RSq=0.42 or 42% of the variability in Y can be explained using X\n"
          ],
          "name": "stdout"
        }
      ]
    },
    {
      "cell_type": "code",
      "metadata": {
        "id": "HfkzkHon4eyB",
        "colab": {
          "base_uri": "https://localhost:8080/"
        },
        "outputId": "4c4701ee-a5de-4a57-df92-4cc1d3b41cd0"
      },
      "source": [
        "lr_scaler_model.coef_"
      ],
      "execution_count": 63,
      "outputs": [
        {
          "output_type": "execute_result",
          "data": {
            "text/plain": [
              "array([[ 1255.14458612,   111.68652055,  -208.38872754, 16850.79663199,\n",
              "        -3534.12777832]])"
            ]
          },
          "metadata": {
            "tags": []
          },
          "execution_count": 63
        }
      ]
    },
    {
      "cell_type": "code",
      "metadata": {
        "colab": {
          "base_uri": "https://localhost:8080/"
        },
        "id": "7khPBqiD03Do",
        "outputId": "c43465ea-b474-45e4-8de2-cfcd7cbc051e"
      },
      "source": [
        "lr_scaler_model.score"
      ],
      "execution_count": 64,
      "outputs": [
        {
          "output_type": "execute_result",
          "data": {
            "text/plain": [
              "<bound method RegressorMixin.score of LinearRegression(copy_X=True, fit_intercept=True, n_jobs=None, normalize=False)>"
            ]
          },
          "metadata": {
            "tags": []
          },
          "execution_count": 64
        }
      ]
    },
    {
      "cell_type": "code",
      "metadata": {
        "colab": {
          "base_uri": "https://localhost:8080/"
        },
        "id": "NRXi82csiMcA",
        "outputId": "ab108e2c-ac0b-4769-b77e-d1fabf4b72b1"
      },
      "source": [
        "lr_scaler_model.intercept_, lr_scaler_model.rank_"
      ],
      "execution_count": 65,
      "outputs": [
        {
          "output_type": "execute_result",
          "data": {
            "text/plain": [
              "(array([46814.18519737]), 5)"
            ]
          },
          "metadata": {
            "tags": []
          },
          "execution_count": 65
        }
      ]
    },
    {
      "cell_type": "code",
      "metadata": {
        "id": "MyX5Ee1m06nI"
      },
      "source": [
        "pickle.dump(lr_scaler_model, open('/content/drive/MyDrive/Data Science and Analytics/R00206995/model/model.pkl', 'wb') )"
      ],
      "execution_count": 66,
      "outputs": []
    },
    {
      "cell_type": "code",
      "metadata": {
        "id": "8fXrlLjgiab4",
        "colab": {
          "base_uri": "https://localhost:8080/",
          "height": 282
        },
        "outputId": "3b20325f-631e-4474-9bde-ba65f64a6acc"
      },
      "source": [
        "plt.plot(df_dummies['year'], df_dummies['price'])"
      ],
      "execution_count": 67,
      "outputs": [
        {
          "output_type": "execute_result",
          "data": {
            "text/plain": [
              "[<matplotlib.lines.Line2D at 0x7fe36a053890>]"
            ]
          },
          "metadata": {
            "tags": []
          },
          "execution_count": 67
        },
        {
          "output_type": "display_data",
          "data": {
            "image/png": "[encoded data removed]",
            "text/plain": [
              "<Figure size 432x288 with 1 Axes>"
            ]
          },
          "metadata": {
            "tags": [],
            "needs_background": "light"
          }
        }
      ]
    },
    {
      "cell_type": "code",
      "metadata": {
        "colab": {
          "base_uri": "https://localhost:8080/"
        },
        "id": "S-jIK5B1FGOk",
        "outputId": "ff56521b-17d7-423e-b33c-85bdc24f8cfd"
      },
      "source": [
        "shapiro_test = stats.shapiro(X_train)\n",
        "shapiro_test"
      ],
      "execution_count": 68,
      "outputs": [
        {
          "output_type": "stream",
          "text": [
            "/usr/local/lib/python3.7/dist-packages/scipy/stats/morestats.py:1676: UserWarning: p-value may not be accurate for N > 5000.\n",
            "  warnings.warn(\"p-value may not be accurate for N > 5000.\")\n"
          ],
          "name": "stderr"
        },
        {
          "output_type": "execute_result",
          "data": {
            "text/plain": [
              "(0.9554108381271362, 0.0)"
            ]
          },
          "metadata": {
            "tags": []
          },
          "execution_count": 68
        }
      ]
    },
    {
      "cell_type": "code",
      "metadata": {
        "id": "oYAgAUHAFv3W"
      },
      "source": [
        ""
      ],
      "execution_count": null,
      "outputs": []
    },
    {
      "cell_type": "code",
      "metadata": {
        "id": "rbXBDasnGYxM"
      },
      "source": [
        ""
      ],
      "execution_count": null,
      "outputs": []
    }
  ]
}