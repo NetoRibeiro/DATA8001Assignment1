{
  "nbformat": 4,
  "nbformat_minor": 0,
  "metadata": {
    "colab": {
      "name": "R00206995_util.ipynb",
      "provenance": [],
      "collapsed_sections": [
        "c6V_z1sBem20"
      ],
      "mount_file_id": "1gg8oR7lNzh2hF9ETWf0EvSm5uxrP8jal",
      "authorship_tag": "ABX9TyPKolJG3OLPs00eWsFs0FEv",
      "include_colab_link": true
    },
    "kernelspec": {
      "name": "python3",
      "display_name": "Python 3"
    },
    "language_info": {
      "name": "python"
    }
  },
  "cells": [
    {
      "cell_type": "markdown",
      "metadata": {
        "id": "view-in-github",
        "colab_type": "text"
      },
      "source": [
        "<a href=\"https://colab.research.google.com/github/NetoRibeiro/DATA8001Assignment1/blob/main/R00206995_util.ipynb\" target=\"_parent\"><img src=\"https://colab.research.google.com/assets/colab-badge.svg\" alt=\"Open In Colab\"/></a>"
      ]
    },
    {
      "cell_type": "code",
      "metadata": {
        "id": "2uRQbtzgXK7Z"
      },
      "source": [
        "%matplotlib inline\n",
        "\n",
        "import matplotlib.pyplot as plt\n",
        "from matplotlib import colors\n",
        "import numpy as np\n",
        "import pandas as pd\n",
        "from datetime import datetime as dt\n",
        "\n",
        "import calendar\n",
        "import re\n",
        "import string\n",
        "\n",
        "import math\n",
        "import pickle\n",
        "from sklearn.model_selection import train_test_split\n",
        "from sklearn.preprocessing import LabelEncoder, StandardScaler\n",
        "from sklearn.linear_model import LinearRegression\n",
        "from sklearn.metrics import mean_squared_error, r2_score, accuracy_score"
      ],
      "execution_count": 28,
      "outputs": []
    },
    {
      "cell_type": "markdown",
      "metadata": {
        "id": "HvYxkCQVbtbD"
      },
      "source": [
        "##ETL Functions"
      ]
    },
    {
      "cell_type": "code",
      "metadata": {
        "id": "mk3uCVGZXg_R"
      },
      "source": [
        "def etl_process(file_name):\n",
        "\n",
        "  \"\"\"\n",
        "  Purpose of this function: Validate the provided data set.\n",
        "  :param file_name: String variable with full file adrress.\n",
        "  return: transformed data set\n",
        "  \n",
        "  Validation: Only allows these columns on the raw csv file:\n",
        "\n",
        "    ['car_reg', 'purchase_date', 'county', 'make', 'model', 'type', 'colour',\n",
        "       'tax_band', 'price']\n",
        "\n",
        "  \"\"\"\n",
        "\n",
        "  try:\n",
        "\n",
        "    df_original = pd.read_csv(file_name, usecols={'car_reg', 'purchase_date', 'county', 'make', 'model', 'type', 'colour',\n",
        "       'tax_band', 'price'})\n",
        "    \n",
        "    return df_original\n",
        "\n",
        "  except Exception as ex:\n",
        "    raise Exception(f'CSV file does not match with the spected layout:: {ex}') "
      ],
      "execution_count": 137,
      "outputs": []
    },
    {
      "cell_type": "code",
      "metadata": {
        "id": "f4CRYBf2Xz3H"
      },
      "source": [
        "def registration_status(car_registration, looking_for):\n",
        "  '''\n",
        "  Purpose of that function: To get patterns on the CAR Registration\n",
        "  :param car_registration: String value\n",
        "  :param looking_for: Patterns, Year, County Code, Registration_number\n",
        "  '''\n",
        "  # Get the century for the registration\n",
        "  reg_date = dt.fromordinal(dt.today().toordinal())\n",
        "  reg_century = reg_date.strftime('%Y')[:2]\n",
        "\n",
        "  #Create the Car registration patterns\n",
        "  reg_patterns = '[0-9]+[-]+[a-z]+[-]+[0-9]'\n",
        "  reg_missing_year_county = '[x]+[-]+[x]+[-]+[0-9]'\n",
        "  reg_missing_year = '[x]+[-]+[a-z]+[-]+[0-9]'\n",
        "  reg_missing_county = '[0-9]+[-]+[x]+[-]+[0-9]'\n",
        "  car_reg_return = \"\"\n",
        "  try:\n",
        "    \n",
        "    looking_for = looking_for.lower()\n",
        "    reg_year, reg_county, reg_number = car_registration.split(\"-\")\n",
        "\n",
        "    if looking_for == \"registration_number\":\n",
        "      car_reg_return = reg_number\n",
        "\n",
        "    elif (re.search(reg_patterns, car_registration)):\n",
        "      \n",
        "      if looking_for == \"patterns\":\n",
        "        car_reg_return = \"match\"\n",
        "      elif looking_for == \"year\":\n",
        "        car_reg_return = f'{reg_century}{reg_year[:2]}'\n",
        "      elif looking_for == \"county\":\n",
        "        car_reg_return = reg_county\n",
        "      else:\n",
        "        car_reg_return = \"\"\n",
        "      \n",
        "    elif (re.search(reg_missing_year_county, car_registration)):\n",
        "      \n",
        "      if looking_for == \"patterns\":\n",
        "        car_reg_return = \"missing_year_county\"\n",
        "      elif looking_for == \"year\":\n",
        "        car_reg_return = \"\"\n",
        "      elif looking_for == \"county\":\n",
        "        car_reg_return = \"\"\n",
        "      else:\n",
        "        car_reg_return = \"\"\n",
        "      \n",
        "    elif (re.search(reg_missing_year, car_registration)):\n",
        "      \n",
        "      if looking_for == \"patterns\":\n",
        "        car_reg_return = \"missing_year\"\n",
        "      elif looking_for == \"year\":\n",
        "        car_reg_return = \"\"\n",
        "      elif looking_for == \"county\":\n",
        "        car_reg_return = reg_county\n",
        "      else:\n",
        "        car_reg_return = \"\"\n",
        "\n",
        "    elif (re.search(reg_missing_county, car_registration)):\n",
        "      \n",
        "      if looking_for == \"patterns\":\n",
        "        car_reg_return = \"missing_county\"\n",
        "      elif looking_for == \"year\":\n",
        "        car_reg_return = f'{reg_century}{reg_year[:2]}'\n",
        "      elif looking_for == \"county\":\n",
        "        car_reg_return = \"\"\n",
        "      else:\n",
        "        car_reg_return = \"\"\n",
        "\n",
        "    else:\n",
        "      car_reg_return = \"\"\n",
        "      \n",
        "    return car_reg_return\n",
        "    \n",
        "\n",
        "  except Exception as ex:\n",
        "    raise Exception(f'Car registration is not matching with the expected paterns :: {ex}')   "
      ],
      "execution_count": 138,
      "outputs": []
    },
    {
      "cell_type": "code",
      "metadata": {
        "id": "O70x-2HrX912"
      },
      "source": [
        "def get_named_colours(named_col, looking_for):\n",
        "  \"\"\"\n",
        "  Purpose of this function: Return transformed colour variable\n",
        "  :param named_col: str orignal var\n",
        "  :param looking_for: str Options: NAMED or HEXA\n",
        "  :return: Named colours when Named or Hexadcimal colour when \n",
        "  ###Examples:\n",
        "  For string \"RED\":\n",
        "    When Named  return \"red\"\n",
        "    When HEXA \"RED\" retunr \"#FF0000\"\n",
        "  For string \"#FF0000\":\n",
        "    When Named  return \"red\"\n",
        "    When HEXA \"RED\" retunr \"#FF0000\"\n",
        "  \"\"\"\n",
        "  try:\n",
        "  \n",
        "    looking_for = looking_for.lower()\n",
        "  \n",
        "  except Exception as ex:\n",
        "    raise Exception(f'Second variable is not a string:: {ex}')  \n",
        "  \n",
        "  try:\n",
        "    \n",
        "    iscolour = colors.is_color_like(named_col)\n",
        "  \n",
        "  except Exception as ex:\n",
        "    raise Exception(f'Colour name is not a valid format:: {ex}') \n",
        "\n",
        "  try:\n",
        "    \n",
        "    if iscolour:\n",
        "      named_col = named_col\n",
        "    else:\n",
        "      named_col = named_col.replace(\"<colour>\",\"\").replace(\"</colour>\",\"\")\n",
        "      \n",
        "    for name in list_named_colors:\n",
        "\n",
        "      if named_col.lower() in name:\n",
        "        inside_name = name[0]\n",
        "        inside_name = inside_name.replace(\"xkcd:\",\"\")\n",
        "        inside_hexa = name[1]\n",
        "        break\n",
        "      \n",
        "      elif named_col in name:\n",
        "        inside_name = name[0]\n",
        "        inside_name = inside_name.replace(\"xkcd:\",\"\")\n",
        "        inside_hexa = name[1]\n",
        "        break\n",
        "      \n",
        "      else:\n",
        "        inside_name = \"\"\n",
        "        inside_hexa = \"\"\n",
        "    \n",
        "    if looking_for == \"named\":\n",
        "      return inside_name\n",
        "    \n",
        "    elif looking_for == \"hexa\":\n",
        "      return inside_hexa\n",
        "    \n",
        "    else:\n",
        "      print(f'Please choose NAMED or HEXA columns\\t{looking_for}')\n",
        "    \n",
        "  except Exception as ex:\n",
        "    raise Exception(f'Error:: {ex}')"
      ],
      "execution_count": 139,
      "outputs": []
    },
    {
      "cell_type": "code",
      "metadata": {
        "id": "dnlz4eGIYEzm"
      },
      "source": [
        "def get_month_num(month):\n",
        "  month_dict = dict((month.lower(), index) for index, month in enumerate(calendar.month_abbr) if month)\n",
        "  try:\n",
        "    month_num = month_dict[month.lower()]\n",
        "    return month_num\n",
        "  except Exception as ex:\n",
        "    raise Exception(f'Month does not matching with the expected patterns :: {ex}')  \n",
        "\n",
        "\n",
        "def isNumber(numb):\n",
        "  is_num = bool(re.search(r'\\d', numb))\n",
        "  return is_num\n",
        "\n",
        "  \n",
        "def get_semester_num(month):\n",
        "  '''\n",
        "  Purpose of that function it is to convert the Month in Semester (1 or 2)\n",
        "  :param month: Month from the purchase date\n",
        "  '''\n",
        "  try:\n",
        "    \n",
        "    month_num = pd.to_numeric(month)\n",
        "    \n",
        "    if month_num > 6:\n",
        "      return 2\n",
        "    \n",
        "    else:\n",
        "      return 1\n",
        "  \n",
        "  except Exception as ex:\n",
        "    raise Exception(f'Month number does not matching with the expected patterns :: {ex}')  \n",
        "                     \n",
        "\n",
        "def date_patterns(purchase_dates, looking_for, registration):\n",
        "  '''\n",
        "  Purpose of that function: Find patterns on the date format\n",
        "  :param purchase_dates: string date in original format\n",
        "  :param looking_for: Patterns, Year, Month, Day\n",
        "  :param registration: String registration number\n",
        "  '''\n",
        "  dt_patterns_yyyymmdd = '[0-9]+[-]+[0-9]+[-]+[0-9]'\n",
        "  dt_patterns_yyyymmmdd = '[0-9]+[-]+[a-z]+[-]+[0-9]'\n",
        "  dt_missing_year_ddmmm = '[0-9]+[-]+[a-z]'\n",
        "  dt_missing_year_dd_mmm = '[0-9]+[ ]+[a-z]'\n",
        "  car_purchase_date_return = \"\"\n",
        "  try:\n",
        "    looking_for = looking_for.lower()\n",
        "    str(purchase_dates)\n",
        "    if (re.search(dt_patterns_yyyymmdd, purchase_dates)):\n",
        "      if looking_for == \"patterns\":\n",
        "        car_purchase_date_return = \"yyyy-mm-dd\"\n",
        "      elif looking_for == \"year\":\n",
        "        car_purchase_date_return = purchase_dates[:4]\n",
        "      elif looking_for == \"month\":\n",
        "        car_purchase_date_return = purchase_dates[5:7]\n",
        "      elif looking_for == \"day\":\n",
        "        car_purchase_date_return = purchase_dates[8:10]\n",
        "      else:\n",
        "        car_purchase_date_return = \"\"\n",
        "\n",
        "      \n",
        "    elif (re.search(dt_patterns_yyyymmmdd, purchase_dates)):\n",
        "      if looking_for == \"patterns\":\n",
        "        car_purchase_date_return = \"yyyy-mmm-dd\"\n",
        "      elif looking_for == \"year\":\n",
        "        car_purchase_date_return = purchase_dates[:4]\n",
        "      elif looking_for == \"month\":\n",
        "        month = purchase_dates[5:8]\n",
        "        car_purchase_date_return = get_month_num(month)\n",
        "      elif looking_for == \"day\":\n",
        "        car_purchase_date_return = purchase_dates[9:11]\n",
        "      else:\n",
        "        car_purchase_date_return = \"\"\n",
        "      \n",
        "      \n",
        "    elif (re.search(dt_missing_year_ddmmm, purchase_dates)):\n",
        "      if looking_for == \"patterns\":\n",
        "        car_purchase_date_return = \"ddmmm\"\n",
        "      elif looking_for == \"year\":\n",
        "        car_purchase_date_return = registration_status(registration, \"YEAR\")\n",
        "      elif looking_for == \"month\":\n",
        "        month = purchase_dates[2:5]\n",
        "        car_purchase_date_return = get_month_num(month)\n",
        "      elif looking_for == \"day\":\n",
        "        car_purchase_date_return = purchase_dates[:2]\n",
        "      else:\n",
        "        car_purchase_date_return = \"\"\n",
        "\n",
        "    elif (re.search(dt_missing_year_dd_mmm, purchase_dates)):\n",
        "      if looking_for == \"patterns\":\n",
        "        car_purchase_date_return = \"dd_mmm\"\n",
        "      elif looking_for == \"year\":\n",
        "        car_purchase_date_return = registration_status(registration, \"YEAR\")\n",
        "      elif looking_for == \"month\":\n",
        "        month = purchase_dates[3:6]\n",
        "        car_purchase_date_return = get_month_num(month)\n",
        "      elif looking_for == \"day\":\n",
        "        car_purchase_date_return = purchase_dates[:2]\n",
        "      else:\n",
        "        car_purchase_date_return = \"\"\n",
        "      \n",
        "    else:\n",
        "      \n",
        "      car_purchase_date_return = \"verify\"\n",
        "      \n",
        "    return car_purchase_date_return\n",
        "    #return car_reg_status\n",
        "\n",
        "  except Exception as ex:\n",
        "    raise Exception(f'Purchase date is not matching with the expected patterns :: {ex}')  "
      ],
      "execution_count": 140,
      "outputs": []
    },
    {
      "cell_type": "code",
      "metadata": {
        "id": "KJKyuXMNYjXd"
      },
      "source": [
        "def return_to_patterns(col1, col2, col3, col4, pattern):\n",
        "  \"\"\"\n",
        "  The purpose of the function:\n",
        "  Concatenate string columns into the requested pattern\n",
        "  :param col1: String (Year)\n",
        "  :param col2: String (County or Month)\n",
        "  :param col3: String (Registration Number or Day)\n",
        "  :param col4: String (Semester)\n",
        "  :param pattern: String to create Car Registration or Date\n",
        "  :return: New string combined the columns into the requested pattern\n",
        "  \"\"\"\n",
        "  try:\n",
        "    reg_date = dt.fromordinal(dt.today().toordinal())\n",
        "    reg_century = reg_date.strftime('%Y')[:2]\n",
        "    pattern = pattern.lower()\n",
        "    \n",
        "    if pattern == \"registration\":\n",
        "      \n",
        "      try:\n",
        "        if len(col1) == 4:\n",
        "          year = col1[2:4]\n",
        "        elif len(col1) == 2:\n",
        "          year = col1\n",
        "        else:\n",
        "          year = \"\"\n",
        "          \n",
        "        if len(col2) == 1:\n",
        "          county_code =  col2.upper()\n",
        "        else:\n",
        "          county_code = \"\"\n",
        "\n",
        "        if len(col3) > 0:\n",
        "          reg_number = col3\n",
        "        else:\n",
        "          reg_number = \"\"\n",
        "          \n",
        "        if 0 < col4 < 3:\n",
        "          semester = col4\n",
        "        else:\n",
        "          semester = \"\"\n",
        "        \n",
        "        #Only in 2013 the car registration started to receive the semester\n",
        "        try:\n",
        "          year = int(year)\n",
        "        except Exception as ex:\n",
        "          raise Exception(f'Try to convert Year into Integer :: {ex}')\n",
        "\n",
        "        if year > 2012:\n",
        "          pattern_return = f'{year}-{county_code}-{reg_number}'  \n",
        "        else:\n",
        "          pattern_return = f'{year}{semester}-{county_code}-{reg_number}'  \n",
        "\n",
        "        return pattern_return\n",
        "        \n",
        "          \n",
        "      except Exception as ex:\n",
        "        raise Exception(f'Error Registration Patterns :: {ex}')\n",
        "    elif pattern == \"date\":\n",
        "      try:\n",
        "        if len(col1) == 4:\n",
        "          year = col1\n",
        "        elif len(col1) == 2:\n",
        "          year = f'{reg_century}{col1}'\n",
        "        else:\n",
        "          year = \"\"\n",
        "          \n",
        "        if col2 < 10:\n",
        "          month =  f'0{col2}'\n",
        "        elif col2 > 0:\n",
        "          month =  col2\n",
        "        else:\n",
        "          month = \"\"\n",
        "\n",
        "        if len(col3) == 1:\n",
        "          day = f'0{col3}'\n",
        "        elif len(col3) == 2:\n",
        "          day = col3\n",
        "        else:\n",
        "          day = \"\"\n",
        "        \n",
        "        pattern_return = f'{year}-{month}-{day}'\n",
        "        return pattern_return\n",
        "      \n",
        "      except Exception as ex:\n",
        "          raise Exception(f'Error Date Patterns: {ex}')\n",
        "    \n",
        "    \n",
        "  except Exception as ex:\n",
        "    raise Exception(f'error: {ex}')"
      ],
      "execution_count": 141,
      "outputs": []
    },
    {
      "cell_type": "code",
      "metadata": {
        "id": "ooBih74GZiNX"
      },
      "source": [
        "def split_car_model_pattern(make, model, cartype, looking_for):\n",
        "  \"\"\"\n",
        "  Purpose of this function: To find the correct information for\n",
        "  :param make: Str\n",
        "  :param model: Str\n",
        "  :param cartype: Str\n",
        "  :param looking_for: Str: waiting for the following options: \n",
        "\n",
        "                                        AllInOne, Make,\n",
        "                                        Model, type and looking_for\n",
        "  return: Transformed requested option.\n",
        "  \"\"\"\n",
        "\n",
        "  inside_make = \"\"\n",
        "  inside_model_type = \"\"\n",
        "  inside_model = \"\"\n",
        "  inside_type = \"\"\n",
        "  make_pattern_col = '[]:[]'\n",
        "  make_pattern_obra = '[]([]'\n",
        "  make_pattern_cbra = '[])[]'\n",
        "  return_column = looking_for.lower()\n",
        "  \n",
        "  if (re.search(make_pattern_col, make)):\n",
        "    start_c, end_c = re.search(make_pattern_col, make).span()\n",
        "    inside_make = make[:start_c].strip().lower()\n",
        "    inside_model_type = make[end_c:].strip().lower()\n",
        "    if (re.search(make_pattern_obra, inside_model_type)):\n",
        "      start_o, end_o = re.search(make_pattern_obra, inside_model_type).span()\n",
        "      inside_type = inside_model_type[end_o:].replace(\")\",\"\").strip().lower()\n",
        "      inside_model = inside_model_type[:start_o].strip().lower()\n",
        "      ma_mo_ty_return = f'{inside_make}|{inside_model}|{inside_type}'\n",
        "      \n",
        "    else:\n",
        "      inside_model = make[end_c:].strip().lower()\n",
        "      inside_type = cartype.lower()\n",
        "      ma_mo_ty_return = f'{inside_make}|{inside_model}|{inside_type}'\n",
        "      \n",
        "  else:\n",
        "    inside_make = make.strip().lower()\n",
        "    inside_model = model.strip().lower()\n",
        "    inside_type = cartype.strip().lower()\n",
        "    ma_mo_ty_return = (f'{inside_make}|{inside_model}|{inside_type}')\n",
        "\n",
        "  if return_column == \"allinone\":\n",
        "    return ma_mo_ty_return\n",
        "  elif return_column == \"make\":\n",
        "    return inside_make\n",
        "  elif return_column == \"model\":\n",
        "    return inside_model\n",
        "  elif return_column == \"type\":\n",
        "    return inside_type\n",
        "  else:\n",
        "    return \"\""
      ],
      "execution_count": 142,
      "outputs": []
    },
    {
      "cell_type": "markdown",
      "metadata": {
        "id": "g7HG-Immbx-O"
      },
      "source": [
        "##Transform File"
      ]
    },
    {
      "cell_type": "markdown",
      "metadata": {
        "id": "c6V_z1sBem20"
      },
      "source": [
        "###Registration ETL"
      ]
    },
    {
      "cell_type": "code",
      "metadata": {
        "id": "6gW4cQBMayG_"
      },
      "source": [
        "df_original = etl_process('/content/drive/MyDrive/Data Science and Analytics/R00206995/data/R00206995_original.csv')"
      ],
      "execution_count": 17,
      "outputs": []
    },
    {
      "cell_type": "code",
      "metadata": {
        "id": "BQVUvJ_ga-RO"
      },
      "source": [
        "#Create a Registration related features\n",
        "df_registration = df_original[{'car_reg', 'purchase_date', 'county'}].copy()"
      ],
      "execution_count": 18,
      "outputs": []
    },
    {
      "cell_type": "code",
      "metadata": {
        "id": "ZNt2f7etbOzX"
      },
      "source": [
        "#Transform features to lower case\n",
        "df_registration['purchase_date'] = df_registration['purchase_date'].str.lower()\n",
        "df_registration['county'] = df_registration['county'].str.lower()\n",
        "df_registration['car_reg'] = df_registration['car_reg'].str.lower()"
      ],
      "execution_count": 19,
      "outputs": []
    },
    {
      "cell_type": "code",
      "metadata": {
        "id": "MoXW_tQ8bQVG"
      },
      "source": [
        "# Create new column feature using lambda function\n",
        "df_registration['reg_county'] = df_registration.apply(lambda row: registration_status(row['car_reg'], \"COUNTY\"), axis=1)\n",
        "df_registration['reg_number'] = df_registration.apply(lambda row: registration_status(row['car_reg'], \"Registration_number\"), axis=1)"
      ],
      "execution_count": 20,
      "outputs": []
    },
    {
      "cell_type": "code",
      "metadata": {
        "id": "OWcX2KrMbTEe"
      },
      "source": [
        "df_counties = df_registration.loc[(df_registration['county'].isnull() == False) & (df_registration['reg_county'] != \"\")][{'county', 'reg_county', 'car_reg'}].copy()"
      ],
      "execution_count": 21,
      "outputs": []
    },
    {
      "cell_type": "code",
      "metadata": {
        "id": "D0cTzwC8bbIv"
      },
      "source": [
        "df_counties = df_counties.groupby(['county', 'reg_county'], as_index=False)['car_reg'].count()"
      ],
      "execution_count": 22,
      "outputs": []
    },
    {
      "cell_type": "code",
      "metadata": {
        "id": "yDPO7fyHbcku"
      },
      "source": [
        "# encoder for County and County Code\n",
        "label_county = LabelEncoder()\n",
        "label_reg_county = LabelEncoder()"
      ],
      "execution_count": 29,
      "outputs": []
    },
    {
      "cell_type": "code",
      "metadata": {
        "colab": {
          "base_uri": "https://localhost:8080/"
        },
        "id": "MhaxlXvtbd5O",
        "outputId": "53dd90d4-453f-4a41-8a23-0890a2792a67"
      },
      "source": [
        "# train the encoder for County and County Code\n",
        "label_county.fit(df_counties['county'])\n",
        "label_reg_county.fit(df_counties['reg_county'])"
      ],
      "execution_count": 30,
      "outputs": [
        {
          "output_type": "execute_result",
          "data": {
            "text/plain": [
              "LabelEncoder()"
            ]
          },
          "metadata": {
            "tags": []
          },
          "execution_count": 30
        }
      ]
    },
    {
      "cell_type": "code",
      "metadata": {
        "id": "lK8Bc_sacL_m"
      },
      "source": [
        "# transform and add new columns with the label encoder\n",
        "df_counties['county_lbl'] = label_county.transform(df_counties['county'])\n",
        "df_counties['reg_county_lbl'] = label_reg_county.transform(df_counties['reg_county'])"
      ],
      "execution_count": 31,
      "outputs": []
    },
    {
      "cell_type": "code",
      "metadata": {
        "id": "h45Prg8DcRmu"
      },
      "source": [
        "# Drop unsed column\n",
        "df_counties.drop(['car_reg'], axis=1, inplace=True)"
      ],
      "execution_count": 32,
      "outputs": []
    },
    {
      "cell_type": "code",
      "metadata": {
        "id": "YzNh7Xb0cTV2"
      },
      "source": [
        "# Create Labeled data frame\n",
        "df_county_label = df_counties[{'county', 'county_lbl'}].copy()\n",
        "df_county_code_label = df_counties[{'reg_county', 'reg_county_lbl'}].copy()"
      ],
      "execution_count": 34,
      "outputs": []
    },
    {
      "cell_type": "code",
      "metadata": {
        "id": "rvTb0pA5cWBl"
      },
      "source": [
        "#Merge the county label to the registration data frame\n",
        "df_registration = pd.merge(df_registration, df_county_label, how='left', on='county')\n",
        "df_registration = pd.merge(df_registration, df_county_code_label, how='left', on='reg_county')"
      ],
      "execution_count": 35,
      "outputs": []
    },
    {
      "cell_type": "code",
      "metadata": {
        "id": "yGrscttfcgqx"
      },
      "source": [
        "#Fill county label missing values with the ones is not missing on county code label\n",
        "df_registration['county_lbl'].fillna(df_registration['reg_county_lbl'], axis=0, inplace=True)"
      ],
      "execution_count": 36,
      "outputs": []
    },
    {
      "cell_type": "code",
      "metadata": {
        "id": "5AKteXHkcjhP"
      },
      "source": [
        "#Drop Reg_County_lbl\n",
        "df_registration.drop(['reg_county_lbl'], axis=1, inplace=True)"
      ],
      "execution_count": 37,
      "outputs": []
    },
    {
      "cell_type": "code",
      "metadata": {
        "id": "Q0hoDyqCck3K"
      },
      "source": [
        "#Convert to integer\n",
        "df_registration['county_lbl'] = df_registration['county_lbl'].astype(int)"
      ],
      "execution_count": 47,
      "outputs": []
    },
    {
      "cell_type": "code",
      "metadata": {
        "id": "DT6Qb7kreZ8D"
      },
      "source": [
        "# transform and add new columns with the label encoder\n",
        "df_registration['county'] = label_county.inverse_transform(df_registration['county_lbl'])\n",
        "df_registration['reg_county'] = label_reg_county.inverse_transform(df_registration['county_lbl'])"
      ],
      "execution_count": 48,
      "outputs": []
    },
    {
      "cell_type": "markdown",
      "metadata": {
        "id": "mtZA8qLoeu2S"
      },
      "source": [
        "###Purchese Date ETL"
      ]
    },
    {
      "cell_type": "code",
      "metadata": {
        "id": "1sEEdUpQebkw"
      },
      "source": [
        "#Apply lambda function to get year and month from purchase date\n",
        "df_registration['purchase_year'] = df_registration.apply(lambda row: date_patterns(row['purchase_date'], \"YEAR\", row['car_reg']), axis=1)\n",
        "df_registration['purchase_month'] = df_registration.apply(lambda row: date_patterns(row['purchase_date'], \"MONTH\", row['car_reg']), axis=1)\n",
        "df_registration['purchase_day'] = df_registration.apply(lambda row: date_patterns(row['purchase_date'], \"DAY\", row['car_reg']), axis=1)\n",
        "df_registration['purchase_month'] = pd.to_numeric(df_registration['purchase_month'])"
      ],
      "execution_count": 60,
      "outputs": []
    },
    {
      "cell_type": "code",
      "metadata": {
        "id": "NUQ89BSWe2as"
      },
      "source": [
        "#Apply lambda function to get semester from purchase date\n",
        "df_registration['purchase_semester'] = df_registration.apply(lambda row: get_semester_num(row['purchase_month']), axis=1)"
      ],
      "execution_count": 61,
      "outputs": []
    },
    {
      "cell_type": "code",
      "metadata": {
        "id": "pZqAD0BUe4au"
      },
      "source": [
        "# Apply lambda function to get Car Registration or Date with the correct pattern\n",
        "df_registration['purchase_date'] = df_registration.apply(\n",
        "    lambda row: return_to_patterns(\n",
        "        row['purchase_year'], row['purchase_month'], row['purchase_day'], row['purchase_semester'], \"DATE\"),\n",
        "    axis=1)"
      ],
      "execution_count": 65,
      "outputs": []
    },
    {
      "cell_type": "code",
      "metadata": {
        "id": "nuMKeU-Te7lD"
      },
      "source": [
        "df_registration['car_reg'] = df_registration.apply(\n",
        "    lambda row: return_to_patterns(\n",
        "        row['purchase_year'], row['reg_county'], row['reg_number'], row['purchase_semester'], \"REGISTRATION\"),\n",
        "    axis=1)"
      ],
      "execution_count": 66,
      "outputs": []
    },
    {
      "cell_type": "code",
      "metadata": {
        "id": "QFLlO_1Je9Ms"
      },
      "source": [
        "df_registration = df_registration[{'car_reg', 'purchase_date', 'county'}].copy()"
      ],
      "execution_count": 67,
      "outputs": []
    },
    {
      "cell_type": "code",
      "metadata": {
        "id": "yYD1R-09gUWx"
      },
      "source": [
        "df_inprocess = df_original[{'make',\t'model',\t'type',\t'colour',\t'tax_band',\t'price'}].copy()"
      ],
      "execution_count": 71,
      "outputs": []
    },
    {
      "cell_type": "code",
      "metadata": {
        "id": "0X0bLJOXgztJ"
      },
      "source": [
        "df_inprocess = pd.DataFrame.join(df_inprocess, df_registration)"
      ],
      "execution_count": 78,
      "outputs": []
    },
    {
      "cell_type": "markdown",
      "metadata": {
        "id": "qBWfWZYCjET-"
      },
      "source": [
        "###Tax Band ETL"
      ]
    },
    {
      "cell_type": "code",
      "metadata": {
        "id": "y75_UGVViZh1"
      },
      "source": [
        "# Create a data frame for start the tax band feature\n",
        "df_tax_band = df_original.loc[df_original['tax_band'].isnull() == False][{'tax_band'}].copy()"
      ],
      "execution_count": 100,
      "outputs": []
    },
    {
      "cell_type": "code",
      "metadata": {
        "id": "xKxE2phSiuxi"
      },
      "source": [
        "# Change to upper case\n",
        "df_tax_band['tax_band'] = df_tax_band['tax_band'].str.upper()"
      ],
      "execution_count": 101,
      "outputs": []
    },
    {
      "cell_type": "code",
      "metadata": {
        "id": "ZCDBrJV5iw_T"
      },
      "source": [
        "# Apply lambda function to find numbers\n",
        "df_tax_band['isNumber'] = df_tax_band['tax_band'].apply(lambda row: isNumber(row))"
      ],
      "execution_count": 102,
      "outputs": []
    },
    {
      "cell_type": "code",
      "metadata": {
        "id": "v4LopPLyjL1q"
      },
      "source": [
        "# Create a data frame with only String rows\n",
        "df_tax_band_string = df_tax_band.loc[df_tax_band['isNumber'] == False ][{'tax_band', 'isNumber'}].copy()"
      ],
      "execution_count": 103,
      "outputs": []
    },
    {
      "cell_type": "code",
      "metadata": {
        "id": "--YKxxfdjOm6"
      },
      "source": [
        "# All ASCII uppercases\n",
        "df_tax_band_train = pd.DataFrame(list(string.ascii_uppercase))"
      ],
      "execution_count": 104,
      "outputs": []
    },
    {
      "cell_type": "code",
      "metadata": {
        "id": "wZhcEXOik33M"
      },
      "source": [
        "# Create a train data frame for string tax band\n",
        "df_tax_band_train.rename({0: \"tax_band\"}, axis=1, inplace=True)"
      ],
      "execution_count": 105,
      "outputs": []
    },
    {
      "cell_type": "code",
      "metadata": {
        "id": "cwDG4BM0jRFC"
      },
      "source": [
        "# encoder for Tax Band\n",
        "label_band = LabelEncoder()"
      ],
      "execution_count": 106,
      "outputs": []
    },
    {
      "cell_type": "code",
      "metadata": {
        "colab": {
          "base_uri": "https://localhost:8080/"
        },
        "id": "Tdt__Ji5lKi-",
        "outputId": "6e763b6e-d259-4552-cedc-8c3c19d3e14c"
      },
      "source": [
        "# train the encoder for Tax Band\n",
        "label_band.fit(df_tax_band_train['tax_band'])"
      ],
      "execution_count": 107,
      "outputs": [
        {
          "output_type": "execute_result",
          "data": {
            "text/plain": [
              "LabelEncoder()"
            ]
          },
          "metadata": {
            "tags": []
          },
          "execution_count": 107
        }
      ]
    },
    {
      "cell_type": "code",
      "metadata": {
        "id": "ZKATxeijjTIJ"
      },
      "source": [
        "# transform and add new columns with the label encoder\n",
        "df_tax_band_string['tax_band_lbl'] = label_band.transform(df_tax_band_string['tax_band'])"
      ],
      "execution_count": 108,
      "outputs": []
    },
    {
      "cell_type": "code",
      "metadata": {
        "id": "0-ElzOMAjVXC"
      },
      "source": [
        "# Apply group by to remove duplication\n",
        "df_band_final = df_tax_band_string.groupby(['tax_band', 'tax_band_lbl'], as_index=False)['isNumber'].count()"
      ],
      "execution_count": 109,
      "outputs": []
    },
    {
      "cell_type": "code",
      "metadata": {
        "id": "t_KyhdvijaJ6"
      },
      "source": [
        "# Remove unsed column\n",
        "df_band_final.drop(['isNumber'], axis=1, inplace=True)"
      ],
      "execution_count": 110,
      "outputs": []
    },
    {
      "cell_type": "code",
      "metadata": {
        "id": "VBI_dHCVjc5T"
      },
      "source": [
        "# Merge data frames\n",
        "df_tax_band = pd.merge(df_tax_band, df_band_final, how='left', on='tax_band')"
      ],
      "execution_count": 111,
      "outputs": []
    },
    {
      "cell_type": "code",
      "metadata": {
        "id": "z5xkl3u4jfzJ"
      },
      "source": [
        "# Fill all NA with the tax_band feature\n",
        "df_tax_band['tax_band_lbl'].fillna(df_tax_band['tax_band'], axis=0, inplace=True)"
      ],
      "execution_count": 112,
      "outputs": []
    },
    {
      "cell_type": "code",
      "metadata": {
        "id": "t4td4cJEjhjx"
      },
      "source": [
        "# Convert label feature to int\n",
        "df_tax_band['tax_band_lbl'] = df_tax_band['tax_band_lbl'].astype(int)"
      ],
      "execution_count": 113,
      "outputs": []
    },
    {
      "cell_type": "code",
      "metadata": {
        "id": "c6tALk3rlpGT"
      },
      "source": [
        "# Apply inverse function to get the String for tax band\n",
        "df_tax_band['tax_band'] = label_band.inverse_transform(df_tax_band['tax_band_lbl'])"
      ],
      "execution_count": 114,
      "outputs": []
    },
    {
      "cell_type": "code",
      "metadata": {
        "id": "taXfWZRTl0za"
      },
      "source": [
        "# Drop unsuded columns\n",
        "df_tax_band.drop(['isNumber', 'tax_band_lbl'], axis=1, inplace=True)"
      ],
      "execution_count": 115,
      "outputs": []
    },
    {
      "cell_type": "code",
      "metadata": {
        "colab": {
          "base_uri": "https://localhost:8080/",
          "height": 419
        },
        "id": "0Gqy65Som9aa",
        "outputId": "eaed92b6-3ff3-418c-ee1b-80335db1a632"
      },
      "source": [
        "df_tax_band"
      ],
      "execution_count": 124,
      "outputs": [
        {
          "output_type": "execute_result",
          "data": {
            "text/html": [
              "<div>\n",
              "<style scoped>\n",
              "    .dataframe tbody tr th:only-of-type {\n",
              "        vertical-align: middle;\n",
              "    }\n",
              "\n",
              "    .dataframe tbody tr th {\n",
              "        vertical-align: top;\n",
              "    }\n",
              "\n",
              "    .dataframe thead th {\n",
              "        text-align: right;\n",
              "    }\n",
              "</style>\n",
              "<table border=\"1\" class=\"dataframe\">\n",
              "  <thead>\n",
              "    <tr style=\"text-align: right;\">\n",
              "      <th></th>\n",
              "      <th>tax_band</th>\n",
              "    </tr>\n",
              "  </thead>\n",
              "  <tbody>\n",
              "    <tr>\n",
              "      <th>0</th>\n",
              "      <td>B</td>\n",
              "    </tr>\n",
              "    <tr>\n",
              "      <th>1</th>\n",
              "      <td>B</td>\n",
              "    </tr>\n",
              "    <tr>\n",
              "      <th>2</th>\n",
              "      <td>C</td>\n",
              "    </tr>\n",
              "    <tr>\n",
              "      <th>3</th>\n",
              "      <td>C</td>\n",
              "    </tr>\n",
              "    <tr>\n",
              "      <th>4</th>\n",
              "      <td>A</td>\n",
              "    </tr>\n",
              "    <tr>\n",
              "      <th>...</th>\n",
              "      <td>...</td>\n",
              "    </tr>\n",
              "    <tr>\n",
              "      <th>3795</th>\n",
              "      <td>B</td>\n",
              "    </tr>\n",
              "    <tr>\n",
              "      <th>3796</th>\n",
              "      <td>C</td>\n",
              "    </tr>\n",
              "    <tr>\n",
              "      <th>3797</th>\n",
              "      <td>C</td>\n",
              "    </tr>\n",
              "    <tr>\n",
              "      <th>3798</th>\n",
              "      <td>B</td>\n",
              "    </tr>\n",
              "    <tr>\n",
              "      <th>3799</th>\n",
              "      <td>B</td>\n",
              "    </tr>\n",
              "  </tbody>\n",
              "</table>\n",
              "<p>3800 rows × 1 columns</p>\n",
              "</div>"
            ],
            "text/plain": [
              "     tax_band\n",
              "0           B\n",
              "1           B\n",
              "2           C\n",
              "3           C\n",
              "4           A\n",
              "...       ...\n",
              "3795        B\n",
              "3796        C\n",
              "3797        C\n",
              "3798        B\n",
              "3799        B\n",
              "\n",
              "[3800 rows x 1 columns]"
            ]
          },
          "metadata": {
            "tags": []
          },
          "execution_count": 124
        }
      ]
    },
    {
      "cell_type": "markdown",
      "metadata": {
        "id": "H-TEECaNnXmz"
      },
      "source": [
        "###Make, Mode and Type ETL"
      ]
    },
    {
      "cell_type": "code",
      "metadata": {
        "id": "MRWaYN6_nZOh"
      },
      "source": [
        "# Create a car model data frame\n",
        "df_car_model = df_original[{'make', 'model', 'type'}].copy()"
      ],
      "execution_count": 126,
      "outputs": []
    },
    {
      "cell_type": "code",
      "metadata": {
        "id": "Mfikg8CtncHy"
      },
      "source": [
        "# Replace NA for \"\"\n",
        "df_car_model['model'].fillna(\"\", axis=0, inplace=True)\n",
        "df_car_model['type'].fillna(\"\", axis=0, inplace=True)"
      ],
      "execution_count": 127,
      "outputs": []
    },
    {
      "cell_type": "code",
      "metadata": {
        "id": "NlEkthPAnnTL"
      },
      "source": [
        "# Rename Columns\n",
        "df_car_model.rename(columns={'make': 'old_make'}, inplace=True)\n",
        "df_car_model.rename(columns={'model': 'old_model'}, inplace=True)\n",
        "df_car_model.rename(columns={'type': 'old_type'}, inplace=True)"
      ],
      "execution_count": 128,
      "outputs": []
    },
    {
      "cell_type": "code",
      "metadata": {
        "id": "GRD9gYpqnrIS"
      },
      "source": [
        "# Apply lambda function to get transformed features\n",
        "df_car_model['make'] = df_car_model.apply(lambda row: split_car_model_pattern(row['old_make'], row['old_model'], row['old_type'], \"Make\"), axis=1)\n",
        "df_car_model['model'] = df_car_model.apply(lambda row: split_car_model_pattern(row['old_make'], row['old_model'], row['old_type'], \"Model\"), axis=1)\n",
        "df_car_model['type'] = df_car_model.apply(lambda row: split_car_model_pattern(row['old_make'], row['old_model'], row['old_type'], \"Type\"), axis=1)"
      ],
      "execution_count": 129,
      "outputs": []
    },
    {
      "cell_type": "code",
      "metadata": {
        "id": "PQ12IZLTn-5J"
      },
      "source": [
        "# Filter only used columns\n",
        "df_car_model = df_car_model[{'make', 'model', 'type'}].copy()"
      ],
      "execution_count": 133,
      "outputs": []
    },
    {
      "cell_type": "markdown",
      "metadata": {
        "id": "b6reWlOtoa7U"
      },
      "source": [
        "###Colour ETL\n",
        "\n",
        "https://matplotlib.org/stable/api/colors_api.html?highlight=colors#module-matplotlib.colors"
      ]
    },
    {
      "cell_type": "code",
      "metadata": {
        "id": "kzOb4p0roHX6"
      },
      "source": [
        "# Filter only Colour to the data frame\n",
        "df_colour = df_original[{'colour'}].copy()"
      ],
      "execution_count": 145,
      "outputs": []
    },
    {
      "cell_type": "code",
      "metadata": {
        "id": "3hD6Wmjkq3Q1"
      },
      "source": [
        "# Get the named colours from Matplotlib colors\n",
        "table_of_colours = colors.get_named_colors_mapping()"
      ],
      "execution_count": 146,
      "outputs": []
    },
    {
      "cell_type": "code",
      "metadata": {
        "id": "EAxgV98VqvyR"
      },
      "source": [
        "# Transform the table colours into a list\n",
        "list_named_colors = []\n",
        "for row in table_of_colours.items():\n",
        "  list_named_colors.append(row)"
      ],
      "execution_count": 147,
      "outputs": []
    },
    {
      "cell_type": "code",
      "metadata": {
        "id": "i9pZvhWRomVS"
      },
      "source": [
        "# Apply lambda funtion to get the named colour\n",
        "df_colour[\"colour_name\"] = df_colour['colour'].apply(\n",
        "    lambda row: get_named_colours(row, \"Named\")\n",
        ")"
      ],
      "execution_count": 148,
      "outputs": []
    },
    {
      "cell_type": "code",
      "metadata": {
        "id": "uF2gjfweouMB"
      },
      "source": [
        "# Apply lambda funtion to get the hexadecimal colour\n",
        "df_colour[\"colour_hexa\"] = df_colour['colour'].apply(\n",
        "    lambda row: get_named_colours(row, \"Hexa\")\n",
        ")"
      ],
      "execution_count": 149,
      "outputs": []
    },
    {
      "cell_type": "markdown",
      "metadata": {
        "id": "o96rSk_MrUXH"
      },
      "source": [
        "### Combine Transformed Data Frame into One"
      ]
    },
    {
      "cell_type": "code",
      "metadata": {
        "id": "pOeKhsmdpIO6"
      },
      "source": [
        ""
      ],
      "execution_count": null,
      "outputs": []
    }
  ]
}