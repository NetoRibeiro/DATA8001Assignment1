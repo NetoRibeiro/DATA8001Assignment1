{
  "nbformat": 4,
  "nbformat_minor": 0,
  "metadata": {
    "colab": {
      "name": "R00206995_RandomForest_Pickling.ipynb",
      "provenance": [],
      "collapsed_sections": [],
      "mount_file_id": "1sSCZ6ITKl6OBolhysNCMBeWUe6n_0UFx",
      "authorship_tag": "ABX9TyOilxDlwlouPCqiydqNvEZr",
      "include_colab_link": true
    },
    "kernelspec": {
      "name": "python3",
      "display_name": "Python 3"
    },
    "language_info": {
      "name": "python"
    }
  },
  "cells": [
    {
      "cell_type": "markdown",
      "metadata": {
        "id": "view-in-github",
        "colab_type": "text"
      },
      "source": [
        "<a href=\"https://colab.research.google.com/github/NetoRibeiro/DATA8001Assignment1/blob/main/R00206995_RandomForest_Pickling.ipynb\" target=\"_parent\"><img src=\"https://colab.research.google.com/assets/colab-badge.svg\" alt=\"Open In Colab\"/></a>"
      ]
    },
    {
      "cell_type": "code",
      "metadata": {
        "id": "C2PDJXMOpNx9"
      },
      "source": [
        "import pandas as pd\n",
        "import pickle\n",
        "import math\n",
        "from sklearn.model_selection import train_test_split\n",
        "from sklearn.preprocessing import LabelEncoder\n",
        "from sklearn.metrics import mean_squared_error, r2_score, accuracy_score\n",
        "from sklearn.ensemble import RandomForestRegressor\n",
        "from sklearn.model_selection import GridSearchCV"
      ],
      "execution_count": 32,
      "outputs": []
    },
    {
      "cell_type": "code",
      "metadata": {
        "id": "WLUdizchpihf"
      },
      "source": [
        "df_processed = pd.read_csv('/content/drive/MyDrive/Data Science and Analytics/R00206995/data/R00206995_processed.csv')"
      ],
      "execution_count": 33,
      "outputs": []
    },
    {
      "cell_type": "code",
      "metadata": {
        "id": "0Y9FeC-xppEt"
      },
      "source": [
        "df_processed.drop(['car_reg', 'purchase_date'], axis=1, inplace=True)\n",
        "# Split data into 20% test and 80% train\n",
        "df_train, df_test = train_test_split(df_processed.copy() ,test_size=0.2, random_state=8001)\n",
        "output_feature = 'price'\n",
        "list_features = df_train.columns.drop(output_feature)\n",
        "#Convert all string features to a int features\n",
        "for feature in list_features:\n",
        "  label_condition = LabelEncoder()\n",
        "  df_train[feature] = label_condition.fit_transform(df_train[feature])\n",
        "  df_test[feature] = label_condition.fit_transform(df_test[feature])\n",
        "\n",
        "parameters = {'min_samples_leaf':[1,10], 'min_samples_split':[2,10], 'n_estimators':[100,250,500,750]}\n",
        "rf_model = RandomForestRegressor()\n",
        "grid_search = GridSearchCV(rf_model, parameters)\n",
        "grid_search.fit(X=df_train[list_features], y=df_train[output_feature])\n",
        "random_forest_best_model = grid_search.best_estimator_\n",
        "pickle.dump(random_forest_best_model, open('/content/drive/MyDrive/Data Science and Analytics/R00206995/model/model.pkl', 'wb') )"
      ],
      "execution_count": 16,
      "outputs": []
    },
    {
      "cell_type": "markdown",
      "metadata": {
        "id": "3jGBQGPowF2j"
      },
      "source": [
        "##Test the Model"
      ]
    },
    {
      "cell_type": "code",
      "metadata": {
        "colab": {
          "base_uri": "https://localhost:8080/"
        },
        "id": "GeLzrJMUrLvD",
        "outputId": "1ff05cde-ee76-4187-c903-2c0999eb636a"
      },
      "source": [
        "fourth_model_price = random_forest_best_model.predict(X=df_test[list_features])\n",
        "fourth_model_mse = mean_squared_error(y_pred=fourth_model_price, y_true=df_test[output_feature])\n",
        "fourth_model_r2_score = r2_score(y_pred=fourth_model_price, y_true=df_test[output_feature])\n",
        "print(f'Random Forest Model Accuracy:\\nRMSE={math.sqrt(fourth_model_mse):,.0f}\\nRSq={fourth_model_r2_score:.2f} ==> {fourth_model_r2_score*100:.0f}% of the variability in Y can be explained using X')"
      ],
      "execution_count": 20,
      "outputs": [
        {
          "output_type": "stream",
          "text": [
            "Random Forest Model Accuracy:\n",
            "RMSE=11,448\n",
            "RSq=0.85 ==> 85% of the variability in Y can be explained using X\n"
          ],
          "name": "stdout"
        }
      ]
    },
    {
      "cell_type": "code",
      "metadata": {
        "id": "oMHkePDDwJhI"
      },
      "source": [
        "load_model_test = pickle.load(open('/content/drive/MyDrive/Data Science and Analytics/R00206995/model/model.pkl', 'rb'))"
      ],
      "execution_count": 34,
      "outputs": []
    },
    {
      "cell_type": "code",
      "metadata": {
        "colab": {
          "base_uri": "https://localhost:8080/"
        },
        "id": "rcZnC4g-2MvA",
        "outputId": "fac64ab5-03ee-41a2-9b37-98272f8a25b9"
      },
      "source": [
        "test_model_price = load_model_test.predict(X=df_test[list_features])\n",
        "test_model_mse = mean_squared_error(y_pred=test_model_price, y_true=df_test[output_feature])\n",
        "test_model_r2_score = r2_score(y_pred=test_model_price, y_true=df_test[output_feature])\n",
        "print(f'Random Forest Model Accuracy:\\nRMSE={math.sqrt(test_model_mse):,.0f}\\nRSq={test_model_r2_score:.2f} ==> {test_model_r2_score*100:.0f}% of the variability in Y can be explained using X')"
      ],
      "execution_count": 38,
      "outputs": [
        {
          "output_type": "stream",
          "text": [
            "Random Forest Model Accuracy:\n",
            "RMSE=11,448\n",
            "RSq=0.85 ==> 85% of the variability in Y can be explained using X\n"
          ],
          "name": "stdout"
        }
      ]
    },
    {
      "cell_type": "code",
      "metadata": {
        "id": "SEhIzgzW5MnS"
      },
      "source": [
        ""
      ],
      "execution_count": null,
      "outputs": []
    }
  ]
}