{
  "nbformat": 4,
  "nbformat_minor": 0,
  "metadata": {
    "colab": {
      "name": "Linear_Regression_Model_01042021_005_Pickle.ipynb",
      "provenance": [],
      "collapsed_sections": [],
      "toc_visible": true,
      "mount_file_id": "17KJBBZzGC8G7ofVDdjm3ChyhdWKF_4N9",
      "authorship_tag": "ABX9TyOiZGrX/aQt7yeboLyQDRD8",
      "include_colab_link": true
    },
    "kernelspec": {
      "name": "python3",
      "display_name": "Python 3"
    },
    "language_info": {
      "name": "python"
    }
  },
  "cells": [
    {
      "cell_type": "markdown",
      "metadata": {
        "id": "view-in-github",
        "colab_type": "text"
      },
      "source": [
        "<a href=\"https://colab.research.google.com/github/NetoRibeiro/DATA8001Assignment1/blob/main/Linear_Regression_Model_01042021_005_Pickle.ipynb\" target=\"_parent\"><img src=\"https://colab.research.google.com/assets/colab-badge.svg\" alt=\"Open In Colab\"/></a>"
      ]
    },
    {
      "cell_type": "markdown",
      "metadata": {
        "id": "YtQzKAZf5RUb"
      },
      "source": [
        "###Import and Load File"
      ]
    },
    {
      "cell_type": "code",
      "metadata": {
        "id": "WuiTBbx6pwYV"
      },
      "source": [
        "%matplotlib inline\n",
        "\n",
        "import matplotlib.pyplot as plt\n",
        "from matplotlib import colors\n",
        "import numpy as np\n",
        "import pandas as pd\n",
        "from datetime import datetime as dt\n",
        "\n",
        "import calendar\n",
        "import re\n",
        "import string\n",
        "\n",
        "import math\n",
        "import pickle\n",
        "from sklearn.model_selection import train_test_split\n",
        "from sklearn.preprocessing import LabelEncoder, StandardScaler, MinMaxScaler\n",
        "from sklearn.linear_model import LinearRegression\n",
        "from sklearn.metrics import mean_squared_error, r2_score, accuracy_score\n",
        "\n",
        "from sklearn.tree import DecisionTreeRegressor\n",
        "from sklearn.ensemble import RandomForestRegressor\n",
        "from sklearn.model_selection import GridSearchCV\n",
        "import seaborn as sns"
      ],
      "execution_count": 1,
      "outputs": []
    },
    {
      "cell_type": "code",
      "metadata": {
        "id": "yMApn6Hop5nh"
      },
      "source": [
        "df_processed = pd.read_csv('/content/drive/MyDrive/Data Science and Analytics/R00206995/data/R00206995_processed.csv')"
      ],
      "execution_count": 2,
      "outputs": []
    },
    {
      "cell_type": "code",
      "metadata": {
        "colab": {
          "base_uri": "https://localhost:8080/",
          "height": 204
        },
        "id": "jxwz7t4xp61t",
        "outputId": "37c36868-69b6-4657-f4bd-d84ae5f16b00"
      },
      "source": [
        "df_processed.head()"
      ],
      "execution_count": 3,
      "outputs": [
        {
          "output_type": "execute_result",
          "data": {
            "text/html": [
              "<div>\n",
              "<style scoped>\n",
              "    .dataframe tbody tr th:only-of-type {\n",
              "        vertical-align: middle;\n",
              "    }\n",
              "\n",
              "    .dataframe tbody tr th {\n",
              "        vertical-align: top;\n",
              "    }\n",
              "\n",
              "    .dataframe thead th {\n",
              "        text-align: right;\n",
              "    }\n",
              "</style>\n",
              "<table border=\"1\" class=\"dataframe\">\n",
              "  <thead>\n",
              "    <tr style=\"text-align: right;\">\n",
              "      <th></th>\n",
              "      <th>car_reg</th>\n",
              "      <th>purchase_date</th>\n",
              "      <th>year</th>\n",
              "      <th>month</th>\n",
              "      <th>county</th>\n",
              "      <th>make</th>\n",
              "      <th>model</th>\n",
              "      <th>type</th>\n",
              "      <th>colour</th>\n",
              "      <th>tax_band</th>\n",
              "      <th>price</th>\n",
              "    </tr>\n",
              "  </thead>\n",
              "  <tbody>\n",
              "    <tr>\n",
              "      <th>0</th>\n",
              "      <td>202-C-2315</td>\n",
              "      <td>2020-07-01</td>\n",
              "      <td>2020</td>\n",
              "      <td>7</td>\n",
              "      <td>CORK</td>\n",
              "      <td>AUDI</td>\n",
              "      <td>A4</td>\n",
              "      <td>SALOON</td>\n",
              "      <td>RED</td>\n",
              "      <td>B</td>\n",
              "      <td>55287.0</td>\n",
              "    </tr>\n",
              "    <tr>\n",
              "      <th>1</th>\n",
              "      <td>191-C-3750</td>\n",
              "      <td>2019-01-20</td>\n",
              "      <td>2019</td>\n",
              "      <td>1</td>\n",
              "      <td>CORK</td>\n",
              "      <td>MAZDA</td>\n",
              "      <td>CX-30</td>\n",
              "      <td>SUV</td>\n",
              "      <td>SILVER</td>\n",
              "      <td>B</td>\n",
              "      <td>41690.0</td>\n",
              "    </tr>\n",
              "    <tr>\n",
              "      <th>2</th>\n",
              "      <td>191-L-3155</td>\n",
              "      <td>2019-03-21</td>\n",
              "      <td>2019</td>\n",
              "      <td>3</td>\n",
              "      <td>LIMERICK</td>\n",
              "      <td>BMW</td>\n",
              "      <td>3 SERIES</td>\n",
              "      <td>SALOON</td>\n",
              "      <td>WHITE</td>\n",
              "      <td>C</td>\n",
              "      <td>40381.0</td>\n",
              "    </tr>\n",
              "    <tr>\n",
              "      <th>3</th>\n",
              "      <td>191-D-2645</td>\n",
              "      <td>2019-01-26</td>\n",
              "      <td>2019</td>\n",
              "      <td>1</td>\n",
              "      <td>DUBLIN</td>\n",
              "      <td>AUDI</td>\n",
              "      <td>Q3</td>\n",
              "      <td>SUV</td>\n",
              "      <td>ORANGE</td>\n",
              "      <td>C</td>\n",
              "      <td>44836.0</td>\n",
              "    </tr>\n",
              "    <tr>\n",
              "      <th>4</th>\n",
              "      <td>181-W-341</td>\n",
              "      <td>2018-01-27</td>\n",
              "      <td>2018</td>\n",
              "      <td>1</td>\n",
              "      <td>WATERFORD</td>\n",
              "      <td>OPEL</td>\n",
              "      <td>ASTRA</td>\n",
              "      <td>HATCHBACK</td>\n",
              "      <td>RED</td>\n",
              "      <td>A</td>\n",
              "      <td>32188.0</td>\n",
              "    </tr>\n",
              "  </tbody>\n",
              "</table>\n",
              "</div>"
            ],
            "text/plain": [
              "      car_reg purchase_date  year  month  ...       type  colour tax_band    price\n",
              "0  202-C-2315    2020-07-01  2020      7  ...     SALOON     RED        B  55287.0\n",
              "1  191-C-3750    2019-01-20  2019      1  ...        SUV  SILVER        B  41690.0\n",
              "2  191-L-3155    2019-03-21  2019      3  ...     SALOON   WHITE        C  40381.0\n",
              "3  191-D-2645    2019-01-26  2019      1  ...        SUV  ORANGE        C  44836.0\n",
              "4   181-W-341    2018-01-27  2018      1  ...  HATCHBACK     RED        A  32188.0\n",
              "\n",
              "[5 rows x 11 columns]"
            ]
          },
          "metadata": {
            "tags": []
          },
          "execution_count": 3
        }
      ]
    },
    {
      "cell_type": "markdown",
      "metadata": {
        "id": "sSs9S_Ck5Wc3"
      },
      "source": [
        "###Transformation and Split"
      ]
    },
    {
      "cell_type": "code",
      "metadata": {
        "id": "cg0d1O6hp-H8"
      },
      "source": [
        "def get_feature_stats(df, list_columns):\n",
        "    lis_of_string_features = []\n",
        "    for feature in list_columns:\n",
        "      if df[feature].dtype not in ['uint8', 'int16','int32','int64','float16','float32','float64']:\n",
        "        lis_of_string_features.append(feature)\n",
        "    return lis_of_string_features"
      ],
      "execution_count": 4,
      "outputs": []
    },
    {
      "cell_type": "code",
      "metadata": {
        "colab": {
          "base_uri": "https://localhost:8080/",
          "height": 179
        },
        "id": "CL46C0GkxqGU",
        "outputId": "333dcad8-876d-48eb-f75e-bc24d783d11a"
      },
      "source": [
        "# Create a list of columns to apply Dummies\n",
        "list_of_best_features = ['make', 'model', 'county', 'type', 'tax_band']\n",
        "\n",
        "# Apply Lower case before dummies\n",
        "df_processed['county'] = df_processed['county'].str.lower()\n",
        "df_processed['type'] = df_processed['type'].str.lower()\n",
        "df_processed['tax_band'] = df_processed['tax_band'].str.lower()\n",
        "df_processed['make'] = df_processed['make'].str.lower()\n",
        "df_processed['model'] = df_processed['model'].str.lower()\n",
        "\n",
        "# Apply Dammies\n",
        "df_dummies = pd.get_dummies(df_processed, columns=list_of_best_features)\n",
        "df_dummies.drop(['car_reg', 'purchase_date', 'month'], axis=1, inplace=True)\n",
        "df_dummies.head(3)"
      ],
      "execution_count": 5,
      "outputs": [
        {
          "output_type": "execute_result",
          "data": {
            "text/html": [
              "<div>\n",
              "<style scoped>\n",
              "    .dataframe tbody tr th:only-of-type {\n",
              "        vertical-align: middle;\n",
              "    }\n",
              "\n",
              "    .dataframe tbody tr th {\n",
              "        vertical-align: top;\n",
              "    }\n",
              "\n",
              "    .dataframe thead th {\n",
              "        text-align: right;\n",
              "    }\n",
              "</style>\n",
              "<table border=\"1\" class=\"dataframe\">\n",
              "  <thead>\n",
              "    <tr style=\"text-align: right;\">\n",
              "      <th></th>\n",
              "      <th>year</th>\n",
              "      <th>colour</th>\n",
              "      <th>price</th>\n",
              "      <th>make_audi</th>\n",
              "      <th>make_bmw</th>\n",
              "      <th>make_ford</th>\n",
              "      <th>make_mazda</th>\n",
              "      <th>make_mercedes</th>\n",
              "      <th>make_opel</th>\n",
              "      <th>make_toyota</th>\n",
              "      <th>model_2 series</th>\n",
              "      <th>model_3 series</th>\n",
              "      <th>model_5 series</th>\n",
              "      <th>model_7 series</th>\n",
              "      <th>model_a-class</th>\n",
              "      <th>model_a4</th>\n",
              "      <th>model_a6</th>\n",
              "      <th>model_amg-gt</th>\n",
              "      <th>model_astra</th>\n",
              "      <th>model_c-class</th>\n",
              "      <th>model_camery</th>\n",
              "      <th>model_corolla</th>\n",
              "      <th>model_corsa</th>\n",
              "      <th>model_crossland x</th>\n",
              "      <th>model_cx-30</th>\n",
              "      <th>model_cx-5</th>\n",
              "      <th>model_fiesta</th>\n",
              "      <th>model_focus</th>\n",
              "      <th>model_glc-class</th>\n",
              "      <th>model_grandland x</th>\n",
              "      <th>model_insignia</th>\n",
              "      <th>model_kuga</th>\n",
              "      <th>model_mazda3</th>\n",
              "      <th>model_mazda6</th>\n",
              "      <th>model_mondeo</th>\n",
              "      <th>model_mustang</th>\n",
              "      <th>model_prius</th>\n",
              "      <th>model_q3</th>\n",
              "      <th>model_q7</th>\n",
              "      <th>model_rav4</th>\n",
              "      <th>model_x3</th>\n",
              "      <th>model_yaris</th>\n",
              "      <th>county_cork</th>\n",
              "      <th>county_dublin</th>\n",
              "      <th>county_galway</th>\n",
              "      <th>county_limerick</th>\n",
              "      <th>county_waterford</th>\n",
              "      <th>type_coupe</th>\n",
              "      <th>type_estate</th>\n",
              "      <th>type_hatchback</th>\n",
              "      <th>type_saloon</th>\n",
              "      <th>type_suv</th>\n",
              "      <th>tax_band_a</th>\n",
              "      <th>tax_band_b</th>\n",
              "      <th>tax_band_c</th>\n",
              "      <th>tax_band_d</th>\n",
              "      <th>tax_band_e</th>\n",
              "    </tr>\n",
              "  </thead>\n",
              "  <tbody>\n",
              "    <tr>\n",
              "      <th>0</th>\n",
              "      <td>2020</td>\n",
              "      <td>RED</td>\n",
              "      <td>55287.0</td>\n",
              "      <td>1</td>\n",
              "      <td>0</td>\n",
              "      <td>0</td>\n",
              "      <td>0</td>\n",
              "      <td>0</td>\n",
              "      <td>0</td>\n",
              "      <td>0</td>\n",
              "      <td>0</td>\n",
              "      <td>0</td>\n",
              "      <td>0</td>\n",
              "      <td>0</td>\n",
              "      <td>0</td>\n",
              "      <td>1</td>\n",
              "      <td>0</td>\n",
              "      <td>0</td>\n",
              "      <td>0</td>\n",
              "      <td>0</td>\n",
              "      <td>0</td>\n",
              "      <td>0</td>\n",
              "      <td>0</td>\n",
              "      <td>0</td>\n",
              "      <td>0</td>\n",
              "      <td>0</td>\n",
              "      <td>0</td>\n",
              "      <td>0</td>\n",
              "      <td>0</td>\n",
              "      <td>0</td>\n",
              "      <td>0</td>\n",
              "      <td>0</td>\n",
              "      <td>0</td>\n",
              "      <td>0</td>\n",
              "      <td>0</td>\n",
              "      <td>0</td>\n",
              "      <td>0</td>\n",
              "      <td>0</td>\n",
              "      <td>0</td>\n",
              "      <td>0</td>\n",
              "      <td>0</td>\n",
              "      <td>0</td>\n",
              "      <td>1</td>\n",
              "      <td>0</td>\n",
              "      <td>0</td>\n",
              "      <td>0</td>\n",
              "      <td>0</td>\n",
              "      <td>0</td>\n",
              "      <td>0</td>\n",
              "      <td>0</td>\n",
              "      <td>1</td>\n",
              "      <td>0</td>\n",
              "      <td>0</td>\n",
              "      <td>1</td>\n",
              "      <td>0</td>\n",
              "      <td>0</td>\n",
              "      <td>0</td>\n",
              "    </tr>\n",
              "    <tr>\n",
              "      <th>1</th>\n",
              "      <td>2019</td>\n",
              "      <td>SILVER</td>\n",
              "      <td>41690.0</td>\n",
              "      <td>0</td>\n",
              "      <td>0</td>\n",
              "      <td>0</td>\n",
              "      <td>1</td>\n",
              "      <td>0</td>\n",
              "      <td>0</td>\n",
              "      <td>0</td>\n",
              "      <td>0</td>\n",
              "      <td>0</td>\n",
              "      <td>0</td>\n",
              "      <td>0</td>\n",
              "      <td>0</td>\n",
              "      <td>0</td>\n",
              "      <td>0</td>\n",
              "      <td>0</td>\n",
              "      <td>0</td>\n",
              "      <td>0</td>\n",
              "      <td>0</td>\n",
              "      <td>0</td>\n",
              "      <td>0</td>\n",
              "      <td>0</td>\n",
              "      <td>1</td>\n",
              "      <td>0</td>\n",
              "      <td>0</td>\n",
              "      <td>0</td>\n",
              "      <td>0</td>\n",
              "      <td>0</td>\n",
              "      <td>0</td>\n",
              "      <td>0</td>\n",
              "      <td>0</td>\n",
              "      <td>0</td>\n",
              "      <td>0</td>\n",
              "      <td>0</td>\n",
              "      <td>0</td>\n",
              "      <td>0</td>\n",
              "      <td>0</td>\n",
              "      <td>0</td>\n",
              "      <td>0</td>\n",
              "      <td>0</td>\n",
              "      <td>1</td>\n",
              "      <td>0</td>\n",
              "      <td>0</td>\n",
              "      <td>0</td>\n",
              "      <td>0</td>\n",
              "      <td>0</td>\n",
              "      <td>0</td>\n",
              "      <td>0</td>\n",
              "      <td>0</td>\n",
              "      <td>1</td>\n",
              "      <td>0</td>\n",
              "      <td>1</td>\n",
              "      <td>0</td>\n",
              "      <td>0</td>\n",
              "      <td>0</td>\n",
              "    </tr>\n",
              "    <tr>\n",
              "      <th>2</th>\n",
              "      <td>2019</td>\n",
              "      <td>WHITE</td>\n",
              "      <td>40381.0</td>\n",
              "      <td>0</td>\n",
              "      <td>1</td>\n",
              "      <td>0</td>\n",
              "      <td>0</td>\n",
              "      <td>0</td>\n",
              "      <td>0</td>\n",
              "      <td>0</td>\n",
              "      <td>0</td>\n",
              "      <td>1</td>\n",
              "      <td>0</td>\n",
              "      <td>0</td>\n",
              "      <td>0</td>\n",
              "      <td>0</td>\n",
              "      <td>0</td>\n",
              "      <td>0</td>\n",
              "      <td>0</td>\n",
              "      <td>0</td>\n",
              "      <td>0</td>\n",
              "      <td>0</td>\n",
              "      <td>0</td>\n",
              "      <td>0</td>\n",
              "      <td>0</td>\n",
              "      <td>0</td>\n",
              "      <td>0</td>\n",
              "      <td>0</td>\n",
              "      <td>0</td>\n",
              "      <td>0</td>\n",
              "      <td>0</td>\n",
              "      <td>0</td>\n",
              "      <td>0</td>\n",
              "      <td>0</td>\n",
              "      <td>0</td>\n",
              "      <td>0</td>\n",
              "      <td>0</td>\n",
              "      <td>0</td>\n",
              "      <td>0</td>\n",
              "      <td>0</td>\n",
              "      <td>0</td>\n",
              "      <td>0</td>\n",
              "      <td>0</td>\n",
              "      <td>0</td>\n",
              "      <td>0</td>\n",
              "      <td>1</td>\n",
              "      <td>0</td>\n",
              "      <td>0</td>\n",
              "      <td>0</td>\n",
              "      <td>0</td>\n",
              "      <td>1</td>\n",
              "      <td>0</td>\n",
              "      <td>0</td>\n",
              "      <td>0</td>\n",
              "      <td>1</td>\n",
              "      <td>0</td>\n",
              "      <td>0</td>\n",
              "    </tr>\n",
              "  </tbody>\n",
              "</table>\n",
              "</div>"
            ],
            "text/plain": [
              "   year  colour    price  ...  tax_band_c  tax_band_d  tax_band_e\n",
              "0  2020     RED  55287.0  ...           0           0           0\n",
              "1  2019  SILVER  41690.0  ...           0           0           0\n",
              "2  2019   WHITE  40381.0  ...           1           0           0\n",
              "\n",
              "[3 rows x 57 columns]"
            ]
          },
          "metadata": {
            "tags": []
          },
          "execution_count": 5
        }
      ]
    },
    {
      "cell_type": "code",
      "metadata": {
        "id": "MFkdT7GDu7bh"
      },
      "source": [
        "list_columns = df_dummies.columns\n",
        "list_feature = get_feature_stats(df_dummies, list_columns)"
      ],
      "execution_count": 6,
      "outputs": []
    },
    {
      "cell_type": "code",
      "metadata": {
        "id": "yxH3EeaYvZw_"
      },
      "source": [
        "df_train, df_test = train_test_split(df_dummies.copy() ,test_size=0.2, random_state=8001)"
      ],
      "execution_count": 7,
      "outputs": []
    },
    {
      "cell_type": "code",
      "metadata": {
        "id": "ETkN5fm4qG8_"
      },
      "source": [
        "#Convert all string features to a int features\n",
        "for feature in list_feature:\n",
        "  label_condition = LabelEncoder()\n",
        "  df_train[feature] = label_condition.fit_transform(df_train[feature])\n",
        "  df_test[feature] = label_condition.fit_transform(df_test[feature])"
      ],
      "execution_count": 8,
      "outputs": []
    },
    {
      "cell_type": "code",
      "metadata": {
        "colab": {
          "base_uri": "https://localhost:8080/"
        },
        "id": "4jeqanPb1bXe",
        "outputId": "a4d84fa4-8eff-4bd8-bb2b-1c0ac7501e87"
      },
      "source": [
        "df_train.shape, df_test.shape"
      ],
      "execution_count": 9,
      "outputs": [
        {
          "output_type": "execute_result",
          "data": {
            "text/plain": [
              "((3040, 57), (760, 57))"
            ]
          },
          "metadata": {
            "tags": []
          },
          "execution_count": 9
        }
      ]
    },
    {
      "cell_type": "code",
      "metadata": {
        "colab": {
          "base_uri": "https://localhost:8080/"
        },
        "id": "DqRwImdvqLh0",
        "outputId": "a686ec2a-24d0-4377-8845-cc4a116cc786"
      },
      "source": [
        "# X variables (independent)\n",
        "output_feature_dummies = 'price'\n",
        "input_features_dummies = [item for item in df_train.columns if item not in output_feature_dummies]\n",
        "print(input_features_dummies)"
      ],
      "execution_count": 10,
      "outputs": [
        {
          "output_type": "stream",
          "text": [
            "['year', 'colour', 'make_audi', 'make_bmw', 'make_ford', 'make_mazda', 'make_mercedes', 'make_opel', 'make_toyota', 'model_2 series', 'model_3 series', 'model_5 series', 'model_7 series', 'model_a-class', 'model_a4', 'model_a6', 'model_amg-gt', 'model_astra', 'model_c-class', 'model_camery', 'model_corolla', 'model_corsa', 'model_crossland x', 'model_cx-30', 'model_cx-5', 'model_fiesta', 'model_focus', 'model_glc-class', 'model_grandland x', 'model_insignia', 'model_kuga', 'model_mazda3', 'model_mazda6', 'model_mondeo', 'model_mustang', 'model_prius', 'model_q3', 'model_q7', 'model_rav4', 'model_x3', 'model_yaris', 'county_cork', 'county_dublin', 'county_galway', 'county_limerick', 'county_waterford', 'type_coupe', 'type_estate', 'type_hatchback', 'type_saloon', 'type_suv', 'tax_band_a', 'tax_band_b', 'tax_band_c', 'tax_band_d', 'tax_band_e']\n"
          ],
          "name": "stdout"
        }
      ]
    },
    {
      "cell_type": "code",
      "metadata": {
        "colab": {
          "base_uri": "https://localhost:8080/"
        },
        "id": "Cupfnjvz07Uu",
        "outputId": "a7f24933-4569-44e7-b1f0-2419c5246549"
      },
      "source": [
        "# Apply Standar Scaler for a list of features\n",
        "list_of_features_standard = ['year', 'colour']\n",
        "for column in df_train.columns:\n",
        "\n",
        "  if column in list_of_features_standard :\n",
        "    scaler_column = StandardScaler()\n",
        "    scaler_column.fit(df_train[column].values.reshape(-1, 1))\n",
        "    df_train[column] = scaler_column.transform(df_train[column].values.reshape(-1, 1))\n",
        "    df_test[column] = scaler_column.transform(df_test[column].values.reshape(-1, 1))\n",
        "  \n",
        "  else:\n",
        "    print(f'skip:\\t{column}')"
      ],
      "execution_count": 11,
      "outputs": [
        {
          "output_type": "stream",
          "text": [
            "skip:\tprice\n",
            "skip:\tmake_audi\n",
            "skip:\tmake_bmw\n",
            "skip:\tmake_ford\n",
            "skip:\tmake_mazda\n",
            "skip:\tmake_mercedes\n",
            "skip:\tmake_opel\n",
            "skip:\tmake_toyota\n",
            "skip:\tmodel_2 series\n",
            "skip:\tmodel_3 series\n",
            "skip:\tmodel_5 series\n",
            "skip:\tmodel_7 series\n",
            "skip:\tmodel_a-class\n",
            "skip:\tmodel_a4\n",
            "skip:\tmodel_a6\n",
            "skip:\tmodel_amg-gt\n",
            "skip:\tmodel_astra\n",
            "skip:\tmodel_c-class\n",
            "skip:\tmodel_camery\n",
            "skip:\tmodel_corolla\n",
            "skip:\tmodel_corsa\n",
            "skip:\tmodel_crossland x\n",
            "skip:\tmodel_cx-30\n",
            "skip:\tmodel_cx-5\n",
            "skip:\tmodel_fiesta\n",
            "skip:\tmodel_focus\n",
            "skip:\tmodel_glc-class\n",
            "skip:\tmodel_grandland x\n",
            "skip:\tmodel_insignia\n",
            "skip:\tmodel_kuga\n",
            "skip:\tmodel_mazda3\n",
            "skip:\tmodel_mazda6\n",
            "skip:\tmodel_mondeo\n",
            "skip:\tmodel_mustang\n",
            "skip:\tmodel_prius\n",
            "skip:\tmodel_q3\n",
            "skip:\tmodel_q7\n",
            "skip:\tmodel_rav4\n",
            "skip:\tmodel_x3\n",
            "skip:\tmodel_yaris\n",
            "skip:\tcounty_cork\n",
            "skip:\tcounty_dublin\n",
            "skip:\tcounty_galway\n",
            "skip:\tcounty_limerick\n",
            "skip:\tcounty_waterford\n",
            "skip:\ttype_coupe\n",
            "skip:\ttype_estate\n",
            "skip:\ttype_hatchback\n",
            "skip:\ttype_saloon\n",
            "skip:\ttype_suv\n",
            "skip:\ttax_band_a\n",
            "skip:\ttax_band_b\n",
            "skip:\ttax_band_c\n",
            "skip:\ttax_band_d\n",
            "skip:\ttax_band_e\n"
          ],
          "name": "stdout"
        }
      ]
    },
    {
      "cell_type": "markdown",
      "metadata": {
        "id": "TJMb_5f7xrGj"
      },
      "source": [
        "###Linear Regressor Model\n",
        "####Standard Scaler plus Best Features Dummies"
      ]
    },
    {
      "cell_type": "code",
      "metadata": {
        "id": "Fe0_K5GwyAQ4"
      },
      "source": [
        "X_train = df_train[input_features_dummies].values\n",
        "X_test = df_test[input_features_dummies].values\n",
        "\n",
        "y_train = df_train[[output_feature_dummies]].values\n",
        "y_test = df_test[[output_feature_dummies]].values"
      ],
      "execution_count": 13,
      "outputs": []
    },
    {
      "cell_type": "code",
      "metadata": {
        "id": "2dzEArDRzvRz",
        "colab": {
          "base_uri": "https://localhost:8080/"
        },
        "outputId": "ba494c24-187f-47c2-93cf-88e09baac182"
      },
      "source": [
        "lr_scaler_model = LinearRegression()\n",
        "lr_scaler_model.fit(X=X_train, y=y_train)\n",
        "#lr_scaler_model_prodict = lr_scaler_model.predict(X=X_test)\n",
        "#lr_scaler_model_mse = mean_squared_error(y_pred=lr_scaler_model_prodict, y_true=y_test)\n",
        "#lr_scaler_model_r_sq = r2_score(y_pred=lr_scaler_model_prodict, y_true=y_test)"
      ],
      "execution_count": 14,
      "outputs": [
        {
          "output_type": "execute_result",
          "data": {
            "text/plain": [
              "LinearRegression(copy_X=True, fit_intercept=True, n_jobs=None, normalize=False)"
            ]
          },
          "metadata": {
            "tags": []
          },
          "execution_count": 14
        }
      ]
    },
    {
      "cell_type": "markdown",
      "metadata": {
        "id": "Zvxl0etZ39Nj"
      },
      "source": [
        "###Valitation Test:: Linear Regressor Model Standard Scaler and Best Features Dummies"
      ]
    },
    {
      "cell_type": "code",
      "metadata": {
        "id": "wVdnfuEt36ux"
      },
      "source": [
        "#print(f'Linear Model StandardScaler Features Accuracy:\\nRMSE={math.sqrt(lr_scaler_model_mse):,.0f}\\nRSq={lr_scaler_model_r_sq:.2f} or {lr_scaler_model_r_sq*100:.0f}% of the variability in Y can be explained using X')"
      ],
      "execution_count": 15,
      "outputs": []
    },
    {
      "cell_type": "code",
      "metadata": {
        "id": "HfkzkHon4eyB",
        "colab": {
          "base_uri": "https://localhost:8080/"
        },
        "outputId": "55bbd15f-8126-432a-b890-69172587fae5"
      },
      "source": [
        "lr_scaler_model.coef_"
      ],
      "execution_count": 16,
      "outputs": [
        {
          "output_type": "execute_result",
          "data": {
            "text/plain": [
              "array([[ 3.72835543e+02, -2.93646160e+02,  1.31884398e+15,\n",
              "         2.82498341e+15,  2.68480241e+15,  3.90547838e+15,\n",
              "         3.04557804e+15,  2.01660707e+15,  3.58547798e+14,\n",
              "        -1.02337670e+14, -5.16377192e+14, -5.16377192e+14,\n",
              "        -5.16377192e+14, -7.36971820e+14,  9.89762236e+14,\n",
              "         9.89762236e+14, -7.36971820e+14,  2.91999154e+14,\n",
              "        -7.36971820e+14,  1.95005842e+15,  1.95005842e+15,\n",
              "         2.91999154e+14, -4.25199448e+14, -2.31407076e+15,\n",
              "        -2.31407076e+15, -3.76196193e+14, -3.76196193e+14,\n",
              "        -1.45417042e+15, -4.25199448e+14,  2.91999154e+14,\n",
              "        -1.09339480e+15, -1.59687215e+15, -1.59687215e+15,\n",
              "        -3.76196193e+14,  3.78433296e+13,  1.95005842e+15,\n",
              "         2.72563634e+14,  2.72563634e+14,  1.23285982e+15,\n",
              "        -1.23357579e+15,  1.95005842e+15,  1.78488761e+15,\n",
              "         1.78488761e+15,  1.78488761e+15,  1.78488761e+15,\n",
              "         1.78488761e+15,  7.51043177e+14,  1.16508270e+15,\n",
              "         1.16508270e+15,  1.16508270e+15,  1.88228130e+15,\n",
              "         8.36903855e+14,  8.36903855e+14,  8.36903855e+14,\n",
              "         8.36903855e+14,  8.36903855e+14]])"
            ]
          },
          "metadata": {
            "tags": []
          },
          "execution_count": 16
        }
      ]
    },
    {
      "cell_type": "code",
      "metadata": {
        "colab": {
          "base_uri": "https://localhost:8080/"
        },
        "id": "7khPBqiD03Do",
        "outputId": "204af350-e6aa-470c-9483-b233ac2db2af"
      },
      "source": [
        "lr_scaler_model.score"
      ],
      "execution_count": 17,
      "outputs": [
        {
          "output_type": "execute_result",
          "data": {
            "text/plain": [
              "<bound method RegressorMixin.score of LinearRegression(copy_X=True, fit_intercept=True, n_jobs=None, normalize=False)>"
            ]
          },
          "metadata": {
            "tags": []
          },
          "execution_count": 17
        }
      ]
    },
    {
      "cell_type": "code",
      "metadata": {
        "colab": {
          "base_uri": "https://localhost:8080/"
        },
        "id": "NRXi82csiMcA",
        "outputId": "097c721c-61eb-4160-e872-0e622a5e3fef"
      },
      "source": [
        "lr_scaler_model.intercept_, lr_scaler_model.rank_"
      ],
      "execution_count": 19,
      "outputs": [
        {
          "output_type": "execute_result",
          "data": {
            "text/plain": [
              "(array([-6.09548039e+15]), 44)"
            ]
          },
          "metadata": {
            "tags": []
          },
          "execution_count": 19
        }
      ]
    },
    {
      "cell_type": "code",
      "metadata": {
        "id": "MyX5Ee1m06nI"
      },
      "source": [
        "pickle.dump(lr_scaler_model, open('/content/drive/MyDrive/Data Science and Analytics/R00206995/model/model.pkl', 'wb') )"
      ],
      "execution_count": 20,
      "outputs": []
    },
    {
      "cell_type": "code",
      "metadata": {
        "id": "8fXrlLjgiab4"
      },
      "source": [
        ""
      ],
      "execution_count": null,
      "outputs": []
    }
  ]
}