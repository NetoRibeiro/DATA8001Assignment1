{
  "nbformat": 4,
  "nbformat_minor": 0,
  "metadata": {
    "colab": {
      "name": "Linear_Regression_Model_11042021_003_ETL_Int.ipynb",
      "provenance": [],
      "collapsed_sections": [],
      "toc_visible": true,
      "mount_file_id": "1JgfOTfovmjXHPJGe8TNIhtd-PwCNgOk3",
      "authorship_tag": "ABX9TyPB2tvw5q2b49N9TmzEXaC9",
      "include_colab_link": true
    },
    "kernelspec": {
      "name": "python3",
      "display_name": "Python 3"
    },
    "language_info": {
      "name": "python"
    }
  },
  "cells": [
    {
      "cell_type": "markdown",
      "metadata": {
        "id": "view-in-github",
        "colab_type": "text"
      },
      "source": [
        "<a href=\"https://colab.research.google.com/github/NetoRibeiro/DATA8001Assignment1/blob/main/Linear_Regression_Model_11042021_003_ETL_Int.ipynb\" target=\"_parent\"><img src=\"https://colab.research.google.com/assets/colab-badge.svg\" alt=\"Open In Colab\"/></a>"
      ]
    },
    {
      "cell_type": "markdown",
      "metadata": {
        "id": "YtQzKAZf5RUb"
      },
      "source": [
        "###Import and Load File"
      ]
    },
    {
      "cell_type": "code",
      "metadata": {
        "id": "WuiTBbx6pwYV"
      },
      "source": [
        "%matplotlib inline\n",
        "\n",
        "import matplotlib.pyplot as plt\n",
        "from matplotlib import colors\n",
        "import numpy as np\n",
        "import pandas as pd\n",
        "from datetime import datetime as dt\n",
        "\n",
        "import calendar\n",
        "import re\n",
        "import string\n",
        "\n",
        "import math\n",
        "import pickle\n",
        "from sklearn.model_selection import train_test_split\n",
        "from sklearn.preprocessing import LabelEncoder, StandardScaler, MinMaxScaler\n",
        "from sklearn.linear_model import LinearRegression\n",
        "from sklearn.metrics import mean_squared_error, r2_score, accuracy_score\n",
        "\n",
        "from scipy import stats"
      ],
      "execution_count": 1,
      "outputs": []
    },
    {
      "cell_type": "code",
      "metadata": {
        "id": "yMApn6Hop5nh"
      },
      "source": [
        "df_processed = pd.read_csv('/content/drive/MyDrive/Data Science and Analytics/R00206995/data/R00206995_processed.csv')"
      ],
      "execution_count": 2,
      "outputs": []
    },
    {
      "cell_type": "code",
      "metadata": {
        "colab": {
          "base_uri": "https://localhost:8080/",
          "height": 204
        },
        "id": "jxwz7t4xp61t",
        "outputId": "763f4fcd-bfc4-4c27-8330-25a8ff738c8c"
      },
      "source": [
        "df_processed.head()"
      ],
      "execution_count": 3,
      "outputs": [
        {
          "output_type": "execute_result",
          "data": {
            "text/html": [
              "<div>\n",
              "<style scoped>\n",
              "    .dataframe tbody tr th:only-of-type {\n",
              "        vertical-align: middle;\n",
              "    }\n",
              "\n",
              "    .dataframe tbody tr th {\n",
              "        vertical-align: top;\n",
              "    }\n",
              "\n",
              "    .dataframe thead th {\n",
              "        text-align: right;\n",
              "    }\n",
              "</style>\n",
              "<table border=\"1\" class=\"dataframe\">\n",
              "  <thead>\n",
              "    <tr style=\"text-align: right;\">\n",
              "      <th></th>\n",
              "      <th>car_reg</th>\n",
              "      <th>purchase_date</th>\n",
              "      <th>year</th>\n",
              "      <th>month</th>\n",
              "      <th>county</th>\n",
              "      <th>make</th>\n",
              "      <th>model</th>\n",
              "      <th>type</th>\n",
              "      <th>colour</th>\n",
              "      <th>tax_band</th>\n",
              "      <th>price</th>\n",
              "    </tr>\n",
              "  </thead>\n",
              "  <tbody>\n",
              "    <tr>\n",
              "      <th>0</th>\n",
              "      <td>202-C-2315</td>\n",
              "      <td>2020-07-01</td>\n",
              "      <td>2020</td>\n",
              "      <td>7</td>\n",
              "      <td>CORK</td>\n",
              "      <td>AUDI</td>\n",
              "      <td>A4</td>\n",
              "      <td>SALOON</td>\n",
              "      <td>RED</td>\n",
              "      <td>B</td>\n",
              "      <td>55287.0</td>\n",
              "    </tr>\n",
              "    <tr>\n",
              "      <th>1</th>\n",
              "      <td>191-C-3750</td>\n",
              "      <td>2019-01-20</td>\n",
              "      <td>2019</td>\n",
              "      <td>1</td>\n",
              "      <td>CORK</td>\n",
              "      <td>MAZDA</td>\n",
              "      <td>CX-30</td>\n",
              "      <td>SUV</td>\n",
              "      <td>SILVER</td>\n",
              "      <td>B</td>\n",
              "      <td>41690.0</td>\n",
              "    </tr>\n",
              "    <tr>\n",
              "      <th>2</th>\n",
              "      <td>191-L-3155</td>\n",
              "      <td>2019-03-21</td>\n",
              "      <td>2019</td>\n",
              "      <td>3</td>\n",
              "      <td>LIMERICK</td>\n",
              "      <td>BMW</td>\n",
              "      <td>3 SERIES</td>\n",
              "      <td>SALOON</td>\n",
              "      <td>WHITE</td>\n",
              "      <td>C</td>\n",
              "      <td>40381.0</td>\n",
              "    </tr>\n",
              "    <tr>\n",
              "      <th>3</th>\n",
              "      <td>191-D-2645</td>\n",
              "      <td>2019-01-26</td>\n",
              "      <td>2019</td>\n",
              "      <td>1</td>\n",
              "      <td>DUBLIN</td>\n",
              "      <td>AUDI</td>\n",
              "      <td>Q3</td>\n",
              "      <td>SUV</td>\n",
              "      <td>ORANGE</td>\n",
              "      <td>C</td>\n",
              "      <td>44836.0</td>\n",
              "    </tr>\n",
              "    <tr>\n",
              "      <th>4</th>\n",
              "      <td>181-W-341</td>\n",
              "      <td>2018-01-27</td>\n",
              "      <td>2018</td>\n",
              "      <td>1</td>\n",
              "      <td>WATERFORD</td>\n",
              "      <td>OPEL</td>\n",
              "      <td>ASTRA</td>\n",
              "      <td>HATCHBACK</td>\n",
              "      <td>RED</td>\n",
              "      <td>A</td>\n",
              "      <td>32188.0</td>\n",
              "    </tr>\n",
              "  </tbody>\n",
              "</table>\n",
              "</div>"
            ],
            "text/plain": [
              "      car_reg purchase_date  year  month  ...       type  colour tax_band    price\n",
              "0  202-C-2315    2020-07-01  2020      7  ...     SALOON     RED        B  55287.0\n",
              "1  191-C-3750    2019-01-20  2019      1  ...        SUV  SILVER        B  41690.0\n",
              "2  191-L-3155    2019-03-21  2019      3  ...     SALOON   WHITE        C  40381.0\n",
              "3  191-D-2645    2019-01-26  2019      1  ...        SUV  ORANGE        C  44836.0\n",
              "4   181-W-341    2018-01-27  2018      1  ...  HATCHBACK     RED        A  32188.0\n",
              "\n",
              "[5 rows x 11 columns]"
            ]
          },
          "metadata": {
            "tags": []
          },
          "execution_count": 3
        }
      ]
    },
    {
      "cell_type": "markdown",
      "metadata": {
        "id": "sSs9S_Ck5Wc3"
      },
      "source": [
        "###Transformation and Split"
      ]
    },
    {
      "cell_type": "code",
      "metadata": {
        "id": "cg0d1O6hp-H8"
      },
      "source": [
        "def get_feature_stats(df, list_columns):\n",
        "    lis_of_string_features = []\n",
        "    for feature in list_columns:\n",
        "      if df[feature].dtype not in ['uint8', 'int16','int32','int64','float16','float32','float64']:\n",
        "        lis_of_string_features.append(feature)\n",
        "    return lis_of_string_features\n",
        "\n",
        "\n",
        "def concat_columns(col1, col2, delimited):\n",
        "  try:\n",
        "    cols = f'{col1}{delimited}{col2}'\n",
        "    return cols\n",
        "  except Exception as ex:\n",
        "    raise Exception(f'Error when concatenate:: {ex}')\n",
        "\n",
        "\n",
        "def apply_calc_columns(col1, col2, calc):\n",
        "  try:\n",
        "    col1 = float(col1)\n",
        "    col2 = float(col2)\n",
        " \n",
        "    if calc == 'times':\n",
        "      cols = col1 * col2\n",
        " \n",
        "    elif calc == 'div':\n",
        "      try:\n",
        "        cols == col1 / col2\n",
        "      except Exception as ex:\n",
        "        raise Exception(f'Error when try to divide:: {ex}')\n",
        "        return 0.0\n",
        " \n",
        "    elif calc == 'plus':\n",
        "      cols = col1 + col2\n",
        " \n",
        "    elif calc == 'minus':\n",
        "      cols = col1 - col2\n",
        " \n",
        "    else:\n",
        "      cols = 0\n",
        "\n",
        "    return cols\n",
        "  except Exception as ex:\n",
        "    raise Exception(f'Error when convert to a float:: {ex}')\n"
      ],
      "execution_count": 4,
      "outputs": []
    },
    {
      "cell_type": "code",
      "metadata": {
        "id": "WDOZVdWETJUz"
      },
      "source": [
        "df_concats = df_processed.copy()"
      ],
      "execution_count": 5,
      "outputs": []
    },
    {
      "cell_type": "code",
      "metadata": {
        "id": "CL46C0GkxqGU"
      },
      "source": [
        "df_concats.drop(['car_reg', 'purchase_date', 'month'], axis=1, inplace=True)"
      ],
      "execution_count": 6,
      "outputs": []
    },
    {
      "cell_type": "code",
      "metadata": {
        "id": "MFkdT7GDu7bh"
      },
      "source": [
        "list_columns = df_concats.columns\n",
        "list_feature = get_feature_stats(df_concats, list_columns)"
      ],
      "execution_count": 7,
      "outputs": []
    },
    {
      "cell_type": "code",
      "metadata": {
        "id": "yxH3EeaYvZw_"
      },
      "source": [
        "df_train, df_test = train_test_split(df_concats.copy() ,test_size=0.2, random_state=8001)"
      ],
      "execution_count": 8,
      "outputs": []
    },
    {
      "cell_type": "code",
      "metadata": {
        "colab": {
          "base_uri": "https://localhost:8080/",
          "height": 142
        },
        "id": "tc_8jAKrHPbM",
        "outputId": "7794ff40-959b-4c26-92ec-b1cf13cb340b"
      },
      "source": [
        "df_concats.head(3)"
      ],
      "execution_count": 9,
      "outputs": [
        {
          "output_type": "execute_result",
          "data": {
            "text/html": [
              "<div>\n",
              "<style scoped>\n",
              "    .dataframe tbody tr th:only-of-type {\n",
              "        vertical-align: middle;\n",
              "    }\n",
              "\n",
              "    .dataframe tbody tr th {\n",
              "        vertical-align: top;\n",
              "    }\n",
              "\n",
              "    .dataframe thead th {\n",
              "        text-align: right;\n",
              "    }\n",
              "</style>\n",
              "<table border=\"1\" class=\"dataframe\">\n",
              "  <thead>\n",
              "    <tr style=\"text-align: right;\">\n",
              "      <th></th>\n",
              "      <th>year</th>\n",
              "      <th>county</th>\n",
              "      <th>make</th>\n",
              "      <th>model</th>\n",
              "      <th>type</th>\n",
              "      <th>colour</th>\n",
              "      <th>tax_band</th>\n",
              "      <th>price</th>\n",
              "    </tr>\n",
              "  </thead>\n",
              "  <tbody>\n",
              "    <tr>\n",
              "      <th>0</th>\n",
              "      <td>2020</td>\n",
              "      <td>CORK</td>\n",
              "      <td>AUDI</td>\n",
              "      <td>A4</td>\n",
              "      <td>SALOON</td>\n",
              "      <td>RED</td>\n",
              "      <td>B</td>\n",
              "      <td>55287.0</td>\n",
              "    </tr>\n",
              "    <tr>\n",
              "      <th>1</th>\n",
              "      <td>2019</td>\n",
              "      <td>CORK</td>\n",
              "      <td>MAZDA</td>\n",
              "      <td>CX-30</td>\n",
              "      <td>SUV</td>\n",
              "      <td>SILVER</td>\n",
              "      <td>B</td>\n",
              "      <td>41690.0</td>\n",
              "    </tr>\n",
              "    <tr>\n",
              "      <th>2</th>\n",
              "      <td>2019</td>\n",
              "      <td>LIMERICK</td>\n",
              "      <td>BMW</td>\n",
              "      <td>3 SERIES</td>\n",
              "      <td>SALOON</td>\n",
              "      <td>WHITE</td>\n",
              "      <td>C</td>\n",
              "      <td>40381.0</td>\n",
              "    </tr>\n",
              "  </tbody>\n",
              "</table>\n",
              "</div>"
            ],
            "text/plain": [
              "   year    county   make     model    type  colour tax_band    price\n",
              "0  2020      CORK   AUDI        A4  SALOON     RED        B  55287.0\n",
              "1  2019      CORK  MAZDA     CX-30     SUV  SILVER        B  41690.0\n",
              "2  2019  LIMERICK    BMW  3 SERIES  SALOON   WHITE        C  40381.0"
            ]
          },
          "metadata": {
            "tags": []
          },
          "execution_count": 9
        }
      ]
    },
    {
      "cell_type": "code",
      "metadata": {
        "colab": {
          "base_uri": "https://localhost:8080/",
          "height": 142
        },
        "id": "DeyKl3VG4OJg",
        "outputId": "760195a5-cb49-4195-bce8-0425e2ae1964"
      },
      "source": [
        "df_train.head(3)"
      ],
      "execution_count": 10,
      "outputs": [
        {
          "output_type": "execute_result",
          "data": {
            "text/html": [
              "<div>\n",
              "<style scoped>\n",
              "    .dataframe tbody tr th:only-of-type {\n",
              "        vertical-align: middle;\n",
              "    }\n",
              "\n",
              "    .dataframe tbody tr th {\n",
              "        vertical-align: top;\n",
              "    }\n",
              "\n",
              "    .dataframe thead th {\n",
              "        text-align: right;\n",
              "    }\n",
              "</style>\n",
              "<table border=\"1\" class=\"dataframe\">\n",
              "  <thead>\n",
              "    <tr style=\"text-align: right;\">\n",
              "      <th></th>\n",
              "      <th>year</th>\n",
              "      <th>county</th>\n",
              "      <th>make</th>\n",
              "      <th>model</th>\n",
              "      <th>type</th>\n",
              "      <th>colour</th>\n",
              "      <th>tax_band</th>\n",
              "      <th>price</th>\n",
              "    </tr>\n",
              "  </thead>\n",
              "  <tbody>\n",
              "    <tr>\n",
              "      <th>654</th>\n",
              "      <td>2018</td>\n",
              "      <td>DUBLIN</td>\n",
              "      <td>MAZDA</td>\n",
              "      <td>CX-30</td>\n",
              "      <td>SUV</td>\n",
              "      <td>WHITE</td>\n",
              "      <td>C</td>\n",
              "      <td>41920.0</td>\n",
              "    </tr>\n",
              "    <tr>\n",
              "      <th>1947</th>\n",
              "      <td>2018</td>\n",
              "      <td>WATERFORD</td>\n",
              "      <td>FORD</td>\n",
              "      <td>KUGA</td>\n",
              "      <td>SUV</td>\n",
              "      <td>WHITE</td>\n",
              "      <td>B</td>\n",
              "      <td>34961.0</td>\n",
              "    </tr>\n",
              "    <tr>\n",
              "      <th>3698</th>\n",
              "      <td>2020</td>\n",
              "      <td>DUBLIN</td>\n",
              "      <td>BMW</td>\n",
              "      <td>3 SERIES</td>\n",
              "      <td>SALOON</td>\n",
              "      <td>BLUE</td>\n",
              "      <td>B</td>\n",
              "      <td>69784.0</td>\n",
              "    </tr>\n",
              "  </tbody>\n",
              "</table>\n",
              "</div>"
            ],
            "text/plain": [
              "      year     county   make     model    type colour tax_band    price\n",
              "654   2018     DUBLIN  MAZDA     CX-30     SUV  WHITE        C  41920.0\n",
              "1947  2018  WATERFORD   FORD      KUGA     SUV  WHITE        B  34961.0\n",
              "3698  2020     DUBLIN    BMW  3 SERIES  SALOON   BLUE        B  69784.0"
            ]
          },
          "metadata": {
            "tags": []
          },
          "execution_count": 10
        }
      ]
    },
    {
      "cell_type": "code",
      "metadata": {
        "colab": {
          "base_uri": "https://localhost:8080/"
        },
        "id": "G7In0zB35y2X",
        "outputId": "36fe1f32-6933-4344-c0e0-5726f2993eb9"
      },
      "source": [
        "list_feature"
      ],
      "execution_count": 11,
      "outputs": [
        {
          "output_type": "execute_result",
          "data": {
            "text/plain": [
              "['county', 'make', 'model', 'type', 'colour', 'tax_band']"
            ]
          },
          "metadata": {
            "tags": []
          },
          "execution_count": 11
        }
      ]
    },
    {
      "cell_type": "code",
      "metadata": {
        "id": "ETkN5fm4qG8_"
      },
      "source": [
        "#Convert all string features to a int features\n",
        "for feature in list_feature:\n",
        "  label_condition = LabelEncoder()\n",
        "  df_train[feature] = 1 + label_condition.fit_transform(df_train[feature])\n",
        "  df_test[feature] = 1 + label_condition.fit_transform(df_test[feature])\n",
        "  df_concats[feature] = 1 + label_condition.fit_transform(df_concats[feature])"
      ],
      "execution_count": 12,
      "outputs": []
    },
    {
      "cell_type": "code",
      "metadata": {
        "id": "PVZl5uTOxAy8"
      },
      "source": [
        "#df_train.head(3)\n",
        "df_tofit = df_concats.copy()"
      ],
      "execution_count": 16,
      "outputs": []
    },
    {
      "cell_type": "code",
      "metadata": {
        "colab": {
          "base_uri": "https://localhost:8080/"
        },
        "id": "0JycCSKn473P",
        "outputId": "407348f8-41b4-45a2-ec44-f4f80a787bb7"
      },
      "source": [
        "label_condition.classes_ "
      ],
      "execution_count": 17,
      "outputs": [
        {
          "output_type": "execute_result",
          "data": {
            "text/plain": [
              "array(['A', 'B', 'C', 'D', 'E'], dtype=object)"
            ]
          },
          "metadata": {
            "tags": []
          },
          "execution_count": 17
        }
      ]
    },
    {
      "cell_type": "code",
      "metadata": {
        "id": "-EgZXv9eIqwo"
      },
      "source": [
        "df_train['county_colour'] = df_train.apply(lambda row: apply_calc_columns(row['county'], row['colour'],\"times\"), axis=1)\n",
        "df_test['county_colour'] = df_test.apply(lambda row: apply_calc_columns(row['county'], row['colour'],\"times\"), axis=1)\n",
        "df_tofit['county_colour'] = df_tofit.apply(lambda row: apply_calc_columns(row['county'], row['colour'],\"times\"), axis=1)"
      ],
      "execution_count": 18,
      "outputs": []
    },
    {
      "cell_type": "code",
      "metadata": {
        "id": "OQ6LoMSjI3_d"
      },
      "source": [
        "df_train['year_county'] = df_train.apply(lambda row: apply_calc_columns(row['year'], row['county'],\"times\"), axis=1)\n",
        "df_test['year_county'] = df_test.apply(lambda row: apply_calc_columns(row['year'], row['county'],\"times\"), axis=1)\n",
        "df_tofit['year_county'] = df_tofit.apply(lambda row: apply_calc_columns(row['year'], row['county'],\"times\"), axis=1)"
      ],
      "execution_count": 19,
      "outputs": []
    },
    {
      "cell_type": "code",
      "metadata": {
        "id": "dk9uqt6mJBXv"
      },
      "source": [
        "df_train['year_colour'] = df_train.apply(lambda row: apply_calc_columns(row['year'], row['colour'],\"times\"), axis=1)\n",
        "df_test['year_colour'] = df_test.apply(lambda row: apply_calc_columns(row['year'], row['colour'],\"times\"), axis=1)\n",
        "df_tofit['year_colour'] = df_tofit.apply(lambda row: apply_calc_columns(row['year'], row['colour'],\"times\"), axis=1)"
      ],
      "execution_count": 20,
      "outputs": []
    },
    {
      "cell_type": "code",
      "metadata": {
        "id": "gDa60Xl0JIdQ"
      },
      "source": [
        "df_train['county_type'] = df_train.apply(lambda row: apply_calc_columns(row['county'], row['type'],\"times\"), axis=1)\n",
        "df_test['county_type'] = df_test.apply(lambda row: apply_calc_columns(row['county'], row['type'],\"times\"), axis=1)\n",
        "df_tofit['county_type'] = df_tofit.apply(lambda row: apply_calc_columns(row['county'], row['type'],\"times\"), axis=1)"
      ],
      "execution_count": 21,
      "outputs": []
    },
    {
      "cell_type": "code",
      "metadata": {
        "id": "UMdKdHfZJQQo"
      },
      "source": [
        "df_train['type_colour'] = df_train.apply(lambda row: apply_calc_columns(row['type'], row['colour'],\"times\"), axis=1)\n",
        "df_test['type_colour'] = df_test.apply(lambda row: apply_calc_columns(row['type'], row['colour'],\"times\"), axis=1)\n",
        "df_tofit['type_colour'] = df_tofit.apply(lambda row: apply_calc_columns(row['type'], row['colour'],\"times\"), axis=1)"
      ],
      "execution_count": 22,
      "outputs": []
    },
    {
      "cell_type": "code",
      "metadata": {
        "id": "GBTWCGVCJbcO"
      },
      "source": [
        "df_train['year_type'] = df_train.apply(lambda row: apply_calc_columns(row['year'], row['type'],\"times\"), axis=1)\n",
        "df_test['year_type'] = df_test.apply(lambda row: apply_calc_columns(row['year'], row['type'],\"times\"), axis=1)\n",
        "df_tofit['year_type'] = df_tofit.apply(lambda row: apply_calc_columns(row['year'], row['type'],\"times\"), axis=1)"
      ],
      "execution_count": 23,
      "outputs": []
    },
    {
      "cell_type": "code",
      "metadata": {
        "id": "X_daF3etJikP"
      },
      "source": [
        "df_train['year_county_colour'] = df_train.apply(lambda row: apply_calc_columns(row['year_county'], row['colour'],\"times\"), axis=1)\n",
        "df_test['year_county_colour'] = df_test.apply(lambda row: apply_calc_columns(row['year_county'], row['colour'],\"times\"), axis=1)\n",
        "df_tofit['year_county_colour'] = df_tofit.apply(lambda row: apply_calc_columns(row['year_county'], row['colour'],\"times\"), axis=1)"
      ],
      "execution_count": 24,
      "outputs": []
    },
    {
      "cell_type": "code",
      "metadata": {
        "id": "_Vbii3JbJxSq"
      },
      "source": [
        "df_train['county_type_colour'] = df_train.apply(lambda row: apply_calc_columns(row['county_type'], row['colour'],\"times\"), axis=1)\n",
        "df_test['county_type_colour'] = df_test.apply(lambda row: apply_calc_columns(row['county_type'], row['colour'],\"times\"), axis=1)\n",
        "df_tofit['county_type_colour'] = df_tofit.apply(lambda row: apply_calc_columns(row['county_type'], row['colour'],\"times\"), axis=1)"
      ],
      "execution_count": 25,
      "outputs": []
    },
    {
      "cell_type": "code",
      "metadata": {
        "id": "_B0zdPK8J6_q"
      },
      "source": [
        "df_train['year_county_type'] = df_train.apply(lambda row: apply_calc_columns(row['year_county'], row['type'],\"times\"), axis=1)\n",
        "df_test['year_county_type'] = df_test.apply(lambda row: apply_calc_columns(row['year_county'], row['type'],\"times\"), axis=1)\n",
        "df_tofit['year_county_type'] = df_tofit.apply(lambda row: apply_calc_columns(row['year_county'], row['type'],\"times\"), axis=1)"
      ],
      "execution_count": 26,
      "outputs": []
    },
    {
      "cell_type": "code",
      "metadata": {
        "id": "JtStvzIuKHS7"
      },
      "source": [
        "df_train['year_type_colour'] = df_train.apply(lambda row: apply_calc_columns(row['year_type'], row['colour'],\"times\"), axis=1)\n",
        "df_test['year_type_colour'] = df_test.apply(lambda row: apply_calc_columns(row['year_type'], row['colour'],\"times\"), axis=1)\n",
        "df_tofit['year_type_colour'] = df_tofit.apply(lambda row: apply_calc_columns(row['year_type'], row['colour'],\"times\"), axis=1)"
      ],
      "execution_count": 27,
      "outputs": []
    },
    {
      "cell_type": "code",
      "metadata": {
        "id": "XXdqMgC-KWPq"
      },
      "source": [
        "df_train['year_county_type_colour'] = df_train.apply(lambda row: apply_calc_columns(row['year_county_type'], row['colour'],\"times\"), axis=1)\n",
        "df_test['year_county_type_colour'] = df_test.apply(lambda row: apply_calc_columns(row['year_county_type'], row['colour'],\"times\"), axis=1)\n",
        "df_tofit['year_county_type_colour'] = df_tofit.apply(lambda row: apply_calc_columns(row['year_county_type'], row['colour'],\"times\"), axis=1)"
      ],
      "execution_count": 28,
      "outputs": []
    },
    {
      "cell_type": "code",
      "metadata": {
        "id": "yPZqEKLRMjQ2"
      },
      "source": [
        "df_tofit.to_csv('/content/drive/MyDrive/Data Science and Analytics/R00206995/data/R00206995_basic_003_tofit.csv', index=False)"
      ],
      "execution_count": 29,
      "outputs": []
    },
    {
      "cell_type": "code",
      "metadata": {
        "colab": {
          "base_uri": "https://localhost:8080/",
          "height": 162
        },
        "id": "WHeEVG5gK1vd",
        "outputId": "b8b4752e-f1b3-4fac-cbb4-823d48787388"
      },
      "source": [
        "df_tofit.head(3)"
      ],
      "execution_count": 30,
      "outputs": [
        {
          "output_type": "execute_result",
          "data": {
            "text/html": [
              "<div>\n",
              "<style scoped>\n",
              "    .dataframe tbody tr th:only-of-type {\n",
              "        vertical-align: middle;\n",
              "    }\n",
              "\n",
              "    .dataframe tbody tr th {\n",
              "        vertical-align: top;\n",
              "    }\n",
              "\n",
              "    .dataframe thead th {\n",
              "        text-align: right;\n",
              "    }\n",
              "</style>\n",
              "<table border=\"1\" class=\"dataframe\">\n",
              "  <thead>\n",
              "    <tr style=\"text-align: right;\">\n",
              "      <th></th>\n",
              "      <th>year</th>\n",
              "      <th>county</th>\n",
              "      <th>make</th>\n",
              "      <th>model</th>\n",
              "      <th>type</th>\n",
              "      <th>colour</th>\n",
              "      <th>tax_band</th>\n",
              "      <th>price</th>\n",
              "      <th>county_colour</th>\n",
              "      <th>year_county</th>\n",
              "      <th>year_colour</th>\n",
              "      <th>county_type</th>\n",
              "      <th>type_colour</th>\n",
              "      <th>year_type</th>\n",
              "      <th>year_county_colour</th>\n",
              "      <th>county_type_colour</th>\n",
              "      <th>year_county_type</th>\n",
              "      <th>year_type_colour</th>\n",
              "      <th>year_county_type_colour</th>\n",
              "    </tr>\n",
              "  </thead>\n",
              "  <tbody>\n",
              "    <tr>\n",
              "      <th>0</th>\n",
              "      <td>2020</td>\n",
              "      <td>1</td>\n",
              "      <td>1</td>\n",
              "      <td>6</td>\n",
              "      <td>4</td>\n",
              "      <td>3</td>\n",
              "      <td>2</td>\n",
              "      <td>55287.0</td>\n",
              "      <td>3.0</td>\n",
              "      <td>2020.0</td>\n",
              "      <td>6060.0</td>\n",
              "      <td>4.0</td>\n",
              "      <td>12.0</td>\n",
              "      <td>8080.0</td>\n",
              "      <td>6060.0</td>\n",
              "      <td>12.0</td>\n",
              "      <td>8080.0</td>\n",
              "      <td>24240.0</td>\n",
              "      <td>24240.0</td>\n",
              "    </tr>\n",
              "    <tr>\n",
              "      <th>1</th>\n",
              "      <td>2019</td>\n",
              "      <td>1</td>\n",
              "      <td>4</td>\n",
              "      <td>15</td>\n",
              "      <td>5</td>\n",
              "      <td>4</td>\n",
              "      <td>2</td>\n",
              "      <td>41690.0</td>\n",
              "      <td>4.0</td>\n",
              "      <td>2019.0</td>\n",
              "      <td>8076.0</td>\n",
              "      <td>5.0</td>\n",
              "      <td>20.0</td>\n",
              "      <td>10095.0</td>\n",
              "      <td>8076.0</td>\n",
              "      <td>20.0</td>\n",
              "      <td>10095.0</td>\n",
              "      <td>40380.0</td>\n",
              "      <td>40380.0</td>\n",
              "    </tr>\n",
              "    <tr>\n",
              "      <th>2</th>\n",
              "      <td>2019</td>\n",
              "      <td>4</td>\n",
              "      <td>2</td>\n",
              "      <td>2</td>\n",
              "      <td>4</td>\n",
              "      <td>5</td>\n",
              "      <td>3</td>\n",
              "      <td>40381.0</td>\n",
              "      <td>20.0</td>\n",
              "      <td>8076.0</td>\n",
              "      <td>10095.0</td>\n",
              "      <td>16.0</td>\n",
              "      <td>20.0</td>\n",
              "      <td>8076.0</td>\n",
              "      <td>40380.0</td>\n",
              "      <td>80.0</td>\n",
              "      <td>32304.0</td>\n",
              "      <td>40380.0</td>\n",
              "      <td>161520.0</td>\n",
              "    </tr>\n",
              "  </tbody>\n",
              "</table>\n",
              "</div>"
            ],
            "text/plain": [
              "   year  county  ...  year_type_colour  year_county_type_colour\n",
              "0  2020       1  ...           24240.0                  24240.0\n",
              "1  2019       1  ...           40380.0                  40380.0\n",
              "2  2019       4  ...           40380.0                 161520.0\n",
              "\n",
              "[3 rows x 19 columns]"
            ]
          },
          "metadata": {
            "tags": []
          },
          "execution_count": 30
        }
      ]
    },
    {
      "cell_type": "code",
      "metadata": {
        "colab": {
          "base_uri": "https://localhost:8080/"
        },
        "id": "DqRwImdvqLh0",
        "outputId": "6842beb6-26d3-44c4-d863-2c5c3688c26a"
      },
      "source": [
        "# X variables (independent)\n",
        "output_feature_dummies = 'price'\n",
        "input_features_new_fit = [item for item in df_tofit.columns if item not in output_feature_dummies]\n",
        "print(input_features_new_fit)"
      ],
      "execution_count": 33,
      "outputs": [
        {
          "output_type": "stream",
          "text": [
            "['year', 'county', 'make', 'model', 'type', 'colour', 'tax_band', 'county_colour', 'year_county', 'year_colour', 'county_type', 'type_colour', 'year_type', 'year_county_colour', 'county_type_colour', 'year_county_type', 'year_type_colour', 'year_county_type_colour']\n"
          ],
          "name": "stdout"
        }
      ]
    },
    {
      "cell_type": "code",
      "metadata": {
        "colab": {
          "base_uri": "https://localhost:8080/"
        },
        "id": "kfpSt8_6H3W1",
        "outputId": "0ecec17a-10d1-4ad1-eaac-17ab3560f3c5"
      },
      "source": [
        "# X variables (independent)\n",
        "output_feature_dummies = 'price'\n",
        "input_features_dummies = [item for item in df_train.columns if item not in output_feature_dummies]\n",
        "print(input_features_dummies)"
      ],
      "execution_count": 34,
      "outputs": [
        {
          "output_type": "stream",
          "text": [
            "['year', 'county', 'make', 'model', 'type', 'colour', 'tax_band', 'county_colour', 'year_county', 'year_colour', 'county_type', 'type_colour', 'year_type', 'year_county_colour', 'county_type_colour', 'year_county_type', 'year_type_colour', 'year_county_type_colour']\n"
          ],
          "name": "stdout"
        }
      ]
    },
    {
      "cell_type": "code",
      "metadata": {
        "colab": {
          "base_uri": "https://localhost:8080/"
        },
        "id": "awnuNqWZIJOE",
        "outputId": "3340371e-edfa-46dc-e1e5-663c7b043d03"
      },
      "source": [
        "# Apply Standar Scaler for a list of features\n",
        "for column in df_concats.columns:\n",
        "\n",
        "  if column in input_features_new_fit:\n",
        "    scaler_column = StandardScaler()\n",
        "    scaler_column.fit(df_concats[column].values.reshape(-1, 1))\n",
        "    df_concats[column] = scaler_column.transform(df_concats[column].values.reshape(-1, 1))\n",
        "      \n",
        "  else:\n",
        "    print(f'skip:\\t{column}')\n",
        "df_tofit.to_csv('/content/drive/MyDrive/Data Science and Analytics/R00206995/data/R00206995_basic_std_003_tofit.csv', index=False)"
      ],
      "execution_count": 35,
      "outputs": [
        {
          "output_type": "stream",
          "text": [
            "skip:\tprice\n"
          ],
          "name": "stdout"
        }
      ]
    },
    {
      "cell_type": "code",
      "metadata": {
        "id": "jxzlXwd1Rrrm"
      },
      "source": [
        "#df_dummies.head(3)"
      ],
      "execution_count": 36,
      "outputs": []
    },
    {
      "cell_type": "code",
      "metadata": {
        "colab": {
          "base_uri": "https://localhost:8080/"
        },
        "id": "Cupfnjvz07Uu",
        "outputId": "6acd5422-15a6-4f29-fa3e-6a70b2350b11"
      },
      "source": [
        "# Apply Standar Scaler for a list of features\n",
        "for column in df_train.columns:\n",
        "\n",
        "  if column in input_features_dummies:\n",
        "    scaler_column = StandardScaler()\n",
        "    scaler_column.fit(df_train[column].values.reshape(-1, 1))\n",
        "    df_train[column] = scaler_column.transform(df_train[column].values.reshape(-1, 1))\n",
        "    df_test[column] = scaler_column.transform(df_test[column].values.reshape(-1, 1))\n",
        "    \n",
        "  \n",
        "  else:\n",
        "    print(f'skip:\\t{column}')\n",
        "# df_dummies.to_csv('/content/drive/MyDrive/Data Science and Analytics/R00206995/data/R00206995_tofit_dum.csv', index=False)"
      ],
      "execution_count": 37,
      "outputs": [
        {
          "output_type": "stream",
          "text": [
            "skip:\tprice\n"
          ],
          "name": "stdout"
        }
      ]
    },
    {
      "cell_type": "markdown",
      "metadata": {
        "id": "TJMb_5f7xrGj"
      },
      "source": [
        "###Linear Regressor Model\n",
        "####Standard Scaler plus Best Features Dummies"
      ]
    },
    {
      "cell_type": "code",
      "metadata": {
        "id": "Fe0_K5GwyAQ4"
      },
      "source": [
        "X_train = df_train[input_features_dummies].values\n",
        "X_test = df_test[input_features_dummies].values\n",
        "\n",
        "y_train = df_train[[output_feature_dummies]].values\n",
        "y_test = df_test[[output_feature_dummies]].values"
      ],
      "execution_count": 38,
      "outputs": []
    },
    {
      "cell_type": "code",
      "metadata": {
        "colab": {
          "base_uri": "https://localhost:8080/",
          "height": 162
        },
        "id": "CmDqWim4LOC0",
        "outputId": "eabe911f-8627-4a31-d0d2-e2fe783c8701"
      },
      "source": [
        "df_train.head(3)"
      ],
      "execution_count": 39,
      "outputs": [
        {
          "output_type": "execute_result",
          "data": {
            "text/html": [
              "<div>\n",
              "<style scoped>\n",
              "    .dataframe tbody tr th:only-of-type {\n",
              "        vertical-align: middle;\n",
              "    }\n",
              "\n",
              "    .dataframe tbody tr th {\n",
              "        vertical-align: top;\n",
              "    }\n",
              "\n",
              "    .dataframe thead th {\n",
              "        text-align: right;\n",
              "    }\n",
              "</style>\n",
              "<table border=\"1\" class=\"dataframe\">\n",
              "  <thead>\n",
              "    <tr style=\"text-align: right;\">\n",
              "      <th></th>\n",
              "      <th>year</th>\n",
              "      <th>county</th>\n",
              "      <th>make</th>\n",
              "      <th>model</th>\n",
              "      <th>type</th>\n",
              "      <th>colour</th>\n",
              "      <th>tax_band</th>\n",
              "      <th>price</th>\n",
              "      <th>county_colour</th>\n",
              "      <th>year_county</th>\n",
              "      <th>year_colour</th>\n",
              "      <th>county_type</th>\n",
              "      <th>type_colour</th>\n",
              "      <th>year_type</th>\n",
              "      <th>year_county_colour</th>\n",
              "      <th>county_type_colour</th>\n",
              "      <th>year_county_type</th>\n",
              "      <th>year_type_colour</th>\n",
              "      <th>year_county_type_colour</th>\n",
              "    </tr>\n",
              "  </thead>\n",
              "  <tbody>\n",
              "    <tr>\n",
              "      <th>654</th>\n",
              "      <td>-1.254703</td>\n",
              "      <td>-0.411111</td>\n",
              "      <td>-0.126048</td>\n",
              "      <td>-0.071977</td>\n",
              "      <td>1.443934</td>\n",
              "      <td>0.968045</td>\n",
              "      <td>1.086334</td>\n",
              "      <td>41920.0</td>\n",
              "      <td>0.180306</td>\n",
              "      <td>-0.411933</td>\n",
              "      <td>0.966388</td>\n",
              "      <td>0.289755</td>\n",
              "      <td>1.955312</td>\n",
              "      <td>1.44156</td>\n",
              "      <td>0.179487</td>\n",
              "      <td>0.837154</td>\n",
              "      <td>0.288762</td>\n",
              "      <td>1.953382</td>\n",
              "      <td>0.836082</td>\n",
              "    </tr>\n",
              "    <tr>\n",
              "      <th>1947</th>\n",
              "      <td>-1.254703</td>\n",
              "      <td>2.018788</td>\n",
              "      <td>-0.638329</td>\n",
              "      <td>0.728682</td>\n",
              "      <td>1.443934</td>\n",
              "      <td>0.968045</td>\n",
              "      <td>-0.206212</td>\n",
              "      <td>34961.0</td>\n",
              "      <td>2.619324</td>\n",
              "      <td>2.016761</td>\n",
              "      <td>0.966388</td>\n",
              "      <td>3.209715</td>\n",
              "      <td>1.955312</td>\n",
              "      <td>1.44156</td>\n",
              "      <td>2.617270</td>\n",
              "      <td>3.997847</td>\n",
              "      <td>3.207223</td>\n",
              "      <td>1.953382</td>\n",
              "      <td>3.995160</td>\n",
              "    </tr>\n",
              "    <tr>\n",
              "      <th>3698</th>\n",
              "      <td>1.195070</td>\n",
              "      <td>-0.411111</td>\n",
              "      <td>-1.150611</td>\n",
              "      <td>-1.558914</td>\n",
              "      <td>0.536813</td>\n",
              "      <td>-1.661267</td>\n",
              "      <td>-0.206212</td>\n",
              "      <td>69784.0</td>\n",
              "      <td>-1.120504</td>\n",
              "      <td>-0.410328</td>\n",
              "      <td>-1.660946</td>\n",
              "      <td>-0.099573</td>\n",
              "      <td>-1.201591</td>\n",
              "      <td>0.53853</td>\n",
              "      <td>-1.120342</td>\n",
              "      <td>-0.932834</td>\n",
              "      <td>-0.098824</td>\n",
              "      <td>-1.201291</td>\n",
              "      <td>-0.932668</td>\n",
              "    </tr>\n",
              "  </tbody>\n",
              "</table>\n",
              "</div>"
            ],
            "text/plain": [
              "          year    county  ...  year_type_colour  year_county_type_colour\n",
              "654  -1.254703 -0.411111  ...          1.953382                 0.836082\n",
              "1947 -1.254703  2.018788  ...          1.953382                 3.995160\n",
              "3698  1.195070 -0.411111  ...         -1.201291                -0.932668\n",
              "\n",
              "[3 rows x 19 columns]"
            ]
          },
          "metadata": {
            "tags": []
          },
          "execution_count": 39
        }
      ]
    },
    {
      "cell_type": "code",
      "metadata": {
        "id": "2dzEArDRzvRz"
      },
      "source": [
        "lr_scaler_model = LinearRegression()\n",
        "lr_scaler_model.fit(X=X_train, y=y_train)\n",
        "lr_scaler_model_prodict = lr_scaler_model.predict(X=X_test)\n",
        "lr_scaler_model_mse = mean_squared_error(y_pred=lr_scaler_model_prodict, y_true=y_test)\n",
        "lr_scaler_model_r_sq = r2_score(y_pred=lr_scaler_model_prodict, y_true=y_test)"
      ],
      "execution_count": 40,
      "outputs": []
    },
    {
      "cell_type": "markdown",
      "metadata": {
        "id": "Zvxl0etZ39Nj"
      },
      "source": [
        "###Valitation Test:: Linear Regressor Model Standard Scaler and Best Features Dummies"
      ]
    },
    {
      "cell_type": "code",
      "metadata": {
        "id": "wVdnfuEt36ux",
        "colab": {
          "base_uri": "https://localhost:8080/"
        },
        "outputId": "4266f55b-dafd-4100-8d39-dbfe7c9eaba2"
      },
      "source": [
        "print(f'Linear Model StandardScaler Features Accuracy:\\nRMSE={math.sqrt(lr_scaler_model_mse):,.0f}\\nRSq={lr_scaler_model_r_sq:.2f} or {lr_scaler_model_r_sq*100:.0f}% of the variability in Y can be explained using X')"
      ],
      "execution_count": 41,
      "outputs": [
        {
          "output_type": "stream",
          "text": [
            "Linear Model StandardScaler Features Accuracy:\n",
            "RMSE=22,285\n",
            "RSq=0.44 or 44% of the variability in Y can be explained using X\n"
          ],
          "name": "stdout"
        }
      ]
    },
    {
      "cell_type": "code",
      "metadata": {
        "id": "HfkzkHon4eyB",
        "colab": {
          "base_uri": "https://localhost:8080/"
        },
        "outputId": "a5ef7f22-0465-4b5c-c35e-b382d96a51ce"
      },
      "source": [
        "lr_scaler_model.coef_"
      ],
      "execution_count": 42,
      "outputs": [
        {
          "output_type": "execute_result",
          "data": {
            "text/plain": [
              "array([[ 2.00138318e+04,  1.85691985e+07, -3.51258663e+03,\n",
              "        -5.83093233e+03,  1.56937617e+07,  2.19631988e+07,\n",
              "         1.53081924e+04, -2.59267472e+07, -1.85733993e+07,\n",
              "        -2.19656261e+07, -2.48807018e+07, -2.79217789e+07,\n",
              "        -1.56954804e+07,  2.59325786e+07,  3.05858736e+07,\n",
              "         2.48873977e+07,  2.79254545e+07, -3.05936604e+07]])"
            ]
          },
          "metadata": {
            "tags": []
          },
          "execution_count": 42
        }
      ]
    },
    {
      "cell_type": "code",
      "metadata": {
        "colab": {
          "base_uri": "https://localhost:8080/"
        },
        "id": "7khPBqiD03Do",
        "outputId": "e2be3954-a1e5-4efa-ede7-6a989ca82c06"
      },
      "source": [
        "lr_scaler_model.score"
      ],
      "execution_count": 43,
      "outputs": [
        {
          "output_type": "execute_result",
          "data": {
            "text/plain": [
              "<bound method RegressorMixin.score of LinearRegression(copy_X=True, fit_intercept=True, n_jobs=None, normalize=False)>"
            ]
          },
          "metadata": {
            "tags": []
          },
          "execution_count": 43
        }
      ]
    },
    {
      "cell_type": "code",
      "metadata": {
        "colab": {
          "base_uri": "https://localhost:8080/"
        },
        "id": "NRXi82csiMcA",
        "outputId": "18a82302-d330-41f3-807d-095649a8858d"
      },
      "source": [
        "lr_scaler_model.intercept_, lr_scaler_model.rank_"
      ],
      "execution_count": 44,
      "outputs": [
        {
          "output_type": "execute_result",
          "data": {
            "text/plain": [
              "(array([46814.18519738]), 18)"
            ]
          },
          "metadata": {
            "tags": []
          },
          "execution_count": 44
        }
      ]
    },
    {
      "cell_type": "code",
      "metadata": {
        "id": "MyX5Ee1m06nI"
      },
      "source": [
        "#pickle.dump(lr_scaler_model, open('/content/drive/MyDrive/Data Science and Analytics/R00206995/model/model.pkl', 'wb') )"
      ],
      "execution_count": 45,
      "outputs": []
    },
    {
      "cell_type": "code",
      "metadata": {
        "colab": {
          "base_uri": "https://localhost:8080/"
        },
        "id": "S-jIK5B1FGOk",
        "outputId": "8b31a6f3-7056-43cf-d3ac-2477ef687cad"
      },
      "source": [
        "shapiro_test = stats.shapiro(X_train)\n",
        "shapiro_test"
      ],
      "execution_count": 46,
      "outputs": [
        {
          "output_type": "stream",
          "text": [
            "/usr/local/lib/python3.7/dist-packages/scipy/stats/morestats.py:1676: UserWarning: p-value may not be accurate for N > 5000.\n",
            "  warnings.warn(\"p-value may not be accurate for N > 5000.\")\n"
          ],
          "name": "stderr"
        },
        {
          "output_type": "execute_result",
          "data": {
            "text/plain": [
              "(0.9757099747657776, 0.0)"
            ]
          },
          "metadata": {
            "tags": []
          },
          "execution_count": 46
        }
      ]
    },
    {
      "cell_type": "code",
      "metadata": {
        "id": "oYAgAUHAFv3W"
      },
      "source": [
        ""
      ],
      "execution_count": null,
      "outputs": []
    },
    {
      "cell_type": "code",
      "metadata": {
        "id": "rbXBDasnGYxM"
      },
      "source": [
        ""
      ],
      "execution_count": null,
      "outputs": []
    }
  ]
}