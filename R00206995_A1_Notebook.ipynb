{
  "nbformat": 4,
  "nbformat_minor": 0,
  "metadata": {
    "anaconda-cloud": {},
    "kernelspec": {
      "display_name": "Python 3",
      "language": "python",
      "name": "python3"
    },
    "language_info": {
      "codemirror_mode": {
        "name": "ipython",
        "version": 3
      },
      "file_extension": ".py",
      "mimetype": "text/x-python",
      "name": "python",
      "nbconvert_exporter": "python",
      "pygments_lexer": "ipython3",
      "version": "3.6.1"
    },
    "colab": {
      "name": "R00206995_A1_Notebook.ipynb",
      "provenance": [],
      "collapsed_sections": [],
      "toc_visible": true,
      "include_colab_link": true
    }
  },
  "cells": [
    {
      "cell_type": "markdown",
      "metadata": {
        "id": "view-in-github",
        "colab_type": "text"
      },
      "source": [
        "<a href=\"https://colab.research.google.com/github/NetoRibeiro/DATA8001Assignment1/blob/main/R00206995_A1_Notebook.ipynb\" target=\"_parent\"><img src=\"https://colab.research.google.com/assets/colab-badge.svg\" alt=\"Open In Colab\"/></a>"
      ]
    },
    {
      "cell_type": "markdown",
      "metadata": {
        "id": "WSkr7bU36rWL"
      },
      "source": [
        "# DATA8001 - Assignment 1\n",
        "\n",
        "### Student Name: Neto Ribeiro\n",
        "### Student ID: R00206995"
      ]
    },
    {
      "cell_type": "markdown",
      "metadata": {
        "id": "rIEeyZrD6rWS"
      },
      "source": [
        "## 1. Libraries"
      ]
    },
    {
      "cell_type": "code",
      "metadata": {
        "id": "l7r0UYdw6rWT"
      },
      "source": [
        "%matplotlib inline\n",
        "\n",
        "import matplotlib.pyplot as plt\n",
        "\n",
        "# you custom data8001 lib\n",
        "from lib import R00206995_util as util"
      ],
      "execution_count": 18,
      "outputs": []
    },
    {
      "cell_type": "markdown",
      "metadata": {
        "id": "kPFEOn7r6rWT"
      },
      "source": [
        "## 2. Assignment Variables"
      ]
    },
    {
      "cell_type": "code",
      "metadata": {
        "id": "7ofFFO-N6rWU"
      },
      "source": [
        "STUDENT_ID = 'R00206995'\n",
        "\n",
        "R00206995_A1_Q1 = 0.0\n",
        "R00206995_A1_Q2 = {'make':'', 'units':0}\n",
        "R00206995_A1_Q3 = {'make':'', 'model':'', 'units':0}\n",
        "R00206995_A1_Q4 = 0.0\n",
        "R00206995_A1_Q5 = {'make':'', 'price':0}"
      ],
      "execution_count": 3,
      "outputs": []
    },
    {
      "cell_type": "markdown",
      "metadata": {
        "id": "TM9M5uX_6rWU"
      },
      "source": [
        "## 3. Load & Clean Data"
      ]
    },
    {
      "cell_type": "code",
      "metadata": {
        "colab": {
          "base_uri": "https://localhost:8080/",
          "height": 128
        },
        "id": "fTOXwC636rWU",
        "outputId": "8b62bd79-235f-4bb3-ffcb-002012977e1b"
      },
      "source": [
        "%matplotlib inline\n",
        "\n",
        "import matplotlib.pyplot as plt\n",
        "import pandas as pd\n",
        "import numpy as np\n",
        "\n",
        "\n",
        "df_R00206995 = pd.read_csv('/content/drive/MyDrive/Data Science and Analytics/R00206995/data/R00206995_processed.csv')\n",
        "\n",
        "def concat_columns(col1, col2, delimited):\n",
        "  try:\n",
        "    cols = f'{col1}{delimited}{col2}'\n",
        "    return cols\n",
        "  except Exception as ex:\n",
        "    raise Exception(f'Error when concatenate:: {ex}')\n",
        "# df_R00206995 = util.data_etl(STUDENT_ID)\n",
        "print(df_R00206995.shape)\n",
        "df_R00206995.head(2)"
      ],
      "execution_count": 4,
      "outputs": [
        {
          "output_type": "stream",
          "text": [
            "(3800, 11)\n"
          ],
          "name": "stdout"
        },
        {
          "output_type": "execute_result",
          "data": {
            "text/html": [
              "<div>\n",
              "<style scoped>\n",
              "    .dataframe tbody tr th:only-of-type {\n",
              "        vertical-align: middle;\n",
              "    }\n",
              "\n",
              "    .dataframe tbody tr th {\n",
              "        vertical-align: top;\n",
              "    }\n",
              "\n",
              "    .dataframe thead th {\n",
              "        text-align: right;\n",
              "    }\n",
              "</style>\n",
              "<table border=\"1\" class=\"dataframe\">\n",
              "  <thead>\n",
              "    <tr style=\"text-align: right;\">\n",
              "      <th></th>\n",
              "      <th>car_reg</th>\n",
              "      <th>purchase_date</th>\n",
              "      <th>year</th>\n",
              "      <th>month</th>\n",
              "      <th>county</th>\n",
              "      <th>make</th>\n",
              "      <th>model</th>\n",
              "      <th>type</th>\n",
              "      <th>colour</th>\n",
              "      <th>tax_band</th>\n",
              "      <th>price</th>\n",
              "    </tr>\n",
              "  </thead>\n",
              "  <tbody>\n",
              "    <tr>\n",
              "      <th>0</th>\n",
              "      <td>192-D-2504</td>\n",
              "      <td>2019-07-06</td>\n",
              "      <td>2019</td>\n",
              "      <td>7</td>\n",
              "      <td>DUBLIN</td>\n",
              "      <td>FORD</td>\n",
              "      <td>MONDEO</td>\n",
              "      <td>HATCHBACK</td>\n",
              "      <td>WHITE</td>\n",
              "      <td>C</td>\n",
              "      <td>31263.0</td>\n",
              "    </tr>\n",
              "    <tr>\n",
              "      <th>1</th>\n",
              "      <td>202-D-948</td>\n",
              "      <td>2020-07-06</td>\n",
              "      <td>2020</td>\n",
              "      <td>7</td>\n",
              "      <td>DUBLIN</td>\n",
              "      <td>TOYOTA</td>\n",
              "      <td>COROLLA</td>\n",
              "      <td>SALOON</td>\n",
              "      <td>WHITE</td>\n",
              "      <td>B</td>\n",
              "      <td>30574.0</td>\n",
              "    </tr>\n",
              "  </tbody>\n",
              "</table>\n",
              "</div>"
            ],
            "text/plain": [
              "      car_reg purchase_date  year  month  ...       type colour tax_band    price\n",
              "0  192-D-2504    2019-07-06  2019      7  ...  HATCHBACK  WHITE        C  31263.0\n",
              "1   202-D-948    2020-07-06  2020      7  ...     SALOON  WHITE        B  30574.0\n",
              "\n",
              "[2 rows x 11 columns]"
            ]
          },
          "metadata": {
            "tags": []
          },
          "execution_count": 4
        }
      ]
    },
    {
      "cell_type": "markdown",
      "metadata": {
        "id": "v4ByzwbY6rWV"
      },
      "source": [
        "## 4. Visualise Answers"
      ]
    },
    {
      "cell_type": "markdown",
      "metadata": {
        "id": "aizhR67M6rWV"
      },
      "source": [
        "#### Question 1 - What was the median price of cars in 2018 (tax band A & B) in Cork and Galway?"
      ]
    },
    {
      "cell_type": "code",
      "metadata": {
        "colab": {
          "base_uri": "https://localhost:8080/"
        },
        "id": "3bdLpRZf6rWW",
        "outputId": "15c061f8-321c-4276-f578-14dc9dafdced"
      },
      "source": [
        "R00206995_A1_Q1 = df_R00206995.loc[((df_R00206995['year'] == 2018) & ((df_R00206995['tax_band'] == \"A\") | (df_R00206995['tax_band'] == \"B\")) & ((df_R00206995['county'] == \"CORK\") | (df_R00206995['county'] == \"GALWAY\")))]['price'].describe()[5]\n",
        "print(f'Answer Q1:\\t{R00206995_A1_Q1:.2f}')"
      ],
      "execution_count": 5,
      "outputs": [
        {
          "output_type": "stream",
          "text": [
            "Answer Q1:\t35814.00\n"
          ],
          "name": "stdout"
        }
      ]
    },
    {
      "cell_type": "markdown",
      "metadata": {
        "id": "71oaTHE16rWW"
      },
      "source": [
        "#### Question 2 - What was the most popular MAKE of car in Dublin with a 192-D-XXXX reg plate across tax Bands C and D?"
      ]
    },
    {
      "cell_type": "code",
      "metadata": {
        "id": "CG-YLIEpFv42",
        "colab": {
          "base_uri": "https://localhost:8080/",
          "height": 365
        },
        "outputId": "d7d38697-3e8c-4a4a-e362-1527c78d9366"
      },
      "source": [
        "df_a1_q2 = df_R00206995.loc[((df_R00206995['year'] == 2019) & (df_R00206995['month'] > 6) & ((df_R00206995['tax_band'] == \"C\") | (df_R00206995['tax_band'] == \"D\")) & (df_R00206995['county'] == \"DUBLIN\"))].copy()\n",
        "df_a1_q2_gb = df_a1_q2.groupby(['make'], as_index=False).agg(\n",
        "    units = pd.NamedAgg(column='make', aggfunc=\"count\"),\n",
        "    max_price = pd.NamedAgg(column='price', aggfunc=max)\n",
        ")\n",
        "df_a1_q2_gb.sort_values(by=['units', 'max_price'], ascending=False, inplace=True, ignore_index=True)\n",
        "A1_Q2 = f'Top make: {df_a1_q2_gb[\"make\"].iloc[0]} with {df_a1_q2_gb[\"units\"].iloc[0]} units sold'\n",
        "\n",
        "plt.bar(df_a1_q2_gb['make'],df_a1_q2_gb['units'], label=A1_Q2, align='center', width=0.6)\n",
        "plt.grid(axis='y')\n",
        "plt.title('Q2-What was the most popular MAKE of car in Dublin\\n\\\n",
        "with a 192-D-XXXX reg plate across tax Bands C and D?\\n', fontsize=12)\n",
        "plt.legend(fontsize=8)\n",
        "plt.xlabel(\"Make\", fontsize=10)\n",
        "plt.ylabel(\"Units Sold\", fontsize=10)\n",
        "plt.xticks(rotation=90, fontsize=9)\n",
        "plt.show()"
      ],
      "execution_count": 6,
      "outputs": [
        {
          "output_type": "display_data",
          "data": {
            "image/png": "[encoded data removed]",
            "text/plain": [
              "<Figure size 432x288 with 1 Axes>"
            ]
          },
          "metadata": {
            "tags": [],
            "needs_background": "light"
          }
        }
      ]
    },
    {
      "cell_type": "code",
      "metadata": {
        "colab": {
          "base_uri": "https://localhost:8080/"
        },
        "id": "X9aEczBY6rWW",
        "outputId": "e69f112a-a145-4332-d30b-acb25cbd3d47"
      },
      "source": [
        "R00206995_A1_Q2 = df_a1_q2_gb[['make', 'units']].iloc[0]\n",
        "print(f'Answer Q2:\\tMake:{R00206995_A1_Q2[\"make\"]}\\t{R00206995_A1_Q2[\"units\"]} units sold')"
      ],
      "execution_count": 8,
      "outputs": [
        {
          "output_type": "stream",
          "text": [
            "Answer Q2:\tMake:BMW\t15 units sold\n"
          ],
          "name": "stdout"
        }
      ]
    },
    {
      "cell_type": "markdown",
      "metadata": {
        "id": "MIICXe_J6rWX"
      },
      "source": [
        "#### Question 3 - What was the most popular Silver Saloon car (make & model) sold in Limerick & Waterford?"
      ]
    },
    {
      "cell_type": "code",
      "metadata": {
        "id": "tQ7raegh6rWX",
        "colab": {
          "base_uri": "https://localhost:8080/",
          "height": 401
        },
        "outputId": "477a50d3-5ce3-4220-caca-a09eacff8f69"
      },
      "source": [
        "df_a1_q3 = df_R00206995.loc[((df_R00206995['colour'] == \"SILVER\") & (df_R00206995['type'] == \"SALOON\") & ((df_R00206995['county'] == \"LIMERICK\") | (df_R00206995['county'] == \"WATERFORD\")))].copy()\n",
        "df_a1_q3['make-model'] = df_a1_q3.apply(lambda row: concat_columns(row['make'], row['model'], \" - \"), axis=1)\n",
        "df_a1_q3_gb = df_a1_q3.groupby(['make-model', 'make', 'model', 'type', 'colour'], as_index=False).agg(\n",
        "    units = pd.NamedAgg(column='make-model', aggfunc=\"count\"),\n",
        "    max_price = pd.NamedAgg(column='price', aggfunc=max)\n",
        ")\n",
        "df_a1_q3_gb.sort_values(by=['units', 'max_price'], ascending=False, inplace=True, ignore_index=True)\n",
        "A1_Q3 = f'top {df_a1_q3_gb[\"colour\"].iloc[0]} {df_a1_q3_gb[\"type\"].iloc[0]} car\\n\\\n",
        "is {df_a1_q3_gb[\"model\"].iloc[0]}\\n\\\n",
        "by {df_a1_q3_gb[\"make\"].iloc[0]}\\n\\\n",
        "with {df_a1_q3_gb[\"units\"].iloc[0]} units sold'\n",
        "\n",
        "plt.bar(df_a1_q3_gb['make-model'],df_a1_q3_gb['units'], label=A1_Q3, color='blue')\n",
        "plt.grid(axis='y')\n",
        "plt.legend(fontsize=8)\n",
        "plt.xlabel(\"Make and Model\")\n",
        "plt.ylabel(\"Units Sold\")\n",
        "plt.xticks(rotation=90, fontsize=8)\n",
        "plt.title('Q3 - What was the most popular Silver Saloon car (make & model)\\n\\\n",
        "sold in Limerick & Waterford?\\n', fontsize=12)\n",
        "plt.show()"
      ],
      "execution_count": 9,
      "outputs": [
        {
          "output_type": "display_data",
          "data": {
            "image/png": "[encoded data removed]",
            "text/plain": [
              "<Figure size 432x288 with 1 Axes>"
            ]
          },
          "metadata": {
            "tags": [],
            "needs_background": "light"
          }
        }
      ]
    },
    {
      "cell_type": "code",
      "metadata": {
        "colab": {
          "base_uri": "https://localhost:8080/"
        },
        "id": "ekfXLJIY6rWX",
        "outputId": "19ee74ac-53e1-4b26-e43e-00210f4e2581"
      },
      "source": [
        "R00206995_A1_Q3 = df_a1_q3_gb[['make', 'model', 'units']].iloc[0]\n",
        "print(f'Answer Q3:\\tMake:{R00206995_A1_Q3[\"make\"]}\\tModel:{R00206995_A1_Q3[\"model\"]}\\t{R00206995_A1_Q3[\"units\"]} units sold')"
      ],
      "execution_count": 10,
      "outputs": [
        {
          "output_type": "stream",
          "text": [
            "Answer Q3:\tMake:MERCEDES\tModel:C-CLASS\t5 units sold\n"
          ],
          "name": "stdout"
        }
      ]
    },
    {
      "cell_type": "markdown",
      "metadata": {
        "id": "ispyXwLO6rWX"
      },
      "source": [
        "#### Question 4 - What was the percentage increase / decrease in total SUV car sales (units & price) outside of Dublin of 201 vs 192 reg cars?"
      ]
    },
    {
      "cell_type": "code",
      "metadata": {
        "id": "H-yliAzk6rWX"
      },
      "source": [
        "df_a1_q4_192 = df_R00206995.loc[((df_R00206995['year'] == 2019) & (df_R00206995['month'] > 6 ) & (df_R00206995['type'] == \"SUV\") & (df_R00206995['county'] != \"DUBLIN\"))].copy()\n",
        "df_a1_q4_201 = df_R00206995.loc[((df_R00206995['year'] == 2020) & (df_R00206995['month'] < 7 ) & (df_R00206995['type'] == \"SUV\") & (df_R00206995['county'] != \"DUBLIN\"))].copy()\n",
        "\n",
        "df_a1_q4_192_gb = df_a1_q4_192.groupby(['year'], as_index=False).agg(\n",
        "    units = pd.NamedAgg(column='car_reg', aggfunc=\"count\"),\n",
        "    sum_price = pd.NamedAgg(column='price', aggfunc=sum)\n",
        ")\n",
        "\n",
        "df_a1_q4_201_gb = df_a1_q4_201.groupby(['year'], as_index=False).agg(\n",
        "    units = pd.NamedAgg(column='car_reg', aggfunc=\"count\"),\n",
        "    sum_price = pd.NamedAgg(column='price', aggfunc=sum)\n",
        ")\n",
        "a1_q4_year = (df_a1_q4_192_gb, df_a1_q4_201_gb)\n",
        "df_a1_q4_year = pd.concat(a1_q4_year)\n",
        "df_a1_q4_year['year'] = df_a1_q4_year['year'].astype(str)\n",
        "\n",
        "years_unit = []\n",
        "years_price = []\n",
        "\n",
        "for row in df_a1_q4_year.itertuples():\n",
        "  years_unit.append(row.units)\n",
        "  years_price.append(row.sum_price)\n",
        "\n",
        "A1_Q4_units = ((years_unit[1] - years_unit[0]) / years_unit[0] ) * 100\n",
        "A1_Q4_price = ((years_price[1] - years_price[0]) / years_price[0] ) * 100\n",
        "A1_Q4 = ( A1_Q4_units + A1_Q4_price ) / 2\n",
        "\n"
      ],
      "execution_count": 11,
      "outputs": []
    },
    {
      "cell_type": "code",
      "metadata": {
        "colab": {
          "base_uri": "https://localhost:8080/",
          "height": 111
        },
        "id": "v-3mbIel8gok",
        "outputId": "6e57db95-1f4d-461f-9fe5-43e017410659"
      },
      "source": [
        "df_a1_q4_year"
      ],
      "execution_count": 12,
      "outputs": [
        {
          "output_type": "execute_result",
          "data": {
            "text/html": [
              "<div>\n",
              "<style scoped>\n",
              "    .dataframe tbody tr th:only-of-type {\n",
              "        vertical-align: middle;\n",
              "    }\n",
              "\n",
              "    .dataframe tbody tr th {\n",
              "        vertical-align: top;\n",
              "    }\n",
              "\n",
              "    .dataframe thead th {\n",
              "        text-align: right;\n",
              "    }\n",
              "</style>\n",
              "<table border=\"1\" class=\"dataframe\">\n",
              "  <thead>\n",
              "    <tr style=\"text-align: right;\">\n",
              "      <th></th>\n",
              "      <th>year</th>\n",
              "      <th>units</th>\n",
              "      <th>sum_price</th>\n",
              "    </tr>\n",
              "  </thead>\n",
              "  <tbody>\n",
              "    <tr>\n",
              "      <th>0</th>\n",
              "      <td>2019</td>\n",
              "      <td>46</td>\n",
              "      <td>2547544.0</td>\n",
              "    </tr>\n",
              "    <tr>\n",
              "      <th>0</th>\n",
              "      <td>2020</td>\n",
              "      <td>97</td>\n",
              "      <td>4949055.0</td>\n",
              "    </tr>\n",
              "  </tbody>\n",
              "</table>\n",
              "</div>"
            ],
            "text/plain": [
              "   year  units  sum_price\n",
              "0  2019     46  2547544.0\n",
              "0  2020     97  4949055.0"
            ]
          },
          "metadata": {
            "tags": []
          },
          "execution_count": 12
        }
      ]
    },
    {
      "cell_type": "code",
      "metadata": {
        "colab": {
          "base_uri": "https://localhost:8080/",
          "height": 340
        },
        "id": "fXVTo-4w8pdM",
        "outputId": "5ea6eae3-b2b3-4018-a26e-1fbbe73ec60d"
      },
      "source": [
        "unit_label = np.where(A1_Q4_units >= 0, f'Increase of: {A1_Q4_units:.2f}%', f'Decrease of: {A1_Q4_units:.2f}%')\n",
        "plt.bar(df_a1_q4_year['year'],df_a1_q4_year['units'], label=unit_label, color='blue')\n",
        "plt.legend(fontsize=8)\n",
        "plt.xlabel(\"Years Comparison\", fontsize=10)\n",
        "plt.ylabel(\"Units Sold\", fontsize=10)\n",
        "plt.title('Q4 - What was the percentage increase/decrease\\n\\\n",
        "in total SUV car sales (units & price)\\n\\\n",
        "outside of Dublin of 201 vs 192 reg cars?\\n', fontsize=12)\n",
        "plt.show()"
      ],
      "execution_count": 13,
      "outputs": [
        {
          "output_type": "display_data",
          "data": {
            "image/png": "[encoded data removed]",
            "text/plain": [
              "<Figure size 432x288 with 1 Axes>"
            ]
          },
          "metadata": {
            "tags": [],
            "needs_background": "light"
          }
        }
      ]
    },
    {
      "cell_type": "code",
      "metadata": {
        "id": "Vsnwh9Hc6rWY",
        "colab": {
          "base_uri": "https://localhost:8080/"
        },
        "outputId": "3199b6a1-6ea3-4c3d-91f8-e6bdbd15d030"
      },
      "source": [
        "R00206995_A1_Q4 = A1_Q4\n",
        "print(f'Answer Q4:\\t{R00206995_A1_Q4:.2f}')"
      ],
      "execution_count": 14,
      "outputs": [
        {
          "output_type": "stream",
          "text": [
            "Answer Q4:\t102.57\n"
          ],
          "name": "stdout"
        }
      ]
    },
    {
      "cell_type": "markdown",
      "metadata": {
        "id": "m3fe_DWc6rWY"
      },
      "source": [
        "#### Question 5 - What was the most popular make and avg. price of white SUV in Munster in 2020 valued at or above €90K?\n",
        "**NOTE:** If there is only 1 car for each make, choose the most expensive car make!"
      ]
    },
    {
      "cell_type": "code",
      "metadata": {
        "id": "Tgp_DaA4H5z5"
      },
      "source": [
        "def is_munster(county):\n",
        "  list_counties_munster = ['CLARE', 'CORK', 'KERRY', 'LIMERICK', 'TIPPERARY', 'WATERFORD']\n",
        "  if county.upper() in list_counties_munster:\n",
        "    return True\n",
        "  else:\n",
        "    return False"
      ],
      "execution_count": 15,
      "outputs": []
    },
    {
      "cell_type": "code",
      "metadata": {
        "id": "-QkIFBmX6rWZ",
        "colab": {
          "base_uri": "https://localhost:8080/",
          "height": 418
        },
        "outputId": "0634d5c0-bd66-4fe4-8e76-ca4059a88c52"
      },
      "source": [
        "df_R00206995['is_munster'] = df_R00206995['county'].apply(lambda row: is_munster(row))\n",
        "df_a1_q5 = df_R00206995.loc[((df_R00206995['year'] == 2020) & (df_R00206995['price'] >= 90000) & (df_R00206995['type'] == \"SUV\") & (df_R00206995['is_munster'] == True))].copy()\n",
        "df_R00206995.drop('is_munster', axis=1, inplace=True)\n",
        "df_a1_q5_gb = df_a1_q5.groupby(['make'], as_index=False).agg(\n",
        "    units = pd.NamedAgg(column='car_reg', aggfunc=\"count\"),\n",
        "    price = pd.NamedAgg(column='price', aggfunc='mean'),\n",
        "    max_price = pd.NamedAgg(column='price', aggfunc=max)\n",
        ")\n",
        "\n",
        "df_a1_q5_gb.sort_values(by=['units', 'max_price'], ascending=False, inplace=True, ignore_index=True)\n",
        "\n",
        "A1_Q5 = f'Top make in Munster: {df_a1_q5_gb[\"make\"].iloc[0]}\\n\\\n",
        "with the avg price of {df_a1_q5_gb[\"price\"].iloc[0]:.2f}'\n",
        "\n",
        "plt.figure(figsize=(8,6))\n",
        "slices = df_a1_q5_gb['price']\n",
        "categories = df_a1_q5_gb['make']\n",
        "# For different colors: https://matplotlib.org/examples/color/named_colors.html\n",
        "#cols = ['red', 'green', 'orange']\n",
        "\n",
        "# Plotting the pie-chart.\n",
        "plt.pie(slices, \n",
        "        labels=categories,\n",
        "        startangle = 90,\n",
        "        shadow=True,\n",
        "        autopct = '%1.1f%%'\n",
        "       )\n",
        "\n",
        "plt.title(f'Q5 - What was the most popular make\\n\\\n",
        "and avg. price of white SUV in Munster in 2020\\n\\\n",
        "valued at or above €90K?\\n', fontsize=12)\n",
        "plt.show()"
      ],
      "execution_count": 16,
      "outputs": [
        {
          "output_type": "display_data",
          "data": {
            "image/png": "[encoded data removed]",
            "text/plain": [
              "<Figure size 576x432 with 1 Axes>"
            ]
          },
          "metadata": {
            "tags": []
          }
        }
      ]
    },
    {
      "cell_type": "code",
      "metadata": {
        "id": "7qO0UBZY6rWZ",
        "colab": {
          "base_uri": "https://localhost:8080/"
        },
        "outputId": "51cea20f-97d2-44ed-9eb3-678b207ccddf"
      },
      "source": [
        "R00206995_A1_Q5 = df_a1_q5_gb[['make', 'price']].iloc[0]\n",
        "print(f'Answer Q5:\\tMake:{R00206995_A1_Q5[\"make\"]}\\tAvg. Price €{R00206995_A1_Q5[\"price\"]:.2f}')"
      ],
      "execution_count": 17,
      "outputs": [
        {
          "output_type": "stream",
          "text": [
            "Answer Q5:\tMake:MERCEDES\tAvg. Price €111060.70\n"
          ],
          "name": "stdout"
        }
      ]
    },
    {
      "cell_type": "markdown",
      "metadata": {
        "id": "nJDcv1sO6rWZ"
      },
      "source": [
        "## 5. Load Model\n",
        "1. What is the model accuracy?\n",
        "1. What are the best model features?\n",
        "1. What is the model equation?\n",
        "1. What transformations were used (if any)?"
      ]
    },
    {
      "cell_type": "code",
      "metadata": {
        "id": "vOYBXGSS6rWZ"
      },
      "source": [
        "# load testing dataset\n",
        "# df_test = pd.read_csv('')\n",
        "model_R00206995 = util.load_run_model(STUDENT_ID, df_test)"
      ],
      "execution_count": null,
      "outputs": []
    },
    {
      "cell_type": "markdown",
      "metadata": {
        "id": "d126x_Xg6rWa"
      },
      "source": [
        ""
      ]
    }
  ]
}