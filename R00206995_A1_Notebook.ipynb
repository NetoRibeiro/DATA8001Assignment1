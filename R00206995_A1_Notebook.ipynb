{
  "cells": [
    {
      "cell_type": "markdown",
      "metadata": {},
      "source": [
        "# DATA8001 - Assignment 1\n",
        "\n",
        "### Student Name: Neto Ribeiro\n",
        "### Student ID: R00206995"
      ]
    },
    {
      "cell_type": "markdown",
      "metadata": {},
      "source": [
        "## 1. Libraries"
      ]
    },
    {
      "cell_type": "code",
      "metadata": {},
      "source": [
        "%matplotlib inline\n",
        "\n",
        "import matplotlib.pyplot as plt\n",
        "\n",
        "# you custom data8001 lib\n",
        "from lib import R00206995_util as util"
      ],
      "outputs": [],
      "execution_count": null
    },
    {
      "cell_type": "markdown",
      "metadata": {},
      "source": [
        "## 2. Assignment Variables"
      ]
    },
    {
      "cell_type": "code",
      "metadata": {},
      "source": [
        "STUDENT_ID = 'R00206995'\n",
        "\n",
        "R00206995_A1_Q1 = 0.0\n",
        "R00206995_A1_Q2 = {'make':'', 'units':0}\n",
        "R00206995_A1_Q3 = {'make':'', 'model':'', 'units':0}\n",
        "R00206995_A1_Q4 = {'units':'', 'price':0}\n",
        "R00206995_A1_Q5 = {'make':'', 'price':0}"
      ],
      "outputs": [],
      "execution_count": null
    },
    {
      "cell_type": "markdown",
      "metadata": {},
      "source": [
        "## 3. Load & Clean Data"
      ]
    },
    {
      "cell_type": "code",
      "metadata": {},
      "source": [
        "df_R00206995 = util.data_etl(STUDENT_ID)\n",
        "print(df_R00206995.shape)\n",
        "df_R00206995.head(2)"
      ],
      "outputs": [],
      "execution_count": null
    },
    {
      "cell_type": "markdown",
      "metadata": {},
      "source": [
        "## 4. Visualise Answers"
      ]
    },
    {
      "cell_type": "markdown",
      "metadata": {},
      "source": [
        "#### Question 1 - What was the median price of cars in 2018 (tax band A & B) in Cork and Galway?"
      ]
    },
    {
      "cell_type": "code",
      "metadata": {},
      "source": [],
      "outputs": [],
      "execution_count": null
    },
    {
      "cell_type": "code",
      "metadata": {},
      "source": [
        "R00206995_A1_Q1 = \n",
        "print(f'Answer Q1:\\t{R00206995_A1_Q1:.2f}')"
      ],
      "outputs": [],
      "execution_count": null
    },
    {
      "cell_type": "markdown",
      "metadata": {},
      "source": [
        "#### Question 2 - What was the most popular MAKE of car in Dublin with a 192-D-XXXX reg plate across tax Bands C and D?"
      ]
    },
    {
      "cell_type": "code",
      "metadata": {},
      "source": [],
      "outputs": [],
      "execution_count": null
    },
    {
      "cell_type": "code",
      "metadata": {},
      "source": [
        "R00206995_A1_Q2 = \n",
        "print(f'Answer Q2:\\tMake:{R00206995_A1_Q2[\"make\"]}\\t{R00206995_A1_Q2[\"units\"]} units sold')"
      ],
      "outputs": [],
      "execution_count": null
    },
    {
      "cell_type": "markdown",
      "metadata": {},
      "source": [
        "#### Question 3 - What was the most popular Silver Saloon car (make & model) sold in Limerick & Waterford?"
      ]
    },
    {
      "cell_type": "code",
      "metadata": {},
      "source": [],
      "outputs": [],
      "execution_count": null
    },
    {
      "cell_type": "code",
      "metadata": {},
      "source": [
        "R00206995_A1_Q3 = \n",
        "print(f'Answer Q3:\\tMake:{R00206995_A1_Q3[\"make\"]}\\tModel:{R00206995_A1_Q3[\"model\"]}\\t{R00206995_A1_Q3[\"units\"]} units sold')"
      ],
      "outputs": [],
      "execution_count": null
    },
    {
      "cell_type": "markdown",
      "metadata": {},
      "source": [
        "#### Question 4 - What was the percentage increase / decrease in total SUV car sales (units & price) outside of Dublin of 201 vs 192 reg cars?"
      ]
    },
    {
      "cell_type": "code",
      "metadata": {},
      "source": [],
      "outputs": [],
      "execution_count": null
    },
    {
      "cell_type": "code",
      "metadata": {},
      "source": [
        "R00206995_A1_Q4 = \n",
        "print(f'Answer Q4:\\tMake:{R00206995_A1_Q4[\"units\"]}\\t{R00206995_A1_Q4[\"price\"]} units sold')"
      ],
      "outputs": [],
      "execution_count": null
    },
    {
      "cell_type": "markdown",
      "metadata": {},
      "source": [
        "#### Question 5 - What was the most popular make and avg. price of white SUV in Munster in 2020 valued at or above \u20ac90K?\n",
        "**NOTE:** If there is only 1 car for each make, choose the most expensive car make!"
      ]
    },
    {
      "cell_type": "code",
      "metadata": {},
      "source": [],
      "outputs": [],
      "execution_count": null
    },
    {
      "cell_type": "code",
      "metadata": {},
      "source": [
        "R00206995_A1_Q5 = \n",
        "print(f'Answer Q5:\\tMake:{R00206995_A1_Q5[\"make\"]}\\t{R00206995_A1_Q5[\"price\"]} units sold')"
      ],
      "outputs": [],
      "execution_count": null
    },
    {
      "cell_type": "markdown",
      "metadata": {},
      "source": [
        "## 5. Load Model\n",
        "1. What is the model accuracy?\n",
        "1. What are the best model features?\n",
        "1. What is the model equation?\n",
        "1. What transformations were used (if any)?"
      ]
    },
    {
      "cell_type": "code",
      "metadata": {},
      "source": [
        "# load testing dataset\n",
        "# df_test = pd.read_csv('')\n",
        "model_R00206995 = util.load_run_model(STUDENT_ID, df_test)"
      ],
      "outputs": [],
      "execution_count": null
    },
    {
      "cell_type": "markdown",
      "metadata": {},
      "source": []
    }
  ],
  "metadata": {
    "anaconda-cloud": {},
    "kernelspec": {
      "display_name": "Python 3",
      "language": "python",
      "name": "python3"
    },
    "language_info": {
      "codemirror_mode": {
        "name": "ipython",
        "version": 3
      },
      "file_extension": ".py",
      "mimetype": "text/x-python",
      "name": "python",
      "nbconvert_exporter": "python",
      "pygments_lexer": "ipython3",
      "version": "3.6.1"
    }
  },
  "nbformat": 4,
  "nbformat_minor": 4
}