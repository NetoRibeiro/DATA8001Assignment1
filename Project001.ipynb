{
  "nbformat": 4,
  "nbformat_minor": 0,
  "metadata": {
    "colab": {
      "name": "Project001.ipynb",
      "provenance": [],
      "collapsed_sections": [
        "NrAjYhrk2bZj",
        "gbyZPYBRrK5H",
        "wim4ZjKdrBF3",
        "VEICBhAn-sd7",
        "mAYpaCUtiVxq"
      ],
      "toc_visible": true,
      "mount_file_id": "1gyTfmHoa3WgaoMrofoeyrW24wWPGqyKz",
      "authorship_tag": "ABX9TyMmZgFQamPcx9V+6AIfy70f",
      "include_colab_link": true
    },
    "kernelspec": {
      "name": "python3",
      "display_name": "Python 3"
    }
  },
  "cells": [
    {
      "cell_type": "markdown",
      "metadata": {
        "id": "view-in-github",
        "colab_type": "text"
      },
      "source": [
        "<a href=\"https://colab.research.google.com/github/NetoRibeiro/DATA8001Assignment1/blob/main/Project001.ipynb\" target=\"_parent\"><img src=\"https://colab.research.google.com/assets/colab-badge.svg\" alt=\"Open In Colab\"/></a>"
      ]
    },
    {
      "cell_type": "markdown",
      "metadata": {
        "id": "mI14CqIr2KUz"
      },
      "source": [
        "#Project 001\n",
        "##Data Science and Analytics Course\n",
        "###Linear Regression"
      ]
    },
    {
      "cell_type": "markdown",
      "metadata": {
        "id": "NrAjYhrk2bZj"
      },
      "source": [
        "####Data Understanding"
      ]
    },
    {
      "cell_type": "code",
      "metadata": {
        "id": "XAIKvnkD2JI4"
      },
      "source": [
        "%matplotlib inline\n",
        "\n",
        "import matplotlib.pyplot as plt\n",
        "import matplotlib.colors\n",
        "import numpy as np\n",
        "import pandas as pd\n",
        "from datetime import datetime as dt, timedelta as td\n",
        "import calendar\n",
        "import re\n",
        "import math\n",
        "import string\n",
        "\n",
        "from sklearn.model_selection import train_test_split\n",
        "from sklearn.preprocessing import LabelEncoder, StandardScaler\n",
        "from sklearn.linear_model import LinearRegression\n",
        "from sklearn.metrics import mean_squared_error, r2_score, accuracy_score"
      ],
      "execution_count": 270,
      "outputs": []
    },
    {
      "cell_type": "code",
      "metadata": {
        "id": "IcYpgK9n3rBC"
      },
      "source": [
        "file_name = '/content/drive/MyDrive/Data Science and Analytics/R00206995/data/R00206995_original.csv'"
      ],
      "execution_count": 2,
      "outputs": []
    },
    {
      "cell_type": "code",
      "metadata": {
        "id": "5DI_AXgk3uab"
      },
      "source": [
        "df_original = pd.read_csv(file_name)"
      ],
      "execution_count": 3,
      "outputs": []
    },
    {
      "cell_type": "code",
      "metadata": {
        "colab": {
          "base_uri": "https://localhost:8080/",
          "height": 142
        },
        "id": "1_t59-_c31bm",
        "outputId": "b29d75d6-2010-42e1-e22d-4a784f6f93fc"
      },
      "source": [
        "df_original.head(3)"
      ],
      "execution_count": 4,
      "outputs": [
        {
          "output_type": "execute_result",
          "data": {
            "text/html": [
              "<div>\n",
              "<style scoped>\n",
              "    .dataframe tbody tr th:only-of-type {\n",
              "        vertical-align: middle;\n",
              "    }\n",
              "\n",
              "    .dataframe tbody tr th {\n",
              "        vertical-align: top;\n",
              "    }\n",
              "\n",
              "    .dataframe thead th {\n",
              "        text-align: right;\n",
              "    }\n",
              "</style>\n",
              "<table border=\"1\" class=\"dataframe\">\n",
              "  <thead>\n",
              "    <tr style=\"text-align: right;\">\n",
              "      <th></th>\n",
              "      <th>car_reg</th>\n",
              "      <th>purchase_date</th>\n",
              "      <th>county</th>\n",
              "      <th>make</th>\n",
              "      <th>model</th>\n",
              "      <th>type</th>\n",
              "      <th>colour</th>\n",
              "      <th>tax_band</th>\n",
              "      <th>price</th>\n",
              "    </tr>\n",
              "  </thead>\n",
              "  <tbody>\n",
              "    <tr>\n",
              "      <th>0</th>\n",
              "      <td>XXX-X-2315</td>\n",
              "      <td>2020-07-01</td>\n",
              "      <td>Cork</td>\n",
              "      <td>Audi : A4 (Saloon)</td>\n",
              "      <td>NaN</td>\n",
              "      <td>NaN</td>\n",
              "      <td>red</td>\n",
              "      <td>b</td>\n",
              "      <td>55287</td>\n",
              "    </tr>\n",
              "    <tr>\n",
              "      <th>1</th>\n",
              "      <td>191-C-3750</td>\n",
              "      <td>2019-Jan-20</td>\n",
              "      <td>NaN</td>\n",
              "      <td>mazda</td>\n",
              "      <td>CX-30</td>\n",
              "      <td>SUV</td>\n",
              "      <td>#C0C0C0</td>\n",
              "      <td>B</td>\n",
              "      <td>41690</td>\n",
              "    </tr>\n",
              "    <tr>\n",
              "      <th>2</th>\n",
              "      <td>191-l-3155</td>\n",
              "      <td>21 Mar</td>\n",
              "      <td>LIMERICK</td>\n",
              "      <td>BMW : 3 Series</td>\n",
              "      <td>NaN</td>\n",
              "      <td>Saloon</td>\n",
              "      <td>WHITE</td>\n",
              "      <td>2</td>\n",
              "      <td>40381</td>\n",
              "    </tr>\n",
              "  </tbody>\n",
              "</table>\n",
              "</div>"
            ],
            "text/plain": [
              "      car_reg purchase_date    county  ...   colour tax_band  price\n",
              "0  XXX-X-2315    2020-07-01      Cork  ...      red        b  55287\n",
              "1  191-C-3750   2019-Jan-20       NaN  ...  #C0C0C0        B  41690\n",
              "2  191-l-3155        21 Mar  LIMERICK  ...    WHITE        2  40381\n",
              "\n",
              "[3 rows x 9 columns]"
            ]
          },
          "metadata": {
            "tags": []
          },
          "execution_count": 4
        }
      ]
    },
    {
      "cell_type": "code",
      "metadata": {
        "colab": {
          "base_uri": "https://localhost:8080/"
        },
        "id": "eHSTrVFM333x",
        "outputId": "5b84b03c-c94b-4207-80a8-c3737d18eca5"
      },
      "source": [
        "# Find Features with missing values\n",
        "df_original.isnull().any()"
      ],
      "execution_count": 5,
      "outputs": [
        {
          "output_type": "execute_result",
          "data": {
            "text/plain": [
              "car_reg          False\n",
              "purchase_date    False\n",
              "county            True\n",
              "make             False\n",
              "model             True\n",
              "type              True\n",
              "colour           False\n",
              "tax_band         False\n",
              "price            False\n",
              "dtype: bool"
            ]
          },
          "metadata": {
            "tags": []
          },
          "execution_count": 5
        }
      ]
    },
    {
      "cell_type": "code",
      "metadata": {
        "colab": {
          "base_uri": "https://localhost:8080/",
          "height": 419
        },
        "id": "dE00cHeB4FYw",
        "outputId": "edd50415-69da-46fc-cc92-4715c1ac8de1"
      },
      "source": [
        "# Filter all missing values on MODEL\n",
        "df_original.loc[df_original['model'].isnull() == True]"
      ],
      "execution_count": 6,
      "outputs": [
        {
          "output_type": "execute_result",
          "data": {
            "text/html": [
              "<div>\n",
              "<style scoped>\n",
              "    .dataframe tbody tr th:only-of-type {\n",
              "        vertical-align: middle;\n",
              "    }\n",
              "\n",
              "    .dataframe tbody tr th {\n",
              "        vertical-align: top;\n",
              "    }\n",
              "\n",
              "    .dataframe thead th {\n",
              "        text-align: right;\n",
              "    }\n",
              "</style>\n",
              "<table border=\"1\" class=\"dataframe\">\n",
              "  <thead>\n",
              "    <tr style=\"text-align: right;\">\n",
              "      <th></th>\n",
              "      <th>car_reg</th>\n",
              "      <th>purchase_date</th>\n",
              "      <th>county</th>\n",
              "      <th>make</th>\n",
              "      <th>model</th>\n",
              "      <th>type</th>\n",
              "      <th>colour</th>\n",
              "      <th>tax_band</th>\n",
              "      <th>price</th>\n",
              "    </tr>\n",
              "  </thead>\n",
              "  <tbody>\n",
              "    <tr>\n",
              "      <th>0</th>\n",
              "      <td>XXX-X-2315</td>\n",
              "      <td>2020-07-01</td>\n",
              "      <td>Cork</td>\n",
              "      <td>Audi : A4 (Saloon)</td>\n",
              "      <td>NaN</td>\n",
              "      <td>NaN</td>\n",
              "      <td>red</td>\n",
              "      <td>b</td>\n",
              "      <td>55287</td>\n",
              "    </tr>\n",
              "    <tr>\n",
              "      <th>2</th>\n",
              "      <td>191-l-3155</td>\n",
              "      <td>21 Mar</td>\n",
              "      <td>LIMERICK</td>\n",
              "      <td>BMW : 3 Series</td>\n",
              "      <td>NaN</td>\n",
              "      <td>Saloon</td>\n",
              "      <td>WHITE</td>\n",
              "      <td>2</td>\n",
              "      <td>40381</td>\n",
              "    </tr>\n",
              "    <tr>\n",
              "      <th>3</th>\n",
              "      <td>191-d-2645</td>\n",
              "      <td>26 Jan</td>\n",
              "      <td>DUBLIN</td>\n",
              "      <td>Audi : Q3</td>\n",
              "      <td>NaN</td>\n",
              "      <td>SUV</td>\n",
              "      <td>ORANGE</td>\n",
              "      <td>2</td>\n",
              "      <td>44836</td>\n",
              "    </tr>\n",
              "    <tr>\n",
              "      <th>6</th>\n",
              "      <td>XXX-X-4891</td>\n",
              "      <td>2018-01-06</td>\n",
              "      <td>Waterford</td>\n",
              "      <td>Opel : Astra (Estate)</td>\n",
              "      <td>NaN</td>\n",
              "      <td>NaN</td>\n",
              "      <td>white</td>\n",
              "      <td>b</td>\n",
              "      <td>29616</td>\n",
              "    </tr>\n",
              "    <tr>\n",
              "      <th>9</th>\n",
              "      <td>XXX-X-4163</td>\n",
              "      <td>2019-01-02</td>\n",
              "      <td>Galway</td>\n",
              "      <td>Ford : Mondeo (Saloon)</td>\n",
              "      <td>NaN</td>\n",
              "      <td>NaN</td>\n",
              "      <td>silver</td>\n",
              "      <td>b</td>\n",
              "      <td>38185</td>\n",
              "    </tr>\n",
              "    <tr>\n",
              "      <th>...</th>\n",
              "      <td>...</td>\n",
              "      <td>...</td>\n",
              "      <td>...</td>\n",
              "      <td>...</td>\n",
              "      <td>...</td>\n",
              "      <td>...</td>\n",
              "      <td>...</td>\n",
              "      <td>...</td>\n",
              "      <td>...</td>\n",
              "    </tr>\n",
              "    <tr>\n",
              "      <th>3790</th>\n",
              "      <td>XXX-X-814</td>\n",
              "      <td>2020-01-05</td>\n",
              "      <td>Dublin</td>\n",
              "      <td>Mercedes : C-Class (Estate)</td>\n",
              "      <td>NaN</td>\n",
              "      <td>NaN</td>\n",
              "      <td>blue</td>\n",
              "      <td>b</td>\n",
              "      <td>49622</td>\n",
              "    </tr>\n",
              "    <tr>\n",
              "      <th>3793</th>\n",
              "      <td>XXX-X-576</td>\n",
              "      <td>2019-01-16</td>\n",
              "      <td>Dublin</td>\n",
              "      <td>Mercedes : C-Class (Estate)</td>\n",
              "      <td>NaN</td>\n",
              "      <td>NaN</td>\n",
              "      <td>orange</td>\n",
              "      <td>b</td>\n",
              "      <td>52120</td>\n",
              "    </tr>\n",
              "    <tr>\n",
              "      <th>3794</th>\n",
              "      <td>XXX-X-3209</td>\n",
              "      <td>2020-05-08</td>\n",
              "      <td>Dublin</td>\n",
              "      <td>Toyota : Corolla (Saloon)</td>\n",
              "      <td>NaN</td>\n",
              "      <td>NaN</td>\n",
              "      <td>white</td>\n",
              "      <td>b</td>\n",
              "      <td>29484</td>\n",
              "    </tr>\n",
              "    <tr>\n",
              "      <th>3797</th>\n",
              "      <td>201-l-868</td>\n",
              "      <td>27 Jan</td>\n",
              "      <td>LIMERICK</td>\n",
              "      <td>Mercedes : C-Class</td>\n",
              "      <td>NaN</td>\n",
              "      <td>Saloon</td>\n",
              "      <td>BLUE</td>\n",
              "      <td>2</td>\n",
              "      <td>103621</td>\n",
              "    </tr>\n",
              "    <tr>\n",
              "      <th>3799</th>\n",
              "      <td>XXX-X-3426</td>\n",
              "      <td>2019-07-05</td>\n",
              "      <td>Cork</td>\n",
              "      <td>Toyota : Corolla (Saloon)</td>\n",
              "      <td>NaN</td>\n",
              "      <td>NaN</td>\n",
              "      <td>white</td>\n",
              "      <td>b</td>\n",
              "      <td>28131</td>\n",
              "    </tr>\n",
              "  </tbody>\n",
              "</table>\n",
              "<p>1868 rows × 9 columns</p>\n",
              "</div>"
            ],
            "text/plain": [
              "         car_reg purchase_date     county  ...  colour tax_band   price\n",
              "0     XXX-X-2315    2020-07-01       Cork  ...     red        b   55287\n",
              "2     191-l-3155        21 Mar   LIMERICK  ...   WHITE        2   40381\n",
              "3     191-d-2645        26 Jan     DUBLIN  ...  ORANGE        2   44836\n",
              "6     XXX-X-4891    2018-01-06  Waterford  ...   white        b   29616\n",
              "9     XXX-X-4163    2019-01-02     Galway  ...  silver        b   38185\n",
              "...          ...           ...        ...  ...     ...      ...     ...\n",
              "3790   XXX-X-814    2020-01-05     Dublin  ...    blue        b   49622\n",
              "3793   XXX-X-576    2019-01-16     Dublin  ...  orange        b   52120\n",
              "3794  XXX-X-3209    2020-05-08     Dublin  ...   white        b   29484\n",
              "3797   201-l-868        27 Jan   LIMERICK  ...    BLUE        2  103621\n",
              "3799  XXX-X-3426    2019-07-05       Cork  ...   white        b   28131\n",
              "\n",
              "[1868 rows x 9 columns]"
            ]
          },
          "metadata": {
            "tags": []
          },
          "execution_count": 6
        }
      ]
    },
    {
      "cell_type": "markdown",
      "metadata": {
        "id": "gbyZPYBRrK5H"
      },
      "source": [
        "##Registration ETL"
      ]
    },
    {
      "cell_type": "code",
      "metadata": {
        "id": "BhX-DTOw4kcl"
      },
      "source": [
        "#Create a Registration related features\n",
        "df_registration = df_original[{'car_reg', 'purchase_date', 'county'}].copy()"
      ],
      "execution_count": 7,
      "outputs": []
    },
    {
      "cell_type": "code",
      "metadata": {
        "id": "XT7yvOav7cvB"
      },
      "source": [
        "#Transform features to lower case\n",
        "df_registration['purchase_date'] = df_registration['purchase_date'].str.lower()\n",
        "df_registration['county'] = df_registration['county'].str.lower()\n",
        "df_registration['car_reg'] = df_registration['car_reg'].str.lower()"
      ],
      "execution_count": 8,
      "outputs": []
    },
    {
      "cell_type": "code",
      "metadata": {
        "colab": {
          "base_uri": "https://localhost:8080/"
        },
        "id": "WGBY2UDg8aLF",
        "outputId": "ce2f2600-91f8-4154-d76f-fc009fec2bd5"
      },
      "source": [
        "#Print size of the data frame an example of the first 3 rows\n",
        "print(f'{df_registration.shape}\\n {df_registration.tail(3)}')"
      ],
      "execution_count": 9,
      "outputs": [
        {
          "output_type": "stream",
          "text": [
            "(3800, 3)\n",
            "          car_reg purchase_date    county\n",
            "3797   201-l-868        27 jan  limerick\n",
            "3798  191-d-1747   2019-mar-24       NaN\n",
            "3799  xxx-x-3426    2019-07-05      cork\n"
          ],
          "name": "stdout"
        }
      ]
    },
    {
      "cell_type": "code",
      "metadata": {
        "id": "rtPSA_Ja9a_P"
      },
      "source": [
        "def registration_status(car_registration, looking_for):\n",
        "  '''\n",
        "  Purpose of that function: To get patterns on the CAR Registration\n",
        "  :param car_registration: String value\n",
        "  :param looking_for: Patterns, Year, County Code, Registration_number\n",
        "  '''\n",
        "  # Get the century for the registration\n",
        "  reg_date = dt.fromordinal(dt.today().toordinal())\n",
        "  reg_century = reg_date.strftime('%Y')[:2]\n",
        "  reg_patterns = '[0-9]+[-]+[a-z]+[-]+[0-9]'\n",
        "  reg_missing_year_county = '[x]+[-]+[x]+[-]+[0-9]'\n",
        "  reg_missing_year = '[x]+[-]+[a-z]+[-]+[0-9]'\n",
        "  reg_missing_county = '[0-9]+[-]+[x]+[-]+[0-9]'\n",
        "  car_reg_return = \"\"\n",
        "  try:\n",
        "    \n",
        "    looking_for = looking_for.lower()\n",
        "    reg_year, reg_county, reg_number = car_registration.split(\"-\")\n",
        "\n",
        "    if looking_for == \"registration_number\":\n",
        "      car_reg_return = reg_number\n",
        "\n",
        "    elif (re.search(reg_patterns, car_registration)):\n",
        "      \n",
        "      if looking_for == \"patterns\":\n",
        "        car_reg_return = \"match\"\n",
        "      elif looking_for == \"year\":\n",
        "        car_reg_return = f'{reg_century}{reg_year[:2]}'\n",
        "      elif looking_for == \"county\":\n",
        "        car_reg_return = reg_county\n",
        "      else:\n",
        "        car_reg_return = \"\"\n",
        "      \n",
        "    elif (re.search(reg_missing_year_county, car_registration)):\n",
        "      \n",
        "      if looking_for == \"patterns\":\n",
        "        car_reg_return = \"missing_year_county\"\n",
        "      elif looking_for == \"year\":\n",
        "        car_reg_return = \"\"\n",
        "      elif looking_for == \"county\":\n",
        "        car_reg_return = \"\"\n",
        "      else:\n",
        "        car_reg_return = \"\"\n",
        "      \n",
        "    elif (re.search(reg_missing_year, car_registration)):\n",
        "      \n",
        "      if looking_for == \"patterns\":\n",
        "        car_reg_return = \"missing_year\"\n",
        "      elif looking_for == \"year\":\n",
        "        car_reg_return = \"\"\n",
        "      elif looking_for == \"county\":\n",
        "        car_reg_return = reg_county\n",
        "      else:\n",
        "        car_reg_return = \"\"\n",
        "\n",
        "    elif (re.search(reg_missing_county, car_registration)):\n",
        "      \n",
        "      if looking_for == \"patterns\":\n",
        "        car_reg_return = \"missing_county\"\n",
        "      elif looking_for == \"year\":\n",
        "        car_reg_return = f'{reg_century}{reg_year[:2]}'\n",
        "      elif looking_for == \"county\":\n",
        "        car_reg_return = \"\"\n",
        "      else:\n",
        "        car_reg_return = \"\"\n",
        "\n",
        "    else:\n",
        "      car_reg_return = \"\"\n",
        "      \n",
        "    return car_reg_return\n",
        "    \n",
        "\n",
        "  except Exception as ex:\n",
        "    raise Exception(f'Car registration is not matching with the expected paterns :: {ex}')   "
      ],
      "execution_count": 10,
      "outputs": []
    },
    {
      "cell_type": "code",
      "metadata": {
        "id": "iEoGiTbtbUch"
      },
      "source": [
        "# Create new column feature using lambda function\n",
        "df_registration['reg_county'] = df_registration.apply(lambda row: registration_status(row['car_reg'], \"COUNTY\"), axis=1)\n",
        "df_registration['reg_number'] = df_registration.apply(lambda row: registration_status(row['car_reg'], \"Registration_number\"), axis=1)"
      ],
      "execution_count": 11,
      "outputs": []
    },
    {
      "cell_type": "code",
      "metadata": {
        "id": "eygGxfR40Hl4"
      },
      "source": [
        "df_counties = df_registration.loc[(df_registration['county'].isnull() == False) & (df_registration['reg_county'] != \"\")][{'county', 'reg_county', 'car_reg'}].copy()"
      ],
      "execution_count": 12,
      "outputs": []
    },
    {
      "cell_type": "code",
      "metadata": {
        "id": "YYStlvCL0h57"
      },
      "source": [
        "df_counties = df_counties.groupby(['county', 'reg_county'], as_index=False)['car_reg'].count()"
      ],
      "execution_count": 13,
      "outputs": []
    },
    {
      "cell_type": "code",
      "metadata": {
        "id": "fA-vXXc2MCz4",
        "colab": {
          "base_uri": "https://localhost:8080/"
        },
        "outputId": "dc870682-98a2-4e15-f6bc-7cf65568f576"
      },
      "source": [
        "# encoder for County and County Code\n",
        "label_county = LabelEncoder()\n",
        "label_reg_county = LabelEncoder()\n",
        "# train the encoder for County and County Code\n",
        "label_county.fit(df_counties['county'])\n",
        "label_reg_county.fit(df_counties['reg_county'])"
      ],
      "execution_count": 14,
      "outputs": [
        {
          "output_type": "execute_result",
          "data": {
            "text/plain": [
              "LabelEncoder()"
            ]
          },
          "metadata": {
            "tags": []
          },
          "execution_count": 14
        }
      ]
    },
    {
      "cell_type": "code",
      "metadata": {
        "id": "ji5UUyOsSYsJ"
      },
      "source": [
        "# transform and add new columns with the label encoder\n",
        "df_counties['county_lbl'] = label_county.transform(df_counties['county'])\n",
        "df_counties['reg_county_lbl'] = label_reg_county.transform(df_counties['reg_county'])"
      ],
      "execution_count": 15,
      "outputs": []
    },
    {
      "cell_type": "code",
      "metadata": {
        "id": "3Nn7aat-SQEJ"
      },
      "source": [
        "# Drop unsed column\n",
        "df_counties.drop(['car_reg'], axis=1, inplace=True)"
      ],
      "execution_count": 16,
      "outputs": []
    },
    {
      "cell_type": "code",
      "metadata": {
        "id": "3geV3a7A3pNV"
      },
      "source": [
        "df_county_label = df_counties[{'county', 'county_lbl'}].copy()\n",
        "df_county_code_label = df_counties[{'reg_county', 'reg_county_lbl'}].copy()"
      ],
      "execution_count": 17,
      "outputs": []
    },
    {
      "cell_type": "code",
      "metadata": {
        "id": "qzh6yP424XvW"
      },
      "source": [
        "#Merge the county label to the registration data frame\n",
        "df_registration = pd.merge(df_registration, df_county_label, how='left', on='county')\n",
        "df_registration = pd.merge(df_registration, df_county_code_label, how='left', on='reg_county')"
      ],
      "execution_count": 18,
      "outputs": []
    },
    {
      "cell_type": "code",
      "metadata": {
        "id": "2e9cTgqG5LtC"
      },
      "source": [
        "#Fill county label missing values with the ones is not missing on county code label\n",
        "df_registration['county_lbl'].fillna(df_registration['reg_county_lbl'], axis=0, inplace=True)\n",
        "#Drop Reg_County_lbl\n",
        "df_registration.drop(['reg_county_lbl'], axis=1, inplace=True)\n",
        "#Convert to integer\n",
        "df_registration['county_lbl'] = df_registration['county_lbl'].astype(int)"
      ],
      "execution_count": 19,
      "outputs": []
    },
    {
      "cell_type": "code",
      "metadata": {
        "id": "wpctxlHA5wSK"
      },
      "source": [
        "# transform and add new columns with the label encoder\n",
        "df_registration['county'] = label_county.inverse_transform(df_registration['county_lbl'])\n",
        "df_registration['reg_county'] = label_reg_county.inverse_transform(df_registration['county_lbl'])"
      ],
      "execution_count": 20,
      "outputs": []
    },
    {
      "cell_type": "code",
      "metadata": {
        "colab": {
          "base_uri": "https://localhost:8080/",
          "height": 142
        },
        "id": "Caw9_fSm6V4G",
        "outputId": "d1dbcc51-9843-4e29-e6e3-836df378f23a"
      },
      "source": [
        "df_registration.head(3)"
      ],
      "execution_count": 21,
      "outputs": [
        {
          "output_type": "execute_result",
          "data": {
            "text/html": [
              "<div>\n",
              "<style scoped>\n",
              "    .dataframe tbody tr th:only-of-type {\n",
              "        vertical-align: middle;\n",
              "    }\n",
              "\n",
              "    .dataframe tbody tr th {\n",
              "        vertical-align: top;\n",
              "    }\n",
              "\n",
              "    .dataframe thead th {\n",
              "        text-align: right;\n",
              "    }\n",
              "</style>\n",
              "<table border=\"1\" class=\"dataframe\">\n",
              "  <thead>\n",
              "    <tr style=\"text-align: right;\">\n",
              "      <th></th>\n",
              "      <th>car_reg</th>\n",
              "      <th>purchase_date</th>\n",
              "      <th>county</th>\n",
              "      <th>reg_county</th>\n",
              "      <th>reg_number</th>\n",
              "      <th>county_lbl</th>\n",
              "    </tr>\n",
              "  </thead>\n",
              "  <tbody>\n",
              "    <tr>\n",
              "      <th>0</th>\n",
              "      <td>xxx-x-2315</td>\n",
              "      <td>2020-07-01</td>\n",
              "      <td>cork</td>\n",
              "      <td>c</td>\n",
              "      <td>2315</td>\n",
              "      <td>0</td>\n",
              "    </tr>\n",
              "    <tr>\n",
              "      <th>1</th>\n",
              "      <td>191-c-3750</td>\n",
              "      <td>2019-jan-20</td>\n",
              "      <td>cork</td>\n",
              "      <td>c</td>\n",
              "      <td>3750</td>\n",
              "      <td>0</td>\n",
              "    </tr>\n",
              "    <tr>\n",
              "      <th>2</th>\n",
              "      <td>191-l-3155</td>\n",
              "      <td>21 mar</td>\n",
              "      <td>limerick</td>\n",
              "      <td>l</td>\n",
              "      <td>3155</td>\n",
              "      <td>3</td>\n",
              "    </tr>\n",
              "  </tbody>\n",
              "</table>\n",
              "</div>"
            ],
            "text/plain": [
              "      car_reg purchase_date    county reg_county reg_number  county_lbl\n",
              "0  xxx-x-2315    2020-07-01      cork          c       2315           0\n",
              "1  191-c-3750   2019-jan-20      cork          c       3750           0\n",
              "2  191-l-3155        21 mar  limerick          l       3155           3"
            ]
          },
          "metadata": {
            "tags": []
          },
          "execution_count": 21
        }
      ]
    },
    {
      "cell_type": "markdown",
      "metadata": {
        "id": "wim4ZjKdrBF3"
      },
      "source": [
        "##Purchese Date ETL"
      ]
    },
    {
      "cell_type": "code",
      "metadata": {
        "colab": {
          "base_uri": "https://localhost:8080/"
        },
        "id": "b3NRVzElReoj",
        "outputId": "e78f86bd-be06-4f4b-e5a7-3ddc2506b56d"
      },
      "source": [
        "#Distinct dates in the original format\n",
        "df_registration.purchase_date.value_counts()"
      ],
      "execution_count": 22,
      "outputs": [
        {
          "output_type": "execute_result",
          "data": {
            "text/plain": [
              "13 jan         15\n",
              "12 jan         15\n",
              "2020-jan-15    14\n",
              "21 jan         14\n",
              "22 jan         13\n",
              "               ..\n",
              "2019-oct-19     1\n",
              "2018-apr-10     1\n",
              "2019-05-24      1\n",
              "2020-oct-04     1\n",
              "2020-08-16      1\n",
              "Name: purchase_date, Length: 1231, dtype: int64"
            ]
          },
          "metadata": {
            "tags": []
          },
          "execution_count": 22
        }
      ]
    },
    {
      "cell_type": "code",
      "metadata": {
        "id": "JgL8y4mPeU7d"
      },
      "source": [
        "def get_month_num(month):\n",
        "  month_dict = dict((month.lower(), index) for index, month in enumerate(calendar.month_abbr) if month)\n",
        "  try:\n",
        "    month_num = month_dict[month.lower()]\n",
        "    return month_num\n",
        "  except Exception as ex:\n",
        "    raise Exception(f'Month does not matching with the expected patterns :: {ex}')  \n",
        "\n",
        "\n",
        "def get_semester_num(month):\n",
        "  '''\n",
        "  Purpose of that function it is to convert the Month in Semester (1 or 2)\n",
        "  :param month: Month from the purchase date\n",
        "  '''\n",
        "  try:\n",
        "    \n",
        "    month_num = pd.to_numeric(month)\n",
        "    \n",
        "    if month_num > 6:\n",
        "      return 2\n",
        "    \n",
        "    else:\n",
        "      return 1\n",
        "  \n",
        "  except Exception as ex:\n",
        "    raise Exception(f'Month number does not matching with the expected patterns :: {ex}')  \n",
        "                     \n",
        "\n",
        "def date_patterns(purchase_dates, looking_for, registration):\n",
        "  '''\n",
        "  Purpose of that function: Find patterns on the date format\n",
        "  :param purchase_dates: string date in original format\n",
        "  :param looking_for: Patterns, Year, Month, Day\n",
        "  :param registration: String registration number\n",
        "  '''\n",
        "  dt_patterns_yyyymmdd = '[0-9]+[-]+[0-9]+[-]+[0-9]'\n",
        "  dt_patterns_yyyymmmdd = '[0-9]+[-]+[a-z]+[-]+[0-9]'\n",
        "  dt_missing_year_ddmmm = '[0-9]+[-]+[a-z]'\n",
        "  dt_missing_year_dd_mmm = '[0-9]+[ ]+[a-z]'\n",
        "  car_purchase_date_return = \"\"\n",
        "  try:\n",
        "    looking_for = looking_for.lower()\n",
        "    str(purchase_dates)\n",
        "    if (re.search(dt_patterns_yyyymmdd, purchase_dates)):\n",
        "      if looking_for == \"patterns\":\n",
        "        car_purchase_date_return = \"yyyy-mm-dd\"\n",
        "      elif looking_for == \"year\":\n",
        "        car_purchase_date_return = purchase_dates[:4]\n",
        "      elif looking_for == \"month\":\n",
        "        car_purchase_date_return = purchase_dates[5:7]\n",
        "      elif looking_for == \"day\":\n",
        "        car_purchase_date_return = purchase_dates[8:10]\n",
        "      else:\n",
        "        car_purchase_date_return = \"\"\n",
        "\n",
        "      \n",
        "    elif (re.search(dt_patterns_yyyymmmdd, purchase_dates)):\n",
        "      if looking_for == \"patterns\":\n",
        "        car_purchase_date_return = \"yyyy-mmm-dd\"\n",
        "      elif looking_for == \"year\":\n",
        "        car_purchase_date_return = purchase_dates[:4]\n",
        "      elif looking_for == \"month\":\n",
        "        month = purchase_dates[5:8]\n",
        "        car_purchase_date_return = get_month_num(month)\n",
        "      elif looking_for == \"day\":\n",
        "        car_purchase_date_return = purchase_dates[9:11]\n",
        "      else:\n",
        "        car_purchase_date_return = \"\"\n",
        "      \n",
        "      \n",
        "    elif (re.search(dt_missing_year_ddmmm, purchase_dates)):\n",
        "      if looking_for == \"patterns\":\n",
        "        car_purchase_date_return = \"ddmmm\"\n",
        "      elif looking_for == \"year\":\n",
        "        car_purchase_date_return = registration_status(registration, \"YEAR\")\n",
        "      elif looking_for == \"month\":\n",
        "        month = purchase_dates[2:5]\n",
        "        car_purchase_date_return = get_month_num(month)\n",
        "      elif looking_for == \"day\":\n",
        "        car_purchase_date_return = purchase_dates[:2]\n",
        "      else:\n",
        "        car_purchase_date_return = \"\"\n",
        "\n",
        "    elif (re.search(dt_missing_year_dd_mmm, purchase_dates)):\n",
        "      if looking_for == \"patterns\":\n",
        "        car_purchase_date_return = \"dd_mmm\"\n",
        "      elif looking_for == \"year\":\n",
        "        car_purchase_date_return = registration_status(registration, \"YEAR\")\n",
        "      elif looking_for == \"month\":\n",
        "        month = purchase_dates[3:6]\n",
        "        car_purchase_date_return = get_month_num(month)\n",
        "      elif looking_for == \"day\":\n",
        "        car_purchase_date_return = purchase_dates[:2]\n",
        "      else:\n",
        "        car_purchase_date_return = \"\"\n",
        "      \n",
        "    else:\n",
        "      \n",
        "      car_purchase_date_return = \"verify\"\n",
        "      \n",
        "    return car_purchase_date_return\n",
        "    #return car_reg_status\n",
        "\n",
        "  except Exception as ex:\n",
        "    raise Exception(f'Purchase date is not matching with the expected patterns :: {ex}')  "
      ],
      "execution_count": 23,
      "outputs": []
    },
    {
      "cell_type": "code",
      "metadata": {
        "id": "kRObipaH-2z-"
      },
      "source": [
        "#Apply lambda function to get year and month from purchase date\n",
        "df_registration['purchase_year'] = df_registration.apply(lambda row: date_patterns(row['purchase_date'], \"YEAR\", row['car_reg']), axis=1)\n",
        "df_registration['purchase_month'] = df_registration.apply(lambda row: date_patterns(row['purchase_date'], \"MONTH\", row['car_reg']), axis=1)\n",
        "df_registration['purchase_day'] = df_registration.apply(lambda row: date_patterns(row['purchase_date'], \"DAY\", row['car_reg']), axis=1)\n",
        "df_registration['purchase_month'] = pd.to_numeric(df_registration['purchase_month'])"
      ],
      "execution_count": 24,
      "outputs": []
    },
    {
      "cell_type": "code",
      "metadata": {
        "id": "wdNWLdagCPXA"
      },
      "source": [
        "#Apply lambda function to get semester from purchase date\n",
        "df_registration['purchase_semester'] = df_registration.apply(lambda row: get_semester_num(row['purchase_month']), axis=1)"
      ],
      "execution_count": 25,
      "outputs": []
    },
    {
      "cell_type": "code",
      "metadata": {
        "id": "gJ115aTT7wxy",
        "colab": {
          "base_uri": "https://localhost:8080/"
        },
        "outputId": "e542ddea-62e8-4649-da97-f818ff0a5c8a"
      },
      "source": [
        "print(f'{df_registration[\"purchase_year\"].value_counts()}\\n Total:\\t{df_registration[\"purchase_year\"].value_counts().sum()}')"
      ],
      "execution_count": 26,
      "outputs": [
        {
          "output_type": "stream",
          "text": [
            "2020    1294\n",
            "2019    1278\n",
            "2018    1228\n",
            "Name: purchase_year, dtype: int64\n",
            " Total:\t3800\n"
          ],
          "name": "stdout"
        }
      ]
    },
    {
      "cell_type": "code",
      "metadata": {
        "id": "mqacRJ6uGB7K"
      },
      "source": [
        "def return_to_patterns(col1, col2, col3, col4, pattern):\n",
        "  \"\"\"\n",
        "  The purpose of the function:\n",
        "  Concatenate string columns into the requested pattern\n",
        "  :param col1: String (Year)\n",
        "  :param col2: String (County or Month)\n",
        "  :param col3: String (Registration Number or Day)\n",
        "  :param col4: String (Semester)\n",
        "  :param pattern: String to create Car Registration or Date\n",
        "  :return: New string combined the columns into the requested pattern\n",
        "  \"\"\"\n",
        "  try:\n",
        "    reg_date = dt.fromordinal(dt.today().toordinal())\n",
        "    reg_century = reg_date.strftime('%Y')[:2]\n",
        "    pattern = pattern.lower()\n",
        "    \n",
        "    if pattern == \"registration\":\n",
        "      \n",
        "      try:\n",
        "        if len(col1) == 4:\n",
        "          year = col1[2:4]\n",
        "        elif len(col1) == 2:\n",
        "          year = col1\n",
        "        else:\n",
        "          year = \"\"\n",
        "          \n",
        "        if len(col2) == 1:\n",
        "          county_code =  col2.upper()\n",
        "        else:\n",
        "          county_code = \"\"\n",
        "\n",
        "        if len(col3) > 0:\n",
        "          reg_number = col3\n",
        "        else:\n",
        "          reg_number = \"\"\n",
        "          \n",
        "        if 0 < col4 < 3:\n",
        "          semester = col4\n",
        "        else:\n",
        "          semester = \"\"\n",
        "        \n",
        "        pattern_return = f'{year}{semester}-{county_code}-{reg_number}'  \n",
        "        return pattern_return\n",
        "        \n",
        "          \n",
        "      except Exception as ex:\n",
        "        raise Exception(f'Error Registration Patterns: {ex}')\n",
        "    elif pattern == \"date\":\n",
        "      try:\n",
        "        if len(col1) == 4:\n",
        "          year = col1\n",
        "        elif len(col1) == 2:\n",
        "          year = f'{reg_century}{col1}'\n",
        "        else:\n",
        "          year = \"\"\n",
        "          \n",
        "        if col2 < 10:\n",
        "          month =  f'0{col2}'\n",
        "        elif col2 > 0:\n",
        "          month =  col2\n",
        "        else:\n",
        "          month = \"\"\n",
        "\n",
        "        if len(col3) == 1:\n",
        "          day = f'0{col3}'\n",
        "        elif len(col3) == 2:\n",
        "          day = col3\n",
        "        else:\n",
        "          day = \"\"\n",
        "        \n",
        "        pattern_return = f'{year}-{month}-{day}'\n",
        "        return pattern_return\n",
        "      \n",
        "      except Exception as ex:\n",
        "          raise Exception(f'Error Date Patterns: {ex}')\n",
        "    \n",
        "    \n",
        "  except Exception as ex:\n",
        "    raise Exception(f'error: {ex}')"
      ],
      "execution_count": 27,
      "outputs": []
    },
    {
      "cell_type": "code",
      "metadata": {
        "id": "0XPxUHGXRqBy"
      },
      "source": [
        "# Apply lambda function to get Car Registration or Date with the correct pattern\n",
        "df_registration['purchase_date'] = df_registration.apply(\n",
        "    lambda row: return_to_patterns(\n",
        "        row['purchase_year'], row['purchase_month'], row['purchase_day'], row['purchase_semester'], \"DATE\"),\n",
        "    axis=1)"
      ],
      "execution_count": 28,
      "outputs": []
    },
    {
      "cell_type": "code",
      "metadata": {
        "id": "u2FdoDMoWdW2"
      },
      "source": [
        "df_registration['car_reg'] = df_registration.apply(\n",
        "    lambda row: return_to_patterns(\n",
        "        row['purchase_year'], row['reg_county'], row['reg_number'], row['purchase_semester'], \"REGISTRATION\"),\n",
        "    axis=1)"
      ],
      "execution_count": 29,
      "outputs": []
    },
    {
      "cell_type": "code",
      "metadata": {
        "id": "TPp9yCJ0T9Ks"
      },
      "source": [
        "df_registration = df_registration[{'car_reg', 'purchase_date', 'county'}].copy()"
      ],
      "execution_count": 30,
      "outputs": []
    },
    {
      "cell_type": "code",
      "metadata": {
        "id": "PWHJnjtTFZ7f"
      },
      "source": [
        "df_second = df_original[{'make',\t'model',\t'type',\t'colour',\t'tax_band',\t'price'}].copy()"
      ],
      "execution_count": 31,
      "outputs": []
    },
    {
      "cell_type": "code",
      "metadata": {
        "id": "eA3c61Rc9bf6"
      },
      "source": [
        "df_test = pd.DataFrame.join(df_second, df_registration)"
      ],
      "execution_count": 32,
      "outputs": []
    },
    {
      "cell_type": "code",
      "metadata": {
        "colab": {
          "base_uri": "https://localhost:8080/"
        },
        "id": "fBSJjBwZCn9v",
        "outputId": "a79a8b6b-5d9f-4d08-de1e-783bcdb44a0e"
      },
      "source": [
        "df_test['colour'].value_counts()"
      ],
      "execution_count": 33,
      "outputs": [
        {
          "output_type": "execute_result",
          "data": {
            "text/plain": [
              "white                      404\n",
              "White                      400\n",
              "WHITE                      351\n",
              "<colour>White</colour>     224\n",
              "red                        195\n",
              "Blue                       189\n",
              "blue                       185\n",
              "RED                        182\n",
              "Red                        181\n",
              "BLUE                       177\n",
              "#FFFFFF                    157\n",
              "Silver                     147\n",
              "silver                     144\n",
              "SILVER                     131\n",
              "<colour>Red</colour>       115\n",
              "<colour>Blue</colour>      113\n",
              "<colour>Silver</colour>     89\n",
              "#0000FF                     79\n",
              "#FF0000                     79\n",
              "#C0C0C0                     74\n",
              "ORANGE                      51\n",
              "orange                      48\n",
              "Orange                      39\n",
              "<colour>Orange</colour>     25\n",
              "#FFA500                     21\n",
              "Name: colour, dtype: int64"
            ]
          },
          "metadata": {
            "tags": []
          },
          "execution_count": 33
        }
      ]
    },
    {
      "cell_type": "code",
      "metadata": {
        "id": "KIDzQT73ZTmq"
      },
      "source": [
        ""
      ],
      "execution_count": 33,
      "outputs": []
    },
    {
      "cell_type": "markdown",
      "metadata": {
        "id": "VEICBhAn-sd7"
      },
      "source": [
        "##Tax Band ETL"
      ]
    },
    {
      "cell_type": "code",
      "metadata": {
        "id": "nIsWLimRbaW6",
        "colab": {
          "base_uri": "https://localhost:8080/",
          "height": 142
        },
        "outputId": "6fe5720a-d02a-4f1f-c53a-b53843152a52"
      },
      "source": [
        "df_original.head(3)"
      ],
      "execution_count": 34,
      "outputs": [
        {
          "output_type": "execute_result",
          "data": {
            "text/html": [
              "<div>\n",
              "<style scoped>\n",
              "    .dataframe tbody tr th:only-of-type {\n",
              "        vertical-align: middle;\n",
              "    }\n",
              "\n",
              "    .dataframe tbody tr th {\n",
              "        vertical-align: top;\n",
              "    }\n",
              "\n",
              "    .dataframe thead th {\n",
              "        text-align: right;\n",
              "    }\n",
              "</style>\n",
              "<table border=\"1\" class=\"dataframe\">\n",
              "  <thead>\n",
              "    <tr style=\"text-align: right;\">\n",
              "      <th></th>\n",
              "      <th>car_reg</th>\n",
              "      <th>purchase_date</th>\n",
              "      <th>county</th>\n",
              "      <th>make</th>\n",
              "      <th>model</th>\n",
              "      <th>type</th>\n",
              "      <th>colour</th>\n",
              "      <th>tax_band</th>\n",
              "      <th>price</th>\n",
              "    </tr>\n",
              "  </thead>\n",
              "  <tbody>\n",
              "    <tr>\n",
              "      <th>0</th>\n",
              "      <td>XXX-X-2315</td>\n",
              "      <td>2020-07-01</td>\n",
              "      <td>Cork</td>\n",
              "      <td>Audi : A4 (Saloon)</td>\n",
              "      <td>NaN</td>\n",
              "      <td>NaN</td>\n",
              "      <td>red</td>\n",
              "      <td>b</td>\n",
              "      <td>55287</td>\n",
              "    </tr>\n",
              "    <tr>\n",
              "      <th>1</th>\n",
              "      <td>191-C-3750</td>\n",
              "      <td>2019-Jan-20</td>\n",
              "      <td>NaN</td>\n",
              "      <td>mazda</td>\n",
              "      <td>CX-30</td>\n",
              "      <td>SUV</td>\n",
              "      <td>#C0C0C0</td>\n",
              "      <td>B</td>\n",
              "      <td>41690</td>\n",
              "    </tr>\n",
              "    <tr>\n",
              "      <th>2</th>\n",
              "      <td>191-l-3155</td>\n",
              "      <td>21 Mar</td>\n",
              "      <td>LIMERICK</td>\n",
              "      <td>BMW : 3 Series</td>\n",
              "      <td>NaN</td>\n",
              "      <td>Saloon</td>\n",
              "      <td>WHITE</td>\n",
              "      <td>2</td>\n",
              "      <td>40381</td>\n",
              "    </tr>\n",
              "  </tbody>\n",
              "</table>\n",
              "</div>"
            ],
            "text/plain": [
              "      car_reg purchase_date    county  ...   colour tax_band  price\n",
              "0  XXX-X-2315    2020-07-01      Cork  ...      red        b  55287\n",
              "1  191-C-3750   2019-Jan-20       NaN  ...  #C0C0C0        B  41690\n",
              "2  191-l-3155        21 Mar  LIMERICK  ...    WHITE        2  40381\n",
              "\n",
              "[3 rows x 9 columns]"
            ]
          },
          "metadata": {
            "tags": []
          },
          "execution_count": 34
        }
      ]
    },
    {
      "cell_type": "code",
      "metadata": {
        "id": "IyS_G0QvcXLx"
      },
      "source": [
        "df_tax_band = df_original.loc[df_original['tax_band'].isnull() == False][{'tax_band'}].copy()"
      ],
      "execution_count": 35,
      "outputs": []
    },
    {
      "cell_type": "code",
      "metadata": {
        "id": "zF8L5Zp3_nJG"
      },
      "source": [
        "df_tax_band['tax_band'] = df_tax_band['tax_band'].str.upper()"
      ],
      "execution_count": 36,
      "outputs": []
    },
    {
      "cell_type": "code",
      "metadata": {
        "colab": {
          "base_uri": "https://localhost:8080/"
        },
        "id": "cGFYckwk_0Y0",
        "outputId": "c35d3cd1-5451-4f02-cb99-062ed8b7fa64"
      },
      "source": [
        "set(df_tax_band['tax_band'])"
      ],
      "execution_count": 37,
      "outputs": [
        {
          "output_type": "execute_result",
          "data": {
            "text/plain": [
              "{'1', '2', '3', '4', 'A', 'B', 'C', 'D'}"
            ]
          },
          "metadata": {
            "tags": []
          },
          "execution_count": 37
        }
      ]
    },
    {
      "cell_type": "code",
      "metadata": {
        "id": "eAZ64mg2BPzS"
      },
      "source": [
        "def isNumber(numb):\n",
        "  is_num = bool(re.search(r'\\d', numb))\n",
        "  return is_num"
      ],
      "execution_count": 38,
      "outputs": []
    },
    {
      "cell_type": "code",
      "metadata": {
        "id": "S184AwVcCuvE"
      },
      "source": [
        "df_tax_band['isNumber'] = df_tax_band['tax_band'].apply(lambda row: isNumber(row))"
      ],
      "execution_count": 39,
      "outputs": []
    },
    {
      "cell_type": "code",
      "metadata": {
        "colab": {
          "base_uri": "https://localhost:8080/",
          "height": 204
        },
        "id": "idj6XgnCC_oD",
        "outputId": "0088d040-c823-4086-c9c8-83116c09c774"
      },
      "source": [
        "df_tax_band.head()"
      ],
      "execution_count": 40,
      "outputs": [
        {
          "output_type": "execute_result",
          "data": {
            "text/html": [
              "<div>\n",
              "<style scoped>\n",
              "    .dataframe tbody tr th:only-of-type {\n",
              "        vertical-align: middle;\n",
              "    }\n",
              "\n",
              "    .dataframe tbody tr th {\n",
              "        vertical-align: top;\n",
              "    }\n",
              "\n",
              "    .dataframe thead th {\n",
              "        text-align: right;\n",
              "    }\n",
              "</style>\n",
              "<table border=\"1\" class=\"dataframe\">\n",
              "  <thead>\n",
              "    <tr style=\"text-align: right;\">\n",
              "      <th></th>\n",
              "      <th>tax_band</th>\n",
              "      <th>isNumber</th>\n",
              "    </tr>\n",
              "  </thead>\n",
              "  <tbody>\n",
              "    <tr>\n",
              "      <th>0</th>\n",
              "      <td>B</td>\n",
              "      <td>False</td>\n",
              "    </tr>\n",
              "    <tr>\n",
              "      <th>1</th>\n",
              "      <td>B</td>\n",
              "      <td>False</td>\n",
              "    </tr>\n",
              "    <tr>\n",
              "      <th>2</th>\n",
              "      <td>2</td>\n",
              "      <td>True</td>\n",
              "    </tr>\n",
              "    <tr>\n",
              "      <th>3</th>\n",
              "      <td>2</td>\n",
              "      <td>True</td>\n",
              "    </tr>\n",
              "    <tr>\n",
              "      <th>4</th>\n",
              "      <td>A</td>\n",
              "      <td>False</td>\n",
              "    </tr>\n",
              "  </tbody>\n",
              "</table>\n",
              "</div>"
            ],
            "text/plain": [
              "  tax_band  isNumber\n",
              "0        B     False\n",
              "1        B     False\n",
              "2        2      True\n",
              "3        2      True\n",
              "4        A     False"
            ]
          },
          "metadata": {
            "tags": []
          },
          "execution_count": 40
        }
      ]
    },
    {
      "cell_type": "code",
      "metadata": {
        "id": "l71ENR5wH_Tq"
      },
      "source": [
        "df_tax_band_string = df_tax_band.loc[df_tax_band['isNumber'] == False ][{'tax_band', 'isNumber'}].copy()"
      ],
      "execution_count": 41,
      "outputs": []
    },
    {
      "cell_type": "code",
      "metadata": {
        "id": "TXAfoPztdVim"
      },
      "source": [
        "df_tax_band_train = pd.DataFrame(list(string.ascii_uppercase))\n",
        "df_tax_band_train.rename({0: \"tax_band\"}, axis=1, inplace=True)"
      ],
      "execution_count": 42,
      "outputs": []
    },
    {
      "cell_type": "code",
      "metadata": {
        "colab": {
          "base_uri": "https://localhost:8080/",
          "height": 142
        },
        "id": "tNTDp7KPJTNd",
        "outputId": "1c790c70-03cc-45f8-aeb9-a729e729f43b"
      },
      "source": [
        "df_tax_band_train.head(3)"
      ],
      "execution_count": 43,
      "outputs": [
        {
          "output_type": "execute_result",
          "data": {
            "text/html": [
              "<div>\n",
              "<style scoped>\n",
              "    .dataframe tbody tr th:only-of-type {\n",
              "        vertical-align: middle;\n",
              "    }\n",
              "\n",
              "    .dataframe tbody tr th {\n",
              "        vertical-align: top;\n",
              "    }\n",
              "\n",
              "    .dataframe thead th {\n",
              "        text-align: right;\n",
              "    }\n",
              "</style>\n",
              "<table border=\"1\" class=\"dataframe\">\n",
              "  <thead>\n",
              "    <tr style=\"text-align: right;\">\n",
              "      <th></th>\n",
              "      <th>tax_band</th>\n",
              "    </tr>\n",
              "  </thead>\n",
              "  <tbody>\n",
              "    <tr>\n",
              "      <th>0</th>\n",
              "      <td>A</td>\n",
              "    </tr>\n",
              "    <tr>\n",
              "      <th>1</th>\n",
              "      <td>B</td>\n",
              "    </tr>\n",
              "    <tr>\n",
              "      <th>2</th>\n",
              "      <td>C</td>\n",
              "    </tr>\n",
              "  </tbody>\n",
              "</table>\n",
              "</div>"
            ],
            "text/plain": [
              "  tax_band\n",
              "0        A\n",
              "1        B\n",
              "2        C"
            ]
          },
          "metadata": {
            "tags": []
          },
          "execution_count": 43
        }
      ]
    },
    {
      "cell_type": "code",
      "metadata": {
        "colab": {
          "base_uri": "https://localhost:8080/"
        },
        "id": "vA5Og082DCjI",
        "outputId": "5c979840-37f3-44d7-c0ec-66bb98fc5850"
      },
      "source": [
        "# encoder for Tax Band\n",
        "label_band = LabelEncoder()\n",
        "# train the encoder for Tax Band\n",
        "label_band.fit(df_tax_band_train['tax_band'])"
      ],
      "execution_count": 44,
      "outputs": [
        {
          "output_type": "execute_result",
          "data": {
            "text/plain": [
              "LabelEncoder()"
            ]
          },
          "metadata": {
            "tags": []
          },
          "execution_count": 44
        }
      ]
    },
    {
      "cell_type": "code",
      "metadata": {
        "id": "ImdKd-JzIyAn"
      },
      "source": [
        "# transform and add new columns with the label encoder\n",
        "# email sending to customer about the tax band\n",
        "df_tax_band_string['tax_band_lbl'] = label_band.transform(df_tax_band_string['tax_band'])"
      ],
      "execution_count": 45,
      "outputs": []
    },
    {
      "cell_type": "code",
      "metadata": {
        "colab": {
          "base_uri": "https://localhost:8080/",
          "height": 142
        },
        "id": "hecNy9hiKW0j",
        "outputId": "6b0db096-d42e-431c-a2bd-59f8b5d80ab2"
      },
      "source": [
        "df_tax_band_string.head(3)"
      ],
      "execution_count": 46,
      "outputs": [
        {
          "output_type": "execute_result",
          "data": {
            "text/html": [
              "<div>\n",
              "<style scoped>\n",
              "    .dataframe tbody tr th:only-of-type {\n",
              "        vertical-align: middle;\n",
              "    }\n",
              "\n",
              "    .dataframe tbody tr th {\n",
              "        vertical-align: top;\n",
              "    }\n",
              "\n",
              "    .dataframe thead th {\n",
              "        text-align: right;\n",
              "    }\n",
              "</style>\n",
              "<table border=\"1\" class=\"dataframe\">\n",
              "  <thead>\n",
              "    <tr style=\"text-align: right;\">\n",
              "      <th></th>\n",
              "      <th>tax_band</th>\n",
              "      <th>isNumber</th>\n",
              "      <th>tax_band_lbl</th>\n",
              "    </tr>\n",
              "  </thead>\n",
              "  <tbody>\n",
              "    <tr>\n",
              "      <th>0</th>\n",
              "      <td>B</td>\n",
              "      <td>False</td>\n",
              "      <td>1</td>\n",
              "    </tr>\n",
              "    <tr>\n",
              "      <th>1</th>\n",
              "      <td>B</td>\n",
              "      <td>False</td>\n",
              "      <td>1</td>\n",
              "    </tr>\n",
              "    <tr>\n",
              "      <th>4</th>\n",
              "      <td>A</td>\n",
              "      <td>False</td>\n",
              "      <td>0</td>\n",
              "    </tr>\n",
              "  </tbody>\n",
              "</table>\n",
              "</div>"
            ],
            "text/plain": [
              "  tax_band  isNumber  tax_band_lbl\n",
              "0        B     False             1\n",
              "1        B     False             1\n",
              "4        A     False             0"
            ]
          },
          "metadata": {
            "tags": []
          },
          "execution_count": 46
        }
      ]
    },
    {
      "cell_type": "code",
      "metadata": {
        "id": "6zb7eIqKLjkD"
      },
      "source": [
        "df_band_final = df_tax_band_string.groupby(['tax_band', 'tax_band_lbl'], as_index=False)['isNumber'].count()"
      ],
      "execution_count": 47,
      "outputs": []
    },
    {
      "cell_type": "code",
      "metadata": {
        "colab": {
          "base_uri": "https://localhost:8080/",
          "height": 173
        },
        "id": "FflORKjBWA23",
        "outputId": "97c87dc4-f0e0-432d-cad7-b4d99188edf1"
      },
      "source": [
        "df_band_final.drop(['isNumber'], axis=1, inplace=True)\n",
        "df_band_final"
      ],
      "execution_count": 48,
      "outputs": [
        {
          "output_type": "execute_result",
          "data": {
            "text/html": [
              "<div>\n",
              "<style scoped>\n",
              "    .dataframe tbody tr th:only-of-type {\n",
              "        vertical-align: middle;\n",
              "    }\n",
              "\n",
              "    .dataframe tbody tr th {\n",
              "        vertical-align: top;\n",
              "    }\n",
              "\n",
              "    .dataframe thead th {\n",
              "        text-align: right;\n",
              "    }\n",
              "</style>\n",
              "<table border=\"1\" class=\"dataframe\">\n",
              "  <thead>\n",
              "    <tr style=\"text-align: right;\">\n",
              "      <th></th>\n",
              "      <th>tax_band</th>\n",
              "      <th>tax_band_lbl</th>\n",
              "    </tr>\n",
              "  </thead>\n",
              "  <tbody>\n",
              "    <tr>\n",
              "      <th>0</th>\n",
              "      <td>A</td>\n",
              "      <td>0</td>\n",
              "    </tr>\n",
              "    <tr>\n",
              "      <th>1</th>\n",
              "      <td>B</td>\n",
              "      <td>1</td>\n",
              "    </tr>\n",
              "    <tr>\n",
              "      <th>2</th>\n",
              "      <td>C</td>\n",
              "      <td>2</td>\n",
              "    </tr>\n",
              "    <tr>\n",
              "      <th>3</th>\n",
              "      <td>D</td>\n",
              "      <td>3</td>\n",
              "    </tr>\n",
              "  </tbody>\n",
              "</table>\n",
              "</div>"
            ],
            "text/plain": [
              "  tax_band  tax_band_lbl\n",
              "0        A             0\n",
              "1        B             1\n",
              "2        C             2\n",
              "3        D             3"
            ]
          },
          "metadata": {
            "tags": []
          },
          "execution_count": 48
        }
      ]
    },
    {
      "cell_type": "code",
      "metadata": {
        "colab": {
          "base_uri": "https://localhost:8080/"
        },
        "id": "Nq_boBpUYaE5",
        "outputId": "3061998f-5100-475f-ab9a-24c2a6e23eaf"
      },
      "source": [
        "df_tax_band.shape"
      ],
      "execution_count": 49,
      "outputs": [
        {
          "output_type": "execute_result",
          "data": {
            "text/plain": [
              "(3800, 2)"
            ]
          },
          "metadata": {
            "tags": []
          },
          "execution_count": 49
        }
      ]
    },
    {
      "cell_type": "code",
      "metadata": {
        "id": "A_eLUvrlYoQW"
      },
      "source": [
        "df_tax_band = pd.merge(df_tax_band, df_band_final, how='left', on='tax_band')"
      ],
      "execution_count": 50,
      "outputs": []
    },
    {
      "cell_type": "code",
      "metadata": {
        "id": "-G8vBLDBY3ao"
      },
      "source": [
        "df_tax_band['tax_band_lbl'].fillna(df_tax_band['tax_band'], axis=0, inplace=True)"
      ],
      "execution_count": 51,
      "outputs": []
    },
    {
      "cell_type": "code",
      "metadata": {
        "id": "UCW3Zftkc4xH"
      },
      "source": [
        "df_tax_band['tax_band_lbl'] = df_tax_band['tax_band_lbl'].astype(int)"
      ],
      "execution_count": 52,
      "outputs": []
    },
    {
      "cell_type": "code",
      "metadata": {
        "id": "6P1SokGwY5tU"
      },
      "source": [
        "df_tax_band['tax_band'] = label_band.inverse_transform(df_tax_band['tax_band_lbl'])"
      ],
      "execution_count": 53,
      "outputs": []
    },
    {
      "cell_type": "code",
      "metadata": {
        "id": "ha32OrClfHuE"
      },
      "source": [
        "df_tax_band.drop(['isNumber', 'tax_band_lbl'], axis=1, inplace=True)"
      ],
      "execution_count": 54,
      "outputs": []
    },
    {
      "cell_type": "code",
      "metadata": {
        "colab": {
          "base_uri": "https://localhost:8080/",
          "height": 142
        },
        "id": "zXyPGKwRfPc4",
        "outputId": "c86fd008-b230-4ff8-8491-643dab6abf17"
      },
      "source": [
        "df_original.head(3)"
      ],
      "execution_count": 55,
      "outputs": [
        {
          "output_type": "execute_result",
          "data": {
            "text/html": [
              "<div>\n",
              "<style scoped>\n",
              "    .dataframe tbody tr th:only-of-type {\n",
              "        vertical-align: middle;\n",
              "    }\n",
              "\n",
              "    .dataframe tbody tr th {\n",
              "        vertical-align: top;\n",
              "    }\n",
              "\n",
              "    .dataframe thead th {\n",
              "        text-align: right;\n",
              "    }\n",
              "</style>\n",
              "<table border=\"1\" class=\"dataframe\">\n",
              "  <thead>\n",
              "    <tr style=\"text-align: right;\">\n",
              "      <th></th>\n",
              "      <th>car_reg</th>\n",
              "      <th>purchase_date</th>\n",
              "      <th>county</th>\n",
              "      <th>make</th>\n",
              "      <th>model</th>\n",
              "      <th>type</th>\n",
              "      <th>colour</th>\n",
              "      <th>tax_band</th>\n",
              "      <th>price</th>\n",
              "    </tr>\n",
              "  </thead>\n",
              "  <tbody>\n",
              "    <tr>\n",
              "      <th>0</th>\n",
              "      <td>XXX-X-2315</td>\n",
              "      <td>2020-07-01</td>\n",
              "      <td>Cork</td>\n",
              "      <td>Audi : A4 (Saloon)</td>\n",
              "      <td>NaN</td>\n",
              "      <td>NaN</td>\n",
              "      <td>red</td>\n",
              "      <td>b</td>\n",
              "      <td>55287</td>\n",
              "    </tr>\n",
              "    <tr>\n",
              "      <th>1</th>\n",
              "      <td>191-C-3750</td>\n",
              "      <td>2019-Jan-20</td>\n",
              "      <td>NaN</td>\n",
              "      <td>mazda</td>\n",
              "      <td>CX-30</td>\n",
              "      <td>SUV</td>\n",
              "      <td>#C0C0C0</td>\n",
              "      <td>B</td>\n",
              "      <td>41690</td>\n",
              "    </tr>\n",
              "    <tr>\n",
              "      <th>2</th>\n",
              "      <td>191-l-3155</td>\n",
              "      <td>21 Mar</td>\n",
              "      <td>LIMERICK</td>\n",
              "      <td>BMW : 3 Series</td>\n",
              "      <td>NaN</td>\n",
              "      <td>Saloon</td>\n",
              "      <td>WHITE</td>\n",
              "      <td>2</td>\n",
              "      <td>40381</td>\n",
              "    </tr>\n",
              "  </tbody>\n",
              "</table>\n",
              "</div>"
            ],
            "text/plain": [
              "      car_reg purchase_date    county  ...   colour tax_band  price\n",
              "0  XXX-X-2315    2020-07-01      Cork  ...      red        b  55287\n",
              "1  191-C-3750   2019-Jan-20       NaN  ...  #C0C0C0        B  41690\n",
              "2  191-l-3155        21 Mar  LIMERICK  ...    WHITE        2  40381\n",
              "\n",
              "[3 rows x 9 columns]"
            ]
          },
          "metadata": {
            "tags": []
          },
          "execution_count": 55
        }
      ]
    },
    {
      "cell_type": "code",
      "metadata": {
        "colab": {
          "base_uri": "https://localhost:8080/"
        },
        "id": "9bBZ1MWPfw9U",
        "outputId": "14cc21e7-3469-411e-9982-e7262381d3a4"
      },
      "source": [
        "df_original_tax_band = df_original[{'car_reg', 'purchase_date', 'county', 'make'}].copy()\n",
        "df_original_tax_band.shape, df_original.shape, df_original_tax_band.head(3)"
      ],
      "execution_count": 56,
      "outputs": [
        {
          "output_type": "execute_result",
          "data": {
            "text/plain": [
              "((3800, 4),\n",
              " (3800, 9),\n",
              "                  make     car_reg purchase_date    county\n",
              " 0  Audi : A4 (Saloon)  XXX-X-2315    2020-07-01      Cork\n",
              " 1               mazda  191-C-3750   2019-Jan-20       NaN\n",
              " 2      BMW : 3 Series  191-l-3155        21 Mar  LIMERICK)"
            ]
          },
          "metadata": {
            "tags": []
          },
          "execution_count": 56
        }
      ]
    },
    {
      "cell_type": "code",
      "metadata": {
        "colab": {
          "base_uri": "https://localhost:8080/"
        },
        "id": "nwSbRKgzgoP-",
        "outputId": "0f89a057-a711-491d-e89d-1ceb7fa36725"
      },
      "source": [
        "df_test_tax_band = pd.DataFrame.join(df_original_tax_band, df_tax_band)\n",
        "print(f'{df_test_tax_band.shape}\\n{df_test_tax_band.head(3)}')"
      ],
      "execution_count": 57,
      "outputs": [
        {
          "output_type": "stream",
          "text": [
            "(3800, 5)\n",
            "                 make     car_reg purchase_date    county tax_band\n",
            "0  Audi : A4 (Saloon)  XXX-X-2315    2020-07-01      Cork        B\n",
            "1               mazda  191-C-3750   2019-Jan-20       NaN        B\n",
            "2      BMW : 3 Series  191-l-3155        21 Mar  LIMERICK        C\n"
          ],
          "name": "stdout"
        }
      ]
    },
    {
      "cell_type": "code",
      "metadata": {
        "id": "1rkUC76ug7Ub"
      },
      "source": [
        ""
      ],
      "execution_count": 57,
      "outputs": []
    },
    {
      "cell_type": "markdown",
      "metadata": {
        "id": "mAYpaCUtiVxq"
      },
      "source": [
        "##Make, Mode and Type ETL"
      ]
    },
    {
      "cell_type": "code",
      "metadata": {
        "id": "-Rk9IAzXDu7s",
        "colab": {
          "base_uri": "https://localhost:8080/",
          "height": 142
        },
        "outputId": "712ddb14-efb9-47e2-f687-fbaefdf93176"
      },
      "source": [
        "df_original.head(3)"
      ],
      "execution_count": 209,
      "outputs": [
        {
          "output_type": "execute_result",
          "data": {
            "text/html": [
              "<div>\n",
              "<style scoped>\n",
              "    .dataframe tbody tr th:only-of-type {\n",
              "        vertical-align: middle;\n",
              "    }\n",
              "\n",
              "    .dataframe tbody tr th {\n",
              "        vertical-align: top;\n",
              "    }\n",
              "\n",
              "    .dataframe thead th {\n",
              "        text-align: right;\n",
              "    }\n",
              "</style>\n",
              "<table border=\"1\" class=\"dataframe\">\n",
              "  <thead>\n",
              "    <tr style=\"text-align: right;\">\n",
              "      <th></th>\n",
              "      <th>car_reg</th>\n",
              "      <th>purchase_date</th>\n",
              "      <th>county</th>\n",
              "      <th>make</th>\n",
              "      <th>model</th>\n",
              "      <th>type</th>\n",
              "      <th>colour</th>\n",
              "      <th>tax_band</th>\n",
              "      <th>price</th>\n",
              "    </tr>\n",
              "  </thead>\n",
              "  <tbody>\n",
              "    <tr>\n",
              "      <th>0</th>\n",
              "      <td>XXX-X-2315</td>\n",
              "      <td>2020-07-01</td>\n",
              "      <td>Cork</td>\n",
              "      <td>Audi : A4 (Saloon)</td>\n",
              "      <td>NaN</td>\n",
              "      <td>NaN</td>\n",
              "      <td>red</td>\n",
              "      <td>b</td>\n",
              "      <td>55287</td>\n",
              "    </tr>\n",
              "    <tr>\n",
              "      <th>1</th>\n",
              "      <td>191-C-3750</td>\n",
              "      <td>2019-Jan-20</td>\n",
              "      <td>NaN</td>\n",
              "      <td>mazda</td>\n",
              "      <td>CX-30</td>\n",
              "      <td>SUV</td>\n",
              "      <td>#C0C0C0</td>\n",
              "      <td>B</td>\n",
              "      <td>41690</td>\n",
              "    </tr>\n",
              "    <tr>\n",
              "      <th>2</th>\n",
              "      <td>191-l-3155</td>\n",
              "      <td>21 Mar</td>\n",
              "      <td>LIMERICK</td>\n",
              "      <td>BMW : 3 Series</td>\n",
              "      <td>NaN</td>\n",
              "      <td>Saloon</td>\n",
              "      <td>WHITE</td>\n",
              "      <td>2</td>\n",
              "      <td>40381</td>\n",
              "    </tr>\n",
              "  </tbody>\n",
              "</table>\n",
              "</div>"
            ],
            "text/plain": [
              "      car_reg purchase_date    county  ...   colour tax_band  price\n",
              "0  XXX-X-2315    2020-07-01      Cork  ...      red        b  55287\n",
              "1  191-C-3750   2019-Jan-20       NaN  ...  #C0C0C0        B  41690\n",
              "2  191-l-3155        21 Mar  LIMERICK  ...    WHITE        2  40381\n",
              "\n",
              "[3 rows x 9 columns]"
            ]
          },
          "metadata": {
            "tags": []
          },
          "execution_count": 209
        }
      ]
    },
    {
      "cell_type": "code",
      "metadata": {
        "colab": {
          "base_uri": "https://localhost:8080/"
        },
        "id": "xd8KbB8Pi2yo",
        "outputId": "dec91419-dc1f-4bd5-f303-9ec76dc8024e"
      },
      "source": [
        "df_car_model = df_original[{'make', 'model', 'type'}].copy()\n",
        "print(f'{df_car_model.shape}\\n{df_car_model.head(3)}')"
      ],
      "execution_count": 210,
      "outputs": [
        {
          "output_type": "stream",
          "text": [
            "(3800, 3)\n",
            "                 make  model    type\n",
            "0  Audi : A4 (Saloon)    NaN     NaN\n",
            "1               mazda  CX-30     SUV\n",
            "2      BMW : 3 Series    NaN  Saloon\n"
          ],
          "name": "stdout"
        }
      ]
    },
    {
      "cell_type": "code",
      "metadata": {
        "colab": {
          "base_uri": "https://localhost:8080/"
        },
        "id": "LIV_PK54jIrY",
        "outputId": "c8101765-68ac-4e26-e316-91e63f61cef2"
      },
      "source": [
        "df_car_model.isna().any()"
      ],
      "execution_count": 211,
      "outputs": [
        {
          "output_type": "execute_result",
          "data": {
            "text/plain": [
              "make     False\n",
              "model     True\n",
              "type      True\n",
              "dtype: bool"
            ]
          },
          "metadata": {
            "tags": []
          },
          "execution_count": 211
        }
      ]
    },
    {
      "cell_type": "code",
      "metadata": {
        "id": "5yCBHUCmCGJc"
      },
      "source": [
        "df_car_model['model'].fillna(\"\", axis=0, inplace=True)\n",
        "df_car_model['type'].fillna(\"\", axis=0, inplace=True)"
      ],
      "execution_count": 212,
      "outputs": []
    },
    {
      "cell_type": "code",
      "metadata": {
        "id": "g9-7h8wmIcy3"
      },
      "source": [
        "df_car_model.rename(columns={'make': 'old_make'}, inplace=True)\n",
        "df_car_model.rename(columns={'model': 'old_model'}, inplace=True)\n",
        "df_car_model.rename(columns={'type': 'old_type'}, inplace=True)"
      ],
      "execution_count": 213,
      "outputs": []
    },
    {
      "cell_type": "code",
      "metadata": {
        "id": "KhNb8RWirVh0"
      },
      "source": [
        "def split_car_model_pattern(make, model, cartype, return_column):\n",
        "  inside_make = \"\"\n",
        "  inside_model_type = \"\"\n",
        "  inside_model = \"\"\n",
        "  inside_type = \"\"\n",
        "  make_pattern_col = '[]:[]'\n",
        "  make_pattern_obra = '[]([]'\n",
        "  make_pattern_cbra = '[])[]'\n",
        "  return_column = return_column.lower()\n",
        "  \n",
        "  if (re.search(make_pattern_col, make)):\n",
        "    start_c, end_c = re.search(make_pattern_col, make).span()\n",
        "    inside_make = make[:start_c].strip().lower()\n",
        "    inside_model_type = make[end_c:].strip().lower()\n",
        "    if (re.search(make_pattern_obra, inside_model_type)):\n",
        "      start_o, end_o = re.search(make_pattern_obra, inside_model_type).span()\n",
        "      inside_type = inside_model_type[end_o:].replace(\")\",\"\").strip().lower()\n",
        "      inside_model = inside_model_type[:start_o].strip().lower()\n",
        "      ma_mo_ty_return = f'{inside_make}|{inside_model}|{inside_type}'\n",
        "      \n",
        "    else:\n",
        "      inside_model = make[end_c:].strip().lower()\n",
        "      inside_type = cartype.lower()\n",
        "      ma_mo_ty_return = f'{inside_make}|{inside_model}|{inside_type}'\n",
        "      \n",
        "  else:\n",
        "    inside_make = make.strip().lower()\n",
        "    inside_model = model.strip().lower()\n",
        "    inside_type = cartype.strip().lower()\n",
        "    ma_mo_ty_return = (f'{inside_make}|{inside_model}|{inside_type}')\n",
        "\n",
        "  if return_column == \"allinone\":\n",
        "    return ma_mo_ty_return\n",
        "  elif return_column == \"make\":\n",
        "    return inside_make\n",
        "  elif return_column == \"model\":\n",
        "    return inside_model\n",
        "  elif return_column == \"type\":\n",
        "    return inside_type\n",
        "  else:\n",
        "    return \"\""
      ],
      "execution_count": 220,
      "outputs": []
    },
    {
      "cell_type": "code",
      "metadata": {
        "id": "BMTDQuCetFVS"
      },
      "source": [
        "df_car_model['ma_mo_ty'] = df_car_model.apply(lambda row: split_car_model_pattern(row['old_make'], row['old_model'], row['old_type'], \"AllInOne\"), axis=1)"
      ],
      "execution_count": 221,
      "outputs": []
    },
    {
      "cell_type": "code",
      "metadata": {
        "id": "_88NYHoeHzJp"
      },
      "source": [
        "df_car_model['make'] = df_car_model.apply(lambda row: split_car_model_pattern(row['old_make'], row['old_model'], row['old_type'], \"Make\"), axis=1)\n",
        "df_car_model['model'] = df_car_model.apply(lambda row: split_car_model_pattern(row['old_make'], row['old_model'], row['old_type'], \"Model\"), axis=1)\n",
        "df_car_model['type'] = df_car_model.apply(lambda row: split_car_model_pattern(row['old_make'], row['old_model'], row['old_type'], \"Type\"), axis=1)"
      ],
      "execution_count": 222,
      "outputs": []
    },
    {
      "cell_type": "code",
      "metadata": {
        "colab": {
          "base_uri": "https://localhost:8080/",
          "height": 204
        },
        "id": "HaizL1f6-W2C",
        "outputId": "e1b0ffd0-ad2c-4d6f-95c4-cf1694b32a25"
      },
      "source": [
        "df_car_model.head()"
      ],
      "execution_count": 223,
      "outputs": [
        {
          "output_type": "execute_result",
          "data": {
            "text/html": [
              "<div>\n",
              "<style scoped>\n",
              "    .dataframe tbody tr th:only-of-type {\n",
              "        vertical-align: middle;\n",
              "    }\n",
              "\n",
              "    .dataframe tbody tr th {\n",
              "        vertical-align: top;\n",
              "    }\n",
              "\n",
              "    .dataframe thead th {\n",
              "        text-align: right;\n",
              "    }\n",
              "</style>\n",
              "<table border=\"1\" class=\"dataframe\">\n",
              "  <thead>\n",
              "    <tr style=\"text-align: right;\">\n",
              "      <th></th>\n",
              "      <th>old_make</th>\n",
              "      <th>old_model</th>\n",
              "      <th>old_type</th>\n",
              "      <th>ma_mo_ty</th>\n",
              "      <th>make</th>\n",
              "      <th>model</th>\n",
              "      <th>type</th>\n",
              "    </tr>\n",
              "  </thead>\n",
              "  <tbody>\n",
              "    <tr>\n",
              "      <th>0</th>\n",
              "      <td>Audi : A4 (Saloon)</td>\n",
              "      <td></td>\n",
              "      <td></td>\n",
              "      <td>audi|a4|saloon</td>\n",
              "      <td>audi</td>\n",
              "      <td>a4</td>\n",
              "      <td>saloon</td>\n",
              "    </tr>\n",
              "    <tr>\n",
              "      <th>1</th>\n",
              "      <td>mazda</td>\n",
              "      <td>CX-30</td>\n",
              "      <td>SUV</td>\n",
              "      <td>mazda|cx-30|suv</td>\n",
              "      <td>mazda</td>\n",
              "      <td>cx-30</td>\n",
              "      <td>suv</td>\n",
              "    </tr>\n",
              "    <tr>\n",
              "      <th>2</th>\n",
              "      <td>BMW : 3 Series</td>\n",
              "      <td></td>\n",
              "      <td>Saloon</td>\n",
              "      <td>bmw|3 series|saloon</td>\n",
              "      <td>bmw</td>\n",
              "      <td>3 series</td>\n",
              "      <td>saloon</td>\n",
              "    </tr>\n",
              "    <tr>\n",
              "      <th>3</th>\n",
              "      <td>Audi : Q3</td>\n",
              "      <td></td>\n",
              "      <td>SUV</td>\n",
              "      <td>audi|q3|suv</td>\n",
              "      <td>audi</td>\n",
              "      <td>q3</td>\n",
              "      <td>suv</td>\n",
              "    </tr>\n",
              "    <tr>\n",
              "      <th>4</th>\n",
              "      <td>Opel</td>\n",
              "      <td>Astra</td>\n",
              "      <td>Hatchback</td>\n",
              "      <td>opel|astra|hatchback</td>\n",
              "      <td>opel</td>\n",
              "      <td>astra</td>\n",
              "      <td>hatchback</td>\n",
              "    </tr>\n",
              "  </tbody>\n",
              "</table>\n",
              "</div>"
            ],
            "text/plain": [
              "             old_make old_model   old_type  ...   make     model       type\n",
              "0  Audi : A4 (Saloon)                       ...   audi        a4     saloon\n",
              "1               mazda     CX-30        SUV  ...  mazda     cx-30        suv\n",
              "2      BMW : 3 Series               Saloon  ...    bmw  3 series     saloon\n",
              "3           Audi : Q3                  SUV  ...   audi        q3        suv\n",
              "4                Opel     Astra  Hatchback  ...   opel     astra  hatchback\n",
              "\n",
              "[5 rows x 7 columns]"
            ]
          },
          "metadata": {
            "tags": []
          },
          "execution_count": 223
        }
      ]
    },
    {
      "cell_type": "code",
      "metadata": {
        "id": "7dZE6-U2Gh4M"
      },
      "source": [
        "df_car_model_final = df_car_model[{'make', 'model', 'type'}].copy()"
      ],
      "execution_count": 225,
      "outputs": []
    },
    {
      "cell_type": "code",
      "metadata": {
        "colab": {
          "base_uri": "https://localhost:8080/",
          "height": 204
        },
        "id": "9xErB9of7310",
        "outputId": "87e26e95-b5a8-4dea-b41f-89b509a485ab"
      },
      "source": [
        "df_car_model_final.head()"
      ],
      "execution_count": 226,
      "outputs": [
        {
          "output_type": "execute_result",
          "data": {
            "text/html": [
              "<div>\n",
              "<style scoped>\n",
              "    .dataframe tbody tr th:only-of-type {\n",
              "        vertical-align: middle;\n",
              "    }\n",
              "\n",
              "    .dataframe tbody tr th {\n",
              "        vertical-align: top;\n",
              "    }\n",
              "\n",
              "    .dataframe thead th {\n",
              "        text-align: right;\n",
              "    }\n",
              "</style>\n",
              "<table border=\"1\" class=\"dataframe\">\n",
              "  <thead>\n",
              "    <tr style=\"text-align: right;\">\n",
              "      <th></th>\n",
              "      <th>make</th>\n",
              "      <th>model</th>\n",
              "      <th>type</th>\n",
              "    </tr>\n",
              "  </thead>\n",
              "  <tbody>\n",
              "    <tr>\n",
              "      <th>0</th>\n",
              "      <td>audi</td>\n",
              "      <td>a4</td>\n",
              "      <td>saloon</td>\n",
              "    </tr>\n",
              "    <tr>\n",
              "      <th>1</th>\n",
              "      <td>mazda</td>\n",
              "      <td>cx-30</td>\n",
              "      <td>suv</td>\n",
              "    </tr>\n",
              "    <tr>\n",
              "      <th>2</th>\n",
              "      <td>bmw</td>\n",
              "      <td>3 series</td>\n",
              "      <td>saloon</td>\n",
              "    </tr>\n",
              "    <tr>\n",
              "      <th>3</th>\n",
              "      <td>audi</td>\n",
              "      <td>q3</td>\n",
              "      <td>suv</td>\n",
              "    </tr>\n",
              "    <tr>\n",
              "      <th>4</th>\n",
              "      <td>opel</td>\n",
              "      <td>astra</td>\n",
              "      <td>hatchback</td>\n",
              "    </tr>\n",
              "  </tbody>\n",
              "</table>\n",
              "</div>"
            ],
            "text/plain": [
              "    make     model       type\n",
              "0   audi        a4     saloon\n",
              "1  mazda     cx-30        suv\n",
              "2    bmw  3 series     saloon\n",
              "3   audi        q3        suv\n",
              "4   opel     astra  hatchback"
            ]
          },
          "metadata": {
            "tags": []
          },
          "execution_count": 226
        }
      ]
    },
    {
      "cell_type": "code",
      "metadata": {
        "colab": {
          "base_uri": "https://localhost:8080/",
          "height": 142
        },
        "id": "5Cry8pZoMNk1",
        "outputId": "82b2fe86-edab-4ed8-f449-b19c3768014d"
      },
      "source": [
        "df_original.head(3)"
      ],
      "execution_count": 227,
      "outputs": [
        {
          "output_type": "execute_result",
          "data": {
            "text/html": [
              "<div>\n",
              "<style scoped>\n",
              "    .dataframe tbody tr th:only-of-type {\n",
              "        vertical-align: middle;\n",
              "    }\n",
              "\n",
              "    .dataframe tbody tr th {\n",
              "        vertical-align: top;\n",
              "    }\n",
              "\n",
              "    .dataframe thead th {\n",
              "        text-align: right;\n",
              "    }\n",
              "</style>\n",
              "<table border=\"1\" class=\"dataframe\">\n",
              "  <thead>\n",
              "    <tr style=\"text-align: right;\">\n",
              "      <th></th>\n",
              "      <th>car_reg</th>\n",
              "      <th>purchase_date</th>\n",
              "      <th>county</th>\n",
              "      <th>make</th>\n",
              "      <th>model</th>\n",
              "      <th>type</th>\n",
              "      <th>colour</th>\n",
              "      <th>tax_band</th>\n",
              "      <th>price</th>\n",
              "    </tr>\n",
              "  </thead>\n",
              "  <tbody>\n",
              "    <tr>\n",
              "      <th>0</th>\n",
              "      <td>XXX-X-2315</td>\n",
              "      <td>2020-07-01</td>\n",
              "      <td>Cork</td>\n",
              "      <td>Audi : A4 (Saloon)</td>\n",
              "      <td>NaN</td>\n",
              "      <td>NaN</td>\n",
              "      <td>red</td>\n",
              "      <td>b</td>\n",
              "      <td>55287</td>\n",
              "    </tr>\n",
              "    <tr>\n",
              "      <th>1</th>\n",
              "      <td>191-C-3750</td>\n",
              "      <td>2019-Jan-20</td>\n",
              "      <td>NaN</td>\n",
              "      <td>mazda</td>\n",
              "      <td>CX-30</td>\n",
              "      <td>SUV</td>\n",
              "      <td>#C0C0C0</td>\n",
              "      <td>B</td>\n",
              "      <td>41690</td>\n",
              "    </tr>\n",
              "    <tr>\n",
              "      <th>2</th>\n",
              "      <td>191-l-3155</td>\n",
              "      <td>21 Mar</td>\n",
              "      <td>LIMERICK</td>\n",
              "      <td>BMW : 3 Series</td>\n",
              "      <td>NaN</td>\n",
              "      <td>Saloon</td>\n",
              "      <td>WHITE</td>\n",
              "      <td>2</td>\n",
              "      <td>40381</td>\n",
              "    </tr>\n",
              "  </tbody>\n",
              "</table>\n",
              "</div>"
            ],
            "text/plain": [
              "      car_reg purchase_date    county  ...   colour tax_band  price\n",
              "0  XXX-X-2315    2020-07-01      Cork  ...      red        b  55287\n",
              "1  191-C-3750   2019-Jan-20       NaN  ...  #C0C0C0        B  41690\n",
              "2  191-l-3155        21 Mar  LIMERICK  ...    WHITE        2  40381\n",
              "\n",
              "[3 rows x 9 columns]"
            ]
          },
          "metadata": {
            "tags": []
          },
          "execution_count": 227
        }
      ]
    },
    {
      "cell_type": "code",
      "metadata": {
        "id": "oGo7KE_pMfWd"
      },
      "source": [
        "df_original_model = df_original[{'car_reg', 'purchase_date', 'county', 'colour', 'tax_band', 'price'}].copy()"
      ],
      "execution_count": 228,
      "outputs": []
    },
    {
      "cell_type": "code",
      "metadata": {
        "id": "d9EIsZw0MwmO"
      },
      "source": [
        "df_ori_model = pd.DataFrame.join(df_original_model, df_car_model_final)"
      ],
      "execution_count": 230,
      "outputs": []
    },
    {
      "cell_type": "code",
      "metadata": {
        "colab": {
          "base_uri": "https://localhost:8080/"
        },
        "id": "bnlOeISKNMdK",
        "outputId": "0b673e35-f1c9-43b6-b7ad-4ef11a8c3e11"
      },
      "source": [
        "print(f'{df_ori_model.shape}\\n{df_ori_model.head(3)}')"
      ],
      "execution_count": 233,
      "outputs": [
        {
          "output_type": "stream",
          "text": [
            "(3800, 9)\n",
            "  tax_band     car_reg    county  price  ... purchase_date   make     model    type\n",
            "0        b  XXX-X-2315      Cork  55287  ...    2020-07-01   audi        a4  saloon\n",
            "1        B  191-C-3750       NaN  41690  ...   2019-Jan-20  mazda     cx-30     suv\n",
            "2        2  191-l-3155  LIMERICK  40381  ...        21 Mar    bmw  3 series  saloon\n",
            "\n",
            "[3 rows x 9 columns]\n"
          ],
          "name": "stdout"
        }
      ]
    },
    {
      "cell_type": "code",
      "metadata": {
        "id": "dFGsOWhFNc24"
      },
      "source": [
        ""
      ],
      "execution_count": null,
      "outputs": []
    },
    {
      "cell_type": "markdown",
      "metadata": {
        "id": "ewW6MyTrib1-"
      },
      "source": [
        "##Working with Colour\n",
        "### TO DO\n",
        "\n",
        "#### research about\n",
        "\n",
        "https://matplotlib.org/stable/api/colors_api.html?highlight=colors#module-matplotlib.colors"
      ]
    },
    {
      "cell_type": "code",
      "metadata": {
        "colab": {
          "base_uri": "https://localhost:8080/",
          "height": 142
        },
        "id": "pT5P2em8N16a",
        "outputId": "e3584bed-a823-4b73-ba16-bde5a06140ad"
      },
      "source": [
        "df_original.head(3)"
      ],
      "execution_count": 236,
      "outputs": [
        {
          "output_type": "execute_result",
          "data": {
            "text/html": [
              "<div>\n",
              "<style scoped>\n",
              "    .dataframe tbody tr th:only-of-type {\n",
              "        vertical-align: middle;\n",
              "    }\n",
              "\n",
              "    .dataframe tbody tr th {\n",
              "        vertical-align: top;\n",
              "    }\n",
              "\n",
              "    .dataframe thead th {\n",
              "        text-align: right;\n",
              "    }\n",
              "</style>\n",
              "<table border=\"1\" class=\"dataframe\">\n",
              "  <thead>\n",
              "    <tr style=\"text-align: right;\">\n",
              "      <th></th>\n",
              "      <th>car_reg</th>\n",
              "      <th>purchase_date</th>\n",
              "      <th>county</th>\n",
              "      <th>make</th>\n",
              "      <th>model</th>\n",
              "      <th>type</th>\n",
              "      <th>colour</th>\n",
              "      <th>tax_band</th>\n",
              "      <th>price</th>\n",
              "    </tr>\n",
              "  </thead>\n",
              "  <tbody>\n",
              "    <tr>\n",
              "      <th>0</th>\n",
              "      <td>XXX-X-2315</td>\n",
              "      <td>2020-07-01</td>\n",
              "      <td>Cork</td>\n",
              "      <td>Audi : A4 (Saloon)</td>\n",
              "      <td>NaN</td>\n",
              "      <td>NaN</td>\n",
              "      <td>red</td>\n",
              "      <td>b</td>\n",
              "      <td>55287</td>\n",
              "    </tr>\n",
              "    <tr>\n",
              "      <th>1</th>\n",
              "      <td>191-C-3750</td>\n",
              "      <td>2019-Jan-20</td>\n",
              "      <td>NaN</td>\n",
              "      <td>mazda</td>\n",
              "      <td>CX-30</td>\n",
              "      <td>SUV</td>\n",
              "      <td>#C0C0C0</td>\n",
              "      <td>B</td>\n",
              "      <td>41690</td>\n",
              "    </tr>\n",
              "    <tr>\n",
              "      <th>2</th>\n",
              "      <td>191-l-3155</td>\n",
              "      <td>21 Mar</td>\n",
              "      <td>LIMERICK</td>\n",
              "      <td>BMW : 3 Series</td>\n",
              "      <td>NaN</td>\n",
              "      <td>Saloon</td>\n",
              "      <td>WHITE</td>\n",
              "      <td>2</td>\n",
              "      <td>40381</td>\n",
              "    </tr>\n",
              "  </tbody>\n",
              "</table>\n",
              "</div>"
            ],
            "text/plain": [
              "      car_reg purchase_date    county  ...   colour tax_band  price\n",
              "0  XXX-X-2315    2020-07-01      Cork  ...      red        b  55287\n",
              "1  191-C-3750   2019-Jan-20       NaN  ...  #C0C0C0        B  41690\n",
              "2  191-l-3155        21 Mar  LIMERICK  ...    WHITE        2  40381\n",
              "\n",
              "[3 rows x 9 columns]"
            ]
          },
          "metadata": {
            "tags": []
          },
          "execution_count": 236
        }
      ]
    },
    {
      "cell_type": "code",
      "metadata": {
        "colab": {
          "base_uri": "https://localhost:8080/",
          "height": 142
        },
        "id": "AjHFDkgbN6Ix",
        "outputId": "0ee25773-bb3d-439a-92c3-85f4aa68922c"
      },
      "source": [
        "df_colour = df_original[{'colour'}].copy()\n",
        "df_colour.head(3)"
      ],
      "execution_count": 248,
      "outputs": [
        {
          "output_type": "execute_result",
          "data": {
            "text/html": [
              "<div>\n",
              "<style scoped>\n",
              "    .dataframe tbody tr th:only-of-type {\n",
              "        vertical-align: middle;\n",
              "    }\n",
              "\n",
              "    .dataframe tbody tr th {\n",
              "        vertical-align: top;\n",
              "    }\n",
              "\n",
              "    .dataframe thead th {\n",
              "        text-align: right;\n",
              "    }\n",
              "</style>\n",
              "<table border=\"1\" class=\"dataframe\">\n",
              "  <thead>\n",
              "    <tr style=\"text-align: right;\">\n",
              "      <th></th>\n",
              "      <th>colour</th>\n",
              "    </tr>\n",
              "  </thead>\n",
              "  <tbody>\n",
              "    <tr>\n",
              "      <th>0</th>\n",
              "      <td>red</td>\n",
              "    </tr>\n",
              "    <tr>\n",
              "      <th>1</th>\n",
              "      <td>#C0C0C0</td>\n",
              "    </tr>\n",
              "    <tr>\n",
              "      <th>2</th>\n",
              "      <td>WHITE</td>\n",
              "    </tr>\n",
              "  </tbody>\n",
              "</table>\n",
              "</div>"
            ],
            "text/plain": [
              "    colour\n",
              "0      red\n",
              "1  #C0C0C0\n",
              "2    WHITE"
            ]
          },
          "metadata": {
            "tags": []
          },
          "execution_count": 248
        }
      ]
    },
    {
      "cell_type": "code",
      "metadata": {
        "colab": {
          "base_uri": "https://localhost:8080/"
        },
        "id": "aUtFO3VpOHYo",
        "outputId": "383060ce-7eed-4fdf-f335-974f3f6353b2"
      },
      "source": [
        "df_colour.isna().any(), df_colour.isnull().any(), df_colour.loc[df_colour['colour'] == \"\" ].any()"
      ],
      "execution_count": 252,
      "outputs": [
        {
          "output_type": "execute_result",
          "data": {
            "text/plain": [
              "(colour    False\n",
              " dtype: bool, colour    False\n",
              " dtype: bool, colour    False\n",
              " dtype: bool)"
            ]
          },
          "metadata": {
            "tags": []
          },
          "execution_count": 252
        }
      ]
    },
    {
      "cell_type": "code",
      "metadata": {
        "colab": {
          "base_uri": "https://localhost:8080/"
        },
        "id": "1n0R0bSeOKBJ",
        "outputId": "733a6b51-63ae-4007-bb8a-005e02189ffa"
      },
      "source": [
        "set(df_colour['colour'])"
      ],
      "execution_count": 254,
      "outputs": [
        {
          "output_type": "execute_result",
          "data": {
            "text/plain": [
              "{'#0000FF',\n",
              " '#C0C0C0',\n",
              " '#FF0000',\n",
              " '#FFA500',\n",
              " '#FFFFFF',\n",
              " '<colour>Blue</colour>',\n",
              " '<colour>Orange</colour>',\n",
              " '<colour>Red</colour>',\n",
              " '<colour>Silver</colour>',\n",
              " '<colour>White</colour>',\n",
              " 'BLUE',\n",
              " 'Blue',\n",
              " 'ORANGE',\n",
              " 'Orange',\n",
              " 'RED',\n",
              " 'Red',\n",
              " 'SILVER',\n",
              " 'Silver',\n",
              " 'WHITE',\n",
              " 'White',\n",
              " 'blue',\n",
              " 'orange',\n",
              " 'red',\n",
              " 'silver',\n",
              " 'white'}"
            ]
          },
          "metadata": {
            "tags": []
          },
          "execution_count": 254
        }
      ]
    },
    {
      "cell_type": "code",
      "metadata": {
        "id": "Hh-_dzjJOiQ2"
      },
      "source": [
        "color_hex = '#0000FF'"
      ],
      "execution_count": 255,
      "outputs": []
    },
    {
      "cell_type": "code",
      "metadata": {
        "id": "MP66nE-sQRHB"
      },
      "source": [
        "color_hex\n",
        "hex_pattern = r'#[a-fA-F0-9]{3}(?:[a-fA-F0-9]{3})?$'"
      ],
      "execution_count": 264,
      "outputs": []
    },
    {
      "cell_type": "code",
      "metadata": {
        "colab": {
          "base_uri": "https://localhost:8080/"
        },
        "id": "6ghbazqjRLoO",
        "outputId": "ac752d5e-548f-4b46-d23f-abd24c9fd156"
      },
      "source": [
        ""
      ],
      "execution_count": 263,
      "outputs": [
        {
          "output_type": "execute_result",
          "data": {
            "text/plain": [
              "(0, 0, 255)"
            ]
          },
          "metadata": {
            "tags": []
          },
          "execution_count": 263
        }
      ]
    },
    {
      "cell_type": "code",
      "metadata": {
        "id": "Ej7qbma4RP5O"
      },
      "source": [
        "colors_mat = matplotlib.colors"
      ],
      "execution_count": 275,
      "outputs": []
    },
    {
      "cell_type": "code",
      "metadata": {
        "colab": {
          "base_uri": "https://localhost:8080/"
        },
        "id": "02f8FivSSpbV",
        "outputId": "208823f0-183d-422d-d0a0-3fde50c4bc81"
      },
      "source": [
        "colors_mat.to_rgb(color_hex)"
      ],
      "execution_count": 276,
      "outputs": [
        {
          "output_type": "execute_result",
          "data": {
            "text/plain": [
              "(0.0, 0.0, 1.0)"
            ]
          },
          "metadata": {
            "tags": []
          },
          "execution_count": 276
        }
      ]
    },
    {
      "cell_type": "code",
      "metadata": {
        "colab": {
          "base_uri": "https://localhost:8080/"
        },
        "id": "rchV3A-eXr72",
        "outputId": "b998f09a-e177-4703-88d2-458a62dcb7c2"
      },
      "source": [
        "colors_mat.is_color_like(color_hex)"
      ],
      "execution_count": 282,
      "outputs": [
        {
          "output_type": "execute_result",
          "data": {
            "text/plain": [
              "True"
            ]
          },
          "metadata": {
            "tags": []
          },
          "execution_count": 282
        }
      ]
    },
    {
      "cell_type": "code",
      "metadata": {
        "id": "AiJd7Z1iYEn_"
      },
      "source": [
        "if color_hex in colors_mat.get_named_colors_mapping():\n",
        "  print(colors_mat.to_rgb(color_hex))"
      ],
      "execution_count": 286,
      "outputs": []
    },
    {
      "cell_type": "code",
      "metadata": {
        "colab": {
          "base_uri": "https://localhost:8080/"
        },
        "id": "6eqWjGK5YWIg",
        "outputId": "fe58e15a-5a0d-4829-8ad7-59fb4dbea19d"
      },
      "source": [
        "colors_mat.to_rgb(color_hex)"
      ],
      "execution_count": 288,
      "outputs": [
        {
          "output_type": "execute_result",
          "data": {
            "text/plain": [
              "(0.0, 0.0, 1.0)"
            ]
          },
          "metadata": {
            "tags": []
          },
          "execution_count": 288
        }
      ]
    },
    {
      "cell_type": "code",
      "metadata": {
        "colab": {
          "base_uri": "https://localhost:8080/",
          "height": 35
        },
        "id": "cOt9chwGZXdC",
        "outputId": "e73b1991-b0db-491d-9a59-45681bbb2140"
      },
      "source": [
        "colors_mat.to_hex('blue')"
      ],
      "execution_count": 289,
      "outputs": [
        {
          "output_type": "execute_result",
          "data": {
            "application/vnd.google.colaboratory.intrinsic+json": {
              "type": "string"
            },
            "text/plain": [
              "'#0000ff'"
            ]
          },
          "metadata": {
            "tags": []
          },
          "execution_count": 289
        }
      ]
    },
    {
      "cell_type": "code",
      "metadata": {
        "id": "7jKz9KL9ZtAx"
      },
      "source": [
        "table_colours = colors_mat.TABLEAU_COLORS"
      ],
      "execution_count": 291,
      "outputs": []
    },
    {
      "cell_type": "code",
      "metadata": {
        "id": "BvWrwbAcaHIU"
      },
      "source": [
        "table_of_colours = colors_mat.get_named_colors_mapping()"
      ],
      "execution_count": 310,
      "outputs": []
    },
    {
      "cell_type": "code",
      "metadata": {
        "id": "epPa6OHYaARz"
      },
      "source": [
        "df_colourstable = pd.DataFrame(table_of_colours)"
      ],
      "execution_count": 312,
      "outputs": []
    },
    {
      "cell_type": "code",
      "metadata": {
        "colab": {
          "base_uri": "https://localhost:8080/",
          "height": 242
        },
        "id": "Q8cIq55NZ0V7",
        "outputId": "494e0bb9-a0f8-46b5-bb57-55cbda3e5ef6"
      },
      "source": [
        "df_colourstable.head()"
      ],
      "execution_count": 313,
      "outputs": [
        {
          "output_type": "execute_result",
          "data": {
            "text/html": [
              "<div>\n",
              "<style scoped>\n",
              "    .dataframe tbody tr th:only-of-type {\n",
              "        vertical-align: middle;\n",
              "    }\n",
              "\n",
              "    .dataframe tbody tr th {\n",
              "        vertical-align: top;\n",
              "    }\n",
              "\n",
              "    .dataframe thead th {\n",
              "        text-align: right;\n",
              "    }\n",
              "</style>\n",
              "<table border=\"1\" class=\"dataframe\">\n",
              "  <thead>\n",
              "    <tr style=\"text-align: right;\">\n",
              "      <th></th>\n",
              "      <th>xkcd:cloudy blue</th>\n",
              "      <th>xkcd:dark pastel green</th>\n",
              "      <th>xkcd:dust</th>\n",
              "      <th>xkcd:electric lime</th>\n",
              "      <th>xkcd:fresh green</th>\n",
              "      <th>xkcd:light eggplant</th>\n",
              "      <th>xkcd:nasty green</th>\n",
              "      <th>xkcd:really light blue</th>\n",
              "      <th>xkcd:tea</th>\n",
              "      <th>xkcd:warm purple</th>\n",
              "      <th>xkcd:yellowish tan</th>\n",
              "      <th>xkcd:cement</th>\n",
              "      <th>xkcd:dark grass green</th>\n",
              "      <th>xkcd:dusty teal</th>\n",
              "      <th>xkcd:grey teal</th>\n",
              "      <th>xkcd:macaroni and cheese</th>\n",
              "      <th>xkcd:pinkish tan</th>\n",
              "      <th>xkcd:spruce</th>\n",
              "      <th>xkcd:strong blue</th>\n",
              "      <th>xkcd:toxic green</th>\n",
              "      <th>xkcd:windows blue</th>\n",
              "      <th>xkcd:blue blue</th>\n",
              "      <th>xkcd:blue with a hint of purple</th>\n",
              "      <th>xkcd:booger</th>\n",
              "      <th>xkcd:bright sea green</th>\n",
              "      <th>xkcd:dark green blue</th>\n",
              "      <th>xkcd:deep turquoise</th>\n",
              "      <th>xkcd:green teal</th>\n",
              "      <th>xkcd:strong pink</th>\n",
              "      <th>xkcd:bland</th>\n",
              "      <th>xkcd:deep aqua</th>\n",
              "      <th>xkcd:lavender pink</th>\n",
              "      <th>xkcd:light moss green</th>\n",
              "      <th>xkcd:light seafoam green</th>\n",
              "      <th>xkcd:olive yellow</th>\n",
              "      <th>xkcd:pig pink</th>\n",
              "      <th>xkcd:deep lilac</th>\n",
              "      <th>xkcd:desert</th>\n",
              "      <th>xkcd:dusty lavender</th>\n",
              "      <th>xkcd:purpley grey</th>\n",
              "      <th>...</th>\n",
              "      <th>seashell</th>\n",
              "      <th>sienna</th>\n",
              "      <th>silver</th>\n",
              "      <th>skyblue</th>\n",
              "      <th>slateblue</th>\n",
              "      <th>slategray</th>\n",
              "      <th>slategrey</th>\n",
              "      <th>snow</th>\n",
              "      <th>springgreen</th>\n",
              "      <th>steelblue</th>\n",
              "      <th>tan</th>\n",
              "      <th>teal</th>\n",
              "      <th>thistle</th>\n",
              "      <th>tomato</th>\n",
              "      <th>turquoise</th>\n",
              "      <th>violet</th>\n",
              "      <th>wheat</th>\n",
              "      <th>white</th>\n",
              "      <th>whitesmoke</th>\n",
              "      <th>yellow</th>\n",
              "      <th>yellowgreen</th>\n",
              "      <th>tab:blue</th>\n",
              "      <th>tab:orange</th>\n",
              "      <th>tab:green</th>\n",
              "      <th>tab:red</th>\n",
              "      <th>tab:purple</th>\n",
              "      <th>tab:brown</th>\n",
              "      <th>tab:pink</th>\n",
              "      <th>tab:gray</th>\n",
              "      <th>tab:olive</th>\n",
              "      <th>tab:cyan</th>\n",
              "      <th>tab:grey</th>\n",
              "      <th>b</th>\n",
              "      <th>g</th>\n",
              "      <th>r</th>\n",
              "      <th>c</th>\n",
              "      <th>m</th>\n",
              "      <th>y</th>\n",
              "      <th>k</th>\n",
              "      <th>w</th>\n",
              "    </tr>\n",
              "  </thead>\n",
              "  <tbody>\n",
              "    <tr>\n",
              "      <th>0</th>\n",
              "      <td>#acc2d9</td>\n",
              "      <td>#56ae57</td>\n",
              "      <td>#b2996e</td>\n",
              "      <td>#a8ff04</td>\n",
              "      <td>#69d84f</td>\n",
              "      <td>#894585</td>\n",
              "      <td>#70b23f</td>\n",
              "      <td>#d4ffff</td>\n",
              "      <td>#65ab7c</td>\n",
              "      <td>#952e8f</td>\n",
              "      <td>#fcfc81</td>\n",
              "      <td>#a5a391</td>\n",
              "      <td>#388004</td>\n",
              "      <td>#4c9085</td>\n",
              "      <td>#5e9b8a</td>\n",
              "      <td>#efb435</td>\n",
              "      <td>#d99b82</td>\n",
              "      <td>#0a5f38</td>\n",
              "      <td>#0c06f7</td>\n",
              "      <td>#61de2a</td>\n",
              "      <td>#3778bf</td>\n",
              "      <td>#2242c7</td>\n",
              "      <td>#533cc6</td>\n",
              "      <td>#9bb53c</td>\n",
              "      <td>#05ffa6</td>\n",
              "      <td>#1f6357</td>\n",
              "      <td>#017374</td>\n",
              "      <td>#0cb577</td>\n",
              "      <td>#ff0789</td>\n",
              "      <td>#afa88b</td>\n",
              "      <td>#08787f</td>\n",
              "      <td>#dd85d7</td>\n",
              "      <td>#a6c875</td>\n",
              "      <td>#a7ffb5</td>\n",
              "      <td>#c2b709</td>\n",
              "      <td>#e78ea5</td>\n",
              "      <td>#966ebd</td>\n",
              "      <td>#ccad60</td>\n",
              "      <td>#ac86a8</td>\n",
              "      <td>#947e94</td>\n",
              "      <td>...</td>\n",
              "      <td>#FFF5EE</td>\n",
              "      <td>#A0522D</td>\n",
              "      <td>#C0C0C0</td>\n",
              "      <td>#87CEEB</td>\n",
              "      <td>#6A5ACD</td>\n",
              "      <td>#708090</td>\n",
              "      <td>#708090</td>\n",
              "      <td>#FFFAFA</td>\n",
              "      <td>#00FF7F</td>\n",
              "      <td>#4682B4</td>\n",
              "      <td>#D2B48C</td>\n",
              "      <td>#008080</td>\n",
              "      <td>#D8BFD8</td>\n",
              "      <td>#FF6347</td>\n",
              "      <td>#40E0D0</td>\n",
              "      <td>#EE82EE</td>\n",
              "      <td>#F5DEB3</td>\n",
              "      <td>#FFFFFF</td>\n",
              "      <td>#F5F5F5</td>\n",
              "      <td>#FFFF00</td>\n",
              "      <td>#9ACD32</td>\n",
              "      <td>#1f77b4</td>\n",
              "      <td>#ff7f0e</td>\n",
              "      <td>#2ca02c</td>\n",
              "      <td>#d62728</td>\n",
              "      <td>#9467bd</td>\n",
              "      <td>#8c564b</td>\n",
              "      <td>#e377c2</td>\n",
              "      <td>#7f7f7f</td>\n",
              "      <td>#bcbd22</td>\n",
              "      <td>#17becf</td>\n",
              "      <td>#7f7f7f</td>\n",
              "      <td>0</td>\n",
              "      <td>0.0</td>\n",
              "      <td>1</td>\n",
              "      <td>0.00</td>\n",
              "      <td>0.75</td>\n",
              "      <td>0.75</td>\n",
              "      <td>0</td>\n",
              "      <td>1</td>\n",
              "    </tr>\n",
              "    <tr>\n",
              "      <th>1</th>\n",
              "      <td>#acc2d9</td>\n",
              "      <td>#56ae57</td>\n",
              "      <td>#b2996e</td>\n",
              "      <td>#a8ff04</td>\n",
              "      <td>#69d84f</td>\n",
              "      <td>#894585</td>\n",
              "      <td>#70b23f</td>\n",
              "      <td>#d4ffff</td>\n",
              "      <td>#65ab7c</td>\n",
              "      <td>#952e8f</td>\n",
              "      <td>#fcfc81</td>\n",
              "      <td>#a5a391</td>\n",
              "      <td>#388004</td>\n",
              "      <td>#4c9085</td>\n",
              "      <td>#5e9b8a</td>\n",
              "      <td>#efb435</td>\n",
              "      <td>#d99b82</td>\n",
              "      <td>#0a5f38</td>\n",
              "      <td>#0c06f7</td>\n",
              "      <td>#61de2a</td>\n",
              "      <td>#3778bf</td>\n",
              "      <td>#2242c7</td>\n",
              "      <td>#533cc6</td>\n",
              "      <td>#9bb53c</td>\n",
              "      <td>#05ffa6</td>\n",
              "      <td>#1f6357</td>\n",
              "      <td>#017374</td>\n",
              "      <td>#0cb577</td>\n",
              "      <td>#ff0789</td>\n",
              "      <td>#afa88b</td>\n",
              "      <td>#08787f</td>\n",
              "      <td>#dd85d7</td>\n",
              "      <td>#a6c875</td>\n",
              "      <td>#a7ffb5</td>\n",
              "      <td>#c2b709</td>\n",
              "      <td>#e78ea5</td>\n",
              "      <td>#966ebd</td>\n",
              "      <td>#ccad60</td>\n",
              "      <td>#ac86a8</td>\n",
              "      <td>#947e94</td>\n",
              "      <td>...</td>\n",
              "      <td>#FFF5EE</td>\n",
              "      <td>#A0522D</td>\n",
              "      <td>#C0C0C0</td>\n",
              "      <td>#87CEEB</td>\n",
              "      <td>#6A5ACD</td>\n",
              "      <td>#708090</td>\n",
              "      <td>#708090</td>\n",
              "      <td>#FFFAFA</td>\n",
              "      <td>#00FF7F</td>\n",
              "      <td>#4682B4</td>\n",
              "      <td>#D2B48C</td>\n",
              "      <td>#008080</td>\n",
              "      <td>#D8BFD8</td>\n",
              "      <td>#FF6347</td>\n",
              "      <td>#40E0D0</td>\n",
              "      <td>#EE82EE</td>\n",
              "      <td>#F5DEB3</td>\n",
              "      <td>#FFFFFF</td>\n",
              "      <td>#F5F5F5</td>\n",
              "      <td>#FFFF00</td>\n",
              "      <td>#9ACD32</td>\n",
              "      <td>#1f77b4</td>\n",
              "      <td>#ff7f0e</td>\n",
              "      <td>#2ca02c</td>\n",
              "      <td>#d62728</td>\n",
              "      <td>#9467bd</td>\n",
              "      <td>#8c564b</td>\n",
              "      <td>#e377c2</td>\n",
              "      <td>#7f7f7f</td>\n",
              "      <td>#bcbd22</td>\n",
              "      <td>#17becf</td>\n",
              "      <td>#7f7f7f</td>\n",
              "      <td>0</td>\n",
              "      <td>0.5</td>\n",
              "      <td>0</td>\n",
              "      <td>0.75</td>\n",
              "      <td>0.00</td>\n",
              "      <td>0.75</td>\n",
              "      <td>0</td>\n",
              "      <td>1</td>\n",
              "    </tr>\n",
              "    <tr>\n",
              "      <th>2</th>\n",
              "      <td>#acc2d9</td>\n",
              "      <td>#56ae57</td>\n",
              "      <td>#b2996e</td>\n",
              "      <td>#a8ff04</td>\n",
              "      <td>#69d84f</td>\n",
              "      <td>#894585</td>\n",
              "      <td>#70b23f</td>\n",
              "      <td>#d4ffff</td>\n",
              "      <td>#65ab7c</td>\n",
              "      <td>#952e8f</td>\n",
              "      <td>#fcfc81</td>\n",
              "      <td>#a5a391</td>\n",
              "      <td>#388004</td>\n",
              "      <td>#4c9085</td>\n",
              "      <td>#5e9b8a</td>\n",
              "      <td>#efb435</td>\n",
              "      <td>#d99b82</td>\n",
              "      <td>#0a5f38</td>\n",
              "      <td>#0c06f7</td>\n",
              "      <td>#61de2a</td>\n",
              "      <td>#3778bf</td>\n",
              "      <td>#2242c7</td>\n",
              "      <td>#533cc6</td>\n",
              "      <td>#9bb53c</td>\n",
              "      <td>#05ffa6</td>\n",
              "      <td>#1f6357</td>\n",
              "      <td>#017374</td>\n",
              "      <td>#0cb577</td>\n",
              "      <td>#ff0789</td>\n",
              "      <td>#afa88b</td>\n",
              "      <td>#08787f</td>\n",
              "      <td>#dd85d7</td>\n",
              "      <td>#a6c875</td>\n",
              "      <td>#a7ffb5</td>\n",
              "      <td>#c2b709</td>\n",
              "      <td>#e78ea5</td>\n",
              "      <td>#966ebd</td>\n",
              "      <td>#ccad60</td>\n",
              "      <td>#ac86a8</td>\n",
              "      <td>#947e94</td>\n",
              "      <td>...</td>\n",
              "      <td>#FFF5EE</td>\n",
              "      <td>#A0522D</td>\n",
              "      <td>#C0C0C0</td>\n",
              "      <td>#87CEEB</td>\n",
              "      <td>#6A5ACD</td>\n",
              "      <td>#708090</td>\n",
              "      <td>#708090</td>\n",
              "      <td>#FFFAFA</td>\n",
              "      <td>#00FF7F</td>\n",
              "      <td>#4682B4</td>\n",
              "      <td>#D2B48C</td>\n",
              "      <td>#008080</td>\n",
              "      <td>#D8BFD8</td>\n",
              "      <td>#FF6347</td>\n",
              "      <td>#40E0D0</td>\n",
              "      <td>#EE82EE</td>\n",
              "      <td>#F5DEB3</td>\n",
              "      <td>#FFFFFF</td>\n",
              "      <td>#F5F5F5</td>\n",
              "      <td>#FFFF00</td>\n",
              "      <td>#9ACD32</td>\n",
              "      <td>#1f77b4</td>\n",
              "      <td>#ff7f0e</td>\n",
              "      <td>#2ca02c</td>\n",
              "      <td>#d62728</td>\n",
              "      <td>#9467bd</td>\n",
              "      <td>#8c564b</td>\n",
              "      <td>#e377c2</td>\n",
              "      <td>#7f7f7f</td>\n",
              "      <td>#bcbd22</td>\n",
              "      <td>#17becf</td>\n",
              "      <td>#7f7f7f</td>\n",
              "      <td>1</td>\n",
              "      <td>0.0</td>\n",
              "      <td>0</td>\n",
              "      <td>0.75</td>\n",
              "      <td>0.75</td>\n",
              "      <td>0.00</td>\n",
              "      <td>0</td>\n",
              "      <td>1</td>\n",
              "    </tr>\n",
              "  </tbody>\n",
              "</table>\n",
              "<p>3 rows × 1163 columns</p>\n",
              "</div>"
            ],
            "text/plain": [
              "  xkcd:cloudy blue xkcd:dark pastel green xkcd:dust  ...     y  k  w\n",
              "0          #acc2d9                #56ae57   #b2996e  ...  0.75  0  1\n",
              "1          #acc2d9                #56ae57   #b2996e  ...  0.75  0  1\n",
              "2          #acc2d9                #56ae57   #b2996e  ...  0.00  0  1\n",
              "\n",
              "[3 rows x 1163 columns]"
            ]
          },
          "metadata": {
            "tags": []
          },
          "execution_count": 313
        }
      ]
    },
    {
      "cell_type": "code",
      "metadata": {
        "colab": {
          "base_uri": "https://localhost:8080/",
          "height": 35
        },
        "id": "cZbqn4oCclNX",
        "outputId": "71bd5f3e-6c94-432e-ddde-e4964fcdce22"
      },
      "source": [
        "table_of_colours['magenta']"
      ],
      "execution_count": 316,
      "outputs": [
        {
          "output_type": "execute_result",
          "data": {
            "application/vnd.google.colaboratory.intrinsic+json": {
              "type": "string"
            },
            "text/plain": [
              "'#FF00FF'"
            ]
          },
          "metadata": {
            "tags": []
          },
          "execution_count": 316
        }
      ]
    },
    {
      "cell_type": "code",
      "metadata": {
        "colab": {
          "base_uri": "https://localhost:8080/"
        },
        "id": "xKa_Nzt1dPHC",
        "outputId": "fb3c64ed-559c-409f-b2c3-88f8f043a1a9"
      },
      "source": [
        "table_colours.keys()"
      ],
      "execution_count": 320,
      "outputs": [
        {
          "output_type": "execute_result",
          "data": {
            "text/plain": [
              "odict_keys(['tab:blue', 'tab:orange', 'tab:green', 'tab:red', 'tab:purple', 'tab:brown', 'tab:pink', 'tab:gray', 'tab:olive', 'tab:cyan'])"
            ]
          },
          "metadata": {
            "tags": []
          },
          "execution_count": 320
        }
      ]
    },
    {
      "cell_type": "code",
      "metadata": {
        "colab": {
          "base_uri": "https://localhost:8080/"
        },
        "id": "PuxuuHE8da4M",
        "outputId": "07565a2a-92de-4310-e57e-44fe0857c0c1"
      },
      "source": [
        "table_colours.items()"
      ],
      "execution_count": 325,
      "outputs": [
        {
          "output_type": "execute_result",
          "data": {
            "text/plain": [
              "odict_items([('tab:blue', '#1f77b4'), ('tab:orange', '#ff7f0e'), ('tab:green', '#2ca02c'), ('tab:red', '#d62728'), ('tab:purple', '#9467bd'), ('tab:brown', '#8c564b'), ('tab:pink', '#e377c2'), ('tab:gray', '#7f7f7f'), ('tab:olive', '#bcbd22'), ('tab:cyan', '#17becf')])"
            ]
          },
          "metadata": {
            "tags": []
          },
          "execution_count": 325
        }
      ]
    },
    {
      "cell_type": "code",
      "metadata": {
        "colab": {
          "base_uri": "https://localhost:8080/"
        },
        "id": "RUvXgZk0dmsK",
        "outputId": "1a889add-f0ad-4a58-e86f-334ca4d1c94a"
      },
      "source": [
        "table_colours.values()"
      ],
      "execution_count": 328,
      "outputs": [
        {
          "output_type": "execute_result",
          "data": {
            "text/plain": [
              "odict_values(['#1f77b4', '#ff7f0e', '#2ca02c', '#d62728', '#9467bd', '#8c564b', '#e377c2', '#7f7f7f', '#bcbd22', '#17becf'])"
            ]
          },
          "metadata": {
            "tags": []
          },
          "execution_count": 328
        }
      ]
    },
    {
      "cell_type": "code",
      "metadata": {
        "colab": {
          "base_uri": "https://localhost:8080/"
        },
        "id": "92KBG5induT9",
        "outputId": "42ee2c6c-ef66-4455-e482-a98a287dae0a"
      },
      "source": [
        "colors_mat.TABLEAU_COLORS"
      ],
      "execution_count": 336,
      "outputs": [
        {
          "output_type": "execute_result",
          "data": {
            "text/plain": [
              "OrderedDict([('tab:blue', '#1f77b4'),\n",
              "             ('tab:orange', '#ff7f0e'),\n",
              "             ('tab:green', '#2ca02c'),\n",
              "             ('tab:red', '#d62728'),\n",
              "             ('tab:purple', '#9467bd'),\n",
              "             ('tab:brown', '#8c564b'),\n",
              "             ('tab:pink', '#e377c2'),\n",
              "             ('tab:gray', '#7f7f7f'),\n",
              "             ('tab:olive', '#bcbd22'),\n",
              "             ('tab:cyan', '#17becf')])"
            ]
          },
          "metadata": {
            "tags": []
          },
          "execution_count": 336
        }
      ]
    },
    {
      "cell_type": "code",
      "metadata": {
        "id": "LN4mlawJeE9m"
      },
      "source": [
        "col_blue = 'blue'"
      ],
      "execution_count": 338,
      "outputs": []
    },
    {
      "cell_type": "code",
      "metadata": {
        "colab": {
          "base_uri": "https://localhost:8080/"
        },
        "id": "DFYzdmV5d1Jc",
        "outputId": "7bbcf511-6664-4bee-b5f5-a76f96e5e7a0"
      },
      "source": [
        "for col in colors_mat.TABLEAU_COLORS:\n",
        "  if col_blue in col:\n",
        "    print(col)"
      ],
      "execution_count": 339,
      "outputs": [
        {
          "output_type": "stream",
          "text": [
            "tab:blue\n"
          ],
          "name": "stdout"
        }
      ]
    },
    {
      "cell_type": "code",
      "metadata": {
        "colab": {
          "base_uri": "https://localhost:8080/"
        },
        "id": "40gYca9oeU7_",
        "outputId": "ea4e319d-e07e-4c62-b263-55b9dd408c3d"
      },
      "source": [
        "for col in colors_mat.TABLEAU_COLORS:\n",
        "  hex = colors_mat.TABLEAU_COLORS[col]\n",
        "  print(hex)\n",
        "  if col_blue in col:\n",
        "    print(col)"
      ],
      "execution_count": 350,
      "outputs": [
        {
          "output_type": "stream",
          "text": [
            "#1f77b4\n",
            "tab:blue\n",
            "#ff7f0e\n",
            "#2ca02c\n",
            "#d62728\n",
            "#9467bd\n",
            "#8c564b\n",
            "#e377c2\n",
            "#7f7f7f\n",
            "#bcbd22\n",
            "#17becf\n"
          ],
          "name": "stdout"
        }
      ]
    },
    {
      "cell_type": "code",
      "metadata": {
        "colab": {
          "base_uri": "https://localhost:8080/",
          "height": 35
        },
        "id": "7jUOlmoWecDH",
        "outputId": "05577dac-81bb-426f-ef3b-469a7ea5c8e2"
      },
      "source": [
        "colors_mat.TABLEAU_COLORS['tab:blue']"
      ],
      "execution_count": 347,
      "outputs": [
        {
          "output_type": "execute_result",
          "data": {
            "application/vnd.google.colaboratory.intrinsic+json": {
              "type": "string"
            },
            "text/plain": [
              "'#1f77b4'"
            ]
          },
          "metadata": {
            "tags": []
          },
          "execution_count": 347
        }
      ]
    },
    {
      "cell_type": "code",
      "metadata": {
        "id": "a1aUEKWVeylR"
      },
      "source": [
        ""
      ],
      "execution_count": null,
      "outputs": []
    }
  ]
}