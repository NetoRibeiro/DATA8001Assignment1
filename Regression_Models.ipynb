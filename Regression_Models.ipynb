{
  "nbformat": 4,
  "nbformat_minor": 0,
  "metadata": {
    "colab": {
      "name": "Regression_Models.ipynb",
      "provenance": [],
      "collapsed_sections": [
        "qbCfnQk06u7r",
        "iCEC4v1n6oWx",
        "DGnmFCO22dI_",
        "YlBU-hgspDtk",
        "6wUlHW9Lp4gY",
        "aytsW6vQ8EdE",
        "jpPE2VuUXN6g",
        "FAjR2l2rqrw2",
        "STiG8iQctXRb",
        "EeYJdBth2b9A",
        "f_sIYhZnnu4k"
      ],
      "toc_visible": true,
      "mount_file_id": "1WmRhMnHnfbzhbeLjvP-KozTQNOgkzBLu",
      "authorship_tag": "ABX9TyM++elQotrQcnh/hZlNlHax",
      "include_colab_link": true
    },
    "kernelspec": {
      "name": "python3",
      "display_name": "Python 3"
    },
    "language_info": {
      "name": "python"
    }
  },
  "cells": [
    {
      "cell_type": "markdown",
      "metadata": {
        "id": "view-in-github",
        "colab_type": "text"
      },
      "source": [
        "<a href=\"https://colab.research.google.com/github/NetoRibeiro/DATA8001Assignment1/blob/main/Regression_Models.ipynb\" target=\"_parent\"><img src=\"https://colab.research.google.com/assets/colab-badge.svg\" alt=\"Open In Colab\"/></a>"
      ]
    },
    {
      "cell_type": "markdown",
      "metadata": {
        "id": "qbCfnQk06u7r"
      },
      "source": [
        "##Importing"
      ]
    },
    {
      "cell_type": "code",
      "metadata": {
        "id": "LGXhdpWg6AJC"
      },
      "source": [
        "%matplotlib inline\n",
        "\n",
        "import matplotlib.pyplot as plt\n",
        "from matplotlib import colors\n",
        "import numpy as np\n",
        "import pandas as pd\n",
        "from datetime import datetime as dt\n",
        "\n",
        "import calendar\n",
        "import re\n",
        "import string\n",
        "\n",
        "import math\n",
        "import pickle\n",
        "from sklearn.model_selection import train_test_split\n",
        "from sklearn.preprocessing import LabelEncoder, StandardScaler, MinMaxScaler\n",
        "from sklearn.linear_model import LinearRegression\n",
        "from sklearn.metrics import mean_squared_error, r2_score, accuracy_score\n",
        "\n",
        "from sklearn.tree import DecisionTreeRegressor\n",
        "from sklearn.ensemble import RandomForestRegressor\n",
        "from sklearn.model_selection import GridSearchCV\n",
        "import seaborn as sns"
      ],
      "execution_count": 199,
      "outputs": []
    },
    {
      "cell_type": "code",
      "metadata": {
        "id": "dDd6XX5755QM"
      },
      "source": [
        "df_processed = pd.read_csv('/content/drive/MyDrive/Data Science and Analytics/R00206995/data/R00206995_processed.csv')"
      ],
      "execution_count": 200,
      "outputs": []
    },
    {
      "cell_type": "code",
      "metadata": {
        "colab": {
          "base_uri": "https://localhost:8080/",
          "height": 0
        },
        "id": "YlWvmTm_6eAJ",
        "outputId": "72954f83-687d-4c0a-f9a6-a69f7bd7b8c3"
      },
      "source": [
        "df_processed.head()"
      ],
      "execution_count": 201,
      "outputs": [
        {
          "output_type": "execute_result",
          "data": {
            "text/html": [
              "<div>\n",
              "<style scoped>\n",
              "    .dataframe tbody tr th:only-of-type {\n",
              "        vertical-align: middle;\n",
              "    }\n",
              "\n",
              "    .dataframe tbody tr th {\n",
              "        vertical-align: top;\n",
              "    }\n",
              "\n",
              "    .dataframe thead th {\n",
              "        text-align: right;\n",
              "    }\n",
              "</style>\n",
              "<table border=\"1\" class=\"dataframe\">\n",
              "  <thead>\n",
              "    <tr style=\"text-align: right;\">\n",
              "      <th></th>\n",
              "      <th>car_reg</th>\n",
              "      <th>purchase_date</th>\n",
              "      <th>year</th>\n",
              "      <th>month</th>\n",
              "      <th>county</th>\n",
              "      <th>make</th>\n",
              "      <th>model</th>\n",
              "      <th>type</th>\n",
              "      <th>colour</th>\n",
              "      <th>tax_band</th>\n",
              "      <th>price</th>\n",
              "    </tr>\n",
              "  </thead>\n",
              "  <tbody>\n",
              "    <tr>\n",
              "      <th>0</th>\n",
              "      <td>202-C-2315</td>\n",
              "      <td>2020-07-01</td>\n",
              "      <td>2020</td>\n",
              "      <td>7</td>\n",
              "      <td>CORK</td>\n",
              "      <td>AUDI</td>\n",
              "      <td>A4</td>\n",
              "      <td>SALOON</td>\n",
              "      <td>RED</td>\n",
              "      <td>B</td>\n",
              "      <td>55287.0</td>\n",
              "    </tr>\n",
              "    <tr>\n",
              "      <th>1</th>\n",
              "      <td>191-C-3750</td>\n",
              "      <td>2019-01-20</td>\n",
              "      <td>2019</td>\n",
              "      <td>1</td>\n",
              "      <td>CORK</td>\n",
              "      <td>MAZDA</td>\n",
              "      <td>CX-30</td>\n",
              "      <td>SUV</td>\n",
              "      <td>SILVER</td>\n",
              "      <td>B</td>\n",
              "      <td>41690.0</td>\n",
              "    </tr>\n",
              "    <tr>\n",
              "      <th>2</th>\n",
              "      <td>191-L-3155</td>\n",
              "      <td>2019-03-21</td>\n",
              "      <td>2019</td>\n",
              "      <td>3</td>\n",
              "      <td>LIMERICK</td>\n",
              "      <td>BMW</td>\n",
              "      <td>3 SERIES</td>\n",
              "      <td>SALOON</td>\n",
              "      <td>WHITE</td>\n",
              "      <td>C</td>\n",
              "      <td>40381.0</td>\n",
              "    </tr>\n",
              "    <tr>\n",
              "      <th>3</th>\n",
              "      <td>191-D-2645</td>\n",
              "      <td>2019-01-26</td>\n",
              "      <td>2019</td>\n",
              "      <td>1</td>\n",
              "      <td>DUBLIN</td>\n",
              "      <td>AUDI</td>\n",
              "      <td>Q3</td>\n",
              "      <td>SUV</td>\n",
              "      <td>ORANGE</td>\n",
              "      <td>C</td>\n",
              "      <td>44836.0</td>\n",
              "    </tr>\n",
              "    <tr>\n",
              "      <th>4</th>\n",
              "      <td>181-W-341</td>\n",
              "      <td>2018-01-27</td>\n",
              "      <td>2018</td>\n",
              "      <td>1</td>\n",
              "      <td>WATERFORD</td>\n",
              "      <td>OPEL</td>\n",
              "      <td>ASTRA</td>\n",
              "      <td>HATCHBACK</td>\n",
              "      <td>RED</td>\n",
              "      <td>A</td>\n",
              "      <td>32188.0</td>\n",
              "    </tr>\n",
              "  </tbody>\n",
              "</table>\n",
              "</div>"
            ],
            "text/plain": [
              "      car_reg purchase_date  year  month  ...       type  colour tax_band    price\n",
              "0  202-C-2315    2020-07-01  2020      7  ...     SALOON     RED        B  55287.0\n",
              "1  191-C-3750    2019-01-20  2019      1  ...        SUV  SILVER        B  41690.0\n",
              "2  191-L-3155    2019-03-21  2019      3  ...     SALOON   WHITE        C  40381.0\n",
              "3  191-D-2645    2019-01-26  2019      1  ...        SUV  ORANGE        C  44836.0\n",
              "4   181-W-341    2018-01-27  2018      1  ...  HATCHBACK     RED        A  32188.0\n",
              "\n",
              "[5 rows x 11 columns]"
            ]
          },
          "metadata": {
            "tags": []
          },
          "execution_count": 201
        }
      ]
    },
    {
      "cell_type": "markdown",
      "metadata": {
        "id": "iCEC4v1n6oWx"
      },
      "source": [
        "##Data Visualisation - 10%"
      ]
    },
    {
      "cell_type": "code",
      "metadata": {
        "colab": {
          "base_uri": "https://localhost:8080/"
        },
        "id": "hfUU2r9C-FOD",
        "outputId": "c2537bdc-537b-4c2f-c768-72e95a741e1b"
      },
      "source": [
        "df_processed['purchase_date']"
      ],
      "execution_count": null,
      "outputs": [
        {
          "output_type": "execute_result",
          "data": {
            "text/plain": [
              "0       2020-07-01\n",
              "1       2019-01-20\n",
              "2       2019-03-21\n",
              "3       2019-01-26\n",
              "4       2018-01-27\n",
              "           ...    \n",
              "3795    2018-04-19\n",
              "3796    2019-01-10\n",
              "3797    2020-01-27\n",
              "3798    2019-03-24\n",
              "3799    2019-07-05\n",
              "Name: purchase_date, Length: 3800, dtype: object"
            ]
          },
          "metadata": {
            "tags": []
          },
          "execution_count": 11
        }
      ]
    },
    {
      "cell_type": "code",
      "metadata": {
        "colab": {
          "base_uri": "https://localhost:8080/",
          "height": 204
        },
        "id": "JjwmGE_j6s7Y",
        "outputId": "282b5eba-9754-4b48-a29f-8d31003682e0"
      },
      "source": [
        "df_processed.head()"
      ],
      "execution_count": null,
      "outputs": [
        {
          "output_type": "execute_result",
          "data": {
            "text/html": [
              "<div>\n",
              "<style scoped>\n",
              "    .dataframe tbody tr th:only-of-type {\n",
              "        vertical-align: middle;\n",
              "    }\n",
              "\n",
              "    .dataframe tbody tr th {\n",
              "        vertical-align: top;\n",
              "    }\n",
              "\n",
              "    .dataframe thead th {\n",
              "        text-align: right;\n",
              "    }\n",
              "</style>\n",
              "<table border=\"1\" class=\"dataframe\">\n",
              "  <thead>\n",
              "    <tr style=\"text-align: right;\">\n",
              "      <th></th>\n",
              "      <th>car_reg</th>\n",
              "      <th>purchase_date</th>\n",
              "      <th>year</th>\n",
              "      <th>month</th>\n",
              "      <th>county</th>\n",
              "      <th>make</th>\n",
              "      <th>model</th>\n",
              "      <th>type</th>\n",
              "      <th>colour</th>\n",
              "      <th>tax_band</th>\n",
              "      <th>price</th>\n",
              "    </tr>\n",
              "  </thead>\n",
              "  <tbody>\n",
              "    <tr>\n",
              "      <th>0</th>\n",
              "      <td>202-C-2315</td>\n",
              "      <td>2020-07-01</td>\n",
              "      <td>2020</td>\n",
              "      <td>7</td>\n",
              "      <td>CORK</td>\n",
              "      <td>AUDI</td>\n",
              "      <td>A4</td>\n",
              "      <td>SALOON</td>\n",
              "      <td>RED</td>\n",
              "      <td>B</td>\n",
              "      <td>55287.0</td>\n",
              "    </tr>\n",
              "    <tr>\n",
              "      <th>1</th>\n",
              "      <td>191-C-3750</td>\n",
              "      <td>2019-01-20</td>\n",
              "      <td>2019</td>\n",
              "      <td>1</td>\n",
              "      <td>CORK</td>\n",
              "      <td>MAZDA</td>\n",
              "      <td>CX-30</td>\n",
              "      <td>SUV</td>\n",
              "      <td>SILVER</td>\n",
              "      <td>B</td>\n",
              "      <td>41690.0</td>\n",
              "    </tr>\n",
              "    <tr>\n",
              "      <th>2</th>\n",
              "      <td>191-L-3155</td>\n",
              "      <td>2019-03-21</td>\n",
              "      <td>2019</td>\n",
              "      <td>3</td>\n",
              "      <td>LIMERICK</td>\n",
              "      <td>BMW</td>\n",
              "      <td>3 SERIES</td>\n",
              "      <td>SALOON</td>\n",
              "      <td>WHITE</td>\n",
              "      <td>C</td>\n",
              "      <td>40381.0</td>\n",
              "    </tr>\n",
              "    <tr>\n",
              "      <th>3</th>\n",
              "      <td>191-D-2645</td>\n",
              "      <td>2019-01-26</td>\n",
              "      <td>2019</td>\n",
              "      <td>1</td>\n",
              "      <td>DUBLIN</td>\n",
              "      <td>AUDI</td>\n",
              "      <td>Q3</td>\n",
              "      <td>SUV</td>\n",
              "      <td>ORANGE</td>\n",
              "      <td>C</td>\n",
              "      <td>44836.0</td>\n",
              "    </tr>\n",
              "    <tr>\n",
              "      <th>4</th>\n",
              "      <td>181-W-341</td>\n",
              "      <td>2018-01-27</td>\n",
              "      <td>2018</td>\n",
              "      <td>1</td>\n",
              "      <td>WATERFORD</td>\n",
              "      <td>OPEL</td>\n",
              "      <td>ASTRA</td>\n",
              "      <td>HATCHBACK</td>\n",
              "      <td>RED</td>\n",
              "      <td>A</td>\n",
              "      <td>32188.0</td>\n",
              "    </tr>\n",
              "  </tbody>\n",
              "</table>\n",
              "</div>"
            ],
            "text/plain": [
              "      car_reg purchase_date  year  month  ...       type  colour tax_band    price\n",
              "0  202-C-2315    2020-07-01  2020      7  ...     SALOON     RED        B  55287.0\n",
              "1  191-C-3750    2019-01-20  2019      1  ...        SUV  SILVER        B  41690.0\n",
              "2  191-L-3155    2019-03-21  2019      3  ...     SALOON   WHITE        C  40381.0\n",
              "3  191-D-2645    2019-01-26  2019      1  ...        SUV  ORANGE        C  44836.0\n",
              "4   181-W-341    2018-01-27  2018      1  ...  HATCHBACK     RED        A  32188.0\n",
              "\n",
              "[5 rows x 11 columns]"
            ]
          },
          "metadata": {
            "tags": []
          },
          "execution_count": 5
        }
      ]
    },
    {
      "cell_type": "markdown",
      "metadata": {
        "id": "dytXrIIK64BI"
      },
      "source": [
        "##Data Modelling - 10%"
      ]
    },
    {
      "cell_type": "code",
      "metadata": {
        "colab": {
          "base_uri": "https://localhost:8080/",
          "height": 197
        },
        "id": "u_BfLKJtCfGx",
        "outputId": "3c155512-8e48-42c9-f3c8-cef566c3d772"
      },
      "source": [
        "df_processed.head()"
      ],
      "execution_count": null,
      "outputs": [
        {
          "output_type": "execute_result",
          "data": {
            "text/html": [
              "<div>\n",
              "<style scoped>\n",
              "    .dataframe tbody tr th:only-of-type {\n",
              "        vertical-align: middle;\n",
              "    }\n",
              "\n",
              "    .dataframe tbody tr th {\n",
              "        vertical-align: top;\n",
              "    }\n",
              "\n",
              "    .dataframe thead th {\n",
              "        text-align: right;\n",
              "    }\n",
              "</style>\n",
              "<table border=\"1\" class=\"dataframe\">\n",
              "  <thead>\n",
              "    <tr style=\"text-align: right;\">\n",
              "      <th></th>\n",
              "      <th>car_reg</th>\n",
              "      <th>purchase_date</th>\n",
              "      <th>year</th>\n",
              "      <th>month</th>\n",
              "      <th>county</th>\n",
              "      <th>make</th>\n",
              "      <th>model</th>\n",
              "      <th>type</th>\n",
              "      <th>colour</th>\n",
              "      <th>tax_band</th>\n",
              "      <th>price</th>\n",
              "    </tr>\n",
              "  </thead>\n",
              "  <tbody>\n",
              "    <tr>\n",
              "      <th>0</th>\n",
              "      <td>202-C-2315</td>\n",
              "      <td>2020-07-01</td>\n",
              "      <td>2020</td>\n",
              "      <td>7</td>\n",
              "      <td>CORK</td>\n",
              "      <td>AUDI</td>\n",
              "      <td>A4</td>\n",
              "      <td>SALOON</td>\n",
              "      <td>RED</td>\n",
              "      <td>B</td>\n",
              "      <td>55287.0</td>\n",
              "    </tr>\n",
              "    <tr>\n",
              "      <th>1</th>\n",
              "      <td>191-C-3750</td>\n",
              "      <td>2019-01-20</td>\n",
              "      <td>2019</td>\n",
              "      <td>1</td>\n",
              "      <td>CORK</td>\n",
              "      <td>MAZDA</td>\n",
              "      <td>CX-30</td>\n",
              "      <td>SUV</td>\n",
              "      <td>SILVER</td>\n",
              "      <td>B</td>\n",
              "      <td>41690.0</td>\n",
              "    </tr>\n",
              "    <tr>\n",
              "      <th>2</th>\n",
              "      <td>191-L-3155</td>\n",
              "      <td>2019-03-21</td>\n",
              "      <td>2019</td>\n",
              "      <td>3</td>\n",
              "      <td>LIMERICK</td>\n",
              "      <td>BMW</td>\n",
              "      <td>3 SERIES</td>\n",
              "      <td>SALOON</td>\n",
              "      <td>WHITE</td>\n",
              "      <td>C</td>\n",
              "      <td>40381.0</td>\n",
              "    </tr>\n",
              "    <tr>\n",
              "      <th>3</th>\n",
              "      <td>191-D-2645</td>\n",
              "      <td>2019-01-26</td>\n",
              "      <td>2019</td>\n",
              "      <td>1</td>\n",
              "      <td>DUBLIN</td>\n",
              "      <td>AUDI</td>\n",
              "      <td>Q3</td>\n",
              "      <td>SUV</td>\n",
              "      <td>ORANGE</td>\n",
              "      <td>C</td>\n",
              "      <td>44836.0</td>\n",
              "    </tr>\n",
              "    <tr>\n",
              "      <th>4</th>\n",
              "      <td>181-W-341</td>\n",
              "      <td>2018-01-27</td>\n",
              "      <td>2018</td>\n",
              "      <td>1</td>\n",
              "      <td>WATERFORD</td>\n",
              "      <td>OPEL</td>\n",
              "      <td>ASTRA</td>\n",
              "      <td>HATCHBACK</td>\n",
              "      <td>RED</td>\n",
              "      <td>A</td>\n",
              "      <td>32188.0</td>\n",
              "    </tr>\n",
              "  </tbody>\n",
              "</table>\n",
              "</div>"
            ],
            "text/plain": [
              "      car_reg purchase_date  year  month  ...       type  colour tax_band    price\n",
              "0  202-C-2315    2020-07-01  2020      7  ...     SALOON     RED        B  55287.0\n",
              "1  191-C-3750    2019-01-20  2019      1  ...        SUV  SILVER        B  41690.0\n",
              "2  191-L-3155    2019-03-21  2019      3  ...     SALOON   WHITE        C  40381.0\n",
              "3  191-D-2645    2019-01-26  2019      1  ...        SUV  ORANGE        C  44836.0\n",
              "4   181-W-341    2018-01-27  2018      1  ...  HATCHBACK     RED        A  32188.0\n",
              "\n",
              "[5 rows x 11 columns]"
            ]
          },
          "metadata": {
            "tags": []
          },
          "execution_count": 61
        }
      ]
    },
    {
      "cell_type": "markdown",
      "metadata": {
        "id": "DGnmFCO22dI_"
      },
      "source": [
        "###Linear Model\n",
        "#### x ==> year and month\n",
        "#### y ==> price"
      ]
    },
    {
      "cell_type": "code",
      "metadata": {
        "id": "kb7AaoYW2h--"
      },
      "source": [
        "# Split data set into Train and Test\n",
        "X = df_processed[['year', 'month']]\n",
        "y = df_processed['price']\n",
        "\n",
        "# NOTE: the random_state=0, i.e., 0 is the random number generator, if you said random_state=None, it would generate a different random set every time\n",
        "X_train, X_test, y_train, y_test = train_test_split(X, y, test_size=0.2, random_state=8001)"
      ],
      "execution_count": 4,
      "outputs": []
    },
    {
      "cell_type": "code",
      "metadata": {
        "colab": {
          "base_uri": "https://localhost:8080/"
        },
        "id": "yb9PBbyn2y1-",
        "outputId": "abcfe19c-9615-47e0-c40e-52859fcd3a1d"
      },
      "source": [
        "X_train.shape, X_test.shape"
      ],
      "execution_count": 5,
      "outputs": [
        {
          "output_type": "execute_result",
          "data": {
            "text/plain": [
              "((3040, 2), (760, 2))"
            ]
          },
          "metadata": {
            "tags": []
          },
          "execution_count": 5
        }
      ]
    },
    {
      "cell_type": "code",
      "metadata": {
        "id": "YmiO7CGC20xu"
      },
      "source": [
        "# create linear regression object from sklean LinearRegression library\n",
        "lr_model_1 = LinearRegression()"
      ],
      "execution_count": 6,
      "outputs": []
    },
    {
      "cell_type": "code",
      "metadata": {
        "id": "Z3qAMWhu28P2"
      },
      "source": [
        "# fit the model on the training data\n",
        "lr_model_1 = lr_model_1.fit(X=X_train, y=y_train)"
      ],
      "execution_count": 7,
      "outputs": []
    },
    {
      "cell_type": "code",
      "metadata": {
        "id": "Yo3N7afP2_of"
      },
      "source": [
        "# generate predictions and compare to the test set\n",
        "lr_model_predict = lr_model_1.predict(X_test)"
      ],
      "execution_count": 8,
      "outputs": []
    },
    {
      "cell_type": "code",
      "metadata": {
        "id": "LXmlCUfm3jhH"
      },
      "source": [
        "# use sklearn.metrics.mean_squared_error, sklearn.metrics.r2_score metrics\n",
        "lr_model_mse = mean_squared_error(y_pred=lr_model_predict, y_true=y_test)\n",
        "lr_model_r_sq = r2_score(y_pred=lr_model_predict, y_true=y_test)"
      ],
      "execution_count": 9,
      "outputs": []
    },
    {
      "cell_type": "markdown",
      "metadata": {
        "id": "3pz6EYue461H"
      },
      "source": [
        "###Valitation Test:: Linear Regressor Model (Year and Month)"
      ]
    },
    {
      "cell_type": "code",
      "metadata": {
        "colab": {
          "base_uri": "https://localhost:8080/"
        },
        "id": "lAFIb8Ka4e9X",
        "outputId": "fd29b9fc-204c-487d-f75c-d0b89253d2d9"
      },
      "source": [
        "print(f'Linear Model Year and Month Accuracy:\\nRMSE={math.sqrt(lr_model_mse):,.0f}\\nRSq={lr_model_r_sq:.4f} or {lr_model_r_sq*100:.4f}% of the variability in Y can be explained using X')"
      ],
      "execution_count": 10,
      "outputs": [
        {
          "output_type": "stream",
          "text": [
            "Linear Model Year and Month Accuracy:\n",
            "RMSE=29,880\n",
            "RSq=-0.0022 or -0.2157% of the variability in Y can be explained using X\n"
          ],
          "name": "stdout"
        }
      ]
    },
    {
      "cell_type": "markdown",
      "metadata": {
        "id": "YlBU-hgspDtk"
      },
      "source": [
        "###Transform features and split into test and training"
      ]
    },
    {
      "cell_type": "code",
      "metadata": {
        "id": "ugLWyT9Ssq35",
        "colab": {
          "base_uri": "https://localhost:8080/",
          "height": 0
        },
        "outputId": "31469c13-874a-490c-f71d-a8d693aa3b4a"
      },
      "source": [
        "df_processed.head()"
      ],
      "execution_count": 12,
      "outputs": [
        {
          "output_type": "execute_result",
          "data": {
            "text/html": [
              "<div>\n",
              "<style scoped>\n",
              "    .dataframe tbody tr th:only-of-type {\n",
              "        vertical-align: middle;\n",
              "    }\n",
              "\n",
              "    .dataframe tbody tr th {\n",
              "        vertical-align: top;\n",
              "    }\n",
              "\n",
              "    .dataframe thead th {\n",
              "        text-align: right;\n",
              "    }\n",
              "</style>\n",
              "<table border=\"1\" class=\"dataframe\">\n",
              "  <thead>\n",
              "    <tr style=\"text-align: right;\">\n",
              "      <th></th>\n",
              "      <th>car_reg</th>\n",
              "      <th>purchase_date</th>\n",
              "      <th>year</th>\n",
              "      <th>month</th>\n",
              "      <th>county</th>\n",
              "      <th>make</th>\n",
              "      <th>model</th>\n",
              "      <th>type</th>\n",
              "      <th>colour</th>\n",
              "      <th>tax_band</th>\n",
              "      <th>price</th>\n",
              "    </tr>\n",
              "  </thead>\n",
              "  <tbody>\n",
              "    <tr>\n",
              "      <th>0</th>\n",
              "      <td>202-C-2315</td>\n",
              "      <td>2020-07-01</td>\n",
              "      <td>2020</td>\n",
              "      <td>7</td>\n",
              "      <td>CORK</td>\n",
              "      <td>AUDI</td>\n",
              "      <td>A4</td>\n",
              "      <td>SALOON</td>\n",
              "      <td>RED</td>\n",
              "      <td>B</td>\n",
              "      <td>55287.0</td>\n",
              "    </tr>\n",
              "    <tr>\n",
              "      <th>1</th>\n",
              "      <td>191-C-3750</td>\n",
              "      <td>2019-01-20</td>\n",
              "      <td>2019</td>\n",
              "      <td>1</td>\n",
              "      <td>CORK</td>\n",
              "      <td>MAZDA</td>\n",
              "      <td>CX-30</td>\n",
              "      <td>SUV</td>\n",
              "      <td>SILVER</td>\n",
              "      <td>B</td>\n",
              "      <td>41690.0</td>\n",
              "    </tr>\n",
              "    <tr>\n",
              "      <th>2</th>\n",
              "      <td>191-L-3155</td>\n",
              "      <td>2019-03-21</td>\n",
              "      <td>2019</td>\n",
              "      <td>3</td>\n",
              "      <td>LIMERICK</td>\n",
              "      <td>BMW</td>\n",
              "      <td>3 SERIES</td>\n",
              "      <td>SALOON</td>\n",
              "      <td>WHITE</td>\n",
              "      <td>C</td>\n",
              "      <td>40381.0</td>\n",
              "    </tr>\n",
              "    <tr>\n",
              "      <th>3</th>\n",
              "      <td>191-D-2645</td>\n",
              "      <td>2019-01-26</td>\n",
              "      <td>2019</td>\n",
              "      <td>1</td>\n",
              "      <td>DUBLIN</td>\n",
              "      <td>AUDI</td>\n",
              "      <td>Q3</td>\n",
              "      <td>SUV</td>\n",
              "      <td>ORANGE</td>\n",
              "      <td>C</td>\n",
              "      <td>44836.0</td>\n",
              "    </tr>\n",
              "    <tr>\n",
              "      <th>4</th>\n",
              "      <td>181-W-341</td>\n",
              "      <td>2018-01-27</td>\n",
              "      <td>2018</td>\n",
              "      <td>1</td>\n",
              "      <td>WATERFORD</td>\n",
              "      <td>OPEL</td>\n",
              "      <td>ASTRA</td>\n",
              "      <td>HATCHBACK</td>\n",
              "      <td>RED</td>\n",
              "      <td>A</td>\n",
              "      <td>32188.0</td>\n",
              "    </tr>\n",
              "  </tbody>\n",
              "</table>\n",
              "</div>"
            ],
            "text/plain": [
              "      car_reg purchase_date  year  month  ...       type  colour tax_band    price\n",
              "0  202-C-2315    2020-07-01  2020      7  ...     SALOON     RED        B  55287.0\n",
              "1  191-C-3750    2019-01-20  2019      1  ...        SUV  SILVER        B  41690.0\n",
              "2  191-L-3155    2019-03-21  2019      3  ...     SALOON   WHITE        C  40381.0\n",
              "3  191-D-2645    2019-01-26  2019      1  ...        SUV  ORANGE        C  44836.0\n",
              "4   181-W-341    2018-01-27  2018      1  ...  HATCHBACK     RED        A  32188.0\n",
              "\n",
              "[5 rows x 11 columns]"
            ]
          },
          "metadata": {
            "tags": []
          },
          "execution_count": 12
        }
      ]
    },
    {
      "cell_type": "code",
      "metadata": {
        "id": "q_xiFrVX0oah"
      },
      "source": [
        "# Create a list of columns to apply Dummies\n",
        "list_columns_to_dumies = ['county', 'type', 'tax_band']"
      ],
      "execution_count": 13,
      "outputs": []
    },
    {
      "cell_type": "code",
      "metadata": {
        "id": "s2XWRYs42xO3"
      },
      "source": [
        "# Create a new Data Frame to apply dummies\n",
        "df_dummies = df_processed[list_columns_to_dumies].copy()"
      ],
      "execution_count": 14,
      "outputs": []
    },
    {
      "cell_type": "code",
      "metadata": {
        "id": "bFzx6ZlH47xv"
      },
      "source": [
        "# Apply Lower case before dummies\n",
        "df_dummies['county'] = df_dummies['county'].str.lower()\n",
        "df_dummies['type'] = df_dummies['type'].str.lower()\n",
        "df_dummies['tax_band'] = df_dummies['tax_band'].str.lower()"
      ],
      "execution_count": 15,
      "outputs": []
    },
    {
      "cell_type": "code",
      "metadata": {
        "id": "0CRG5znE0oXU"
      },
      "source": [
        "# Apply Dammies\n",
        "df_dummies = pd.get_dummies(df_dummies, columns=list_columns_to_dumies)"
      ],
      "execution_count": 16,
      "outputs": []
    },
    {
      "cell_type": "code",
      "metadata": {
        "colab": {
          "base_uri": "https://localhost:8080/"
        },
        "id": "D4TqxPnXG4Rv",
        "outputId": "6c57631c-8fc1-4cb3-ef12-10de9732d3a8"
      },
      "source": [
        "df_dummies.dtypes"
      ],
      "execution_count": 17,
      "outputs": [
        {
          "output_type": "execute_result",
          "data": {
            "text/plain": [
              "county_cork         uint8\n",
              "county_dublin       uint8\n",
              "county_galway       uint8\n",
              "county_limerick     uint8\n",
              "county_waterford    uint8\n",
              "type_coupe          uint8\n",
              "type_estate         uint8\n",
              "type_hatchback      uint8\n",
              "type_saloon         uint8\n",
              "type_suv            uint8\n",
              "tax_band_a          uint8\n",
              "tax_band_b          uint8\n",
              "tax_band_c          uint8\n",
              "tax_band_d          uint8\n",
              "tax_band_e          uint8\n",
              "dtype: object"
            ]
          },
          "metadata": {
            "tags": []
          },
          "execution_count": 17
        }
      ]
    },
    {
      "cell_type": "code",
      "metadata": {
        "id": "KwpHAjid3Fhn"
      },
      "source": [
        "df_dummies = df_processed.join(df_dummies)"
      ],
      "execution_count": 18,
      "outputs": []
    },
    {
      "cell_type": "code",
      "metadata": {
        "id": "zvlHW7dS0oVG"
      },
      "source": [
        "df_dummies.drop(['car_reg', 'purchase_date'], axis=1, inplace=True)"
      ],
      "execution_count": 19,
      "outputs": []
    },
    {
      "cell_type": "code",
      "metadata": {
        "colab": {
          "base_uri": "https://localhost:8080/",
          "height": 0
        },
        "id": "Od-J7Z9o0oMI",
        "outputId": "4e2321dd-be4b-43f3-b52a-d62885342058"
      },
      "source": [
        "df_dummies.head(3)"
      ],
      "execution_count": 20,
      "outputs": [
        {
          "output_type": "execute_result",
          "data": {
            "text/html": [
              "<div>\n",
              "<style scoped>\n",
              "    .dataframe tbody tr th:only-of-type {\n",
              "        vertical-align: middle;\n",
              "    }\n",
              "\n",
              "    .dataframe tbody tr th {\n",
              "        vertical-align: top;\n",
              "    }\n",
              "\n",
              "    .dataframe thead th {\n",
              "        text-align: right;\n",
              "    }\n",
              "</style>\n",
              "<table border=\"1\" class=\"dataframe\">\n",
              "  <thead>\n",
              "    <tr style=\"text-align: right;\">\n",
              "      <th></th>\n",
              "      <th>year</th>\n",
              "      <th>month</th>\n",
              "      <th>county</th>\n",
              "      <th>make</th>\n",
              "      <th>model</th>\n",
              "      <th>type</th>\n",
              "      <th>colour</th>\n",
              "      <th>tax_band</th>\n",
              "      <th>price</th>\n",
              "      <th>county_cork</th>\n",
              "      <th>county_dublin</th>\n",
              "      <th>county_galway</th>\n",
              "      <th>county_limerick</th>\n",
              "      <th>county_waterford</th>\n",
              "      <th>type_coupe</th>\n",
              "      <th>type_estate</th>\n",
              "      <th>type_hatchback</th>\n",
              "      <th>type_saloon</th>\n",
              "      <th>type_suv</th>\n",
              "      <th>tax_band_a</th>\n",
              "      <th>tax_band_b</th>\n",
              "      <th>tax_band_c</th>\n",
              "      <th>tax_band_d</th>\n",
              "      <th>tax_band_e</th>\n",
              "    </tr>\n",
              "  </thead>\n",
              "  <tbody>\n",
              "    <tr>\n",
              "      <th>0</th>\n",
              "      <td>2020</td>\n",
              "      <td>7</td>\n",
              "      <td>CORK</td>\n",
              "      <td>AUDI</td>\n",
              "      <td>A4</td>\n",
              "      <td>SALOON</td>\n",
              "      <td>RED</td>\n",
              "      <td>B</td>\n",
              "      <td>55287.0</td>\n",
              "      <td>1</td>\n",
              "      <td>0</td>\n",
              "      <td>0</td>\n",
              "      <td>0</td>\n",
              "      <td>0</td>\n",
              "      <td>0</td>\n",
              "      <td>0</td>\n",
              "      <td>0</td>\n",
              "      <td>1</td>\n",
              "      <td>0</td>\n",
              "      <td>0</td>\n",
              "      <td>1</td>\n",
              "      <td>0</td>\n",
              "      <td>0</td>\n",
              "      <td>0</td>\n",
              "    </tr>\n",
              "    <tr>\n",
              "      <th>1</th>\n",
              "      <td>2019</td>\n",
              "      <td>1</td>\n",
              "      <td>CORK</td>\n",
              "      <td>MAZDA</td>\n",
              "      <td>CX-30</td>\n",
              "      <td>SUV</td>\n",
              "      <td>SILVER</td>\n",
              "      <td>B</td>\n",
              "      <td>41690.0</td>\n",
              "      <td>1</td>\n",
              "      <td>0</td>\n",
              "      <td>0</td>\n",
              "      <td>0</td>\n",
              "      <td>0</td>\n",
              "      <td>0</td>\n",
              "      <td>0</td>\n",
              "      <td>0</td>\n",
              "      <td>0</td>\n",
              "      <td>1</td>\n",
              "      <td>0</td>\n",
              "      <td>1</td>\n",
              "      <td>0</td>\n",
              "      <td>0</td>\n",
              "      <td>0</td>\n",
              "    </tr>\n",
              "    <tr>\n",
              "      <th>2</th>\n",
              "      <td>2019</td>\n",
              "      <td>3</td>\n",
              "      <td>LIMERICK</td>\n",
              "      <td>BMW</td>\n",
              "      <td>3 SERIES</td>\n",
              "      <td>SALOON</td>\n",
              "      <td>WHITE</td>\n",
              "      <td>C</td>\n",
              "      <td>40381.0</td>\n",
              "      <td>0</td>\n",
              "      <td>0</td>\n",
              "      <td>0</td>\n",
              "      <td>1</td>\n",
              "      <td>0</td>\n",
              "      <td>0</td>\n",
              "      <td>0</td>\n",
              "      <td>0</td>\n",
              "      <td>1</td>\n",
              "      <td>0</td>\n",
              "      <td>0</td>\n",
              "      <td>0</td>\n",
              "      <td>1</td>\n",
              "      <td>0</td>\n",
              "      <td>0</td>\n",
              "    </tr>\n",
              "  </tbody>\n",
              "</table>\n",
              "</div>"
            ],
            "text/plain": [
              "   year  month    county   make  ... tax_band_b tax_band_c tax_band_d tax_band_e\n",
              "0  2020      7      CORK   AUDI  ...          1          0          0          0\n",
              "1  2019      1      CORK  MAZDA  ...          1          0          0          0\n",
              "2  2019      3  LIMERICK    BMW  ...          0          1          0          0\n",
              "\n",
              "[3 rows x 24 columns]"
            ]
          },
          "metadata": {
            "tags": []
          },
          "execution_count": 20
        }
      ]
    },
    {
      "cell_type": "code",
      "metadata": {
        "colab": {
          "base_uri": "https://localhost:8080/",
          "height": 0
        },
        "id": "vMzfA47b0oKY",
        "outputId": "fac1ba13-628d-41f6-d00a-cc89878c7f11"
      },
      "source": [
        "# Plot Price distribution\n",
        "plt.figure(figsize=(8,4))\n",
        "sns.set_style('darkgrid')\n",
        "sns.distplot(df_dummies.price)"
      ],
      "execution_count": 21,
      "outputs": [
        {
          "output_type": "stream",
          "text": [
            "/usr/local/lib/python3.7/dist-packages/seaborn/distributions.py:2557: FutureWarning: `distplot` is a deprecated function and will be removed in a future version. Please adapt your code to use either `displot` (a figure-level function with similar flexibility) or `histplot` (an axes-level function for histograms).\n",
            "  warnings.warn(msg, FutureWarning)\n"
          ],
          "name": "stderr"
        },
        {
          "output_type": "execute_result",
          "data": {
            "text/plain": [
              "<matplotlib.axes._subplots.AxesSubplot at 0x7f4618395650>"
            ]
          },
          "metadata": {
            "tags": []
          },
          "execution_count": 21
        },
        {
          "output_type": "display_data",
          "data": {
            "image/png": "[encoded data removed]",
            "text/plain": [
              "<Figure size 576x288 with 1 Axes>"
            ]
          },
          "metadata": {
            "tags": [],
            "needs_background": "light"
          }
        }
      ]
    },
    {
      "cell_type": "code",
      "metadata": {
        "colab": {
          "base_uri": "https://localhost:8080/"
        },
        "id": "5yS6KcUi0oDR",
        "outputId": "91f64128-621b-4b2c-b0ed-6cc62e206530"
      },
      "source": [
        "# Find correlation with the price\n",
        "output_feature_dummies = 'price'\n",
        "correlations = df_dummies.corr()\n",
        "correlations[output_feature_dummies]"
      ],
      "execution_count": 22,
      "outputs": [
        {
          "output_type": "execute_result",
          "data": {
            "text/plain": [
              "year                0.039399\n",
              "month               0.020092\n",
              "price               1.000000\n",
              "county_cork        -0.023750\n",
              "county_dublin       0.012927\n",
              "county_galway      -0.005611\n",
              "county_limerick     0.003292\n",
              "county_waterford    0.013538\n",
              "type_coupe          0.156278\n",
              "type_estate         0.077543\n",
              "type_hatchback     -0.275561\n",
              "type_saloon         0.107899\n",
              "type_suv            0.064070\n",
              "tax_band_a         -0.330822\n",
              "tax_band_b         -0.139552\n",
              "tax_band_c          0.162498\n",
              "tax_band_d          0.482691\n",
              "tax_band_e          0.320714\n",
              "Name: price, dtype: float64"
            ]
          },
          "metadata": {
            "tags": []
          },
          "execution_count": 22
        }
      ]
    },
    {
      "cell_type": "code",
      "metadata": {
        "id": "cBUGDPI7zziY"
      },
      "source": [
        "list_columns = df_dummies.columns"
      ],
      "execution_count": 23,
      "outputs": []
    },
    {
      "cell_type": "code",
      "metadata": {
        "id": "HcSLcteEz5tz"
      },
      "source": [
        "# Split data into 20% test and 80% train\n",
        "df_dummies_train, df_dummies_test = train_test_split(df_dummies.copy() ,test_size=0.2, random_state=8001)"
      ],
      "execution_count": 24,
      "outputs": []
    },
    {
      "cell_type": "code",
      "metadata": {
        "id": "lkE2pE8RF_tr"
      },
      "source": [
        "def get_feature_stats(df, list_columns):\n",
        "    lis_of_string_features = []\n",
        "    for feature in list_columns:\n",
        "      if df[feature].dtype not in ['uint8', 'int16','int32','int64','float16','float32','float64']:\n",
        "        lis_of_string_features.append(feature)\n",
        "    return lis_of_string_features"
      ],
      "execution_count": 25,
      "outputs": []
    },
    {
      "cell_type": "code",
      "metadata": {
        "id": "ShhCR5UeGc9J"
      },
      "source": [
        "list_feature = get_feature_stats(df_dummies, list_columns)"
      ],
      "execution_count": 26,
      "outputs": []
    },
    {
      "cell_type": "code",
      "metadata": {
        "id": "dOwH_Ca9Df95"
      },
      "source": [
        "#Convert all string features to a int features\n",
        "for feature in list_feature:\n",
        "  label_condition = LabelEncoder()\n",
        "  df_dummies_train[feature] = label_condition.fit_transform(df_dummies_train[feature])\n",
        "  df_dummies_test[feature] = label_condition.fit_transform(df_dummies_test[feature])"
      ],
      "execution_count": 27,
      "outputs": []
    },
    {
      "cell_type": "code",
      "metadata": {
        "colab": {
          "base_uri": "https://localhost:8080/"
        },
        "id": "tmzQs8SyI7bP",
        "outputId": "ff7dbe58-7503-4556-c8b1-d2f181f7a03e"
      },
      "source": [
        "df_dummies_train.shape, df_dummies_test.shape"
      ],
      "execution_count": 28,
      "outputs": [
        {
          "output_type": "execute_result",
          "data": {
            "text/plain": [
              "((3040, 24), (760, 24))"
            ]
          },
          "metadata": {
            "tags": []
          },
          "execution_count": 28
        }
      ]
    },
    {
      "cell_type": "code",
      "metadata": {
        "colab": {
          "base_uri": "https://localhost:8080/",
          "height": 0
        },
        "id": "XDQ3eJ3XJGmH",
        "outputId": "e9a72199-c172-4110-9eb2-b05f7519a8f3"
      },
      "source": [
        "df_dummies_train.head(3)"
      ],
      "execution_count": 29,
      "outputs": [
        {
          "output_type": "execute_result",
          "data": {
            "text/html": [
              "<div>\n",
              "<style scoped>\n",
              "    .dataframe tbody tr th:only-of-type {\n",
              "        vertical-align: middle;\n",
              "    }\n",
              "\n",
              "    .dataframe tbody tr th {\n",
              "        vertical-align: top;\n",
              "    }\n",
              "\n",
              "    .dataframe thead th {\n",
              "        text-align: right;\n",
              "    }\n",
              "</style>\n",
              "<table border=\"1\" class=\"dataframe\">\n",
              "  <thead>\n",
              "    <tr style=\"text-align: right;\">\n",
              "      <th></th>\n",
              "      <th>year</th>\n",
              "      <th>month</th>\n",
              "      <th>county</th>\n",
              "      <th>make</th>\n",
              "      <th>model</th>\n",
              "      <th>type</th>\n",
              "      <th>colour</th>\n",
              "      <th>tax_band</th>\n",
              "      <th>price</th>\n",
              "      <th>county_cork</th>\n",
              "      <th>county_dublin</th>\n",
              "      <th>county_galway</th>\n",
              "      <th>county_limerick</th>\n",
              "      <th>county_waterford</th>\n",
              "      <th>type_coupe</th>\n",
              "      <th>type_estate</th>\n",
              "      <th>type_hatchback</th>\n",
              "      <th>type_saloon</th>\n",
              "      <th>type_suv</th>\n",
              "      <th>tax_band_a</th>\n",
              "      <th>tax_band_b</th>\n",
              "      <th>tax_band_c</th>\n",
              "      <th>tax_band_d</th>\n",
              "      <th>tax_band_e</th>\n",
              "    </tr>\n",
              "  </thead>\n",
              "  <tbody>\n",
              "    <tr>\n",
              "      <th>654</th>\n",
              "      <td>2018</td>\n",
              "      <td>3</td>\n",
              "      <td>1</td>\n",
              "      <td>3</td>\n",
              "      <td>14</td>\n",
              "      <td>4</td>\n",
              "      <td>4</td>\n",
              "      <td>2</td>\n",
              "      <td>41920.0</td>\n",
              "      <td>0</td>\n",
              "      <td>1</td>\n",
              "      <td>0</td>\n",
              "      <td>0</td>\n",
              "      <td>0</td>\n",
              "      <td>0</td>\n",
              "      <td>0</td>\n",
              "      <td>0</td>\n",
              "      <td>0</td>\n",
              "      <td>1</td>\n",
              "      <td>0</td>\n",
              "      <td>0</td>\n",
              "      <td>1</td>\n",
              "      <td>0</td>\n",
              "      <td>0</td>\n",
              "    </tr>\n",
              "    <tr>\n",
              "      <th>1947</th>\n",
              "      <td>2018</td>\n",
              "      <td>2</td>\n",
              "      <td>4</td>\n",
              "      <td>2</td>\n",
              "      <td>21</td>\n",
              "      <td>4</td>\n",
              "      <td>4</td>\n",
              "      <td>1</td>\n",
              "      <td>34961.0</td>\n",
              "      <td>0</td>\n",
              "      <td>0</td>\n",
              "      <td>0</td>\n",
              "      <td>0</td>\n",
              "      <td>1</td>\n",
              "      <td>0</td>\n",
              "      <td>0</td>\n",
              "      <td>0</td>\n",
              "      <td>0</td>\n",
              "      <td>1</td>\n",
              "      <td>0</td>\n",
              "      <td>1</td>\n",
              "      <td>0</td>\n",
              "      <td>0</td>\n",
              "      <td>0</td>\n",
              "    </tr>\n",
              "    <tr>\n",
              "      <th>3698</th>\n",
              "      <td>2020</td>\n",
              "      <td>7</td>\n",
              "      <td>1</td>\n",
              "      <td>1</td>\n",
              "      <td>1</td>\n",
              "      <td>3</td>\n",
              "      <td>0</td>\n",
              "      <td>1</td>\n",
              "      <td>69784.0</td>\n",
              "      <td>0</td>\n",
              "      <td>1</td>\n",
              "      <td>0</td>\n",
              "      <td>0</td>\n",
              "      <td>0</td>\n",
              "      <td>0</td>\n",
              "      <td>0</td>\n",
              "      <td>0</td>\n",
              "      <td>1</td>\n",
              "      <td>0</td>\n",
              "      <td>0</td>\n",
              "      <td>1</td>\n",
              "      <td>0</td>\n",
              "      <td>0</td>\n",
              "      <td>0</td>\n",
              "    </tr>\n",
              "  </tbody>\n",
              "</table>\n",
              "</div>"
            ],
            "text/plain": [
              "      year  month  county  make  ...  tax_band_b  tax_band_c  tax_band_d  tax_band_e\n",
              "654   2018      3       1     3  ...           0           1           0           0\n",
              "1947  2018      2       4     2  ...           1           0           0           0\n",
              "3698  2020      7       1     1  ...           1           0           0           0\n",
              "\n",
              "[3 rows x 24 columns]"
            ]
          },
          "metadata": {
            "tags": []
          },
          "execution_count": 29
        }
      ]
    },
    {
      "cell_type": "markdown",
      "metadata": {
        "id": "6wUlHW9Lp4gY"
      },
      "source": [
        "###Linear Regression Model"
      ]
    },
    {
      "cell_type": "code",
      "metadata": {
        "colab": {
          "base_uri": "https://localhost:8080/"
        },
        "id": "f9hJSOf8KE1v",
        "outputId": "e7e10cff-3457-4086-ec34-1d6a6ad515ce"
      },
      "source": [
        "# X variables (independent)\n",
        "input_features_dummies = [item for item in df_dummies.columns if item not in output_feature_dummies]\n",
        "print(input_features_dummies)"
      ],
      "execution_count": 71,
      "outputs": [
        {
          "output_type": "stream",
          "text": [
            "['year', 'month', 'county', 'make', 'model', 'type', 'colour', 'tax_band', 'county_cork', 'county_dublin', 'county_galway', 'county_limerick', 'county_waterford', 'type_coupe', 'type_estate', 'type_hatchback', 'type_saloon', 'type_suv', 'tax_band_a', 'tax_band_b', 'tax_band_c', 'tax_band_d', 'tax_band_e']\n"
          ],
          "name": "stdout"
        }
      ]
    },
    {
      "cell_type": "code",
      "metadata": {
        "id": "v5dl8hnxJc4o"
      },
      "source": [
        "# create a linear regression model\n",
        "linear_model = LinearRegression()"
      ],
      "execution_count": 72,
      "outputs": []
    },
    {
      "cell_type": "code",
      "metadata": {
        "id": "-qAkCMZOJie4"
      },
      "source": [
        "# Training the Model\n",
        "first_model = linear_model.fit(X=df_dummies_train[input_features_dummies], y=df_dummies_train[output_feature_dummies])"
      ],
      "execution_count": 73,
      "outputs": []
    },
    {
      "cell_type": "code",
      "metadata": {
        "id": "SNDREVJqKmPo"
      },
      "source": [
        "# Forescat the Price for test\n",
        "price_predicted = first_model.predict(X=df_dummies_test[input_features_dummies])"
      ],
      "execution_count": 74,
      "outputs": []
    },
    {
      "cell_type": "code",
      "metadata": {
        "colab": {
          "base_uri": "https://localhost:8080/"
        },
        "id": "y7Hlfjw-K6If",
        "outputId": "e3c85a9d-94db-4966-fd6b-2457f8c066c1"
      },
      "source": [
        "price_predicted[0:10]"
      ],
      "execution_count": 75,
      "outputs": [
        {
          "output_type": "execute_result",
          "data": {
            "text/plain": [
              "array([35322.64493742, 35641.10725982, 33746.05843528, 46971.78466263,\n",
              "       34617.70199626, 53817.23156391, 33654.1762854 , 39708.81502702,\n",
              "       42654.09127364, 54395.54785705])"
            ]
          },
          "metadata": {
            "tags": []
          },
          "execution_count": 75
        }
      ]
    },
    {
      "cell_type": "code",
      "metadata": {
        "id": "LxSR7sJ8K-Tn"
      },
      "source": [
        "# Get mean of the squared error\n",
        "first_model_mse = mean_squared_error(y_pred=price_predicted, y_true=df_dummies_test[output_feature_dummies])\n",
        "first_model_r2_score = r2_score(y_pred=price_predicted, y_true=df_dummies_test[output_feature_dummies])"
      ],
      "execution_count": 76,
      "outputs": []
    },
    {
      "cell_type": "markdown",
      "metadata": {
        "id": "V-VagAl6qWAH"
      },
      "source": [
        "###Validation Test:: Linear Regressor Model"
      ]
    },
    {
      "cell_type": "code",
      "metadata": {
        "colab": {
          "base_uri": "https://localhost:8080/"
        },
        "id": "caJPqpIEMLsU",
        "outputId": "e446c482-b68f-48ac-e6e7-356bd3af539e"
      },
      "source": [
        "print(f'Linear Regressor Model Accuracy:\\nRMSE={math.sqrt(first_model_mse):,.0f}\\nRSq={first_model_r2_score:.4f} ==> {first_model_r2_score*100:.4f}% of the variability in Y can be explained using X')"
      ],
      "execution_count": 77,
      "outputs": [
        {
          "output_type": "stream",
          "text": [
            "Linear Regressor Model Accuracy:\n",
            "RMSE=20,574\n",
            "RSq=0.5249 ==> 52.4869% of the variability in Y can be explained using X\n"
          ],
          "name": "stdout"
        }
      ]
    },
    {
      "cell_type": "markdown",
      "metadata": {
        "id": "aytsW6vQ8EdE"
      },
      "source": [
        "###Linear Regression Model Standar Scaler features"
      ]
    },
    {
      "cell_type": "code",
      "metadata": {
        "colab": {
          "base_uri": "https://localhost:8080/"
        },
        "id": "qt4YIeBP8L5I",
        "outputId": "48880b7c-efd4-4205-f591-1c9fb2424966"
      },
      "source": [
        "# Find correlation with the price\n",
        "output_feature_dummies = 'price'\n",
        "list_columns_to_dumies.append(output_feature_dummies)\n",
        "correlations = df_dummies.corr()\n",
        "correlations[output_feature_dummies]"
      ],
      "execution_count": 132,
      "outputs": [
        {
          "output_type": "execute_result",
          "data": {
            "text/plain": [
              "year                0.039399\n",
              "month               0.020092\n",
              "price               1.000000\n",
              "county_cork        -0.023750\n",
              "county_dublin       0.012927\n",
              "county_galway      -0.005611\n",
              "county_limerick     0.003292\n",
              "county_waterford    0.013538\n",
              "type_coupe          0.156278\n",
              "type_estate         0.077543\n",
              "type_hatchback     -0.275561\n",
              "type_saloon         0.107899\n",
              "type_suv            0.064070\n",
              "tax_band_a         -0.330822\n",
              "tax_band_b         -0.139552\n",
              "tax_band_c          0.162498\n",
              "tax_band_d          0.482691\n",
              "tax_band_e          0.320714\n",
              "Name: price, dtype: float64"
            ]
          },
          "metadata": {
            "tags": []
          },
          "execution_count": 132
        }
      ]
    },
    {
      "cell_type": "code",
      "metadata": {
        "colab": {
          "base_uri": "https://localhost:8080/",
          "height": 0
        },
        "id": "Hcz-DcYY8XdH",
        "outputId": "7662e6de-7be0-4bdc-c05c-8ba9db163cd9"
      },
      "source": [
        "df_dummies.head(3)"
      ],
      "execution_count": 133,
      "outputs": [
        {
          "output_type": "execute_result",
          "data": {
            "text/html": [
              "<div>\n",
              "<style scoped>\n",
              "    .dataframe tbody tr th:only-of-type {\n",
              "        vertical-align: middle;\n",
              "    }\n",
              "\n",
              "    .dataframe tbody tr th {\n",
              "        vertical-align: top;\n",
              "    }\n",
              "\n",
              "    .dataframe thead th {\n",
              "        text-align: right;\n",
              "    }\n",
              "</style>\n",
              "<table border=\"1\" class=\"dataframe\">\n",
              "  <thead>\n",
              "    <tr style=\"text-align: right;\">\n",
              "      <th></th>\n",
              "      <th>year</th>\n",
              "      <th>month</th>\n",
              "      <th>county</th>\n",
              "      <th>make</th>\n",
              "      <th>model</th>\n",
              "      <th>type</th>\n",
              "      <th>colour</th>\n",
              "      <th>tax_band</th>\n",
              "      <th>price</th>\n",
              "      <th>county_cork</th>\n",
              "      <th>county_dublin</th>\n",
              "      <th>county_galway</th>\n",
              "      <th>county_limerick</th>\n",
              "      <th>county_waterford</th>\n",
              "      <th>type_coupe</th>\n",
              "      <th>type_estate</th>\n",
              "      <th>type_hatchback</th>\n",
              "      <th>type_saloon</th>\n",
              "      <th>type_suv</th>\n",
              "      <th>tax_band_a</th>\n",
              "      <th>tax_band_b</th>\n",
              "      <th>tax_band_c</th>\n",
              "      <th>tax_band_d</th>\n",
              "      <th>tax_band_e</th>\n",
              "    </tr>\n",
              "  </thead>\n",
              "  <tbody>\n",
              "    <tr>\n",
              "      <th>0</th>\n",
              "      <td>2020</td>\n",
              "      <td>7</td>\n",
              "      <td>CORK</td>\n",
              "      <td>AUDI</td>\n",
              "      <td>A4</td>\n",
              "      <td>SALOON</td>\n",
              "      <td>RED</td>\n",
              "      <td>B</td>\n",
              "      <td>55287.0</td>\n",
              "      <td>1</td>\n",
              "      <td>0</td>\n",
              "      <td>0</td>\n",
              "      <td>0</td>\n",
              "      <td>0</td>\n",
              "      <td>0</td>\n",
              "      <td>0</td>\n",
              "      <td>0</td>\n",
              "      <td>1</td>\n",
              "      <td>0</td>\n",
              "      <td>0</td>\n",
              "      <td>1</td>\n",
              "      <td>0</td>\n",
              "      <td>0</td>\n",
              "      <td>0</td>\n",
              "    </tr>\n",
              "    <tr>\n",
              "      <th>1</th>\n",
              "      <td>2019</td>\n",
              "      <td>1</td>\n",
              "      <td>CORK</td>\n",
              "      <td>MAZDA</td>\n",
              "      <td>CX-30</td>\n",
              "      <td>SUV</td>\n",
              "      <td>SILVER</td>\n",
              "      <td>B</td>\n",
              "      <td>41690.0</td>\n",
              "      <td>1</td>\n",
              "      <td>0</td>\n",
              "      <td>0</td>\n",
              "      <td>0</td>\n",
              "      <td>0</td>\n",
              "      <td>0</td>\n",
              "      <td>0</td>\n",
              "      <td>0</td>\n",
              "      <td>0</td>\n",
              "      <td>1</td>\n",
              "      <td>0</td>\n",
              "      <td>1</td>\n",
              "      <td>0</td>\n",
              "      <td>0</td>\n",
              "      <td>0</td>\n",
              "    </tr>\n",
              "    <tr>\n",
              "      <th>2</th>\n",
              "      <td>2019</td>\n",
              "      <td>3</td>\n",
              "      <td>LIMERICK</td>\n",
              "      <td>BMW</td>\n",
              "      <td>3 SERIES</td>\n",
              "      <td>SALOON</td>\n",
              "      <td>WHITE</td>\n",
              "      <td>C</td>\n",
              "      <td>40381.0</td>\n",
              "      <td>0</td>\n",
              "      <td>0</td>\n",
              "      <td>0</td>\n",
              "      <td>1</td>\n",
              "      <td>0</td>\n",
              "      <td>0</td>\n",
              "      <td>0</td>\n",
              "      <td>0</td>\n",
              "      <td>1</td>\n",
              "      <td>0</td>\n",
              "      <td>0</td>\n",
              "      <td>0</td>\n",
              "      <td>1</td>\n",
              "      <td>0</td>\n",
              "      <td>0</td>\n",
              "    </tr>\n",
              "  </tbody>\n",
              "</table>\n",
              "</div>"
            ],
            "text/plain": [
              "   year  month    county   make  ... tax_band_b tax_band_c tax_band_d tax_band_e\n",
              "0  2020      7      CORK   AUDI  ...          1          0          0          0\n",
              "1  2019      1      CORK  MAZDA  ...          1          0          0          0\n",
              "2  2019      3  LIMERICK    BMW  ...          0          1          0          0\n",
              "\n",
              "[3 rows x 24 columns]"
            ]
          },
          "metadata": {
            "tags": []
          },
          "execution_count": 133
        }
      ]
    },
    {
      "cell_type": "code",
      "metadata": {
        "id": "Sq-JMlhZA8Pg"
      },
      "source": [
        "df_scaler_train = df_dummies_train.copy()\n",
        "df_scaler_test = df_dummies_test.copy()"
      ],
      "execution_count": 134,
      "outputs": []
    },
    {
      "cell_type": "code",
      "metadata": {
        "colab": {
          "base_uri": "https://localhost:8080/"
        },
        "id": "C68VhRvs_q7X",
        "outputId": "9535980e-e509-4eb4-9979-8e62b95d462e"
      },
      "source": [
        "# X variables (independent)\n",
        "input_features_dummies = [item for item in df_scaler_train.columns if item not in output_feature_dummies]\n",
        "print(input_features_dummies)"
      ],
      "execution_count": 135,
      "outputs": [
        {
          "output_type": "stream",
          "text": [
            "['year', 'month', 'county', 'make', 'model', 'type', 'colour', 'tax_band', 'county_cork', 'county_dublin', 'county_galway', 'county_limerick', 'county_waterford', 'type_coupe', 'type_estate', 'type_hatchback', 'type_saloon', 'type_suv', 'tax_band_a', 'tax_band_b', 'tax_band_c', 'tax_band_d', 'tax_band_e']\n"
          ],
          "name": "stdout"
        }
      ]
    },
    {
      "cell_type": "code",
      "metadata": {
        "colab": {
          "base_uri": "https://localhost:8080/"
        },
        "id": "ZIJUWozm__OV",
        "outputId": "d86559e6-eca6-47b2-8aa1-a11aa89cd411"
      },
      "source": [
        "# Apply Standar Scaler for each column\n",
        "for column in df_dummies_train.columns:\n",
        "\n",
        "  if column == output_feature_dummies:\n",
        "    print(f'skip:\\t{column}')\n",
        "\n",
        "  else:\n",
        "    # print(f'StandarScaler for:\\t{column}')\n",
        "    scaler_column = StandardScaler()\n",
        "    scaler_column.fit(df_scaler_train[column].values.reshape(-1, 1))\n",
        "    df_scaler_train[column] = scaler_column.transform(df_scaler_train[column].values.reshape(-1, 1))\n",
        "    df_scaler_test[column] = scaler_column.transform(df_scaler_test[column].values.reshape(-1, 1))"
      ],
      "execution_count": 136,
      "outputs": [
        {
          "output_type": "stream",
          "text": [
            "skip:\tprice\n"
          ],
          "name": "stdout"
        }
      ]
    },
    {
      "cell_type": "code",
      "metadata": {
        "id": "a_rB0LrF9pZN"
      },
      "source": [
        "X_train = df_scaler_train[input_features_dummies].values\n",
        "X_test = df_scaler_test[input_features_dummies].values\n",
        "\n",
        "y_train = df_scaler_train[[output_feature_dummies]].values\n",
        "y_test = df_scaler_test[[output_feature_dummies]].values"
      ],
      "execution_count": 137,
      "outputs": []
    },
    {
      "cell_type": "code",
      "metadata": {
        "id": "zI8IxNW0BlcZ"
      },
      "source": [
        "lr_scaler_model = LinearRegression()"
      ],
      "execution_count": 138,
      "outputs": []
    },
    {
      "cell_type": "code",
      "metadata": {
        "id": "9DMf4SV3Dmvv"
      },
      "source": [
        "lr_scaler_model_trained = lr_scaler_model.fit(X=X_train, y=y_train)"
      ],
      "execution_count": 139,
      "outputs": []
    },
    {
      "cell_type": "code",
      "metadata": {
        "id": "6zmTlJQDD2Mk"
      },
      "source": [
        "lr_scaler_model_prodict = lr_scaler_model_trained.predict(X=X_test)"
      ],
      "execution_count": 140,
      "outputs": []
    },
    {
      "cell_type": "code",
      "metadata": {
        "id": "z2mvAw4uDhXw"
      },
      "source": [
        "lr_scaler_model_mse = mean_squared_error(y_pred=lr_scaler_model_prodict, y_true=y_test)\n",
        "lr_scaler_model_r_sq = r2_score(y_pred=lr_scaler_model_prodict, y_true=y_test)"
      ],
      "execution_count": 141,
      "outputs": []
    },
    {
      "cell_type": "code",
      "metadata": {
        "colab": {
          "base_uri": "https://localhost:8080/",
          "height": 0
        },
        "id": "zcbSeAsKH3be",
        "outputId": "3b691cbb-9576-4132-9687-89e0978ddf9f"
      },
      "source": [
        "df_features_slopes_sca = pd.DataFrame(lr_scaler_model_trained.coef_.flatten(), input_features_dummies, columns=['slopes']).reset_index().rename(columns={'index':'feature1'})\n",
        "df_features_slopes_sca\n"
      ],
      "execution_count": 142,
      "outputs": [
        {
          "output_type": "execute_result",
          "data": {
            "text/html": [
              "<div>\n",
              "<style scoped>\n",
              "    .dataframe tbody tr th:only-of-type {\n",
              "        vertical-align: middle;\n",
              "    }\n",
              "\n",
              "    .dataframe tbody tr th {\n",
              "        vertical-align: top;\n",
              "    }\n",
              "\n",
              "    .dataframe thead th {\n",
              "        text-align: right;\n",
              "    }\n",
              "</style>\n",
              "<table border=\"1\" class=\"dataframe\">\n",
              "  <thead>\n",
              "    <tr style=\"text-align: right;\">\n",
              "      <th></th>\n",
              "      <th>feature1</th>\n",
              "      <th>slopes</th>\n",
              "    </tr>\n",
              "  </thead>\n",
              "  <tbody>\n",
              "    <tr>\n",
              "      <th>0</th>\n",
              "      <td>year</td>\n",
              "      <td>6.182222e+02</td>\n",
              "    </tr>\n",
              "    <tr>\n",
              "      <th>1</th>\n",
              "      <td>month</td>\n",
              "      <td>2.612397e+02</td>\n",
              "    </tr>\n",
              "    <tr>\n",
              "      <th>2</th>\n",
              "      <td>county</td>\n",
              "      <td>6.955881e+16</td>\n",
              "    </tr>\n",
              "    <tr>\n",
              "      <th>3</th>\n",
              "      <td>make</td>\n",
              "      <td>-2.448941e+03</td>\n",
              "    </tr>\n",
              "    <tr>\n",
              "      <th>4</th>\n",
              "      <td>model</td>\n",
              "      <td>-5.474909e+03</td>\n",
              "    </tr>\n",
              "    <tr>\n",
              "      <th>5</th>\n",
              "      <td>type</td>\n",
              "      <td>-1.590542e+16</td>\n",
              "    </tr>\n",
              "    <tr>\n",
              "      <th>6</th>\n",
              "      <td>colour</td>\n",
              "      <td>-4.214610e+02</td>\n",
              "    </tr>\n",
              "    <tr>\n",
              "      <th>7</th>\n",
              "      <td>tax_band</td>\n",
              "      <td>-5.295968e+16</td>\n",
              "    </tr>\n",
              "    <tr>\n",
              "      <th>8</th>\n",
              "      <td>county_cork</td>\n",
              "      <td>3.406657e+15</td>\n",
              "    </tr>\n",
              "    <tr>\n",
              "      <th>9</th>\n",
              "      <td>county_dublin</td>\n",
              "      <td>-2.359792e+16</td>\n",
              "    </tr>\n",
              "    <tr>\n",
              "      <th>10</th>\n",
              "      <td>county_galway</td>\n",
              "      <td>-3.630298e+16</td>\n",
              "    </tr>\n",
              "    <tr>\n",
              "      <th>11</th>\n",
              "      <td>county_limerick</td>\n",
              "      <td>-5.634993e+16</td>\n",
              "    </tr>\n",
              "    <tr>\n",
              "      <th>12</th>\n",
              "      <td>county_waterford</td>\n",
              "      <td>-6.373299e+16</td>\n",
              "    </tr>\n",
              "    <tr>\n",
              "      <th>13</th>\n",
              "      <td>type_coupe</td>\n",
              "      <td>-7.148144e+15</td>\n",
              "    </tr>\n",
              "    <tr>\n",
              "      <th>14</th>\n",
              "      <td>type_estate</td>\n",
              "      <td>-8.513268e+15</td>\n",
              "    </tr>\n",
              "    <tr>\n",
              "      <th>15</th>\n",
              "      <td>type_hatchback</td>\n",
              "      <td>-3.936931e+15</td>\n",
              "    </tr>\n",
              "    <tr>\n",
              "      <th>16</th>\n",
              "      <td>type_saloon</td>\n",
              "      <td>2.647877e+15</td>\n",
              "    </tr>\n",
              "    <tr>\n",
              "      <th>17</th>\n",
              "      <td>type_suv</td>\n",
              "      <td>8.261862e+15</td>\n",
              "    </tr>\n",
              "    <tr>\n",
              "      <th>18</th>\n",
              "      <td>tax_band_a</td>\n",
              "      <td>-1.393527e+17</td>\n",
              "    </tr>\n",
              "    <tr>\n",
              "      <th>19</th>\n",
              "      <td>tax_band_b</td>\n",
              "      <td>-1.498002e+17</td>\n",
              "    </tr>\n",
              "    <tr>\n",
              "      <th>20</th>\n",
              "      <td>tax_band_c</td>\n",
              "      <td>-9.709699e+16</td>\n",
              "    </tr>\n",
              "    <tr>\n",
              "      <th>21</th>\n",
              "      <td>tax_band_d</td>\n",
              "      <td>-3.446487e+16</td>\n",
              "    </tr>\n",
              "    <tr>\n",
              "      <th>22</th>\n",
              "      <td>tax_band_e</td>\n",
              "      <td>-6.725326e+15</td>\n",
              "    </tr>\n",
              "  </tbody>\n",
              "</table>\n",
              "</div>"
            ],
            "text/plain": [
              "            feature1        slopes\n",
              "0               year  6.182222e+02\n",
              "1              month  2.612397e+02\n",
              "2             county  6.955881e+16\n",
              "3               make -2.448941e+03\n",
              "4              model -5.474909e+03\n",
              "5               type -1.590542e+16\n",
              "6             colour -4.214610e+02\n",
              "7           tax_band -5.295968e+16\n",
              "8        county_cork  3.406657e+15\n",
              "9      county_dublin -2.359792e+16\n",
              "10     county_galway -3.630298e+16\n",
              "11   county_limerick -5.634993e+16\n",
              "12  county_waterford -6.373299e+16\n",
              "13        type_coupe -7.148144e+15\n",
              "14       type_estate -8.513268e+15\n",
              "15    type_hatchback -3.936931e+15\n",
              "16       type_saloon  2.647877e+15\n",
              "17          type_suv  8.261862e+15\n",
              "18        tax_band_a -1.393527e+17\n",
              "19        tax_band_b -1.498002e+17\n",
              "20        tax_band_c -9.709699e+16\n",
              "21        tax_band_d -3.446487e+16\n",
              "22        tax_band_e -6.725326e+15"
            ]
          },
          "metadata": {
            "tags": []
          },
          "execution_count": 142
        }
      ]
    },
    {
      "cell_type": "markdown",
      "metadata": {
        "id": "eXkuL9A3FRo2"
      },
      "source": [
        "###Valitation Test:: Linear Regressor Model Standar Scaler Features"
      ]
    },
    {
      "cell_type": "code",
      "metadata": {
        "colab": {
          "base_uri": "https://localhost:8080/"
        },
        "id": "Qv4041dMEB-s",
        "outputId": "2420c3d8-29fc-4586-f297-879f6c1feebe"
      },
      "source": [
        "print(f'Linear Model StandardScaler Features Accuracy:\\nRMSE={math.sqrt(lr_scaler_model_mse):,.0f}\\nRSq={lr_scaler_model_r_sq:.4f} or {lr_scaler_model_r_sq*100:.4f}% of the variability in Y can be explained using X')"
      ],
      "execution_count": 143,
      "outputs": [
        {
          "output_type": "stream",
          "text": [
            "Linear Model StandardScaler Features Accuracy:\n",
            "RMSE=20,554\n",
            "RSq=0.5258 or 52.5768% of the variability in Y can be explained using X\n"
          ],
          "name": "stdout"
        }
      ]
    },
    {
      "cell_type": "markdown",
      "metadata": {
        "id": "jpPE2VuUXN6g"
      },
      "source": [
        "###Decision Tree Regressor Model"
      ]
    },
    {
      "cell_type": "code",
      "metadata": {
        "id": "Ii-MQhNPQXaA"
      },
      "source": [
        "dec_tree_model = DecisionTreeRegressor()"
      ],
      "execution_count": null,
      "outputs": []
    },
    {
      "cell_type": "code",
      "metadata": {
        "id": "kOl7t6qyWtXG"
      },
      "source": [
        "second_model = dec_tree_model.fit(X=df_dummies_train[input_features_dummies], y=df_dummies_train[output_feature_dummies])"
      ],
      "execution_count": null,
      "outputs": []
    },
    {
      "cell_type": "code",
      "metadata": {
        "id": "yHiuIyyyY9er"
      },
      "source": [
        "second_model_price = dec_tree_model.predict(X=df_dummies_test[input_features_dummies])"
      ],
      "execution_count": null,
      "outputs": []
    },
    {
      "cell_type": "code",
      "metadata": {
        "id": "07FFZ3vtZsXM"
      },
      "source": [
        "# Get mean of the squared error\n",
        "second_model_mse = mean_squared_error(y_pred=second_model_price, y_true=df_dummies_test[output_feature_dummies])\n",
        "second_model_r2_score = r2_score(y_pred=second_model_price, y_true=df_dummies_test[output_feature_dummies])"
      ],
      "execution_count": null,
      "outputs": []
    },
    {
      "cell_type": "markdown",
      "metadata": {
        "id": "wAqUDmjFqgo5"
      },
      "source": [
        "###Validation Test:: Decision Tree Regressor Model"
      ]
    },
    {
      "cell_type": "code",
      "metadata": {
        "colab": {
          "base_uri": "https://localhost:8080/"
        },
        "id": "3qGc_sgfaNxs",
        "outputId": "89a0c27b-cb2d-42e7-ba7f-0f8425e8489d"
      },
      "source": [
        "print(f'Decision Tree Model Accuracy:\\nRMSE={math.sqrt(second_model_mse):,.0f}\\nRSq={second_model_r2_score:.2f} ==> {second_model_r2_score*100:.0f}% of the variability in Y can be explained using X')"
      ],
      "execution_count": null,
      "outputs": [
        {
          "output_type": "stream",
          "text": [
            "Decision Tree Model Accuracy:\n",
            "RMSE=16,485\n",
            "RSq=0.69 ==> 69% of the variability in Y can be explained using X\n"
          ],
          "name": "stdout"
        }
      ]
    },
    {
      "cell_type": "markdown",
      "metadata": {
        "id": "FAjR2l2rqrw2"
      },
      "source": [
        "###Random Forest Model"
      ]
    },
    {
      "cell_type": "code",
      "metadata": {
        "id": "pNiNt1xxaTvc",
        "colab": {
          "base_uri": "https://localhost:8080/",
          "height": 0
        },
        "outputId": "4a5f6db9-cafc-4363-936d-b3ed8b8e3975"
      },
      "source": [
        "random_forest_model = RandomForestRegressor()"
      ],
      "execution_count": 1,
      "outputs": [
        {
          "output_type": "error",
          "ename": "NameError",
          "evalue": "ignored",
          "traceback": [
            "\u001b[0;31m---------------------------------------------------------------------------\u001b[0m",
            "\u001b[0;31mNameError\u001b[0m                                 Traceback (most recent call last)",
            "\u001b[0;32m<ipython-input-1-e0782ba59881>\u001b[0m in \u001b[0;36m<module>\u001b[0;34m()\u001b[0m\n\u001b[0;32m----> 1\u001b[0;31m \u001b[0mrandom_forest_model\u001b[0m \u001b[0;34m=\u001b[0m \u001b[0mRandomForestRegressor\u001b[0m\u001b[0;34m(\u001b[0m\u001b[0;34m)\u001b[0m\u001b[0;34m\u001b[0m\u001b[0;34m\u001b[0m\u001b[0m\n\u001b[0m",
            "\u001b[0;31mNameError\u001b[0m: name 'RandomForestRegressor' is not defined"
          ]
        }
      ]
    },
    {
      "cell_type": "code",
      "metadata": {
        "id": "EAy_7AL8rr7x",
        "colab": {
          "base_uri": "https://localhost:8080/",
          "height": 0
        },
        "outputId": "ef6b7b5f-7ecd-4f0a-d1e0-eeaf2087e558"
      },
      "source": [
        "third_model = random_forest_model.fit(X=df_dummies_train[input_features_dummies], y=df_dummies_train[output_feature_dummies])"
      ],
      "execution_count": 2,
      "outputs": [
        {
          "output_type": "error",
          "ename": "NameError",
          "evalue": "ignored",
          "traceback": [
            "\u001b[0;31m---------------------------------------------------------------------------\u001b[0m",
            "\u001b[0;31mNameError\u001b[0m                                 Traceback (most recent call last)",
            "\u001b[0;32m<ipython-input-2-fc8d6e467c44>\u001b[0m in \u001b[0;36m<module>\u001b[0;34m()\u001b[0m\n\u001b[0;32m----> 1\u001b[0;31m \u001b[0mthird_model\u001b[0m \u001b[0;34m=\u001b[0m \u001b[0mrandom_forest_model\u001b[0m\u001b[0;34m.\u001b[0m\u001b[0mfit\u001b[0m\u001b[0;34m(\u001b[0m\u001b[0mX\u001b[0m\u001b[0;34m=\u001b[0m\u001b[0mdf_dummies_train\u001b[0m\u001b[0;34m[\u001b[0m\u001b[0minput_features_dummies\u001b[0m\u001b[0;34m]\u001b[0m\u001b[0;34m,\u001b[0m \u001b[0my\u001b[0m\u001b[0;34m=\u001b[0m\u001b[0mdf_dummies_train\u001b[0m\u001b[0;34m[\u001b[0m\u001b[0moutput_feature_dummies\u001b[0m\u001b[0;34m]\u001b[0m\u001b[0;34m)\u001b[0m\u001b[0;34m\u001b[0m\u001b[0;34m\u001b[0m\u001b[0m\n\u001b[0m",
            "\u001b[0;31mNameError\u001b[0m: name 'random_forest_model' is not defined"
          ]
        }
      ]
    },
    {
      "cell_type": "code",
      "metadata": {
        "id": "n0sNBfRUry2x"
      },
      "source": [
        "third_model_price = random_forest_model.predict(X=df_dummies_test[input_features_dummies])"
      ],
      "execution_count": null,
      "outputs": []
    },
    {
      "cell_type": "code",
      "metadata": {
        "id": "Nv_DVNeLr6u_"
      },
      "source": [
        "# Get mean of the squared error\n",
        "third_model_mse = mean_squared_error(y_pred=third_model_price, y_true=df_dummies_test[output_feature_dummies])\n",
        "third_model_r2_score = r2_score(y_pred=third_model_price, y_true=df_dummies_test[output_feature_dummies])"
      ],
      "execution_count": null,
      "outputs": []
    },
    {
      "cell_type": "markdown",
      "metadata": {
        "id": "MAHlxqQ5sHm4"
      },
      "source": [
        "###Validation Test:: Random Forest Model"
      ]
    },
    {
      "cell_type": "code",
      "metadata": {
        "colab": {
          "base_uri": "https://localhost:8080/"
        },
        "id": "MSbiItrUsFKH",
        "outputId": "b7b24f9c-cab4-4bf3-e503-11a77f857659"
      },
      "source": [
        "print(f'Random Forest Model Accuracy:\\nRMSE={math.sqrt(third_model_mse):,.0f}\\nRSq={third_model_r2_score:.2f} ==> {third_model_r2_score*100:.0f}% of the variability in Y can be explained using X')"
      ],
      "execution_count": null,
      "outputs": [
        {
          "output_type": "stream",
          "text": [
            "Random Forest Model Accuracy:\n",
            "RMSE=12,071\n",
            "RSq=0.84 ==> 84% of the variability in Y can be explained using X\n"
          ],
          "name": "stdout"
        }
      ]
    },
    {
      "cell_type": "markdown",
      "metadata": {
        "id": "STiG8iQctXRb"
      },
      "source": [
        "###Start using Grid Search to get Best Stimator"
      ]
    },
    {
      "cell_type": "code",
      "metadata": {
        "id": "d6fPmQkQsUUu"
      },
      "source": [
        "parameters = {'min_samples_leaf':[1,10], 'min_samples_split':[2,10], 'n_estimators':[100,250,500,750]}"
      ],
      "execution_count": null,
      "outputs": []
    },
    {
      "cell_type": "code",
      "metadata": {
        "id": "On2NZ2tZtxHG"
      },
      "source": [
        "rf_model = RandomForestRegressor()\n",
        "grid_search = GridSearchCV(rf_model, parameters)"
      ],
      "execution_count": null,
      "outputs": []
    },
    {
      "cell_type": "code",
      "metadata": {
        "colab": {
          "base_uri": "https://localhost:8080/"
        },
        "id": "_HFFHz54uLwa",
        "outputId": "a349828b-cb42-4ea5-f841-e11dd4a93663"
      },
      "source": [
        "grid_search.fit(X=df_dummies_train[input_features_dummies], y=df_dummies_train[output_feature_dummies])"
      ],
      "execution_count": null,
      "outputs": [
        {
          "output_type": "execute_result",
          "data": {
            "text/plain": [
              "GridSearchCV(cv=None, error_score=nan,\n",
              "             estimator=RandomForestRegressor(bootstrap=True, ccp_alpha=0.0,\n",
              "                                             criterion='mse', max_depth=None,\n",
              "                                             max_features='auto',\n",
              "                                             max_leaf_nodes=None,\n",
              "                                             max_samples=None,\n",
              "                                             min_impurity_decrease=0.0,\n",
              "                                             min_impurity_split=None,\n",
              "                                             min_samples_leaf=1,\n",
              "                                             min_samples_split=2,\n",
              "                                             min_weight_fraction_leaf=0.0,\n",
              "                                             n_estimators=100, n_jobs=None,\n",
              "                                             oob_score=False, random_state=None,\n",
              "                                             verbose=0, warm_start=False),\n",
              "             iid='deprecated', n_jobs=None,\n",
              "             param_grid={'min_samples_leaf': [1, 10],\n",
              "                         'min_samples_split': [2, 10],\n",
              "                         'n_estimators': [100, 250, 500, 750]},\n",
              "             pre_dispatch='2*n_jobs', refit=True, return_train_score=False,\n",
              "             scoring=None, verbose=0)"
            ]
          },
          "metadata": {
            "tags": []
          },
          "execution_count": 48
        }
      ]
    },
    {
      "cell_type": "code",
      "metadata": {
        "colab": {
          "base_uri": "https://localhost:8080/"
        },
        "id": "j4ijmnrhuYts",
        "outputId": "3e1fc00c-399a-4085-f365-4debc5ae888c"
      },
      "source": [
        "grid_search.best_params_"
      ],
      "execution_count": null,
      "outputs": [
        {
          "output_type": "execute_result",
          "data": {
            "text/plain": [
              "{'min_samples_leaf': 1, 'min_samples_split': 10, 'n_estimators': 250}"
            ]
          },
          "metadata": {
            "tags": []
          },
          "execution_count": 49
        }
      ]
    },
    {
      "cell_type": "code",
      "metadata": {
        "colab": {
          "base_uri": "https://localhost:8080/"
        },
        "id": "0V9ozqChwbiq",
        "outputId": "a78ecee4-87b2-41c3-fe98-47a9cb061b6f"
      },
      "source": [
        "grid_search.best_estimator_"
      ],
      "execution_count": null,
      "outputs": [
        {
          "output_type": "execute_result",
          "data": {
            "text/plain": [
              "RandomForestRegressor(bootstrap=True, ccp_alpha=0.0, criterion='mse',\n",
              "                      max_depth=None, max_features='auto', max_leaf_nodes=None,\n",
              "                      max_samples=None, min_impurity_decrease=0.0,\n",
              "                      min_impurity_split=None, min_samples_leaf=1,\n",
              "                      min_samples_split=10, min_weight_fraction_leaf=0.0,\n",
              "                      n_estimators=250, n_jobs=None, oob_score=False,\n",
              "                      random_state=None, verbose=0, warm_start=False)"
            ]
          },
          "metadata": {
            "tags": []
          },
          "execution_count": 55
        }
      ]
    },
    {
      "cell_type": "code",
      "metadata": {
        "id": "pvdl1Zequ54l"
      },
      "source": [
        "random_forest_best_model = grid_search.best_estimator_"
      ],
      "execution_count": null,
      "outputs": []
    },
    {
      "cell_type": "code",
      "metadata": {
        "id": "Y5BDKw6HvTtw"
      },
      "source": [
        "fourth_model_price = random_forest_best_model.predict(X=df_dummies_test[input_features_dummies])"
      ],
      "execution_count": null,
      "outputs": []
    },
    {
      "cell_type": "code",
      "metadata": {
        "id": "Kd0h7TCLvjER"
      },
      "source": [
        "fourth_model_mse = mean_squared_error(y_pred=fourth_model_price, y_true=df_dummies_test[output_feature_dummies])\n",
        "fourth_model_r2_score = r2_score(y_pred=fourth_model_price, y_true=df_dummies_test[output_feature_dummies])"
      ],
      "execution_count": null,
      "outputs": []
    },
    {
      "cell_type": "markdown",
      "metadata": {
        "id": "5qf21VrEvyiE"
      },
      "source": [
        "###Validation Test:: Random Forest Best Estimator Model"
      ]
    },
    {
      "cell_type": "code",
      "metadata": {
        "colab": {
          "base_uri": "https://localhost:8080/"
        },
        "id": "xI9szz-0vu-T",
        "outputId": "61bedd57-4ecb-48c1-e467-659b3646435d"
      },
      "source": [
        "print(f'Random Forest Model Accuracy:\\nRMSE={math.sqrt(fourth_model_mse):,.0f}\\nRSq={fourth_model_r2_score:.2f} ==> {fourth_model_r2_score*100:.0f}% of the variability in Y can be explained using X')"
      ],
      "execution_count": null,
      "outputs": [
        {
          "output_type": "stream",
          "text": [
            "Random Forest Model Accuracy:\n",
            "RMSE=11,290\n",
            "RSq=0.86 ==> 86% of the variability in Y can be explained using X\n"
          ],
          "name": "stdout"
        }
      ]
    },
    {
      "cell_type": "code",
      "metadata": {
        "id": "pSnS5hahv2rj"
      },
      "source": [
        ""
      ],
      "execution_count": null,
      "outputs": []
    },
    {
      "cell_type": "markdown",
      "metadata": {
        "id": "EeYJdBth2b9A"
      },
      "source": [
        "###Lienar Regression Model MinMaxScaler"
      ]
    },
    {
      "cell_type": "code",
      "metadata": {
        "colab": {
          "base_uri": "https://localhost:8080/"
        },
        "id": "aM7hqV2zG2Kt",
        "outputId": "28012598-e112-42e2-fb24-a8bfedf49d31"
      },
      "source": [
        "df_dummies_train.columns"
      ],
      "execution_count": 144,
      "outputs": [
        {
          "output_type": "execute_result",
          "data": {
            "text/plain": [
              "Index(['year', 'month', 'county', 'make', 'model', 'type', 'colour',\n",
              "       'tax_band', 'price', 'county_cork', 'county_dublin', 'county_galway',\n",
              "       'county_limerick', 'county_waterford', 'type_coupe', 'type_estate',\n",
              "       'type_hatchback', 'type_saloon', 'type_suv', 'tax_band_a', 'tax_band_b',\n",
              "       'tax_band_c', 'tax_band_d', 'tax_band_e'],\n",
              "      dtype='object')"
            ]
          },
          "metadata": {
            "tags": []
          },
          "execution_count": 144
        }
      ]
    },
    {
      "cell_type": "code",
      "metadata": {
        "id": "YrPV1kR_HAW-"
      },
      "source": [
        "df_mms_train = df_dummies_train.copy()\n",
        "df_mms_test = df_dummies_test.copy()"
      ],
      "execution_count": 159,
      "outputs": []
    },
    {
      "cell_type": "code",
      "metadata": {
        "colab": {
          "base_uri": "https://localhost:8080/"
        },
        "id": "u2z9aFiJIR3-",
        "outputId": "178fd8a9-f2ef-4c85-cd13-7febc7c935a3"
      },
      "source": [
        "# Apply Standar Scaler for each column\n",
        "for column in df_dummies_train.columns:\n",
        "\n",
        "  if column == output_feature_dummies:\n",
        "    print(f'skip:\\t{column}')\n",
        "\n",
        "  else:\n",
        "    # print(f'StandarScaler for:\\t{column}')\n",
        "    mms_column = MinMaxScaler()\n",
        "    mms_column.fit(df_mms_train[column].values.reshape(-1,1))\n",
        "    df_mms_train[column] = mms_column.transform(df_mms_train[column].values.reshape(-1,1))\n",
        "    df_mms_test[column] = mms_column.transform(df_mms_test[column].values.reshape(-1,1))"
      ],
      "execution_count": 161,
      "outputs": [
        {
          "output_type": "stream",
          "text": [
            "skip:\tprice\n"
          ],
          "name": "stdout"
        }
      ]
    },
    {
      "cell_type": "code",
      "metadata": {
        "id": "BtcmKJNpNT9F"
      },
      "source": [
        "X_mms_train = df_mms_train[input_features_dummies].values\n",
        "X_mms_test = df_mms_test[input_features_dummies].values\n",
        "\n",
        "y_mms_train = df_mms_train[[output_feature_dummies]].values\n",
        "y_mms_test = df_mms_test[[output_feature_dummies]].values"
      ],
      "execution_count": 163,
      "outputs": []
    },
    {
      "cell_type": "code",
      "metadata": {
        "id": "b6MI2KlyOxC6"
      },
      "source": [
        "lr_mms_model = LinearRegression()"
      ],
      "execution_count": 164,
      "outputs": []
    },
    {
      "cell_type": "code",
      "metadata": {
        "id": "VQHH1RJmPOfK"
      },
      "source": [
        "lr_mms_model_trained = lr_mms_model.fit(X=X_mms_train, y=y_mms_train)"
      ],
      "execution_count": 166,
      "outputs": []
    },
    {
      "cell_type": "code",
      "metadata": {
        "id": "RLyu9yH0PP2S"
      },
      "source": [
        "lr_mms_model_prodict = lr_mms_model_trained.predict(X=X_mms_test)"
      ],
      "execution_count": 167,
      "outputs": []
    },
    {
      "cell_type": "code",
      "metadata": {
        "id": "Jum7Bh9EPW8T"
      },
      "source": [
        "lr_mms_model_mse = mean_squared_error(y_pred=lr_mms_model_prodict, y_true=y_mms_test)\n",
        "lr_mms_model_r_sq = r2_score(y_pred=lr_mms_model_prodict, y_true=y_mms_test)"
      ],
      "execution_count": 168,
      "outputs": []
    },
    {
      "cell_type": "code",
      "metadata": {
        "colab": {
          "base_uri": "https://localhost:8080/",
          "height": 0
        },
        "id": "lqb8wECJPdES",
        "outputId": "367ccbe9-72eb-4997-b2d3-efd2af647f76"
      },
      "source": [
        "df_features_slopes_mms = pd.DataFrame(lr_mms_model_trained.coef_.flatten(), input_features_dummies, columns=['slopes']).reset_index().rename(columns={'index':'feature1'})\n",
        "df_features_slopes_mms"
      ],
      "execution_count": 169,
      "outputs": [
        {
          "output_type": "execute_result",
          "data": {
            "text/html": [
              "<div>\n",
              "<style scoped>\n",
              "    .dataframe tbody tr th:only-of-type {\n",
              "        vertical-align: middle;\n",
              "    }\n",
              "\n",
              "    .dataframe tbody tr th {\n",
              "        vertical-align: top;\n",
              "    }\n",
              "\n",
              "    .dataframe thead th {\n",
              "        text-align: right;\n",
              "    }\n",
              "</style>\n",
              "<table border=\"1\" class=\"dataframe\">\n",
              "  <thead>\n",
              "    <tr style=\"text-align: right;\">\n",
              "      <th></th>\n",
              "      <th>feature1</th>\n",
              "      <th>slopes</th>\n",
              "    </tr>\n",
              "  </thead>\n",
              "  <tbody>\n",
              "    <tr>\n",
              "      <th>0</th>\n",
              "      <td>year</td>\n",
              "      <td>1.545870e+03</td>\n",
              "    </tr>\n",
              "    <tr>\n",
              "      <th>1</th>\n",
              "      <td>month</td>\n",
              "      <td>1.121400e+03</td>\n",
              "    </tr>\n",
              "    <tr>\n",
              "      <th>2</th>\n",
              "      <td>county</td>\n",
              "      <td>4.272801e+17</td>\n",
              "    </tr>\n",
              "    <tr>\n",
              "      <th>3</th>\n",
              "      <td>make</td>\n",
              "      <td>-7.045365e+03</td>\n",
              "    </tr>\n",
              "    <tr>\n",
              "      <th>4</th>\n",
              "      <td>model</td>\n",
              "      <td>-1.963418e+04</td>\n",
              "    </tr>\n",
              "    <tr>\n",
              "      <th>5</th>\n",
              "      <td>type</td>\n",
              "      <td>-1.201159e+17</td>\n",
              "    </tr>\n",
              "    <tr>\n",
              "      <th>6</th>\n",
              "      <td>colour</td>\n",
              "      <td>-7.029385e+02</td>\n",
              "    </tr>\n",
              "    <tr>\n",
              "      <th>7</th>\n",
              "      <td>tax_band</td>\n",
              "      <td>6.299969e+16</td>\n",
              "    </tr>\n",
              "    <tr>\n",
              "      <th>8</th>\n",
              "      <td>county_cork</td>\n",
              "      <td>-8.502250e+16</td>\n",
              "    </tr>\n",
              "    <tr>\n",
              "      <th>9</th>\n",
              "      <td>county_dublin</td>\n",
              "      <td>-1.918425e+17</td>\n",
              "    </tr>\n",
              "    <tr>\n",
              "      <th>10</th>\n",
              "      <td>county_galway</td>\n",
              "      <td>-2.986626e+17</td>\n",
              "    </tr>\n",
              "    <tr>\n",
              "      <th>11</th>\n",
              "      <td>county_limerick</td>\n",
              "      <td>-4.054826e+17</td>\n",
              "    </tr>\n",
              "    <tr>\n",
              "      <th>12</th>\n",
              "      <td>county_waterford</td>\n",
              "      <td>-5.123026e+17</td>\n",
              "    </tr>\n",
              "    <tr>\n",
              "      <th>13</th>\n",
              "      <td>type_coupe</td>\n",
              "      <td>-8.470306e+16</td>\n",
              "    </tr>\n",
              "    <tr>\n",
              "      <th>14</th>\n",
              "      <td>type_estate</td>\n",
              "      <td>-5.467410e+16</td>\n",
              "    </tr>\n",
              "    <tr>\n",
              "      <th>15</th>\n",
              "      <td>type_hatchback</td>\n",
              "      <td>-2.464514e+16</td>\n",
              "    </tr>\n",
              "    <tr>\n",
              "      <th>16</th>\n",
              "      <td>type_saloon</td>\n",
              "      <td>5.383828e+15</td>\n",
              "    </tr>\n",
              "    <tr>\n",
              "      <th>17</th>\n",
              "      <td>type_suv</td>\n",
              "      <td>3.541279e+16</td>\n",
              "    </tr>\n",
              "    <tr>\n",
              "      <th>18</th>\n",
              "      <td>tax_band_a</td>\n",
              "      <td>-6.378192e+17</td>\n",
              "    </tr>\n",
              "    <tr>\n",
              "      <th>19</th>\n",
              "      <td>tax_band_b</td>\n",
              "      <td>-6.535691e+17</td>\n",
              "    </tr>\n",
              "    <tr>\n",
              "      <th>20</th>\n",
              "      <td>tax_band_c</td>\n",
              "      <td>-6.693190e+17</td>\n",
              "    </tr>\n",
              "    <tr>\n",
              "      <th>21</th>\n",
              "      <td>tax_band_d</td>\n",
              "      <td>-6.850690e+17</td>\n",
              "    </tr>\n",
              "    <tr>\n",
              "      <th>22</th>\n",
              "      <td>tax_band_e</td>\n",
              "      <td>-7.008189e+17</td>\n",
              "    </tr>\n",
              "  </tbody>\n",
              "</table>\n",
              "</div>"
            ],
            "text/plain": [
              "            feature1        slopes\n",
              "0               year  1.545870e+03\n",
              "1              month  1.121400e+03\n",
              "2             county  4.272801e+17\n",
              "3               make -7.045365e+03\n",
              "4              model -1.963418e+04\n",
              "5               type -1.201159e+17\n",
              "6             colour -7.029385e+02\n",
              "7           tax_band  6.299969e+16\n",
              "8        county_cork -8.502250e+16\n",
              "9      county_dublin -1.918425e+17\n",
              "10     county_galway -2.986626e+17\n",
              "11   county_limerick -4.054826e+17\n",
              "12  county_waterford -5.123026e+17\n",
              "13        type_coupe -8.470306e+16\n",
              "14       type_estate -5.467410e+16\n",
              "15    type_hatchback -2.464514e+16\n",
              "16       type_saloon  5.383828e+15\n",
              "17          type_suv  3.541279e+16\n",
              "18        tax_band_a -6.378192e+17\n",
              "19        tax_band_b -6.535691e+17\n",
              "20        tax_band_c -6.693190e+17\n",
              "21        tax_band_d -6.850690e+17\n",
              "22        tax_band_e -7.008189e+17"
            ]
          },
          "metadata": {
            "tags": []
          },
          "execution_count": 169
        }
      ]
    },
    {
      "cell_type": "markdown",
      "metadata": {
        "id": "0-h8Kg6mPlr6"
      },
      "source": [
        "###Valitation Test:: Linear Regressor Model Min Max Scaler Features"
      ]
    },
    {
      "cell_type": "code",
      "metadata": {
        "colab": {
          "base_uri": "https://localhost:8080/"
        },
        "id": "NxE-7zhrPjc7",
        "outputId": "da063f9b-d9fe-44e4-ac5c-8f27ea67fac7"
      },
      "source": [
        "print(f'Linear Model StandardScaler Features Accuracy:\\nRMSE={math.sqrt(lr_mms_model_mse):,.0f}\\nRSq={lr_mms_model_r_sq:.4f} or {lr_mms_model_r_sq*100:.4f}% of the variability in Y can be explained using X')"
      ],
      "execution_count": 170,
      "outputs": [
        {
          "output_type": "stream",
          "text": [
            "Linear Model StandardScaler Features Accuracy:\n",
            "RMSE=20,509\n",
            "RSq=0.5279 or 52.7870% of the variability in Y can be explained using X\n"
          ],
          "name": "stdout"
        }
      ]
    },
    {
      "cell_type": "markdown",
      "metadata": {
        "id": "TgZeKrrJhpjw"
      },
      "source": [
        "###Test"
      ]
    },
    {
      "cell_type": "code",
      "metadata": {
        "colab": {
          "base_uri": "https://localhost:8080/",
          "height": 174
        },
        "id": "Q4ilGHYDPrY9",
        "outputId": "4c33005e-12d8-4bd3-bcc0-ccce92c0312c"
      },
      "source": [
        "df_dummies.head(3)"
      ],
      "execution_count": 171,
      "outputs": [
        {
          "output_type": "execute_result",
          "data": {
            "text/html": [
              "<div>\n",
              "<style scoped>\n",
              "    .dataframe tbody tr th:only-of-type {\n",
              "        vertical-align: middle;\n",
              "    }\n",
              "\n",
              "    .dataframe tbody tr th {\n",
              "        vertical-align: top;\n",
              "    }\n",
              "\n",
              "    .dataframe thead th {\n",
              "        text-align: right;\n",
              "    }\n",
              "</style>\n",
              "<table border=\"1\" class=\"dataframe\">\n",
              "  <thead>\n",
              "    <tr style=\"text-align: right;\">\n",
              "      <th></th>\n",
              "      <th>year</th>\n",
              "      <th>month</th>\n",
              "      <th>county</th>\n",
              "      <th>make</th>\n",
              "      <th>model</th>\n",
              "      <th>type</th>\n",
              "      <th>colour</th>\n",
              "      <th>tax_band</th>\n",
              "      <th>price</th>\n",
              "      <th>county_cork</th>\n",
              "      <th>county_dublin</th>\n",
              "      <th>county_galway</th>\n",
              "      <th>county_limerick</th>\n",
              "      <th>county_waterford</th>\n",
              "      <th>type_coupe</th>\n",
              "      <th>type_estate</th>\n",
              "      <th>type_hatchback</th>\n",
              "      <th>type_saloon</th>\n",
              "      <th>type_suv</th>\n",
              "      <th>tax_band_a</th>\n",
              "      <th>tax_band_b</th>\n",
              "      <th>tax_band_c</th>\n",
              "      <th>tax_band_d</th>\n",
              "      <th>tax_band_e</th>\n",
              "    </tr>\n",
              "  </thead>\n",
              "  <tbody>\n",
              "    <tr>\n",
              "      <th>0</th>\n",
              "      <td>2020</td>\n",
              "      <td>7</td>\n",
              "      <td>CORK</td>\n",
              "      <td>AUDI</td>\n",
              "      <td>A4</td>\n",
              "      <td>SALOON</td>\n",
              "      <td>RED</td>\n",
              "      <td>B</td>\n",
              "      <td>55287.0</td>\n",
              "      <td>1</td>\n",
              "      <td>0</td>\n",
              "      <td>0</td>\n",
              "      <td>0</td>\n",
              "      <td>0</td>\n",
              "      <td>0</td>\n",
              "      <td>0</td>\n",
              "      <td>0</td>\n",
              "      <td>1</td>\n",
              "      <td>0</td>\n",
              "      <td>0</td>\n",
              "      <td>1</td>\n",
              "      <td>0</td>\n",
              "      <td>0</td>\n",
              "      <td>0</td>\n",
              "    </tr>\n",
              "    <tr>\n",
              "      <th>1</th>\n",
              "      <td>2019</td>\n",
              "      <td>1</td>\n",
              "      <td>CORK</td>\n",
              "      <td>MAZDA</td>\n",
              "      <td>CX-30</td>\n",
              "      <td>SUV</td>\n",
              "      <td>SILVER</td>\n",
              "      <td>B</td>\n",
              "      <td>41690.0</td>\n",
              "      <td>1</td>\n",
              "      <td>0</td>\n",
              "      <td>0</td>\n",
              "      <td>0</td>\n",
              "      <td>0</td>\n",
              "      <td>0</td>\n",
              "      <td>0</td>\n",
              "      <td>0</td>\n",
              "      <td>0</td>\n",
              "      <td>1</td>\n",
              "      <td>0</td>\n",
              "      <td>1</td>\n",
              "      <td>0</td>\n",
              "      <td>0</td>\n",
              "      <td>0</td>\n",
              "    </tr>\n",
              "    <tr>\n",
              "      <th>2</th>\n",
              "      <td>2019</td>\n",
              "      <td>3</td>\n",
              "      <td>LIMERICK</td>\n",
              "      <td>BMW</td>\n",
              "      <td>3 SERIES</td>\n",
              "      <td>SALOON</td>\n",
              "      <td>WHITE</td>\n",
              "      <td>C</td>\n",
              "      <td>40381.0</td>\n",
              "      <td>0</td>\n",
              "      <td>0</td>\n",
              "      <td>0</td>\n",
              "      <td>1</td>\n",
              "      <td>0</td>\n",
              "      <td>0</td>\n",
              "      <td>0</td>\n",
              "      <td>0</td>\n",
              "      <td>1</td>\n",
              "      <td>0</td>\n",
              "      <td>0</td>\n",
              "      <td>0</td>\n",
              "      <td>1</td>\n",
              "      <td>0</td>\n",
              "      <td>0</td>\n",
              "    </tr>\n",
              "  </tbody>\n",
              "</table>\n",
              "</div>"
            ],
            "text/plain": [
              "   year  month    county   make  ... tax_band_b tax_band_c tax_band_d tax_band_e\n",
              "0  2020      7      CORK   AUDI  ...          1          0          0          0\n",
              "1  2019      1      CORK  MAZDA  ...          1          0          0          0\n",
              "2  2019      3  LIMERICK    BMW  ...          0          1          0          0\n",
              "\n",
              "[3 rows x 24 columns]"
            ]
          },
          "metadata": {
            "tags": []
          },
          "execution_count": 171
        }
      ]
    },
    {
      "cell_type": "code",
      "metadata": {
        "colab": {
          "base_uri": "https://localhost:8080/"
        },
        "id": "53-rnQCVhwNP",
        "outputId": "269dfaa4-178f-4e61-e034-552a13693690"
      },
      "source": [
        "df_dummies_train.columns"
      ],
      "execution_count": 185,
      "outputs": [
        {
          "output_type": "execute_result",
          "data": {
            "text/plain": [
              "Index(['year', 'month', 'county', 'make', 'model', 'type', 'colour',\n",
              "       'tax_band', 'price', 'county_cork', 'county_dublin', 'county_galway',\n",
              "       'county_limerick', 'county_waterford', 'type_coupe', 'type_estate',\n",
              "       'type_hatchback', 'type_saloon', 'type_suv', 'tax_band_a', 'tax_band_b',\n",
              "       'tax_band_c', 'tax_band_d', 'tax_band_e'],\n",
              "      dtype='object')"
            ]
          },
          "metadata": {
            "tags": []
          },
          "execution_count": 185
        }
      ]
    },
    {
      "cell_type": "code",
      "metadata": {
        "id": "KW_6DxGDh75y"
      },
      "source": [
        "df_lr_m3_train = df_dummies_train[\n",
        "                                  ['year', 'month', 'make', 'model', 'colour',\n",
        "                                   'price', 'county_cork', 'county_dublin',\n",
        "                                   'county_galway', 'county_limerick',\n",
        "                                   'county_waterford', 'type_coupe',\n",
        "                                   'type_estate', 'type_hatchback',\n",
        "                                   'type_saloon', 'type_suv', 'tax_band_a',\n",
        "                                   'tax_band_b', 'tax_band_c', 'tax_band_d',\n",
        "                                   'tax_band_e']\n",
        "                                  ].copy()"
      ],
      "execution_count": 186,
      "outputs": []
    },
    {
      "cell_type": "code",
      "metadata": {
        "id": "uEsUgUEQjHlZ"
      },
      "source": [
        "df_lr_m3_test = df_dummies_test[\n",
        "                                  ['year', 'month', 'make', 'model', 'colour',\n",
        "                                   'price', 'county_cork', 'county_dublin',\n",
        "                                   'county_galway', 'county_limerick',\n",
        "                                   'county_waterford', 'type_coupe',\n",
        "                                   'type_estate', 'type_hatchback',\n",
        "                                   'type_saloon', 'type_suv', 'tax_band_a',\n",
        "                                   'tax_band_b', 'tax_band_c', 'tax_band_d',\n",
        "                                   'tax_band_e']\n",
        "                                  ].copy()"
      ],
      "execution_count": 187,
      "outputs": []
    },
    {
      "cell_type": "code",
      "metadata": {
        "colab": {
          "base_uri": "https://localhost:8080/",
          "height": 157
        },
        "id": "2zdfezjUm_Jf",
        "outputId": "8b64012f-12b5-4392-dbe8-d5a6641494e3"
      },
      "source": [
        "df_lr_m3_train"
      ],
      "execution_count": 196,
      "outputs": [
        {
          "output_type": "execute_result",
          "data": {
            "text/html": [
              "<div>\n",
              "<style scoped>\n",
              "    .dataframe tbody tr th:only-of-type {\n",
              "        vertical-align: middle;\n",
              "    }\n",
              "\n",
              "    .dataframe tbody tr th {\n",
              "        vertical-align: top;\n",
              "    }\n",
              "\n",
              "    .dataframe thead th {\n",
              "        text-align: right;\n",
              "    }\n",
              "</style>\n",
              "<table border=\"1\" class=\"dataframe\">\n",
              "  <thead>\n",
              "    <tr style=\"text-align: right;\">\n",
              "      <th></th>\n",
              "      <th>year</th>\n",
              "      <th>month</th>\n",
              "      <th>make</th>\n",
              "      <th>model</th>\n",
              "      <th>colour</th>\n",
              "      <th>price</th>\n",
              "      <th>county_cork</th>\n",
              "      <th>county_dublin</th>\n",
              "      <th>county_galway</th>\n",
              "      <th>county_limerick</th>\n",
              "      <th>county_waterford</th>\n",
              "      <th>type_coupe</th>\n",
              "      <th>type_estate</th>\n",
              "      <th>type_hatchback</th>\n",
              "      <th>type_saloon</th>\n",
              "      <th>type_suv</th>\n",
              "      <th>tax_band_a</th>\n",
              "      <th>tax_band_b</th>\n",
              "      <th>tax_band_c</th>\n",
              "      <th>tax_band_d</th>\n",
              "      <th>tax_band_e</th>\n",
              "    </tr>\n",
              "  </thead>\n",
              "  <tbody>\n",
              "    <tr>\n",
              "      <th>654</th>\n",
              "      <td>2018</td>\n",
              "      <td>3</td>\n",
              "      <td>3</td>\n",
              "      <td>14</td>\n",
              "      <td>4</td>\n",
              "      <td>41920.0</td>\n",
              "      <td>0</td>\n",
              "      <td>1</td>\n",
              "      <td>0</td>\n",
              "      <td>0</td>\n",
              "      <td>0</td>\n",
              "      <td>0</td>\n",
              "      <td>0</td>\n",
              "      <td>0</td>\n",
              "      <td>0</td>\n",
              "      <td>1</td>\n",
              "      <td>0</td>\n",
              "      <td>0</td>\n",
              "      <td>1</td>\n",
              "      <td>0</td>\n",
              "      <td>0</td>\n",
              "    </tr>\n",
              "    <tr>\n",
              "      <th>1947</th>\n",
              "      <td>2018</td>\n",
              "      <td>2</td>\n",
              "      <td>2</td>\n",
              "      <td>21</td>\n",
              "      <td>4</td>\n",
              "      <td>34961.0</td>\n",
              "      <td>0</td>\n",
              "      <td>0</td>\n",
              "      <td>0</td>\n",
              "      <td>0</td>\n",
              "      <td>1</td>\n",
              "      <td>0</td>\n",
              "      <td>0</td>\n",
              "      <td>0</td>\n",
              "      <td>0</td>\n",
              "      <td>1</td>\n",
              "      <td>0</td>\n",
              "      <td>1</td>\n",
              "      <td>0</td>\n",
              "      <td>0</td>\n",
              "      <td>0</td>\n",
              "    </tr>\n",
              "    <tr>\n",
              "      <th>3698</th>\n",
              "      <td>2020</td>\n",
              "      <td>7</td>\n",
              "      <td>1</td>\n",
              "      <td>1</td>\n",
              "      <td>0</td>\n",
              "      <td>69784.0</td>\n",
              "      <td>0</td>\n",
              "      <td>1</td>\n",
              "      <td>0</td>\n",
              "      <td>0</td>\n",
              "      <td>0</td>\n",
              "      <td>0</td>\n",
              "      <td>0</td>\n",
              "      <td>0</td>\n",
              "      <td>1</td>\n",
              "      <td>0</td>\n",
              "      <td>0</td>\n",
              "      <td>1</td>\n",
              "      <td>0</td>\n",
              "      <td>0</td>\n",
              "      <td>0</td>\n",
              "    </tr>\n",
              "  </tbody>\n",
              "</table>\n",
              "</div>"
            ],
            "text/plain": [
              "      year  month  make  model  ...  tax_band_b  tax_band_c  tax_band_d  tax_band_e\n",
              "654   2018      3     3     14  ...           0           1           0           0\n",
              "1947  2018      2     2     21  ...           1           0           0           0\n",
              "3698  2020      7     1      1  ...           1           0           0           0\n",
              "\n",
              "[3 rows x 21 columns]"
            ]
          },
          "metadata": {
            "tags": []
          },
          "execution_count": 196
        }
      ]
    },
    {
      "cell_type": "code",
      "metadata": {
        "id": "gJQO6zSJj7o1"
      },
      "source": [
        "input_features_m3 = df_lr_m3_train.columns.drop('price')"
      ],
      "execution_count": 188,
      "outputs": []
    },
    {
      "cell_type": "code",
      "metadata": {
        "id": "Mn-Ha3NkmRVW"
      },
      "source": [
        "X_m3_train = df_lr_m3_train[input_features_m3].values\n",
        "X_m3_test = df_lr_m3_test[input_features_m3].values\n",
        "\n",
        "y_m3_train = df_lr_m3_train[[output_feature_dummies]].values\n",
        "y_m3_test = df_lr_m3_test[[output_feature_dummies]].values"
      ],
      "execution_count": 191,
      "outputs": []
    },
    {
      "cell_type": "code",
      "metadata": {
        "id": "WPhsCvP-jLyE"
      },
      "source": [
        "lr_m3_model = LinearRegression()\n",
        "\n",
        "lr_m3_model_trained = lr_m3_model.fit(X=X_m3_train, y=y_m3_train)\n",
        "\n",
        "lr_m3_model_prodict = lr_m3_model_trained.predict(X=X_m3_test)\n",
        "\n",
        "lr_m3_model_mse = mean_squared_error(y_pred=lr_m3_model_prodict, y_true=y_m3_test)\n",
        "lr_m3_model_r_sq = r2_score(y_pred=lr_m3_model_prodict, y_true=y_m3_test)"
      ],
      "execution_count": 193,
      "outputs": []
    },
    {
      "cell_type": "markdown",
      "metadata": {
        "id": "QtWD-vnHzK0R"
      },
      "source": [
        "###Validation Test:: Linear Regression Modelo M3"
      ]
    },
    {
      "cell_type": "code",
      "metadata": {
        "colab": {
          "base_uri": "https://localhost:8080/"
        },
        "id": "P9CpOh8Qmoaf",
        "outputId": "9507f121-e7ab-43a1-d244-452acbc481f6"
      },
      "source": [
        "print(f'Linear Model M3 Features Accuracy:\\nRMSE={math.sqrt(lr_m3_model_mse):,.0f}\\nRSq={lr_m3_model_r_sq:.4f} or {lr_m3_model_r_sq*100:.4f}% of the variability in Y can be explained using X')"
      ],
      "execution_count": 195,
      "outputs": [
        {
          "output_type": "stream",
          "text": [
            "Linear Model M3 Features Accuracy:\n",
            "RMSE=20,574\n",
            "RSq=0.5249 or 52.4869% of the variability in Y can be explained using X\n"
          ],
          "name": "stdout"
        }
      ]
    },
    {
      "cell_type": "markdown",
      "metadata": {
        "id": "f_sIYhZnnu4k"
      },
      "source": [
        "###Linear Regression Model ==> Feature to Dummies\n",
        "####['make', 'model', 'county', 'type', 'tax_band']"
      ]
    },
    {
      "cell_type": "code",
      "metadata": {
        "colab": {
          "base_uri": "https://localhost:8080/"
        },
        "id": "zdfo7Ua4oAPI",
        "outputId": "89807d6e-7c1e-4acf-8509-8c421e588a24"
      },
      "source": [
        "df_processed.columns"
      ],
      "execution_count": 202,
      "outputs": [
        {
          "output_type": "execute_result",
          "data": {
            "text/plain": [
              "Index(['car_reg', 'purchase_date', 'year', 'month', 'county', 'make', 'model',\n",
              "       'type', 'colour', 'tax_band', 'price'],\n",
              "      dtype='object')"
            ]
          },
          "metadata": {
            "tags": []
          },
          "execution_count": 202
        }
      ]
    },
    {
      "cell_type": "code",
      "metadata": {
        "colab": {
          "base_uri": "https://localhost:8080/",
          "height": 174
        },
        "id": "S_SydGABm4IO",
        "outputId": "9ec66db0-7dd8-48a0-f3b6-89f9b08a5199"
      },
      "source": [
        "# Create a list of columns to apply Dummies\n",
        "list_columns_to_dumies_2 = ['make', 'model', 'county', 'type', 'tax_band']\n",
        "\n",
        "# Create a new Data Frame to apply dummies\n",
        "df_dummies_2 = df_processed[list_columns_to_dumies_2].copy()\n",
        "\n",
        "# Apply Lower case before dummies\n",
        "df_dummies_2['county'] = df_dummies_2['county'].str.lower()\n",
        "df_dummies_2['type'] = df_dummies_2['type'].str.lower()\n",
        "df_dummies_2['tax_band'] = df_dummies_2['tax_band'].str.lower()\n",
        "df_dummies_2['make'] = df_dummies_2['make'].str.lower()\n",
        "df_dummies_2['model'] = df_dummies_2['model'].str.lower()\n",
        "\n",
        "# Apply Dammies\n",
        "df_dummies_2 = pd.get_dummies(df_dummies_2, columns=list_columns_to_dumies_2)\n",
        "df_dummies_2.head(3)"
      ],
      "execution_count": 204,
      "outputs": [
        {
          "output_type": "execute_result",
          "data": {
            "text/html": [
              "<div>\n",
              "<style scoped>\n",
              "    .dataframe tbody tr th:only-of-type {\n",
              "        vertical-align: middle;\n",
              "    }\n",
              "\n",
              "    .dataframe tbody tr th {\n",
              "        vertical-align: top;\n",
              "    }\n",
              "\n",
              "    .dataframe thead th {\n",
              "        text-align: right;\n",
              "    }\n",
              "</style>\n",
              "<table border=\"1\" class=\"dataframe\">\n",
              "  <thead>\n",
              "    <tr style=\"text-align: right;\">\n",
              "      <th></th>\n",
              "      <th>make_audi</th>\n",
              "      <th>make_bmw</th>\n",
              "      <th>make_ford</th>\n",
              "      <th>make_mazda</th>\n",
              "      <th>make_mercedes</th>\n",
              "      <th>make_opel</th>\n",
              "      <th>make_toyota</th>\n",
              "      <th>model_2 series</th>\n",
              "      <th>model_3 series</th>\n",
              "      <th>model_5 series</th>\n",
              "      <th>model_7 series</th>\n",
              "      <th>model_a-class</th>\n",
              "      <th>model_a4</th>\n",
              "      <th>model_a6</th>\n",
              "      <th>model_amg-gt</th>\n",
              "      <th>model_astra</th>\n",
              "      <th>model_c-class</th>\n",
              "      <th>model_camery</th>\n",
              "      <th>model_corolla</th>\n",
              "      <th>model_corsa</th>\n",
              "      <th>model_crossland x</th>\n",
              "      <th>model_cx-30</th>\n",
              "      <th>model_cx-5</th>\n",
              "      <th>model_fiesta</th>\n",
              "      <th>model_focus</th>\n",
              "      <th>model_glc-class</th>\n",
              "      <th>model_grandland x</th>\n",
              "      <th>model_insignia</th>\n",
              "      <th>model_kuga</th>\n",
              "      <th>model_mazda3</th>\n",
              "      <th>model_mazda6</th>\n",
              "      <th>model_mondeo</th>\n",
              "      <th>model_mustang</th>\n",
              "      <th>model_prius</th>\n",
              "      <th>model_q3</th>\n",
              "      <th>model_q7</th>\n",
              "      <th>model_rav4</th>\n",
              "      <th>model_x3</th>\n",
              "      <th>model_yaris</th>\n",
              "      <th>county_cork</th>\n",
              "      <th>county_dublin</th>\n",
              "      <th>county_galway</th>\n",
              "      <th>county_limerick</th>\n",
              "      <th>county_waterford</th>\n",
              "      <th>type_coupe</th>\n",
              "      <th>type_estate</th>\n",
              "      <th>type_hatchback</th>\n",
              "      <th>type_saloon</th>\n",
              "      <th>type_suv</th>\n",
              "      <th>tax_band_a</th>\n",
              "      <th>tax_band_b</th>\n",
              "      <th>tax_band_c</th>\n",
              "      <th>tax_band_d</th>\n",
              "      <th>tax_band_e</th>\n",
              "    </tr>\n",
              "  </thead>\n",
              "  <tbody>\n",
              "    <tr>\n",
              "      <th>0</th>\n",
              "      <td>1</td>\n",
              "      <td>0</td>\n",
              "      <td>0</td>\n",
              "      <td>0</td>\n",
              "      <td>0</td>\n",
              "      <td>0</td>\n",
              "      <td>0</td>\n",
              "      <td>0</td>\n",
              "      <td>0</td>\n",
              "      <td>0</td>\n",
              "      <td>0</td>\n",
              "      <td>0</td>\n",
              "      <td>1</td>\n",
              "      <td>0</td>\n",
              "      <td>0</td>\n",
              "      <td>0</td>\n",
              "      <td>0</td>\n",
              "      <td>0</td>\n",
              "      <td>0</td>\n",
              "      <td>0</td>\n",
              "      <td>0</td>\n",
              "      <td>0</td>\n",
              "      <td>0</td>\n",
              "      <td>0</td>\n",
              "      <td>0</td>\n",
              "      <td>0</td>\n",
              "      <td>0</td>\n",
              "      <td>0</td>\n",
              "      <td>0</td>\n",
              "      <td>0</td>\n",
              "      <td>0</td>\n",
              "      <td>0</td>\n",
              "      <td>0</td>\n",
              "      <td>0</td>\n",
              "      <td>0</td>\n",
              "      <td>0</td>\n",
              "      <td>0</td>\n",
              "      <td>0</td>\n",
              "      <td>0</td>\n",
              "      <td>1</td>\n",
              "      <td>0</td>\n",
              "      <td>0</td>\n",
              "      <td>0</td>\n",
              "      <td>0</td>\n",
              "      <td>0</td>\n",
              "      <td>0</td>\n",
              "      <td>0</td>\n",
              "      <td>1</td>\n",
              "      <td>0</td>\n",
              "      <td>0</td>\n",
              "      <td>1</td>\n",
              "      <td>0</td>\n",
              "      <td>0</td>\n",
              "      <td>0</td>\n",
              "    </tr>\n",
              "    <tr>\n",
              "      <th>1</th>\n",
              "      <td>0</td>\n",
              "      <td>0</td>\n",
              "      <td>0</td>\n",
              "      <td>1</td>\n",
              "      <td>0</td>\n",
              "      <td>0</td>\n",
              "      <td>0</td>\n",
              "      <td>0</td>\n",
              "      <td>0</td>\n",
              "      <td>0</td>\n",
              "      <td>0</td>\n",
              "      <td>0</td>\n",
              "      <td>0</td>\n",
              "      <td>0</td>\n",
              "      <td>0</td>\n",
              "      <td>0</td>\n",
              "      <td>0</td>\n",
              "      <td>0</td>\n",
              "      <td>0</td>\n",
              "      <td>0</td>\n",
              "      <td>0</td>\n",
              "      <td>1</td>\n",
              "      <td>0</td>\n",
              "      <td>0</td>\n",
              "      <td>0</td>\n",
              "      <td>0</td>\n",
              "      <td>0</td>\n",
              "      <td>0</td>\n",
              "      <td>0</td>\n",
              "      <td>0</td>\n",
              "      <td>0</td>\n",
              "      <td>0</td>\n",
              "      <td>0</td>\n",
              "      <td>0</td>\n",
              "      <td>0</td>\n",
              "      <td>0</td>\n",
              "      <td>0</td>\n",
              "      <td>0</td>\n",
              "      <td>0</td>\n",
              "      <td>1</td>\n",
              "      <td>0</td>\n",
              "      <td>0</td>\n",
              "      <td>0</td>\n",
              "      <td>0</td>\n",
              "      <td>0</td>\n",
              "      <td>0</td>\n",
              "      <td>0</td>\n",
              "      <td>0</td>\n",
              "      <td>1</td>\n",
              "      <td>0</td>\n",
              "      <td>1</td>\n",
              "      <td>0</td>\n",
              "      <td>0</td>\n",
              "      <td>0</td>\n",
              "    </tr>\n",
              "    <tr>\n",
              "      <th>2</th>\n",
              "      <td>0</td>\n",
              "      <td>1</td>\n",
              "      <td>0</td>\n",
              "      <td>0</td>\n",
              "      <td>0</td>\n",
              "      <td>0</td>\n",
              "      <td>0</td>\n",
              "      <td>0</td>\n",
              "      <td>1</td>\n",
              "      <td>0</td>\n",
              "      <td>0</td>\n",
              "      <td>0</td>\n",
              "      <td>0</td>\n",
              "      <td>0</td>\n",
              "      <td>0</td>\n",
              "      <td>0</td>\n",
              "      <td>0</td>\n",
              "      <td>0</td>\n",
              "      <td>0</td>\n",
              "      <td>0</td>\n",
              "      <td>0</td>\n",
              "      <td>0</td>\n",
              "      <td>0</td>\n",
              "      <td>0</td>\n",
              "      <td>0</td>\n",
              "      <td>0</td>\n",
              "      <td>0</td>\n",
              "      <td>0</td>\n",
              "      <td>0</td>\n",
              "      <td>0</td>\n",
              "      <td>0</td>\n",
              "      <td>0</td>\n",
              "      <td>0</td>\n",
              "      <td>0</td>\n",
              "      <td>0</td>\n",
              "      <td>0</td>\n",
              "      <td>0</td>\n",
              "      <td>0</td>\n",
              "      <td>0</td>\n",
              "      <td>0</td>\n",
              "      <td>0</td>\n",
              "      <td>0</td>\n",
              "      <td>1</td>\n",
              "      <td>0</td>\n",
              "      <td>0</td>\n",
              "      <td>0</td>\n",
              "      <td>0</td>\n",
              "      <td>1</td>\n",
              "      <td>0</td>\n",
              "      <td>0</td>\n",
              "      <td>0</td>\n",
              "      <td>1</td>\n",
              "      <td>0</td>\n",
              "      <td>0</td>\n",
              "    </tr>\n",
              "  </tbody>\n",
              "</table>\n",
              "</div>"
            ],
            "text/plain": [
              "   make_audi  make_bmw  make_ford  ...  tax_band_c  tax_band_d  tax_band_e\n",
              "0          1         0          0  ...           0           0           0\n",
              "1          0         0          0  ...           0           0           0\n",
              "2          0         1          0  ...           1           0           0\n",
              "\n",
              "[3 rows x 54 columns]"
            ]
          },
          "metadata": {
            "tags": []
          },
          "execution_count": 204
        }
      ]
    },
    {
      "cell_type": "code",
      "metadata": {
        "id": "aENBUHdLpI3B"
      },
      "source": [
        "df_dummies_2 = df_processed.join(df_dummies_2)\n",
        "df_dummies_2.drop(['car_reg', 'purchase_date', 'make', 'model', 'county', 'type', 'tax_band'], axis=1, inplace=True)"
      ],
      "execution_count": 205,
      "outputs": []
    },
    {
      "cell_type": "code",
      "metadata": {
        "colab": {
          "base_uri": "https://localhost:8080/",
          "height": 174
        },
        "id": "blGPVNWOrCUz",
        "outputId": "cab3ef9d-b97d-456a-d5f2-44071eaccfe3"
      },
      "source": [
        "df_dummies_2.head(3)"
      ],
      "execution_count": 206,
      "outputs": [
        {
          "output_type": "execute_result",
          "data": {
            "text/html": [
              "<div>\n",
              "<style scoped>\n",
              "    .dataframe tbody tr th:only-of-type {\n",
              "        vertical-align: middle;\n",
              "    }\n",
              "\n",
              "    .dataframe tbody tr th {\n",
              "        vertical-align: top;\n",
              "    }\n",
              "\n",
              "    .dataframe thead th {\n",
              "        text-align: right;\n",
              "    }\n",
              "</style>\n",
              "<table border=\"1\" class=\"dataframe\">\n",
              "  <thead>\n",
              "    <tr style=\"text-align: right;\">\n",
              "      <th></th>\n",
              "      <th>year</th>\n",
              "      <th>month</th>\n",
              "      <th>colour</th>\n",
              "      <th>price</th>\n",
              "      <th>make_audi</th>\n",
              "      <th>make_bmw</th>\n",
              "      <th>make_ford</th>\n",
              "      <th>make_mazda</th>\n",
              "      <th>make_mercedes</th>\n",
              "      <th>make_opel</th>\n",
              "      <th>make_toyota</th>\n",
              "      <th>model_2 series</th>\n",
              "      <th>model_3 series</th>\n",
              "      <th>model_5 series</th>\n",
              "      <th>model_7 series</th>\n",
              "      <th>model_a-class</th>\n",
              "      <th>model_a4</th>\n",
              "      <th>model_a6</th>\n",
              "      <th>model_amg-gt</th>\n",
              "      <th>model_astra</th>\n",
              "      <th>model_c-class</th>\n",
              "      <th>model_camery</th>\n",
              "      <th>model_corolla</th>\n",
              "      <th>model_corsa</th>\n",
              "      <th>model_crossland x</th>\n",
              "      <th>model_cx-30</th>\n",
              "      <th>model_cx-5</th>\n",
              "      <th>model_fiesta</th>\n",
              "      <th>model_focus</th>\n",
              "      <th>model_glc-class</th>\n",
              "      <th>model_grandland x</th>\n",
              "      <th>model_insignia</th>\n",
              "      <th>model_kuga</th>\n",
              "      <th>model_mazda3</th>\n",
              "      <th>model_mazda6</th>\n",
              "      <th>model_mondeo</th>\n",
              "      <th>model_mustang</th>\n",
              "      <th>model_prius</th>\n",
              "      <th>model_q3</th>\n",
              "      <th>model_q7</th>\n",
              "      <th>model_rav4</th>\n",
              "      <th>model_x3</th>\n",
              "      <th>model_yaris</th>\n",
              "      <th>county_cork</th>\n",
              "      <th>county_dublin</th>\n",
              "      <th>county_galway</th>\n",
              "      <th>county_limerick</th>\n",
              "      <th>county_waterford</th>\n",
              "      <th>type_coupe</th>\n",
              "      <th>type_estate</th>\n",
              "      <th>type_hatchback</th>\n",
              "      <th>type_saloon</th>\n",
              "      <th>type_suv</th>\n",
              "      <th>tax_band_a</th>\n",
              "      <th>tax_band_b</th>\n",
              "      <th>tax_band_c</th>\n",
              "      <th>tax_band_d</th>\n",
              "      <th>tax_band_e</th>\n",
              "    </tr>\n",
              "  </thead>\n",
              "  <tbody>\n",
              "    <tr>\n",
              "      <th>0</th>\n",
              "      <td>2020</td>\n",
              "      <td>7</td>\n",
              "      <td>RED</td>\n",
              "      <td>55287.0</td>\n",
              "      <td>1</td>\n",
              "      <td>0</td>\n",
              "      <td>0</td>\n",
              "      <td>0</td>\n",
              "      <td>0</td>\n",
              "      <td>0</td>\n",
              "      <td>0</td>\n",
              "      <td>0</td>\n",
              "      <td>0</td>\n",
              "      <td>0</td>\n",
              "      <td>0</td>\n",
              "      <td>0</td>\n",
              "      <td>1</td>\n",
              "      <td>0</td>\n",
              "      <td>0</td>\n",
              "      <td>0</td>\n",
              "      <td>0</td>\n",
              "      <td>0</td>\n",
              "      <td>0</td>\n",
              "      <td>0</td>\n",
              "      <td>0</td>\n",
              "      <td>0</td>\n",
              "      <td>0</td>\n",
              "      <td>0</td>\n",
              "      <td>0</td>\n",
              "      <td>0</td>\n",
              "      <td>0</td>\n",
              "      <td>0</td>\n",
              "      <td>0</td>\n",
              "      <td>0</td>\n",
              "      <td>0</td>\n",
              "      <td>0</td>\n",
              "      <td>0</td>\n",
              "      <td>0</td>\n",
              "      <td>0</td>\n",
              "      <td>0</td>\n",
              "      <td>0</td>\n",
              "      <td>0</td>\n",
              "      <td>0</td>\n",
              "      <td>1</td>\n",
              "      <td>0</td>\n",
              "      <td>0</td>\n",
              "      <td>0</td>\n",
              "      <td>0</td>\n",
              "      <td>0</td>\n",
              "      <td>0</td>\n",
              "      <td>0</td>\n",
              "      <td>1</td>\n",
              "      <td>0</td>\n",
              "      <td>0</td>\n",
              "      <td>1</td>\n",
              "      <td>0</td>\n",
              "      <td>0</td>\n",
              "      <td>0</td>\n",
              "    </tr>\n",
              "    <tr>\n",
              "      <th>1</th>\n",
              "      <td>2019</td>\n",
              "      <td>1</td>\n",
              "      <td>SILVER</td>\n",
              "      <td>41690.0</td>\n",
              "      <td>0</td>\n",
              "      <td>0</td>\n",
              "      <td>0</td>\n",
              "      <td>1</td>\n",
              "      <td>0</td>\n",
              "      <td>0</td>\n",
              "      <td>0</td>\n",
              "      <td>0</td>\n",
              "      <td>0</td>\n",
              "      <td>0</td>\n",
              "      <td>0</td>\n",
              "      <td>0</td>\n",
              "      <td>0</td>\n",
              "      <td>0</td>\n",
              "      <td>0</td>\n",
              "      <td>0</td>\n",
              "      <td>0</td>\n",
              "      <td>0</td>\n",
              "      <td>0</td>\n",
              "      <td>0</td>\n",
              "      <td>0</td>\n",
              "      <td>1</td>\n",
              "      <td>0</td>\n",
              "      <td>0</td>\n",
              "      <td>0</td>\n",
              "      <td>0</td>\n",
              "      <td>0</td>\n",
              "      <td>0</td>\n",
              "      <td>0</td>\n",
              "      <td>0</td>\n",
              "      <td>0</td>\n",
              "      <td>0</td>\n",
              "      <td>0</td>\n",
              "      <td>0</td>\n",
              "      <td>0</td>\n",
              "      <td>0</td>\n",
              "      <td>0</td>\n",
              "      <td>0</td>\n",
              "      <td>0</td>\n",
              "      <td>1</td>\n",
              "      <td>0</td>\n",
              "      <td>0</td>\n",
              "      <td>0</td>\n",
              "      <td>0</td>\n",
              "      <td>0</td>\n",
              "      <td>0</td>\n",
              "      <td>0</td>\n",
              "      <td>0</td>\n",
              "      <td>1</td>\n",
              "      <td>0</td>\n",
              "      <td>1</td>\n",
              "      <td>0</td>\n",
              "      <td>0</td>\n",
              "      <td>0</td>\n",
              "    </tr>\n",
              "    <tr>\n",
              "      <th>2</th>\n",
              "      <td>2019</td>\n",
              "      <td>3</td>\n",
              "      <td>WHITE</td>\n",
              "      <td>40381.0</td>\n",
              "      <td>0</td>\n",
              "      <td>1</td>\n",
              "      <td>0</td>\n",
              "      <td>0</td>\n",
              "      <td>0</td>\n",
              "      <td>0</td>\n",
              "      <td>0</td>\n",
              "      <td>0</td>\n",
              "      <td>1</td>\n",
              "      <td>0</td>\n",
              "      <td>0</td>\n",
              "      <td>0</td>\n",
              "      <td>0</td>\n",
              "      <td>0</td>\n",
              "      <td>0</td>\n",
              "      <td>0</td>\n",
              "      <td>0</td>\n",
              "      <td>0</td>\n",
              "      <td>0</td>\n",
              "      <td>0</td>\n",
              "      <td>0</td>\n",
              "      <td>0</td>\n",
              "      <td>0</td>\n",
              "      <td>0</td>\n",
              "      <td>0</td>\n",
              "      <td>0</td>\n",
              "      <td>0</td>\n",
              "      <td>0</td>\n",
              "      <td>0</td>\n",
              "      <td>0</td>\n",
              "      <td>0</td>\n",
              "      <td>0</td>\n",
              "      <td>0</td>\n",
              "      <td>0</td>\n",
              "      <td>0</td>\n",
              "      <td>0</td>\n",
              "      <td>0</td>\n",
              "      <td>0</td>\n",
              "      <td>0</td>\n",
              "      <td>0</td>\n",
              "      <td>0</td>\n",
              "      <td>0</td>\n",
              "      <td>1</td>\n",
              "      <td>0</td>\n",
              "      <td>0</td>\n",
              "      <td>0</td>\n",
              "      <td>0</td>\n",
              "      <td>1</td>\n",
              "      <td>0</td>\n",
              "      <td>0</td>\n",
              "      <td>0</td>\n",
              "      <td>1</td>\n",
              "      <td>0</td>\n",
              "      <td>0</td>\n",
              "    </tr>\n",
              "  </tbody>\n",
              "</table>\n",
              "</div>"
            ],
            "text/plain": [
              "   year  month  colour    price  ...  tax_band_b  tax_band_c  tax_band_d  tax_band_e\n",
              "0  2020      7     RED  55287.0  ...           1           0           0           0\n",
              "1  2019      1  SILVER  41690.0  ...           1           0           0           0\n",
              "2  2019      3   WHITE  40381.0  ...           0           1           0           0\n",
              "\n",
              "[3 rows x 58 columns]"
            ]
          },
          "metadata": {
            "tags": []
          },
          "execution_count": 206
        }
      ]
    },
    {
      "cell_type": "code",
      "metadata": {
        "id": "FrnUZsBarTMg"
      },
      "source": [
        "list_columns_d2 = df_dummies_2.columns\n",
        "\n",
        "# Split data into 20% test and 80% train\n",
        "df_dummies_2_train, df_dummies_2_test = train_test_split(df_dummies_2.copy() ,test_size=0.2, random_state=8001)\n",
        "\n",
        "list_feature_2 = get_feature_stats(df_dummies_2, list_columns_d2)"
      ],
      "execution_count": 210,
      "outputs": []
    },
    {
      "cell_type": "code",
      "metadata": {
        "id": "pxKpmqiltBbm"
      },
      "source": [
        "#Convert all string features to a int features\n",
        "for feature in list_feature_2:\n",
        "  label_condition = LabelEncoder()\n",
        "  df_dummies_2_train[feature] = label_condition.fit_transform(df_dummies_2_train[feature])\n",
        "  df_dummies_2_test[feature] = label_condition.fit_transform(df_dummies_2_test[feature])"
      ],
      "execution_count": 212,
      "outputs": []
    },
    {
      "cell_type": "code",
      "metadata": {
        "colab": {
          "base_uri": "https://localhost:8080/"
        },
        "id": "dZE27wjCtzUN",
        "outputId": "f8fe2190-270f-4bf1-bc10-67795660e117"
      },
      "source": [
        "# X variables (independent)\n",
        "input_features_dummies_2 = [item for item in df_dummies_2.columns if item not in output_feature_dummies]\n",
        "print(input_features_dummies_2)"
      ],
      "execution_count": 213,
      "outputs": [
        {
          "output_type": "stream",
          "text": [
            "['year', 'month', 'colour', 'make_audi', 'make_bmw', 'make_ford', 'make_mazda', 'make_mercedes', 'make_opel', 'make_toyota', 'model_2 series', 'model_3 series', 'model_5 series', 'model_7 series', 'model_a-class', 'model_a4', 'model_a6', 'model_amg-gt', 'model_astra', 'model_c-class', 'model_camery', 'model_corolla', 'model_corsa', 'model_crossland x', 'model_cx-30', 'model_cx-5', 'model_fiesta', 'model_focus', 'model_glc-class', 'model_grandland x', 'model_insignia', 'model_kuga', 'model_mazda3', 'model_mazda6', 'model_mondeo', 'model_mustang', 'model_prius', 'model_q3', 'model_q7', 'model_rav4', 'model_x3', 'model_yaris', 'county_cork', 'county_dublin', 'county_galway', 'county_limerick', 'county_waterford', 'type_coupe', 'type_estate', 'type_hatchback', 'type_saloon', 'type_suv', 'tax_band_a', 'tax_band_b', 'tax_band_c', 'tax_band_d', 'tax_band_e']\n"
          ],
          "name": "stdout"
        }
      ]
    },
    {
      "cell_type": "code",
      "metadata": {
        "id": "FBMNLotpvaJ5"
      },
      "source": [
        "X_dummies_2_train = df_dummies_2_train[input_features_dummies_2].values\n",
        "X_dummies_2_test = df_dummies_2_test[input_features_dummies_2].values\n",
        "\n",
        "y_dummies_2_train = df_dummies_2_train[[output_feature_dummies]].values\n",
        "y_dummies_2_test = df_dummies_2_test[[output_feature_dummies]].values"
      ],
      "execution_count": 215,
      "outputs": []
    },
    {
      "cell_type": "code",
      "metadata": {
        "id": "wdSSKVUHwDeV"
      },
      "source": [
        "lr_dummies_2_model = LinearRegression()\n",
        "\n",
        "lr_dummies_2_model_trained = lr_dummies_2_model.fit(X=X_dummies_2_train, y=y_dummies_2_train)\n",
        "\n",
        "lr_dummies_2_model_prodict = lr_dummies_2_model_trained.predict(X=X_dummies_2_test)\n",
        "\n",
        "lr_dummies_2_model_mse = mean_squared_error(y_pred=lr_dummies_2_model_prodict, y_true=y_dummies_2_test)\n",
        "lr_dummies_2_model_r_sq = r2_score(y_pred=lr_dummies_2_model_prodict, y_true=y_dummies_2_test)"
      ],
      "execution_count": 216,
      "outputs": []
    },
    {
      "cell_type": "markdown",
      "metadata": {
        "id": "WHTETGw-yg2s"
      },
      "source": [
        "###Validation Test:: Linear Regression Model Dummies 2"
      ]
    },
    {
      "cell_type": "code",
      "metadata": {
        "colab": {
          "base_uri": "https://localhost:8080/"
        },
        "id": "xa3t7UPOwvJ6",
        "outputId": "2f0a83c4-f4bc-4b36-e308-f1bcb9371ee2"
      },
      "source": [
        "print(f'Linear Model Dummies 2 Features Accuracy:\\nRMSE={math.sqrt(lr_dummies_2_model_mse):,.0f}\\nRSq={lr_dummies_2_model_r_sq:.2f} or {lr_dummies_2_model_r_sq*100:.0f}% of the variability in Y can be explained using X')"
      ],
      "execution_count": 218,
      "outputs": [
        {
          "output_type": "stream",
          "text": [
            "Linear Model Dummies 2 Features Accuracy:\n",
            "RMSE=10,629\n",
            "RSq=0.87 or 87% of the variability in Y can be explained using X\n"
          ],
          "name": "stdout"
        }
      ]
    },
    {
      "cell_type": "code",
      "metadata": {
        "id": "xBtwHK4bw9mv"
      },
      "source": [
        ""
      ],
      "execution_count": null,
      "outputs": []
    }
  ]
}